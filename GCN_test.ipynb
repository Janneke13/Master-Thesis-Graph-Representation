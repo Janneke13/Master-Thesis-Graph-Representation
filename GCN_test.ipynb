{
 "cells": [
  {
   "cell_type": "markdown",
   "id": "ebd40990",
   "metadata": {},
   "source": [
    "# Base Graph Convolutional Network"
   ]
  },
  {
   "cell_type": "code",
   "execution_count": 1,
   "id": "2594f9a7",
   "metadata": {},
   "outputs": [],
   "source": [
    "# import packages and reading in files:\n",
    "import torch\n",
    "from torch_geometric.data import Data\n",
    "from torch_geometric.nn import GCNConv\n",
    "from torch_geometric.transforms import RandomLinkSplit\n",
    "import torch.nn.functional as F\n",
    "import matplotlib.pyplot as plt\n",
    "\n",
    "# import python files needed to create adjacency matrices\n",
    "import reading_data"
   ]
  },
  {
   "cell_type": "code",
   "execution_count": 2,
   "id": "39447e1b",
   "metadata": {},
   "outputs": [],
   "source": [
    "adjacency_matrix, mapping_index_to_node, mapping_entity_to_index = reading_data.create_adjacency_matrix_nt(\"data/aifb/aifb+.nt\", literal_representation=\"filtered\", sparse=True)\n",
    "number_nodes = adjacency_matrix.size()[0]"
   ]
  },
  {
   "cell_type": "code",
   "execution_count": 18,
   "id": "ee614299",
   "metadata": {},
   "outputs": [],
   "source": [
    "# add the file names\n",
    "file_name_train = \"data/aifb/gz_files/aifb+_train_set.nt.gz\"\n",
    "file_name_valid = \"data/aifb/gz_files/aifb+_valid_set.nt.gz\"\n",
    "file_name_test = \"data/aifb/gz_files/aifb+_test_set.nt.gz\"\n",
    "\n",
    "labels, train_entities, valid_entities, test_entities = reading_data.training_valid_test_set(file_name_train, file_name_valid, file_name_test, mapping_entity_to_index, adjacency_matrix.size()[0])\n",
    "train_mask = torch.tensor([i in train_entities for i in range(len(labels))])\n",
    "valid_mask = torch.tensor([i in valid_entities for i in range(len(labels))])\n",
    "test_mask = torch.tensor([i in test_entities for i in range(len(labels))])"
   ]
  },
  {
   "cell_type": "code",
   "execution_count": 19,
   "id": "0b9150e8",
   "metadata": {},
   "outputs": [],
   "source": [
    "feature_matrix = torch.sparse_coo_tensor(indices=torch.tensor([list(range(number_nodes)), list(range(number_nodes))]), values=torch.ones(number_nodes),size=(number_nodes, number_nodes))"
   ]
  },
  {
   "cell_type": "code",
   "execution_count": 32,
   "id": "38b6a8a9",
   "metadata": {},
   "outputs": [],
   "source": [
    "# add training and test mask, add labels list\n",
    "\n",
    "data_aifb = Data(x=feature_matrix, edge_index=adjacency_matrix.coalesce().indices(), num_nodes=number_nodes, y=labels.long(), train_mask=train_mask, test_mask=test_mask)"
   ]
  },
  {
   "cell_type": "code",
   "execution_count": 33,
   "id": "58b2cafb",
   "metadata": {},
   "outputs": [],
   "source": [
    "class GCN(torch.nn.Module):\n",
    "    def __init__(self, input_nodes, hidden_nodes, output_nodes):\n",
    "        super().__init__()\n",
    "        self.layer1 = GCNConv(input_nodes, hidden_nodes)\n",
    "        self.layer2 = GCNConv(hidden_nodes, output_nodes)\n",
    "    \n",
    "    def forward(self, X, A):\n",
    "        h1 =  self.layer1(X, A)\n",
    "        h1_activated = F.relu(h1)\n",
    "        h2 = self.layer2(h1_activated, A)\n",
    "        h2_activated = F.log_softmax(h2, dim=1)\n",
    "        return h2_activated"
   ]
  },
  {
   "cell_type": "code",
   "execution_count": 34,
   "id": "2124d039",
   "metadata": {},
   "outputs": [],
   "source": [
    "input_n = data_aifb.num_features\n",
    "hidden_n = 200\n",
    "output_n = 30\n",
    "\n",
    "model = GCN(input_n, hidden_n, output_n)\n",
    "optim = torch.optim.Adam(model.parameters(), lr=0.001)\n",
    "\n",
    "loss_list = list()\n",
    "\n",
    "model.train()\n",
    "for epoch in range(100):\n",
    "    optim.zero_grad()\n",
    "    \n",
    "    output = model(data_aifb.x, data_aifb.edge_index)\n",
    "    loss = F.nll_loss(output[data_aifb.train_mask], data_aifb.y[data_aifb.train_mask])\n",
    "    loss.backward()\n",
    "    optim.step()\n",
    "    loss_list.append(loss.item())"
   ]
  },
  {
   "cell_type": "code",
   "execution_count": 35,
   "id": "6eb2eaff",
   "metadata": {},
   "outputs": [
    {
     "data": {
      "text/plain": [
       "[<matplotlib.lines.Line2D at 0x7f9cfa1aec40>]"
      ]
     },
     "execution_count": 35,
     "metadata": {},
     "output_type": "execute_result"
    },
    {
     "data": {
      "image/png": "[encoded data removed]",
      "text/plain": [
       "<Figure size 432x288 with 1 Axes>"
      ]
     },
     "metadata": {
      "needs_background": "light"
     },
     "output_type": "display_data"
    }
   ],
   "source": [
    "plt.plot(loss_list)"
   ]
  },
  {
   "cell_type": "code",
   "execution_count": null,
   "id": "d5459f57",
   "metadata": {},
   "outputs": [],
   "source": []
  }
 ],
 "metadata": {
  "kernelspec": {
   "display_name": "GraphRepresentationKernel",
   "language": "python",
   "name": "graphrepresentationkernel"
  },
  "language_info": {
   "codemirror_mode": {
    "name": "ipython",
    "version": 3
   },
   "file_extension": ".py",
   "mimetype": "text/x-python",
   "name": "python",
   "nbconvert_exporter": "python",
   "pygments_lexer": "ipython3",
   "version": "3.9.16"
  }
 },
 "nbformat": 4,
 "nbformat_minor": 5
}
