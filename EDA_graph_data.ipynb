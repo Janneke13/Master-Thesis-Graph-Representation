{
 "cells": [
  {
   "cell_type": "markdown",
   "id": "825835d7",
   "metadata": {},
   "source": [
    "# Exploratory Data Analysis - Graph Data"
   ]
  },
  {
   "cell_type": "markdown",
   "id": "fe72fb13",
   "metadata": {},
   "source": [
    "## Read in all the data"
   ]
  },
  {
   "cell_type": "code",
   "execution_count": 1,
   "id": "cdbb9228",
   "metadata": {},
   "outputs": [],
   "source": [
    "from reading_data import create_adjacency_matrix_nt"
   ]
  },
  {
   "cell_type": "markdown",
   "id": "4b64f007",
   "metadata": {},
   "source": [
    "This task is performed by using a pre-made function. It reads in all the data in adjacency matrices, which can be analysed to find out what the data looks like. Note that the function to read in matrices has both a sparse and a dense option, which can be set in the parameters of this function. Here, the sparse mode is used as it uses less memory, but in case dense matrices are needed, the same function can create those as well.\n",
    "\n",
    "This function can take in both .nt and .nt.gz files as input."
   ]
  },
  {
   "cell_type": "markdown",
   "id": "b8167504",
   "metadata": {},
   "source": [
    "## AIFB+"
   ]
  },
  {
   "cell_type": "markdown",
   "id": "2ce178f2",
   "metadata": {},
   "source": [
    "### Non-relational:"
   ]
  },
  {
   "cell_type": "code",
   "execution_count": 2,
   "id": "51402a6a",
   "metadata": {},
   "outputs": [],
   "source": [
    "am_aifb_fil, mapping_index_to_node_aifb_fil, map_entity_to_index_aifb_fil = create_adjacency_matrix_nt(\"data/aifb/gz_files/aifb+.nt.gz\", literal_representation=\"filtered\", sparse=True)\n",
    "am_aifb_ato, mapping_index_to_node_aifb_ato, map_entity_to_index_aifb_ato = create_adjacency_matrix_nt(\"data/aifb/gz_files/aifb+.nt.gz\", literal_representation=\"all-to-one\", sparse=True)\n",
    "am_aifb_col, mapping_index_to_node_aifb_col, map_entity_to_index_aifb_col = create_adjacency_matrix_nt(\"data/aifb/gz_files/aifb+.nt.gz\", literal_representation=\"collapsed\", sparse=True)\n",
    "am_aifb_sep, mapping_index_to_node_aifb_sep, map_entity_to_index_aifb_sep = create_adjacency_matrix_nt(\"data/aifb/gz_files/aifb+.nt.gz\", literal_representation=\"separate\", sparse=True)"
   ]
  },
  {
   "cell_type": "markdown",
   "id": "dbc4ce33",
   "metadata": {},
   "source": [
    "### Relational:"
   ]
  },
  {
   "cell_type": "code",
   "execution_count": 3,
   "id": "dbf86fe0",
   "metadata": {},
   "outputs": [],
   "source": [
    "am_aifb_fil_rel, mapping_index_to_node_aifb_fil_rel, map_entity_to_index_aifb_fil_rel, map_index_to_relation_aifb_fil = create_adjacency_matrix_nt(\"data/aifb/gz_files/aifb+.nt.gz\", literal_representation=\"filtered\", sparse=True, relational=True)\n",
    "am_aifb_ato_rel, mapping_index_to_node_aifb_ato_rel, map_entity_to_index_aifb_ato_rel, map_index_to_relation_aifb_ato = create_adjacency_matrix_nt(\"data/aifb/gz_files/aifb+.nt.gz\", literal_representation=\"all-to-one\", sparse=True, relational=True)\n",
    "am_aifb_col_rel, mapping_index_to_node_aifb_col_rel, map_entity_to_index_aifb_col_rel, map_index_to_relation_aifb_col = create_adjacency_matrix_nt(\"data/aifb/gz_files/aifb+.nt.gz\", literal_representation=\"collapsed\", sparse=True, relational=True)\n",
    "am_aifb_sep_rel, mapping_index_to_node_aifb_sep_rel, map_entity_to_index_aifb_sep_rel, map_index_to_relation_aifb_sep = create_adjacency_matrix_nt(\"data/aifb/gz_files/aifb+.nt.gz\", literal_representation=\"separate\", sparse=True, relational=True)"
   ]
  },
  {
   "cell_type": "markdown",
   "id": "ec223a02",
   "metadata": {},
   "source": [
    "## MUTAG"
   ]
  },
  {
   "cell_type": "markdown",
   "id": "1d23e681",
   "metadata": {},
   "source": [
    "### Non-relational:"
   ]
  },
  {
   "cell_type": "code",
   "execution_count": 4,
   "id": "b472df59",
   "metadata": {},
   "outputs": [],
   "source": [
    "am_mutag_fil, mapping_index_to_node_mutag_fil, map_entity_to_index_mutag_fil = create_adjacency_matrix_nt(\"data/mutag/gz_files/mutag.nt.gz\", literal_representation=\"filtered\", sparse=True)\n",
    "am_mutag_ato, mapping_index_to_node_mutag_ato, map_entity_to_index_mutag_ato = create_adjacency_matrix_nt(\"data/mutag/gz_files/mutag.nt.gz\", literal_representation=\"all-to-one\", sparse=True)\n",
    "am_mutag_col, mapping_index_to_node_mutag_col, map_entity_to_index_mutag_col = create_adjacency_matrix_nt(\"data/mutag/gz_files/mutag.nt.gz\", literal_representation=\"collapsed\", sparse=True)\n",
    "am_mutag_sep, mapping_index_to_node_mutag_sep, map_entity_to_index_mutag_sep = create_adjacency_matrix_nt(\"data/mutag/gz_files/mutag.nt.gz\", literal_representation=\"separate\", sparse=True)"
   ]
  },
  {
   "cell_type": "markdown",
   "id": "c6857b14",
   "metadata": {},
   "source": [
    "### Relational:"
   ]
  },
  {
   "cell_type": "code",
   "execution_count": 5,
   "id": "17e3b94b",
   "metadata": {},
   "outputs": [],
   "source": [
    "am_mutag_fil_rel, mapping_index_to_node_mutag_fil_rel, map_entity_to_index_mutag_fil_rel, map_index_to_relation_mutag_fil = create_adjacency_matrix_nt(\"data/mutag/gz_files/mutag.nt.gz\", literal_representation=\"filtered\", sparse=True, relational=True)\n",
    "am_mutag_ato_rel, mapping_index_to_node_mutag_ato_rel, map_entity_to_index_mutag_ato_rel, map_index_to_relation_mutag_ato = create_adjacency_matrix_nt(\"data/mutag/gz_files/mutag.nt.gz\", literal_representation=\"all-to-one\", sparse=True, relational=True)\n",
    "am_mutag_col_rel, mapping_index_to_node_mutag_col_rel, map_entity_to_index_mutag_col_rel, map_index_to_relation_mutag_col = create_adjacency_matrix_nt(\"data/mutag/gz_files/mutag.nt.gz\", literal_representation=\"collapsed\", sparse=True, relational=True)\n",
    "am_mutag_sep_rel, mapping_index_to_node_mutag_sep_rel, map_entity_to_index_mutag_sep_rel, map_index_to_relation_mutag_sep = create_adjacency_matrix_nt(\"data/mutag/gz_files/mutag.nt.gz\", literal_representation=\"separate\", sparse=True, relational=True)"
   ]
  },
  {
   "cell_type": "markdown",
   "id": "7ab20e74",
   "metadata": {},
   "source": [
    "## DMG777k"
   ]
  },
  {
   "cell_type": "markdown",
   "id": "2acaf614",
   "metadata": {},
   "source": [
    "### Non-relational:"
   ]
  },
  {
   "cell_type": "code",
   "execution_count": 6,
   "id": "63423577",
   "metadata": {},
   "outputs": [
    {
     "name": "stderr",
     "output_type": "stream",
     "text": [
      "Failed to convert Literal lexical form to value. Datatype=http://www.w3.org/2001/XMLSchema#date, Converter=<function parse_date at 0x7fda8be5aa60>\n",
      "Traceback (most recent call last):\n",
      "  File \"/Users/janneke/opt/anaconda3/envs/Master-Thesis-Graph-Representation/lib/python3.9/site-packages/rdflib/term.py\", line 2084, in _castLexicalToPython\n",
      "    return conv_func(lexical)  # type: ignore[arg-type]\n",
      "  File \"/Users/janneke/opt/anaconda3/envs/Master-Thesis-Graph-Representation/lib/python3.9/site-packages/isodate/isodates.py\", line 201, in parse_date\n",
      "    return date(sign * int(groups['year']),\n",
      "ValueError: month must be in 1..12\n",
      "Failed to convert Literal lexical form to value. Datatype=http://www.w3.org/2001/XMLSchema#date, Converter=<function parse_date at 0x7fda8be5aa60>\n",
      "Traceback (most recent call last):\n",
      "  File \"/Users/janneke/opt/anaconda3/envs/Master-Thesis-Graph-Representation/lib/python3.9/site-packages/rdflib/term.py\", line 2084, in _castLexicalToPython\n",
      "    return conv_func(lexical)  # type: ignore[arg-type]\n",
      "  File \"/Users/janneke/opt/anaconda3/envs/Master-Thesis-Graph-Representation/lib/python3.9/site-packages/isodate/isodates.py\", line 201, in parse_date\n",
      "    return date(sign * int(groups['year']),\n",
      "ValueError: day is out of range for month\n",
      "Failed to convert Literal lexical form to value. Datatype=http://www.w3.org/2001/XMLSchema#date, Converter=<function parse_date at 0x7fda8be5aa60>\n",
      "Traceback (most recent call last):\n",
      "  File \"/Users/janneke/opt/anaconda3/envs/Master-Thesis-Graph-Representation/lib/python3.9/site-packages/rdflib/term.py\", line 2084, in _castLexicalToPython\n",
      "    return conv_func(lexical)  # type: ignore[arg-type]\n",
      "  File \"/Users/janneke/opt/anaconda3/envs/Master-Thesis-Graph-Representation/lib/python3.9/site-packages/isodate/isodates.py\", line 201, in parse_date\n",
      "    return date(sign * int(groups['year']),\n",
      "ValueError: month must be in 1..12\n",
      "Failed to convert Literal lexical form to value. Datatype=http://www.w3.org/2001/XMLSchema#date, Converter=<function parse_date at 0x7fda8be5aa60>\n",
      "Traceback (most recent call last):\n",
      "  File \"/Users/janneke/opt/anaconda3/envs/Master-Thesis-Graph-Representation/lib/python3.9/site-packages/rdflib/term.py\", line 2084, in _castLexicalToPython\n",
      "    return conv_func(lexical)  # type: ignore[arg-type]\n",
      "  File \"/Users/janneke/opt/anaconda3/envs/Master-Thesis-Graph-Representation/lib/python3.9/site-packages/isodate/isodates.py\", line 201, in parse_date\n",
      "    return date(sign * int(groups['year']),\n",
      "ValueError: month must be in 1..12\n",
      "Failed to convert Literal lexical form to value. Datatype=http://www.w3.org/2001/XMLSchema#date, Converter=<function parse_date at 0x7fda8be5aa60>\n",
      "Traceback (most recent call last):\n",
      "  File \"/Users/janneke/opt/anaconda3/envs/Master-Thesis-Graph-Representation/lib/python3.9/site-packages/rdflib/term.py\", line 2084, in _castLexicalToPython\n",
      "    return conv_func(lexical)  # type: ignore[arg-type]\n",
      "  File \"/Users/janneke/opt/anaconda3/envs/Master-Thesis-Graph-Representation/lib/python3.9/site-packages/isodate/isodates.py\", line 201, in parse_date\n",
      "    return date(sign * int(groups['year']),\n",
      "ValueError: month must be in 1..12\n",
      "Failed to convert Literal lexical form to value. Datatype=http://www.w3.org/2001/XMLSchema#date, Converter=<function parse_date at 0x7fda8be5aa60>\n",
      "Traceback (most recent call last):\n",
      "  File \"/Users/janneke/opt/anaconda3/envs/Master-Thesis-Graph-Representation/lib/python3.9/site-packages/rdflib/term.py\", line 2084, in _castLexicalToPython\n",
      "    return conv_func(lexical)  # type: ignore[arg-type]\n",
      "  File \"/Users/janneke/opt/anaconda3/envs/Master-Thesis-Graph-Representation/lib/python3.9/site-packages/isodate/isodates.py\", line 201, in parse_date\n",
      "    return date(sign * int(groups['year']),\n",
      "ValueError: day is out of range for month\n",
      "Failed to convert Literal lexical form to value. Datatype=http://www.w3.org/2001/XMLSchema#date, Converter=<function parse_date at 0x7fda8be5aa60>\n",
      "Traceback (most recent call last):\n",
      "  File \"/Users/janneke/opt/anaconda3/envs/Master-Thesis-Graph-Representation/lib/python3.9/site-packages/rdflib/term.py\", line 2084, in _castLexicalToPython\n",
      "    return conv_func(lexical)  # type: ignore[arg-type]\n",
      "  File \"/Users/janneke/opt/anaconda3/envs/Master-Thesis-Graph-Representation/lib/python3.9/site-packages/isodate/isodates.py\", line 201, in parse_date\n",
      "    return date(sign * int(groups['year']),\n",
      "ValueError: year 0 is out of range\n",
      "Failed to convert Literal lexical form to value. Datatype=http://www.w3.org/2001/XMLSchema#date, Converter=<function parse_date at 0x7fda8be5aa60>\n",
      "Traceback (most recent call last):\n",
      "  File \"/Users/janneke/opt/anaconda3/envs/Master-Thesis-Graph-Representation/lib/python3.9/site-packages/rdflib/term.py\", line 2084, in _castLexicalToPython\n",
      "    return conv_func(lexical)  # type: ignore[arg-type]\n",
      "  File \"/Users/janneke/opt/anaconda3/envs/Master-Thesis-Graph-Representation/lib/python3.9/site-packages/isodate/isodates.py\", line 201, in parse_date\n",
      "    return date(sign * int(groups['year']),\n",
      "ValueError: month must be in 1..12\n",
      "Failed to convert Literal lexical form to value. Datatype=http://www.w3.org/2001/XMLSchema#date, Converter=<function parse_date at 0x7fda8be5aa60>\n",
      "Traceback (most recent call last):\n",
      "  File \"/Users/janneke/opt/anaconda3/envs/Master-Thesis-Graph-Representation/lib/python3.9/site-packages/rdflib/term.py\", line 2084, in _castLexicalToPython\n",
      "    return conv_func(lexical)  # type: ignore[arg-type]\n",
      "  File \"/Users/janneke/opt/anaconda3/envs/Master-Thesis-Graph-Representation/lib/python3.9/site-packages/isodate/isodates.py\", line 201, in parse_date\n",
      "    return date(sign * int(groups['year']),\n",
      "ValueError: day is out of range for month\n",
      "Failed to convert Literal lexical form to value. Datatype=http://www.w3.org/2001/XMLSchema#date, Converter=<function parse_date at 0x7fda8be5aa60>\n",
      "Traceback (most recent call last):\n",
      "  File \"/Users/janneke/opt/anaconda3/envs/Master-Thesis-Graph-Representation/lib/python3.9/site-packages/rdflib/term.py\", line 2084, in _castLexicalToPython\n",
      "    return conv_func(lexical)  # type: ignore[arg-type]\n",
      "  File \"/Users/janneke/opt/anaconda3/envs/Master-Thesis-Graph-Representation/lib/python3.9/site-packages/isodate/isodates.py\", line 203, in parse_date\n",
      "    raise ISO8601Error('Unrecognised ISO 8601 date format: %r' % datestring)\n",
      "isodate.isoerror.ISO8601Error: Unrecognised ISO 8601 date format: '-01-01'\n",
      "Failed to convert Literal lexical form to value. Datatype=http://www.w3.org/2001/XMLSchema#date, Converter=<function parse_date at 0x7fda8be5aa60>\n",
      "Traceback (most recent call last):\n",
      "  File \"/Users/janneke/opt/anaconda3/envs/Master-Thesis-Graph-Representation/lib/python3.9/site-packages/rdflib/term.py\", line 2084, in _castLexicalToPython\n",
      "    return conv_func(lexical)  # type: ignore[arg-type]\n",
      "  File \"/Users/janneke/opt/anaconda3/envs/Master-Thesis-Graph-Representation/lib/python3.9/site-packages/isodate/isodates.py\", line 201, in parse_date\n",
      "    return date(sign * int(groups['year']),\n",
      "ValueError: month must be in 1..12\n",
      "Failed to convert Literal lexical form to value. Datatype=http://www.w3.org/2001/XMLSchema#date, Converter=<function parse_date at 0x7fda8be5aa60>\n",
      "Traceback (most recent call last):\n",
      "  File \"/Users/janneke/opt/anaconda3/envs/Master-Thesis-Graph-Representation/lib/python3.9/site-packages/rdflib/term.py\", line 2084, in _castLexicalToPython\n",
      "    return conv_func(lexical)  # type: ignore[arg-type]\n",
      "  File \"/Users/janneke/opt/anaconda3/envs/Master-Thesis-Graph-Representation/lib/python3.9/site-packages/isodate/isodates.py\", line 201, in parse_date\n",
      "    return date(sign * int(groups['year']),\n",
      "ValueError: month must be in 1..12\n",
      "Failed to convert Literal lexical form to value. Datatype=http://www.w3.org/2001/XMLSchema#date, Converter=<function parse_date at 0x7fda8be5aa60>\n",
      "Traceback (most recent call last):\n",
      "  File \"/Users/janneke/opt/anaconda3/envs/Master-Thesis-Graph-Representation/lib/python3.9/site-packages/rdflib/term.py\", line 2084, in _castLexicalToPython\n",
      "    return conv_func(lexical)  # type: ignore[arg-type]\n",
      "  File \"/Users/janneke/opt/anaconda3/envs/Master-Thesis-Graph-Representation/lib/python3.9/site-packages/isodate/isodates.py\", line 201, in parse_date\n",
      "    return date(sign * int(groups['year']),\n",
      "ValueError: year 0 is out of range\n"
     ]
    },
    {
     "name": "stderr",
     "output_type": "stream",
     "text": [
      "Failed to convert Literal lexical form to value. Datatype=http://www.w3.org/2001/XMLSchema#date, Converter=<function parse_date at 0x7fda8be5aa60>\n",
      "Traceback (most recent call last):\n",
      "  File \"/Users/janneke/opt/anaconda3/envs/Master-Thesis-Graph-Representation/lib/python3.9/site-packages/rdflib/term.py\", line 2084, in _castLexicalToPython\n",
      "    return conv_func(lexical)  # type: ignore[arg-type]\n",
      "  File \"/Users/janneke/opt/anaconda3/envs/Master-Thesis-Graph-Representation/lib/python3.9/site-packages/isodate/isodates.py\", line 201, in parse_date\n",
      "    return date(sign * int(groups['year']),\n",
      "ValueError: day is out of range for month\n",
      "Failed to convert Literal lexical form to value. Datatype=http://www.w3.org/2001/XMLSchema#date, Converter=<function parse_date at 0x7fda8be5aa60>\n",
      "Traceback (most recent call last):\n",
      "  File \"/Users/janneke/opt/anaconda3/envs/Master-Thesis-Graph-Representation/lib/python3.9/site-packages/rdflib/term.py\", line 2084, in _castLexicalToPython\n",
      "    return conv_func(lexical)  # type: ignore[arg-type]\n",
      "  File \"/Users/janneke/opt/anaconda3/envs/Master-Thesis-Graph-Representation/lib/python3.9/site-packages/isodate/isodates.py\", line 201, in parse_date\n",
      "    return date(sign * int(groups['year']),\n",
      "ValueError: year 0 is out of range\n",
      "Failed to convert Literal lexical form to value. Datatype=http://www.w3.org/2001/XMLSchema#date, Converter=<function parse_date at 0x7fda8be5aa60>\n",
      "Traceback (most recent call last):\n",
      "  File \"/Users/janneke/opt/anaconda3/envs/Master-Thesis-Graph-Representation/lib/python3.9/site-packages/rdflib/term.py\", line 2084, in _castLexicalToPython\n",
      "    return conv_func(lexical)  # type: ignore[arg-type]\n",
      "  File \"/Users/janneke/opt/anaconda3/envs/Master-Thesis-Graph-Representation/lib/python3.9/site-packages/isodate/isodates.py\", line 201, in parse_date\n",
      "    return date(sign * int(groups['year']),\n",
      "ValueError: month must be in 1..12\n",
      "Failed to convert Literal lexical form to value. Datatype=http://www.w3.org/2001/XMLSchema#date, Converter=<function parse_date at 0x7fda8be5aa60>\n",
      "Traceback (most recent call last):\n",
      "  File \"/Users/janneke/opt/anaconda3/envs/Master-Thesis-Graph-Representation/lib/python3.9/site-packages/rdflib/term.py\", line 2084, in _castLexicalToPython\n",
      "    return conv_func(lexical)  # type: ignore[arg-type]\n",
      "  File \"/Users/janneke/opt/anaconda3/envs/Master-Thesis-Graph-Representation/lib/python3.9/site-packages/isodate/isodates.py\", line 201, in parse_date\n",
      "    return date(sign * int(groups['year']),\n",
      "ValueError: month must be in 1..12\n",
      "Failed to convert Literal lexical form to value. Datatype=http://www.w3.org/2001/XMLSchema#date, Converter=<function parse_date at 0x7fda8be5aa60>\n",
      "Traceback (most recent call last):\n",
      "  File \"/Users/janneke/opt/anaconda3/envs/Master-Thesis-Graph-Representation/lib/python3.9/site-packages/rdflib/term.py\", line 2084, in _castLexicalToPython\n",
      "    return conv_func(lexical)  # type: ignore[arg-type]\n",
      "  File \"/Users/janneke/opt/anaconda3/envs/Master-Thesis-Graph-Representation/lib/python3.9/site-packages/isodate/isodates.py\", line 201, in parse_date\n",
      "    return date(sign * int(groups['year']),\n",
      "ValueError: month must be in 1..12\n",
      "Failed to convert Literal lexical form to value. Datatype=http://www.w3.org/2001/XMLSchema#date, Converter=<function parse_date at 0x7fda8be5aa60>\n",
      "Traceback (most recent call last):\n",
      "  File \"/Users/janneke/opt/anaconda3/envs/Master-Thesis-Graph-Representation/lib/python3.9/site-packages/rdflib/term.py\", line 2084, in _castLexicalToPython\n",
      "    return conv_func(lexical)  # type: ignore[arg-type]\n",
      "  File \"/Users/janneke/opt/anaconda3/envs/Master-Thesis-Graph-Representation/lib/python3.9/site-packages/isodate/isodates.py\", line 201, in parse_date\n",
      "    return date(sign * int(groups['year']),\n",
      "ValueError: day is out of range for month\n",
      "Failed to convert Literal lexical form to value. Datatype=http://www.w3.org/2001/XMLSchema#date, Converter=<function parse_date at 0x7fda8be5aa60>\n",
      "Traceback (most recent call last):\n",
      "  File \"/Users/janneke/opt/anaconda3/envs/Master-Thesis-Graph-Representation/lib/python3.9/site-packages/rdflib/term.py\", line 2084, in _castLexicalToPython\n",
      "    return conv_func(lexical)  # type: ignore[arg-type]\n",
      "  File \"/Users/janneke/opt/anaconda3/envs/Master-Thesis-Graph-Representation/lib/python3.9/site-packages/isodate/isodates.py\", line 201, in parse_date\n",
      "    return date(sign * int(groups['year']),\n",
      "ValueError: month must be in 1..12\n",
      "Failed to convert Literal lexical form to value. Datatype=http://www.w3.org/2001/XMLSchema#date, Converter=<function parse_date at 0x7fda8be5aa60>\n",
      "Traceback (most recent call last):\n",
      "  File \"/Users/janneke/opt/anaconda3/envs/Master-Thesis-Graph-Representation/lib/python3.9/site-packages/rdflib/term.py\", line 2084, in _castLexicalToPython\n",
      "    return conv_func(lexical)  # type: ignore[arg-type]\n",
      "  File \"/Users/janneke/opt/anaconda3/envs/Master-Thesis-Graph-Representation/lib/python3.9/site-packages/isodate/isodates.py\", line 201, in parse_date\n",
      "    return date(sign * int(groups['year']),\n",
      "ValueError: month must be in 1..12\n",
      "Failed to convert Literal lexical form to value. Datatype=http://www.w3.org/2001/XMLSchema#date, Converter=<function parse_date at 0x7fda8be5aa60>\n",
      "Traceback (most recent call last):\n",
      "  File \"/Users/janneke/opt/anaconda3/envs/Master-Thesis-Graph-Representation/lib/python3.9/site-packages/rdflib/term.py\", line 2084, in _castLexicalToPython\n",
      "    return conv_func(lexical)  # type: ignore[arg-type]\n",
      "  File \"/Users/janneke/opt/anaconda3/envs/Master-Thesis-Graph-Representation/lib/python3.9/site-packages/isodate/isodates.py\", line 201, in parse_date\n",
      "    return date(sign * int(groups['year']),\n",
      "ValueError: month must be in 1..12\n",
      "Failed to convert Literal lexical form to value. Datatype=http://www.w3.org/2001/XMLSchema#date, Converter=<function parse_date at 0x7fda8be5aa60>\n",
      "Traceback (most recent call last):\n",
      "  File \"/Users/janneke/opt/anaconda3/envs/Master-Thesis-Graph-Representation/lib/python3.9/site-packages/rdflib/term.py\", line 2084, in _castLexicalToPython\n",
      "    return conv_func(lexical)  # type: ignore[arg-type]\n",
      "  File \"/Users/janneke/opt/anaconda3/envs/Master-Thesis-Graph-Representation/lib/python3.9/site-packages/isodate/isodates.py\", line 201, in parse_date\n",
      "    return date(sign * int(groups['year']),\n",
      "ValueError: month must be in 1..12\n",
      "Failed to convert Literal lexical form to value. Datatype=http://www.w3.org/2001/XMLSchema#date, Converter=<function parse_date at 0x7fda8be5aa60>\n",
      "Traceback (most recent call last):\n",
      "  File \"/Users/janneke/opt/anaconda3/envs/Master-Thesis-Graph-Representation/lib/python3.9/site-packages/rdflib/term.py\", line 2084, in _castLexicalToPython\n",
      "    return conv_func(lexical)  # type: ignore[arg-type]\n",
      "  File \"/Users/janneke/opt/anaconda3/envs/Master-Thesis-Graph-Representation/lib/python3.9/site-packages/isodate/isodates.py\", line 201, in parse_date\n",
      "    return date(sign * int(groups['year']),\n",
      "ValueError: day is out of range for month\n",
      "Failed to convert Literal lexical form to value. Datatype=http://www.w3.org/2001/XMLSchema#date, Converter=<function parse_date at 0x7fda8be5aa60>\n",
      "Traceback (most recent call last):\n",
      "  File \"/Users/janneke/opt/anaconda3/envs/Master-Thesis-Graph-Representation/lib/python3.9/site-packages/rdflib/term.py\", line 2084, in _castLexicalToPython\n",
      "    return conv_func(lexical)  # type: ignore[arg-type]\n",
      "  File \"/Users/janneke/opt/anaconda3/envs/Master-Thesis-Graph-Representation/lib/python3.9/site-packages/isodate/isodates.py\", line 201, in parse_date\n",
      "    return date(sign * int(groups['year']),\n",
      "ValueError: month must be in 1..12\n",
      "Failed to convert Literal lexical form to value. Datatype=http://www.w3.org/2001/XMLSchema#date, Converter=<function parse_date at 0x7fda8be5aa60>\n",
      "Traceback (most recent call last):\n",
      "  File \"/Users/janneke/opt/anaconda3/envs/Master-Thesis-Graph-Representation/lib/python3.9/site-packages/rdflib/term.py\", line 2084, in _castLexicalToPython\n",
      "    return conv_func(lexical)  # type: ignore[arg-type]\n",
      "  File \"/Users/janneke/opt/anaconda3/envs/Master-Thesis-Graph-Representation/lib/python3.9/site-packages/isodate/isodates.py\", line 201, in parse_date\n",
      "    return date(sign * int(groups['year']),\n",
      "ValueError: month must be in 1..12\n",
      "Failed to convert Literal lexical form to value. Datatype=http://www.w3.org/2001/XMLSchema#date, Converter=<function parse_date at 0x7fda8be5aa60>\n",
      "Traceback (most recent call last):\n",
      "  File \"/Users/janneke/opt/anaconda3/envs/Master-Thesis-Graph-Representation/lib/python3.9/site-packages/rdflib/term.py\", line 2084, in _castLexicalToPython\n",
      "    return conv_func(lexical)  # type: ignore[arg-type]\n",
      "  File \"/Users/janneke/opt/anaconda3/envs/Master-Thesis-Graph-Representation/lib/python3.9/site-packages/isodate/isodates.py\", line 201, in parse_date\n",
      "    return date(sign * int(groups['year']),\n",
      "ValueError: month must be in 1..12\n"
     ]
    },
    {
     "name": "stderr",
     "output_type": "stream",
     "text": [
      "Failed to convert Literal lexical form to value. Datatype=http://www.w3.org/2001/XMLSchema#date, Converter=<function parse_date at 0x7fda8be5aa60>\n",
      "Traceback (most recent call last):\n",
      "  File \"/Users/janneke/opt/anaconda3/envs/Master-Thesis-Graph-Representation/lib/python3.9/site-packages/rdflib/term.py\", line 2084, in _castLexicalToPython\n",
      "    return conv_func(lexical)  # type: ignore[arg-type]\n",
      "  File \"/Users/janneke/opt/anaconda3/envs/Master-Thesis-Graph-Representation/lib/python3.9/site-packages/isodate/isodates.py\", line 201, in parse_date\n",
      "    return date(sign * int(groups['year']),\n",
      "ValueError: day is out of range for month\n",
      "Failed to convert Literal lexical form to value. Datatype=http://www.w3.org/2001/XMLSchema#date, Converter=<function parse_date at 0x7fda8be5aa60>\n",
      "Traceback (most recent call last):\n",
      "  File \"/Users/janneke/opt/anaconda3/envs/Master-Thesis-Graph-Representation/lib/python3.9/site-packages/rdflib/term.py\", line 2084, in _castLexicalToPython\n",
      "    return conv_func(lexical)  # type: ignore[arg-type]\n",
      "  File \"/Users/janneke/opt/anaconda3/envs/Master-Thesis-Graph-Representation/lib/python3.9/site-packages/isodate/isodates.py\", line 201, in parse_date\n",
      "    return date(sign * int(groups['year']),\n",
      "ValueError: year 0 is out of range\n",
      "Failed to convert Literal lexical form to value. Datatype=http://www.w3.org/2001/XMLSchema#date, Converter=<function parse_date at 0x7fda8be5aa60>\n",
      "Traceback (most recent call last):\n",
      "  File \"/Users/janneke/opt/anaconda3/envs/Master-Thesis-Graph-Representation/lib/python3.9/site-packages/rdflib/term.py\", line 2084, in _castLexicalToPython\n",
      "    return conv_func(lexical)  # type: ignore[arg-type]\n",
      "  File \"/Users/janneke/opt/anaconda3/envs/Master-Thesis-Graph-Representation/lib/python3.9/site-packages/isodate/isodates.py\", line 201, in parse_date\n",
      "    return date(sign * int(groups['year']),\n",
      "ValueError: month must be in 1..12\n",
      "Failed to convert Literal lexical form to value. Datatype=http://www.w3.org/2001/XMLSchema#date, Converter=<function parse_date at 0x7fda8be5aa60>\n",
      "Traceback (most recent call last):\n",
      "  File \"/Users/janneke/opt/anaconda3/envs/Master-Thesis-Graph-Representation/lib/python3.9/site-packages/rdflib/term.py\", line 2084, in _castLexicalToPython\n",
      "    return conv_func(lexical)  # type: ignore[arg-type]\n",
      "  File \"/Users/janneke/opt/anaconda3/envs/Master-Thesis-Graph-Representation/lib/python3.9/site-packages/isodate/isodates.py\", line 201, in parse_date\n",
      "    return date(sign * int(groups['year']),\n",
      "ValueError: day is out of range for month\n",
      "Failed to convert Literal lexical form to value. Datatype=http://www.w3.org/2001/XMLSchema#date, Converter=<function parse_date at 0x7fda8be5aa60>\n",
      "Traceback (most recent call last):\n",
      "  File \"/Users/janneke/opt/anaconda3/envs/Master-Thesis-Graph-Representation/lib/python3.9/site-packages/rdflib/term.py\", line 2084, in _castLexicalToPython\n",
      "    return conv_func(lexical)  # type: ignore[arg-type]\n",
      "  File \"/Users/janneke/opt/anaconda3/envs/Master-Thesis-Graph-Representation/lib/python3.9/site-packages/isodate/isodates.py\", line 203, in parse_date\n",
      "    raise ISO8601Error('Unrecognised ISO 8601 date format: %r' % datestring)\n",
      "isodate.isoerror.ISO8601Error: Unrecognised ISO 8601 date format: '-01-01'\n",
      "Failed to convert Literal lexical form to value. Datatype=http://www.w3.org/2001/XMLSchema#date, Converter=<function parse_date at 0x7fda8be5aa60>\n",
      "Traceback (most recent call last):\n",
      "  File \"/Users/janneke/opt/anaconda3/envs/Master-Thesis-Graph-Representation/lib/python3.9/site-packages/rdflib/term.py\", line 2084, in _castLexicalToPython\n",
      "    return conv_func(lexical)  # type: ignore[arg-type]\n",
      "  File \"/Users/janneke/opt/anaconda3/envs/Master-Thesis-Graph-Representation/lib/python3.9/site-packages/isodate/isodates.py\", line 201, in parse_date\n",
      "    return date(sign * int(groups['year']),\n",
      "ValueError: month must be in 1..12\n",
      "Failed to convert Literal lexical form to value. Datatype=http://www.w3.org/2001/XMLSchema#date, Converter=<function parse_date at 0x7fda8be5aa60>\n",
      "Traceback (most recent call last):\n",
      "  File \"/Users/janneke/opt/anaconda3/envs/Master-Thesis-Graph-Representation/lib/python3.9/site-packages/rdflib/term.py\", line 2084, in _castLexicalToPython\n",
      "    return conv_func(lexical)  # type: ignore[arg-type]\n",
      "  File \"/Users/janneke/opt/anaconda3/envs/Master-Thesis-Graph-Representation/lib/python3.9/site-packages/isodate/isodates.py\", line 201, in parse_date\n",
      "    return date(sign * int(groups['year']),\n",
      "ValueError: month must be in 1..12\n",
      "Failed to convert Literal lexical form to value. Datatype=http://www.w3.org/2001/XMLSchema#date, Converter=<function parse_date at 0x7fda8be5aa60>\n",
      "Traceback (most recent call last):\n",
      "  File \"/Users/janneke/opt/anaconda3/envs/Master-Thesis-Graph-Representation/lib/python3.9/site-packages/rdflib/term.py\", line 2084, in _castLexicalToPython\n",
      "    return conv_func(lexical)  # type: ignore[arg-type]\n",
      "  File \"/Users/janneke/opt/anaconda3/envs/Master-Thesis-Graph-Representation/lib/python3.9/site-packages/isodate/isodates.py\", line 201, in parse_date\n",
      "    return date(sign * int(groups['year']),\n",
      "ValueError: year 0 is out of range\n",
      "Failed to convert Literal lexical form to value. Datatype=http://www.w3.org/2001/XMLSchema#date, Converter=<function parse_date at 0x7fda8be5aa60>\n",
      "Traceback (most recent call last):\n",
      "  File \"/Users/janneke/opt/anaconda3/envs/Master-Thesis-Graph-Representation/lib/python3.9/site-packages/rdflib/term.py\", line 2084, in _castLexicalToPython\n",
      "    return conv_func(lexical)  # type: ignore[arg-type]\n",
      "  File \"/Users/janneke/opt/anaconda3/envs/Master-Thesis-Graph-Representation/lib/python3.9/site-packages/isodate/isodates.py\", line 201, in parse_date\n",
      "    return date(sign * int(groups['year']),\n",
      "ValueError: day is out of range for month\n",
      "Failed to convert Literal lexical form to value. Datatype=http://www.w3.org/2001/XMLSchema#date, Converter=<function parse_date at 0x7fda8be5aa60>\n",
      "Traceback (most recent call last):\n",
      "  File \"/Users/janneke/opt/anaconda3/envs/Master-Thesis-Graph-Representation/lib/python3.9/site-packages/rdflib/term.py\", line 2084, in _castLexicalToPython\n",
      "    return conv_func(lexical)  # type: ignore[arg-type]\n",
      "  File \"/Users/janneke/opt/anaconda3/envs/Master-Thesis-Graph-Representation/lib/python3.9/site-packages/isodate/isodates.py\", line 201, in parse_date\n",
      "    return date(sign * int(groups['year']),\n",
      "ValueError: year 0 is out of range\n",
      "Failed to convert Literal lexical form to value. Datatype=http://www.w3.org/2001/XMLSchema#date, Converter=<function parse_date at 0x7fda8be5aa60>\n",
      "Traceback (most recent call last):\n",
      "  File \"/Users/janneke/opt/anaconda3/envs/Master-Thesis-Graph-Representation/lib/python3.9/site-packages/rdflib/term.py\", line 2084, in _castLexicalToPython\n",
      "    return conv_func(lexical)  # type: ignore[arg-type]\n",
      "  File \"/Users/janneke/opt/anaconda3/envs/Master-Thesis-Graph-Representation/lib/python3.9/site-packages/isodate/isodates.py\", line 201, in parse_date\n",
      "    return date(sign * int(groups['year']),\n",
      "ValueError: month must be in 1..12\n",
      "Failed to convert Literal lexical form to value. Datatype=http://www.w3.org/2001/XMLSchema#date, Converter=<function parse_date at 0x7fda8be5aa60>\n",
      "Traceback (most recent call last):\n",
      "  File \"/Users/janneke/opt/anaconda3/envs/Master-Thesis-Graph-Representation/lib/python3.9/site-packages/rdflib/term.py\", line 2084, in _castLexicalToPython\n",
      "    return conv_func(lexical)  # type: ignore[arg-type]\n",
      "  File \"/Users/janneke/opt/anaconda3/envs/Master-Thesis-Graph-Representation/lib/python3.9/site-packages/isodate/isodates.py\", line 201, in parse_date\n",
      "    return date(sign * int(groups['year']),\n",
      "ValueError: month must be in 1..12\n",
      "Failed to convert Literal lexical form to value. Datatype=http://www.w3.org/2001/XMLSchema#date, Converter=<function parse_date at 0x7fda8be5aa60>\n",
      "Traceback (most recent call last):\n",
      "  File \"/Users/janneke/opt/anaconda3/envs/Master-Thesis-Graph-Representation/lib/python3.9/site-packages/rdflib/term.py\", line 2084, in _castLexicalToPython\n",
      "    return conv_func(lexical)  # type: ignore[arg-type]\n",
      "  File \"/Users/janneke/opt/anaconda3/envs/Master-Thesis-Graph-Representation/lib/python3.9/site-packages/isodate/isodates.py\", line 201, in parse_date\n",
      "    return date(sign * int(groups['year']),\n",
      "ValueError: month must be in 1..12\n"
     ]
    },
    {
     "name": "stderr",
     "output_type": "stream",
     "text": [
      "Failed to convert Literal lexical form to value. Datatype=http://www.w3.org/2001/XMLSchema#date, Converter=<function parse_date at 0x7fda8be5aa60>\n",
      "Traceback (most recent call last):\n",
      "  File \"/Users/janneke/opt/anaconda3/envs/Master-Thesis-Graph-Representation/lib/python3.9/site-packages/rdflib/term.py\", line 2084, in _castLexicalToPython\n",
      "    return conv_func(lexical)  # type: ignore[arg-type]\n",
      "  File \"/Users/janneke/opt/anaconda3/envs/Master-Thesis-Graph-Representation/lib/python3.9/site-packages/isodate/isodates.py\", line 201, in parse_date\n",
      "    return date(sign * int(groups['year']),\n",
      "ValueError: day is out of range for month\n",
      "Failed to convert Literal lexical form to value. Datatype=http://www.w3.org/2001/XMLSchema#date, Converter=<function parse_date at 0x7fda8be5aa60>\n",
      "Traceback (most recent call last):\n",
      "  File \"/Users/janneke/opt/anaconda3/envs/Master-Thesis-Graph-Representation/lib/python3.9/site-packages/rdflib/term.py\", line 2084, in _castLexicalToPython\n",
      "    return conv_func(lexical)  # type: ignore[arg-type]\n",
      "  File \"/Users/janneke/opt/anaconda3/envs/Master-Thesis-Graph-Representation/lib/python3.9/site-packages/isodate/isodates.py\", line 201, in parse_date\n",
      "    return date(sign * int(groups['year']),\n",
      "ValueError: month must be in 1..12\n",
      "Failed to convert Literal lexical form to value. Datatype=http://www.w3.org/2001/XMLSchema#date, Converter=<function parse_date at 0x7fda8be5aa60>\n",
      "Traceback (most recent call last):\n",
      "  File \"/Users/janneke/opt/anaconda3/envs/Master-Thesis-Graph-Representation/lib/python3.9/site-packages/rdflib/term.py\", line 2084, in _castLexicalToPython\n",
      "    return conv_func(lexical)  # type: ignore[arg-type]\n",
      "  File \"/Users/janneke/opt/anaconda3/envs/Master-Thesis-Graph-Representation/lib/python3.9/site-packages/isodate/isodates.py\", line 201, in parse_date\n",
      "    return date(sign * int(groups['year']),\n",
      "ValueError: month must be in 1..12\n",
      "Failed to convert Literal lexical form to value. Datatype=http://www.w3.org/2001/XMLSchema#date, Converter=<function parse_date at 0x7fda8be5aa60>\n",
      "Traceback (most recent call last):\n",
      "  File \"/Users/janneke/opt/anaconda3/envs/Master-Thesis-Graph-Representation/lib/python3.9/site-packages/rdflib/term.py\", line 2084, in _castLexicalToPython\n",
      "    return conv_func(lexical)  # type: ignore[arg-type]\n",
      "  File \"/Users/janneke/opt/anaconda3/envs/Master-Thesis-Graph-Representation/lib/python3.9/site-packages/isodate/isodates.py\", line 201, in parse_date\n",
      "    return date(sign * int(groups['year']),\n",
      "ValueError: month must be in 1..12\n",
      "Failed to convert Literal lexical form to value. Datatype=http://www.w3.org/2001/XMLSchema#date, Converter=<function parse_date at 0x7fda8be5aa60>\n",
      "Traceback (most recent call last):\n",
      "  File \"/Users/janneke/opt/anaconda3/envs/Master-Thesis-Graph-Representation/lib/python3.9/site-packages/rdflib/term.py\", line 2084, in _castLexicalToPython\n",
      "    return conv_func(lexical)  # type: ignore[arg-type]\n",
      "  File \"/Users/janneke/opt/anaconda3/envs/Master-Thesis-Graph-Representation/lib/python3.9/site-packages/isodate/isodates.py\", line 201, in parse_date\n",
      "    return date(sign * int(groups['year']),\n",
      "ValueError: month must be in 1..12\n",
      "Failed to convert Literal lexical form to value. Datatype=http://www.w3.org/2001/XMLSchema#date, Converter=<function parse_date at 0x7fda8be5aa60>\n",
      "Traceback (most recent call last):\n",
      "  File \"/Users/janneke/opt/anaconda3/envs/Master-Thesis-Graph-Representation/lib/python3.9/site-packages/rdflib/term.py\", line 2084, in _castLexicalToPython\n",
      "    return conv_func(lexical)  # type: ignore[arg-type]\n",
      "  File \"/Users/janneke/opt/anaconda3/envs/Master-Thesis-Graph-Representation/lib/python3.9/site-packages/isodate/isodates.py\", line 201, in parse_date\n",
      "    return date(sign * int(groups['year']),\n",
      "ValueError: day is out of range for month\n",
      "Failed to convert Literal lexical form to value. Datatype=http://www.w3.org/2001/XMLSchema#date, Converter=<function parse_date at 0x7fda8be5aa60>\n",
      "Traceback (most recent call last):\n",
      "  File \"/Users/janneke/opt/anaconda3/envs/Master-Thesis-Graph-Representation/lib/python3.9/site-packages/rdflib/term.py\", line 2084, in _castLexicalToPython\n",
      "    return conv_func(lexical)  # type: ignore[arg-type]\n",
      "  File \"/Users/janneke/opt/anaconda3/envs/Master-Thesis-Graph-Representation/lib/python3.9/site-packages/isodate/isodates.py\", line 201, in parse_date\n",
      "    return date(sign * int(groups['year']),\n",
      "ValueError: month must be in 1..12\n",
      "Failed to convert Literal lexical form to value. Datatype=http://www.w3.org/2001/XMLSchema#date, Converter=<function parse_date at 0x7fda8be5aa60>\n",
      "Traceback (most recent call last):\n",
      "  File \"/Users/janneke/opt/anaconda3/envs/Master-Thesis-Graph-Representation/lib/python3.9/site-packages/rdflib/term.py\", line 2084, in _castLexicalToPython\n",
      "    return conv_func(lexical)  # type: ignore[arg-type]\n",
      "  File \"/Users/janneke/opt/anaconda3/envs/Master-Thesis-Graph-Representation/lib/python3.9/site-packages/isodate/isodates.py\", line 201, in parse_date\n",
      "    return date(sign * int(groups['year']),\n",
      "ValueError: month must be in 1..12\n",
      "Failed to convert Literal lexical form to value. Datatype=http://www.w3.org/2001/XMLSchema#date, Converter=<function parse_date at 0x7fda8be5aa60>\n",
      "Traceback (most recent call last):\n",
      "  File \"/Users/janneke/opt/anaconda3/envs/Master-Thesis-Graph-Representation/lib/python3.9/site-packages/rdflib/term.py\", line 2084, in _castLexicalToPython\n",
      "    return conv_func(lexical)  # type: ignore[arg-type]\n",
      "  File \"/Users/janneke/opt/anaconda3/envs/Master-Thesis-Graph-Representation/lib/python3.9/site-packages/isodate/isodates.py\", line 201, in parse_date\n",
      "    return date(sign * int(groups['year']),\n",
      "ValueError: month must be in 1..12\n",
      "Failed to convert Literal lexical form to value. Datatype=http://www.w3.org/2001/XMLSchema#date, Converter=<function parse_date at 0x7fda8be5aa60>\n",
      "Traceback (most recent call last):\n",
      "  File \"/Users/janneke/opt/anaconda3/envs/Master-Thesis-Graph-Representation/lib/python3.9/site-packages/rdflib/term.py\", line 2084, in _castLexicalToPython\n",
      "    return conv_func(lexical)  # type: ignore[arg-type]\n",
      "  File \"/Users/janneke/opt/anaconda3/envs/Master-Thesis-Graph-Representation/lib/python3.9/site-packages/isodate/isodates.py\", line 201, in parse_date\n",
      "    return date(sign * int(groups['year']),\n",
      "ValueError: day is out of range for month\n",
      "Failed to convert Literal lexical form to value. Datatype=http://www.w3.org/2001/XMLSchema#date, Converter=<function parse_date at 0x7fda8be5aa60>\n",
      "Traceback (most recent call last):\n",
      "  File \"/Users/janneke/opt/anaconda3/envs/Master-Thesis-Graph-Representation/lib/python3.9/site-packages/rdflib/term.py\", line 2084, in _castLexicalToPython\n",
      "    return conv_func(lexical)  # type: ignore[arg-type]\n",
      "  File \"/Users/janneke/opt/anaconda3/envs/Master-Thesis-Graph-Representation/lib/python3.9/site-packages/isodate/isodates.py\", line 201, in parse_date\n",
      "    return date(sign * int(groups['year']),\n",
      "ValueError: year 0 is out of range\n",
      "Failed to convert Literal lexical form to value. Datatype=http://www.w3.org/2001/XMLSchema#date, Converter=<function parse_date at 0x7fda8be5aa60>\n",
      "Traceback (most recent call last):\n",
      "  File \"/Users/janneke/opt/anaconda3/envs/Master-Thesis-Graph-Representation/lib/python3.9/site-packages/rdflib/term.py\", line 2084, in _castLexicalToPython\n",
      "    return conv_func(lexical)  # type: ignore[arg-type]\n",
      "  File \"/Users/janneke/opt/anaconda3/envs/Master-Thesis-Graph-Representation/lib/python3.9/site-packages/isodate/isodates.py\", line 201, in parse_date\n",
      "    return date(sign * int(groups['year']),\n",
      "ValueError: month must be in 1..12\n",
      "Failed to convert Literal lexical form to value. Datatype=http://www.w3.org/2001/XMLSchema#date, Converter=<function parse_date at 0x7fda8be5aa60>\n",
      "Traceback (most recent call last):\n",
      "  File \"/Users/janneke/opt/anaconda3/envs/Master-Thesis-Graph-Representation/lib/python3.9/site-packages/rdflib/term.py\", line 2084, in _castLexicalToPython\n",
      "    return conv_func(lexical)  # type: ignore[arg-type]\n",
      "  File \"/Users/janneke/opt/anaconda3/envs/Master-Thesis-Graph-Representation/lib/python3.9/site-packages/isodate/isodates.py\", line 201, in parse_date\n",
      "    return date(sign * int(groups['year']),\n",
      "ValueError: day is out of range for month\n",
      "Failed to convert Literal lexical form to value. Datatype=http://www.w3.org/2001/XMLSchema#date, Converter=<function parse_date at 0x7fda8be5aa60>\n",
      "Traceback (most recent call last):\n",
      "  File \"/Users/janneke/opt/anaconda3/envs/Master-Thesis-Graph-Representation/lib/python3.9/site-packages/rdflib/term.py\", line 2084, in _castLexicalToPython\n",
      "    return conv_func(lexical)  # type: ignore[arg-type]\n",
      "  File \"/Users/janneke/opt/anaconda3/envs/Master-Thesis-Graph-Representation/lib/python3.9/site-packages/isodate/isodates.py\", line 203, in parse_date\n",
      "    raise ISO8601Error('Unrecognised ISO 8601 date format: %r' % datestring)\n",
      "isodate.isoerror.ISO8601Error: Unrecognised ISO 8601 date format: '-01-01'\n"
     ]
    },
    {
     "name": "stderr",
     "output_type": "stream",
     "text": [
      "Failed to convert Literal lexical form to value. Datatype=http://www.w3.org/2001/XMLSchema#date, Converter=<function parse_date at 0x7fda8be5aa60>\n",
      "Traceback (most recent call last):\n",
      "  File \"/Users/janneke/opt/anaconda3/envs/Master-Thesis-Graph-Representation/lib/python3.9/site-packages/rdflib/term.py\", line 2084, in _castLexicalToPython\n",
      "    return conv_func(lexical)  # type: ignore[arg-type]\n",
      "  File \"/Users/janneke/opt/anaconda3/envs/Master-Thesis-Graph-Representation/lib/python3.9/site-packages/isodate/isodates.py\", line 201, in parse_date\n",
      "    return date(sign * int(groups['year']),\n",
      "ValueError: month must be in 1..12\n",
      "Failed to convert Literal lexical form to value. Datatype=http://www.w3.org/2001/XMLSchema#date, Converter=<function parse_date at 0x7fda8be5aa60>\n",
      "Traceback (most recent call last):\n",
      "  File \"/Users/janneke/opt/anaconda3/envs/Master-Thesis-Graph-Representation/lib/python3.9/site-packages/rdflib/term.py\", line 2084, in _castLexicalToPython\n",
      "    return conv_func(lexical)  # type: ignore[arg-type]\n",
      "  File \"/Users/janneke/opt/anaconda3/envs/Master-Thesis-Graph-Representation/lib/python3.9/site-packages/isodate/isodates.py\", line 201, in parse_date\n",
      "    return date(sign * int(groups['year']),\n",
      "ValueError: month must be in 1..12\n",
      "Failed to convert Literal lexical form to value. Datatype=http://www.w3.org/2001/XMLSchema#date, Converter=<function parse_date at 0x7fda8be5aa60>\n",
      "Traceback (most recent call last):\n",
      "  File \"/Users/janneke/opt/anaconda3/envs/Master-Thesis-Graph-Representation/lib/python3.9/site-packages/rdflib/term.py\", line 2084, in _castLexicalToPython\n",
      "    return conv_func(lexical)  # type: ignore[arg-type]\n",
      "  File \"/Users/janneke/opt/anaconda3/envs/Master-Thesis-Graph-Representation/lib/python3.9/site-packages/isodate/isodates.py\", line 201, in parse_date\n",
      "    return date(sign * int(groups['year']),\n",
      "ValueError: year 0 is out of range\n",
      "Failed to convert Literal lexical form to value. Datatype=http://www.w3.org/2001/XMLSchema#date, Converter=<function parse_date at 0x7fda8be5aa60>\n",
      "Traceback (most recent call last):\n",
      "  File \"/Users/janneke/opt/anaconda3/envs/Master-Thesis-Graph-Representation/lib/python3.9/site-packages/rdflib/term.py\", line 2084, in _castLexicalToPython\n",
      "    return conv_func(lexical)  # type: ignore[arg-type]\n",
      "  File \"/Users/janneke/opt/anaconda3/envs/Master-Thesis-Graph-Representation/lib/python3.9/site-packages/isodate/isodates.py\", line 201, in parse_date\n",
      "    return date(sign * int(groups['year']),\n",
      "ValueError: day is out of range for month\n",
      "Failed to convert Literal lexical form to value. Datatype=http://www.w3.org/2001/XMLSchema#date, Converter=<function parse_date at 0x7fda8be5aa60>\n",
      "Traceback (most recent call last):\n",
      "  File \"/Users/janneke/opt/anaconda3/envs/Master-Thesis-Graph-Representation/lib/python3.9/site-packages/rdflib/term.py\", line 2084, in _castLexicalToPython\n",
      "    return conv_func(lexical)  # type: ignore[arg-type]\n",
      "  File \"/Users/janneke/opt/anaconda3/envs/Master-Thesis-Graph-Representation/lib/python3.9/site-packages/isodate/isodates.py\", line 201, in parse_date\n",
      "    return date(sign * int(groups['year']),\n",
      "ValueError: year 0 is out of range\n",
      "Failed to convert Literal lexical form to value. Datatype=http://www.w3.org/2001/XMLSchema#date, Converter=<function parse_date at 0x7fda8be5aa60>\n",
      "Traceback (most recent call last):\n",
      "  File \"/Users/janneke/opt/anaconda3/envs/Master-Thesis-Graph-Representation/lib/python3.9/site-packages/rdflib/term.py\", line 2084, in _castLexicalToPython\n",
      "    return conv_func(lexical)  # type: ignore[arg-type]\n",
      "  File \"/Users/janneke/opt/anaconda3/envs/Master-Thesis-Graph-Representation/lib/python3.9/site-packages/isodate/isodates.py\", line 201, in parse_date\n",
      "    return date(sign * int(groups['year']),\n",
      "ValueError: month must be in 1..12\n",
      "Failed to convert Literal lexical form to value. Datatype=http://www.w3.org/2001/XMLSchema#date, Converter=<function parse_date at 0x7fda8be5aa60>\n",
      "Traceback (most recent call last):\n",
      "  File \"/Users/janneke/opt/anaconda3/envs/Master-Thesis-Graph-Representation/lib/python3.9/site-packages/rdflib/term.py\", line 2084, in _castLexicalToPython\n",
      "    return conv_func(lexical)  # type: ignore[arg-type]\n",
      "  File \"/Users/janneke/opt/anaconda3/envs/Master-Thesis-Graph-Representation/lib/python3.9/site-packages/isodate/isodates.py\", line 201, in parse_date\n",
      "    return date(sign * int(groups['year']),\n",
      "ValueError: month must be in 1..12\n",
      "Failed to convert Literal lexical form to value. Datatype=http://www.w3.org/2001/XMLSchema#date, Converter=<function parse_date at 0x7fda8be5aa60>\n",
      "Traceback (most recent call last):\n",
      "  File \"/Users/janneke/opt/anaconda3/envs/Master-Thesis-Graph-Representation/lib/python3.9/site-packages/rdflib/term.py\", line 2084, in _castLexicalToPython\n",
      "    return conv_func(lexical)  # type: ignore[arg-type]\n",
      "  File \"/Users/janneke/opt/anaconda3/envs/Master-Thesis-Graph-Representation/lib/python3.9/site-packages/isodate/isodates.py\", line 201, in parse_date\n",
      "    return date(sign * int(groups['year']),\n",
      "ValueError: month must be in 1..12\n",
      "Failed to convert Literal lexical form to value. Datatype=http://www.w3.org/2001/XMLSchema#date, Converter=<function parse_date at 0x7fda8be5aa60>\n",
      "Traceback (most recent call last):\n",
      "  File \"/Users/janneke/opt/anaconda3/envs/Master-Thesis-Graph-Representation/lib/python3.9/site-packages/rdflib/term.py\", line 2084, in _castLexicalToPython\n",
      "    return conv_func(lexical)  # type: ignore[arg-type]\n",
      "  File \"/Users/janneke/opt/anaconda3/envs/Master-Thesis-Graph-Representation/lib/python3.9/site-packages/isodate/isodates.py\", line 201, in parse_date\n",
      "    return date(sign * int(groups['year']),\n",
      "ValueError: day is out of range for month\n",
      "Failed to convert Literal lexical form to value. Datatype=http://www.w3.org/2001/XMLSchema#date, Converter=<function parse_date at 0x7fda8be5aa60>\n",
      "Traceback (most recent call last):\n",
      "  File \"/Users/janneke/opt/anaconda3/envs/Master-Thesis-Graph-Representation/lib/python3.9/site-packages/rdflib/term.py\", line 2084, in _castLexicalToPython\n",
      "    return conv_func(lexical)  # type: ignore[arg-type]\n",
      "  File \"/Users/janneke/opt/anaconda3/envs/Master-Thesis-Graph-Representation/lib/python3.9/site-packages/isodate/isodates.py\", line 201, in parse_date\n",
      "    return date(sign * int(groups['year']),\n",
      "ValueError: month must be in 1..12\n",
      "Failed to convert Literal lexical form to value. Datatype=http://www.w3.org/2001/XMLSchema#date, Converter=<function parse_date at 0x7fda8be5aa60>\n",
      "Traceback (most recent call last):\n",
      "  File \"/Users/janneke/opt/anaconda3/envs/Master-Thesis-Graph-Representation/lib/python3.9/site-packages/rdflib/term.py\", line 2084, in _castLexicalToPython\n",
      "    return conv_func(lexical)  # type: ignore[arg-type]\n",
      "  File \"/Users/janneke/opt/anaconda3/envs/Master-Thesis-Graph-Representation/lib/python3.9/site-packages/isodate/isodates.py\", line 201, in parse_date\n",
      "    return date(sign * int(groups['year']),\n",
      "ValueError: month must be in 1..12\n",
      "Failed to convert Literal lexical form to value. Datatype=http://www.w3.org/2001/XMLSchema#date, Converter=<function parse_date at 0x7fda8be5aa60>\n",
      "Traceback (most recent call last):\n",
      "  File \"/Users/janneke/opt/anaconda3/envs/Master-Thesis-Graph-Representation/lib/python3.9/site-packages/rdflib/term.py\", line 2084, in _castLexicalToPython\n",
      "    return conv_func(lexical)  # type: ignore[arg-type]\n",
      "  File \"/Users/janneke/opt/anaconda3/envs/Master-Thesis-Graph-Representation/lib/python3.9/site-packages/isodate/isodates.py\", line 201, in parse_date\n",
      "    return date(sign * int(groups['year']),\n",
      "ValueError: month must be in 1..12\n",
      "Failed to convert Literal lexical form to value. Datatype=http://www.w3.org/2001/XMLSchema#date, Converter=<function parse_date at 0x7fda8be5aa60>\n",
      "Traceback (most recent call last):\n",
      "  File \"/Users/janneke/opt/anaconda3/envs/Master-Thesis-Graph-Representation/lib/python3.9/site-packages/rdflib/term.py\", line 2084, in _castLexicalToPython\n",
      "    return conv_func(lexical)  # type: ignore[arg-type]\n",
      "  File \"/Users/janneke/opt/anaconda3/envs/Master-Thesis-Graph-Representation/lib/python3.9/site-packages/isodate/isodates.py\", line 201, in parse_date\n",
      "    return date(sign * int(groups['year']),\n",
      "ValueError: month must be in 1..12\n",
      "Failed to convert Literal lexical form to value. Datatype=http://www.w3.org/2001/XMLSchema#date, Converter=<function parse_date at 0x7fda8be5aa60>\n",
      "Traceback (most recent call last):\n",
      "  File \"/Users/janneke/opt/anaconda3/envs/Master-Thesis-Graph-Representation/lib/python3.9/site-packages/rdflib/term.py\", line 2084, in _castLexicalToPython\n",
      "    return conv_func(lexical)  # type: ignore[arg-type]\n",
      "  File \"/Users/janneke/opt/anaconda3/envs/Master-Thesis-Graph-Representation/lib/python3.9/site-packages/isodate/isodates.py\", line 201, in parse_date\n",
      "    return date(sign * int(groups['year']),\n",
      "ValueError: day is out of range for month\n"
     ]
    },
    {
     "name": "stderr",
     "output_type": "stream",
     "text": [
      "Failed to convert Literal lexical form to value. Datatype=http://www.w3.org/2001/XMLSchema#date, Converter=<function parse_date at 0x7fda8be5aa60>\n",
      "Traceback (most recent call last):\n",
      "  File \"/Users/janneke/opt/anaconda3/envs/Master-Thesis-Graph-Representation/lib/python3.9/site-packages/rdflib/term.py\", line 2084, in _castLexicalToPython\n",
      "    return conv_func(lexical)  # type: ignore[arg-type]\n",
      "  File \"/Users/janneke/opt/anaconda3/envs/Master-Thesis-Graph-Representation/lib/python3.9/site-packages/isodate/isodates.py\", line 201, in parse_date\n",
      "    return date(sign * int(groups['year']),\n",
      "ValueError: month must be in 1..12\n",
      "Failed to convert Literal lexical form to value. Datatype=http://www.w3.org/2001/XMLSchema#date, Converter=<function parse_date at 0x7fda8be5aa60>\n",
      "Traceback (most recent call last):\n",
      "  File \"/Users/janneke/opt/anaconda3/envs/Master-Thesis-Graph-Representation/lib/python3.9/site-packages/rdflib/term.py\", line 2084, in _castLexicalToPython\n",
      "    return conv_func(lexical)  # type: ignore[arg-type]\n",
      "  File \"/Users/janneke/opt/anaconda3/envs/Master-Thesis-Graph-Representation/lib/python3.9/site-packages/isodate/isodates.py\", line 201, in parse_date\n",
      "    return date(sign * int(groups['year']),\n",
      "ValueError: month must be in 1..12\n",
      "Failed to convert Literal lexical form to value. Datatype=http://www.w3.org/2001/XMLSchema#date, Converter=<function parse_date at 0x7fda8be5aa60>\n",
      "Traceback (most recent call last):\n",
      "  File \"/Users/janneke/opt/anaconda3/envs/Master-Thesis-Graph-Representation/lib/python3.9/site-packages/rdflib/term.py\", line 2084, in _castLexicalToPython\n",
      "    return conv_func(lexical)  # type: ignore[arg-type]\n",
      "  File \"/Users/janneke/opt/anaconda3/envs/Master-Thesis-Graph-Representation/lib/python3.9/site-packages/isodate/isodates.py\", line 201, in parse_date\n",
      "    return date(sign * int(groups['year']),\n",
      "ValueError: month must be in 1..12\n",
      "Failed to convert Literal lexical form to value. Datatype=http://www.w3.org/2001/XMLSchema#date, Converter=<function parse_date at 0x7fda8be5aa60>\n",
      "Traceback (most recent call last):\n",
      "  File \"/Users/janneke/opt/anaconda3/envs/Master-Thesis-Graph-Representation/lib/python3.9/site-packages/rdflib/term.py\", line 2084, in _castLexicalToPython\n",
      "    return conv_func(lexical)  # type: ignore[arg-type]\n",
      "  File \"/Users/janneke/opt/anaconda3/envs/Master-Thesis-Graph-Representation/lib/python3.9/site-packages/isodate/isodates.py\", line 201, in parse_date\n",
      "    return date(sign * int(groups['year']),\n",
      "ValueError: day is out of range for month\n",
      "Failed to convert Literal lexical form to value. Datatype=http://www.w3.org/2001/XMLSchema#date, Converter=<function parse_date at 0x7fda8be5aa60>\n",
      "Traceback (most recent call last):\n",
      "  File \"/Users/janneke/opt/anaconda3/envs/Master-Thesis-Graph-Representation/lib/python3.9/site-packages/rdflib/term.py\", line 2084, in _castLexicalToPython\n",
      "    return conv_func(lexical)  # type: ignore[arg-type]\n",
      "  File \"/Users/janneke/opt/anaconda3/envs/Master-Thesis-Graph-Representation/lib/python3.9/site-packages/isodate/isodates.py\", line 201, in parse_date\n",
      "    return date(sign * int(groups['year']),\n",
      "ValueError: year 0 is out of range\n",
      "Failed to convert Literal lexical form to value. Datatype=http://www.w3.org/2001/XMLSchema#date, Converter=<function parse_date at 0x7fda8be5aa60>\n",
      "Traceback (most recent call last):\n",
      "  File \"/Users/janneke/opt/anaconda3/envs/Master-Thesis-Graph-Representation/lib/python3.9/site-packages/rdflib/term.py\", line 2084, in _castLexicalToPython\n",
      "    return conv_func(lexical)  # type: ignore[arg-type]\n",
      "  File \"/Users/janneke/opt/anaconda3/envs/Master-Thesis-Graph-Representation/lib/python3.9/site-packages/isodate/isodates.py\", line 201, in parse_date\n",
      "    return date(sign * int(groups['year']),\n",
      "ValueError: month must be in 1..12\n",
      "Failed to convert Literal lexical form to value. Datatype=http://www.w3.org/2001/XMLSchema#date, Converter=<function parse_date at 0x7fda8be5aa60>\n",
      "Traceback (most recent call last):\n",
      "  File \"/Users/janneke/opt/anaconda3/envs/Master-Thesis-Graph-Representation/lib/python3.9/site-packages/rdflib/term.py\", line 2084, in _castLexicalToPython\n",
      "    return conv_func(lexical)  # type: ignore[arg-type]\n",
      "  File \"/Users/janneke/opt/anaconda3/envs/Master-Thesis-Graph-Representation/lib/python3.9/site-packages/isodate/isodates.py\", line 201, in parse_date\n",
      "    return date(sign * int(groups['year']),\n",
      "ValueError: day is out of range for month\n",
      "Failed to convert Literal lexical form to value. Datatype=http://www.w3.org/2001/XMLSchema#date, Converter=<function parse_date at 0x7fda8be5aa60>\n",
      "Traceback (most recent call last):\n",
      "  File \"/Users/janneke/opt/anaconda3/envs/Master-Thesis-Graph-Representation/lib/python3.9/site-packages/rdflib/term.py\", line 2084, in _castLexicalToPython\n",
      "    return conv_func(lexical)  # type: ignore[arg-type]\n",
      "  File \"/Users/janneke/opt/anaconda3/envs/Master-Thesis-Graph-Representation/lib/python3.9/site-packages/isodate/isodates.py\", line 203, in parse_date\n",
      "    raise ISO8601Error('Unrecognised ISO 8601 date format: %r' % datestring)\n",
      "isodate.isoerror.ISO8601Error: Unrecognised ISO 8601 date format: '-01-01'\n",
      "Failed to convert Literal lexical form to value. Datatype=http://www.w3.org/2001/XMLSchema#date, Converter=<function parse_date at 0x7fda8be5aa60>\n",
      "Traceback (most recent call last):\n",
      "  File \"/Users/janneke/opt/anaconda3/envs/Master-Thesis-Graph-Representation/lib/python3.9/site-packages/rdflib/term.py\", line 2084, in _castLexicalToPython\n",
      "    return conv_func(lexical)  # type: ignore[arg-type]\n",
      "  File \"/Users/janneke/opt/anaconda3/envs/Master-Thesis-Graph-Representation/lib/python3.9/site-packages/isodate/isodates.py\", line 201, in parse_date\n",
      "    return date(sign * int(groups['year']),\n",
      "ValueError: month must be in 1..12\n",
      "Failed to convert Literal lexical form to value. Datatype=http://www.w3.org/2001/XMLSchema#date, Converter=<function parse_date at 0x7fda8be5aa60>\n",
      "Traceback (most recent call last):\n",
      "  File \"/Users/janneke/opt/anaconda3/envs/Master-Thesis-Graph-Representation/lib/python3.9/site-packages/rdflib/term.py\", line 2084, in _castLexicalToPython\n",
      "    return conv_func(lexical)  # type: ignore[arg-type]\n",
      "  File \"/Users/janneke/opt/anaconda3/envs/Master-Thesis-Graph-Representation/lib/python3.9/site-packages/isodate/isodates.py\", line 201, in parse_date\n",
      "    return date(sign * int(groups['year']),\n",
      "ValueError: month must be in 1..12\n",
      "Failed to convert Literal lexical form to value. Datatype=http://www.w3.org/2001/XMLSchema#date, Converter=<function parse_date at 0x7fda8be5aa60>\n",
      "Traceback (most recent call last):\n",
      "  File \"/Users/janneke/opt/anaconda3/envs/Master-Thesis-Graph-Representation/lib/python3.9/site-packages/rdflib/term.py\", line 2084, in _castLexicalToPython\n",
      "    return conv_func(lexical)  # type: ignore[arg-type]\n",
      "  File \"/Users/janneke/opt/anaconda3/envs/Master-Thesis-Graph-Representation/lib/python3.9/site-packages/isodate/isodates.py\", line 201, in parse_date\n",
      "    return date(sign * int(groups['year']),\n",
      "ValueError: year 0 is out of range\n",
      "Failed to convert Literal lexical form to value. Datatype=http://www.w3.org/2001/XMLSchema#date, Converter=<function parse_date at 0x7fda8be5aa60>\n",
      "Traceback (most recent call last):\n",
      "  File \"/Users/janneke/opt/anaconda3/envs/Master-Thesis-Graph-Representation/lib/python3.9/site-packages/rdflib/term.py\", line 2084, in _castLexicalToPython\n",
      "    return conv_func(lexical)  # type: ignore[arg-type]\n",
      "  File \"/Users/janneke/opt/anaconda3/envs/Master-Thesis-Graph-Representation/lib/python3.9/site-packages/isodate/isodates.py\", line 201, in parse_date\n",
      "    return date(sign * int(groups['year']),\n",
      "ValueError: day is out of range for month\n",
      "Failed to convert Literal lexical form to value. Datatype=http://www.w3.org/2001/XMLSchema#date, Converter=<function parse_date at 0x7fda8be5aa60>\n",
      "Traceback (most recent call last):\n",
      "  File \"/Users/janneke/opt/anaconda3/envs/Master-Thesis-Graph-Representation/lib/python3.9/site-packages/rdflib/term.py\", line 2084, in _castLexicalToPython\n",
      "    return conv_func(lexical)  # type: ignore[arg-type]\n",
      "  File \"/Users/janneke/opt/anaconda3/envs/Master-Thesis-Graph-Representation/lib/python3.9/site-packages/isodate/isodates.py\", line 201, in parse_date\n",
      "    return date(sign * int(groups['year']),\n",
      "ValueError: year 0 is out of range\n"
     ]
    },
    {
     "name": "stderr",
     "output_type": "stream",
     "text": [
      "Failed to convert Literal lexical form to value. Datatype=http://www.w3.org/2001/XMLSchema#date, Converter=<function parse_date at 0x7fda8be5aa60>\n",
      "Traceback (most recent call last):\n",
      "  File \"/Users/janneke/opt/anaconda3/envs/Master-Thesis-Graph-Representation/lib/python3.9/site-packages/rdflib/term.py\", line 2084, in _castLexicalToPython\n",
      "    return conv_func(lexical)  # type: ignore[arg-type]\n",
      "  File \"/Users/janneke/opt/anaconda3/envs/Master-Thesis-Graph-Representation/lib/python3.9/site-packages/isodate/isodates.py\", line 201, in parse_date\n",
      "    return date(sign * int(groups['year']),\n",
      "ValueError: month must be in 1..12\n",
      "Failed to convert Literal lexical form to value. Datatype=http://www.w3.org/2001/XMLSchema#date, Converter=<function parse_date at 0x7fda8be5aa60>\n",
      "Traceback (most recent call last):\n",
      "  File \"/Users/janneke/opt/anaconda3/envs/Master-Thesis-Graph-Representation/lib/python3.9/site-packages/rdflib/term.py\", line 2084, in _castLexicalToPython\n",
      "    return conv_func(lexical)  # type: ignore[arg-type]\n",
      "  File \"/Users/janneke/opt/anaconda3/envs/Master-Thesis-Graph-Representation/lib/python3.9/site-packages/isodate/isodates.py\", line 201, in parse_date\n",
      "    return date(sign * int(groups['year']),\n",
      "ValueError: month must be in 1..12\n",
      "Failed to convert Literal lexical form to value. Datatype=http://www.w3.org/2001/XMLSchema#date, Converter=<function parse_date at 0x7fda8be5aa60>\n",
      "Traceback (most recent call last):\n",
      "  File \"/Users/janneke/opt/anaconda3/envs/Master-Thesis-Graph-Representation/lib/python3.9/site-packages/rdflib/term.py\", line 2084, in _castLexicalToPython\n",
      "    return conv_func(lexical)  # type: ignore[arg-type]\n",
      "  File \"/Users/janneke/opt/anaconda3/envs/Master-Thesis-Graph-Representation/lib/python3.9/site-packages/isodate/isodates.py\", line 201, in parse_date\n",
      "    return date(sign * int(groups['year']),\n",
      "ValueError: month must be in 1..12\n",
      "Failed to convert Literal lexical form to value. Datatype=http://www.w3.org/2001/XMLSchema#date, Converter=<function parse_date at 0x7fda8be5aa60>\n",
      "Traceback (most recent call last):\n",
      "  File \"/Users/janneke/opt/anaconda3/envs/Master-Thesis-Graph-Representation/lib/python3.9/site-packages/rdflib/term.py\", line 2084, in _castLexicalToPython\n",
      "    return conv_func(lexical)  # type: ignore[arg-type]\n",
      "  File \"/Users/janneke/opt/anaconda3/envs/Master-Thesis-Graph-Representation/lib/python3.9/site-packages/isodate/isodates.py\", line 201, in parse_date\n",
      "    return date(sign * int(groups['year']),\n",
      "ValueError: day is out of range for month\n",
      "Failed to convert Literal lexical form to value. Datatype=http://www.w3.org/2001/XMLSchema#date, Converter=<function parse_date at 0x7fda8be5aa60>\n",
      "Traceback (most recent call last):\n",
      "  File \"/Users/janneke/opt/anaconda3/envs/Master-Thesis-Graph-Representation/lib/python3.9/site-packages/rdflib/term.py\", line 2084, in _castLexicalToPython\n",
      "    return conv_func(lexical)  # type: ignore[arg-type]\n",
      "  File \"/Users/janneke/opt/anaconda3/envs/Master-Thesis-Graph-Representation/lib/python3.9/site-packages/isodate/isodates.py\", line 201, in parse_date\n",
      "    return date(sign * int(groups['year']),\n",
      "ValueError: month must be in 1..12\n",
      "Failed to convert Literal lexical form to value. Datatype=http://www.w3.org/2001/XMLSchema#date, Converter=<function parse_date at 0x7fda8be5aa60>\n",
      "Traceback (most recent call last):\n",
      "  File \"/Users/janneke/opt/anaconda3/envs/Master-Thesis-Graph-Representation/lib/python3.9/site-packages/rdflib/term.py\", line 2084, in _castLexicalToPython\n",
      "    return conv_func(lexical)  # type: ignore[arg-type]\n",
      "  File \"/Users/janneke/opt/anaconda3/envs/Master-Thesis-Graph-Representation/lib/python3.9/site-packages/isodate/isodates.py\", line 201, in parse_date\n",
      "    return date(sign * int(groups['year']),\n",
      "ValueError: month must be in 1..12\n",
      "Failed to convert Literal lexical form to value. Datatype=http://www.w3.org/2001/XMLSchema#date, Converter=<function parse_date at 0x7fda8be5aa60>\n",
      "Traceback (most recent call last):\n",
      "  File \"/Users/janneke/opt/anaconda3/envs/Master-Thesis-Graph-Representation/lib/python3.9/site-packages/rdflib/term.py\", line 2084, in _castLexicalToPython\n",
      "    return conv_func(lexical)  # type: ignore[arg-type]\n",
      "  File \"/Users/janneke/opt/anaconda3/envs/Master-Thesis-Graph-Representation/lib/python3.9/site-packages/isodate/isodates.py\", line 201, in parse_date\n",
      "    return date(sign * int(groups['year']),\n",
      "ValueError: month must be in 1..12\n"
     ]
    }
   ],
   "source": [
    "am_dmg777k_fil, mapping_index_to_node_dmg777k_fil, map_entity_to_index_dmg777k_fil = create_adjacency_matrix_nt(\"data/dmg777k/gz_files/dmg777k_stripped.nt.gz\", literal_representation=\"filtered\", sparse=True)\n",
    "am_dmg777k_ato, mapping_index_to_node_dmg777k_ato, map_entity_to_index_dmg777k_ato = create_adjacency_matrix_nt(\"data/dmg777k/gz_files/dmg777k_stripped.nt.gz\", literal_representation=\"all-to-one\", sparse=True)\n",
    "am_dmg777k_col, mapping_index_to_node_dmg777k_col, map_entity_to_index_dmg777k_col = create_adjacency_matrix_nt(\"data/dmg777k/gz_files/dmg777k_stripped.nt.gz\", literal_representation=\"collapsed\", sparse=True)\n",
    "am_dmg777k_sep, mapping_index_to_node_dmg777k_sep, map_entity_to_index_dmg777k_sep = create_adjacency_matrix_nt(\"data/dmg777k/gz_files/dmg777k_stripped.nt.gz\", literal_representation=\"separate\", sparse=True)"
   ]
  },
  {
   "cell_type": "markdown",
   "id": "f9aa24f9",
   "metadata": {},
   "source": [
    "### Relational:"
   ]
  },
  {
   "cell_type": "code",
   "execution_count": 7,
   "id": "1e5c50f7",
   "metadata": {},
   "outputs": [
    {
     "name": "stderr",
     "output_type": "stream",
     "text": [
      "Failed to convert Literal lexical form to value. Datatype=http://www.w3.org/2001/XMLSchema#date, Converter=<function parse_date at 0x7fda8be5aa60>\n",
      "Traceback (most recent call last):\n",
      "  File \"/Users/janneke/opt/anaconda3/envs/Master-Thesis-Graph-Representation/lib/python3.9/site-packages/rdflib/term.py\", line 2084, in _castLexicalToPython\n",
      "    return conv_func(lexical)  # type: ignore[arg-type]\n",
      "  File \"/Users/janneke/opt/anaconda3/envs/Master-Thesis-Graph-Representation/lib/python3.9/site-packages/isodate/isodates.py\", line 201, in parse_date\n",
      "    return date(sign * int(groups['year']),\n",
      "ValueError: month must be in 1..12\n",
      "Failed to convert Literal lexical form to value. Datatype=http://www.w3.org/2001/XMLSchema#date, Converter=<function parse_date at 0x7fda8be5aa60>\n",
      "Traceback (most recent call last):\n",
      "  File \"/Users/janneke/opt/anaconda3/envs/Master-Thesis-Graph-Representation/lib/python3.9/site-packages/rdflib/term.py\", line 2084, in _castLexicalToPython\n",
      "    return conv_func(lexical)  # type: ignore[arg-type]\n",
      "  File \"/Users/janneke/opt/anaconda3/envs/Master-Thesis-Graph-Representation/lib/python3.9/site-packages/isodate/isodates.py\", line 201, in parse_date\n",
      "    return date(sign * int(groups['year']),\n",
      "ValueError: day is out of range for month\n",
      "Failed to convert Literal lexical form to value. Datatype=http://www.w3.org/2001/XMLSchema#date, Converter=<function parse_date at 0x7fda8be5aa60>\n",
      "Traceback (most recent call last):\n",
      "  File \"/Users/janneke/opt/anaconda3/envs/Master-Thesis-Graph-Representation/lib/python3.9/site-packages/rdflib/term.py\", line 2084, in _castLexicalToPython\n",
      "    return conv_func(lexical)  # type: ignore[arg-type]\n",
      "  File \"/Users/janneke/opt/anaconda3/envs/Master-Thesis-Graph-Representation/lib/python3.9/site-packages/isodate/isodates.py\", line 201, in parse_date\n",
      "    return date(sign * int(groups['year']),\n",
      "ValueError: month must be in 1..12\n",
      "Failed to convert Literal lexical form to value. Datatype=http://www.w3.org/2001/XMLSchema#date, Converter=<function parse_date at 0x7fda8be5aa60>\n",
      "Traceback (most recent call last):\n",
      "  File \"/Users/janneke/opt/anaconda3/envs/Master-Thesis-Graph-Representation/lib/python3.9/site-packages/rdflib/term.py\", line 2084, in _castLexicalToPython\n",
      "    return conv_func(lexical)  # type: ignore[arg-type]\n",
      "  File \"/Users/janneke/opt/anaconda3/envs/Master-Thesis-Graph-Representation/lib/python3.9/site-packages/isodate/isodates.py\", line 201, in parse_date\n",
      "    return date(sign * int(groups['year']),\n",
      "ValueError: month must be in 1..12\n",
      "Failed to convert Literal lexical form to value. Datatype=http://www.w3.org/2001/XMLSchema#date, Converter=<function parse_date at 0x7fda8be5aa60>\n",
      "Traceback (most recent call last):\n",
      "  File \"/Users/janneke/opt/anaconda3/envs/Master-Thesis-Graph-Representation/lib/python3.9/site-packages/rdflib/term.py\", line 2084, in _castLexicalToPython\n",
      "    return conv_func(lexical)  # type: ignore[arg-type]\n",
      "  File \"/Users/janneke/opt/anaconda3/envs/Master-Thesis-Graph-Representation/lib/python3.9/site-packages/isodate/isodates.py\", line 201, in parse_date\n",
      "    return date(sign * int(groups['year']),\n",
      "ValueError: month must be in 1..12\n",
      "Failed to convert Literal lexical form to value. Datatype=http://www.w3.org/2001/XMLSchema#date, Converter=<function parse_date at 0x7fda8be5aa60>\n",
      "Traceback (most recent call last):\n",
      "  File \"/Users/janneke/opt/anaconda3/envs/Master-Thesis-Graph-Representation/lib/python3.9/site-packages/rdflib/term.py\", line 2084, in _castLexicalToPython\n",
      "    return conv_func(lexical)  # type: ignore[arg-type]\n",
      "  File \"/Users/janneke/opt/anaconda3/envs/Master-Thesis-Graph-Representation/lib/python3.9/site-packages/isodate/isodates.py\", line 201, in parse_date\n",
      "    return date(sign * int(groups['year']),\n",
      "ValueError: day is out of range for month\n",
      "Failed to convert Literal lexical form to value. Datatype=http://www.w3.org/2001/XMLSchema#date, Converter=<function parse_date at 0x7fda8be5aa60>\n",
      "Traceback (most recent call last):\n",
      "  File \"/Users/janneke/opt/anaconda3/envs/Master-Thesis-Graph-Representation/lib/python3.9/site-packages/rdflib/term.py\", line 2084, in _castLexicalToPython\n",
      "    return conv_func(lexical)  # type: ignore[arg-type]\n",
      "  File \"/Users/janneke/opt/anaconda3/envs/Master-Thesis-Graph-Representation/lib/python3.9/site-packages/isodate/isodates.py\", line 201, in parse_date\n",
      "    return date(sign * int(groups['year']),\n",
      "ValueError: year 0 is out of range\n",
      "Failed to convert Literal lexical form to value. Datatype=http://www.w3.org/2001/XMLSchema#date, Converter=<function parse_date at 0x7fda8be5aa60>\n",
      "Traceback (most recent call last):\n",
      "  File \"/Users/janneke/opt/anaconda3/envs/Master-Thesis-Graph-Representation/lib/python3.9/site-packages/rdflib/term.py\", line 2084, in _castLexicalToPython\n",
      "    return conv_func(lexical)  # type: ignore[arg-type]\n",
      "  File \"/Users/janneke/opt/anaconda3/envs/Master-Thesis-Graph-Representation/lib/python3.9/site-packages/isodate/isodates.py\", line 201, in parse_date\n",
      "    return date(sign * int(groups['year']),\n",
      "ValueError: month must be in 1..12\n",
      "Failed to convert Literal lexical form to value. Datatype=http://www.w3.org/2001/XMLSchema#date, Converter=<function parse_date at 0x7fda8be5aa60>\n",
      "Traceback (most recent call last):\n",
      "  File \"/Users/janneke/opt/anaconda3/envs/Master-Thesis-Graph-Representation/lib/python3.9/site-packages/rdflib/term.py\", line 2084, in _castLexicalToPython\n",
      "    return conv_func(lexical)  # type: ignore[arg-type]\n",
      "  File \"/Users/janneke/opt/anaconda3/envs/Master-Thesis-Graph-Representation/lib/python3.9/site-packages/isodate/isodates.py\", line 201, in parse_date\n",
      "    return date(sign * int(groups['year']),\n",
      "ValueError: day is out of range for month\n",
      "Failed to convert Literal lexical form to value. Datatype=http://www.w3.org/2001/XMLSchema#date, Converter=<function parse_date at 0x7fda8be5aa60>\n",
      "Traceback (most recent call last):\n",
      "  File \"/Users/janneke/opt/anaconda3/envs/Master-Thesis-Graph-Representation/lib/python3.9/site-packages/rdflib/term.py\", line 2084, in _castLexicalToPython\n",
      "    return conv_func(lexical)  # type: ignore[arg-type]\n",
      "  File \"/Users/janneke/opt/anaconda3/envs/Master-Thesis-Graph-Representation/lib/python3.9/site-packages/isodate/isodates.py\", line 203, in parse_date\n",
      "    raise ISO8601Error('Unrecognised ISO 8601 date format: %r' % datestring)\n",
      "isodate.isoerror.ISO8601Error: Unrecognised ISO 8601 date format: '-01-01'\n",
      "Failed to convert Literal lexical form to value. Datatype=http://www.w3.org/2001/XMLSchema#date, Converter=<function parse_date at 0x7fda8be5aa60>\n",
      "Traceback (most recent call last):\n",
      "  File \"/Users/janneke/opt/anaconda3/envs/Master-Thesis-Graph-Representation/lib/python3.9/site-packages/rdflib/term.py\", line 2084, in _castLexicalToPython\n",
      "    return conv_func(lexical)  # type: ignore[arg-type]\n",
      "  File \"/Users/janneke/opt/anaconda3/envs/Master-Thesis-Graph-Representation/lib/python3.9/site-packages/isodate/isodates.py\", line 201, in parse_date\n",
      "    return date(sign * int(groups['year']),\n",
      "ValueError: month must be in 1..12\n",
      "Failed to convert Literal lexical form to value. Datatype=http://www.w3.org/2001/XMLSchema#date, Converter=<function parse_date at 0x7fda8be5aa60>\n",
      "Traceback (most recent call last):\n",
      "  File \"/Users/janneke/opt/anaconda3/envs/Master-Thesis-Graph-Representation/lib/python3.9/site-packages/rdflib/term.py\", line 2084, in _castLexicalToPython\n",
      "    return conv_func(lexical)  # type: ignore[arg-type]\n",
      "  File \"/Users/janneke/opt/anaconda3/envs/Master-Thesis-Graph-Representation/lib/python3.9/site-packages/isodate/isodates.py\", line 201, in parse_date\n",
      "    return date(sign * int(groups['year']),\n",
      "ValueError: month must be in 1..12\n",
      "Failed to convert Literal lexical form to value. Datatype=http://www.w3.org/2001/XMLSchema#date, Converter=<function parse_date at 0x7fda8be5aa60>\n",
      "Traceback (most recent call last):\n",
      "  File \"/Users/janneke/opt/anaconda3/envs/Master-Thesis-Graph-Representation/lib/python3.9/site-packages/rdflib/term.py\", line 2084, in _castLexicalToPython\n",
      "    return conv_func(lexical)  # type: ignore[arg-type]\n",
      "  File \"/Users/janneke/opt/anaconda3/envs/Master-Thesis-Graph-Representation/lib/python3.9/site-packages/isodate/isodates.py\", line 201, in parse_date\n",
      "    return date(sign * int(groups['year']),\n",
      "ValueError: year 0 is out of range\n"
     ]
    },
    {
     "name": "stderr",
     "output_type": "stream",
     "text": [
      "Failed to convert Literal lexical form to value. Datatype=http://www.w3.org/2001/XMLSchema#date, Converter=<function parse_date at 0x7fda8be5aa60>\n",
      "Traceback (most recent call last):\n",
      "  File \"/Users/janneke/opt/anaconda3/envs/Master-Thesis-Graph-Representation/lib/python3.9/site-packages/rdflib/term.py\", line 2084, in _castLexicalToPython\n",
      "    return conv_func(lexical)  # type: ignore[arg-type]\n",
      "  File \"/Users/janneke/opt/anaconda3/envs/Master-Thesis-Graph-Representation/lib/python3.9/site-packages/isodate/isodates.py\", line 201, in parse_date\n",
      "    return date(sign * int(groups['year']),\n",
      "ValueError: day is out of range for month\n",
      "Failed to convert Literal lexical form to value. Datatype=http://www.w3.org/2001/XMLSchema#date, Converter=<function parse_date at 0x7fda8be5aa60>\n",
      "Traceback (most recent call last):\n",
      "  File \"/Users/janneke/opt/anaconda3/envs/Master-Thesis-Graph-Representation/lib/python3.9/site-packages/rdflib/term.py\", line 2084, in _castLexicalToPython\n",
      "    return conv_func(lexical)  # type: ignore[arg-type]\n",
      "  File \"/Users/janneke/opt/anaconda3/envs/Master-Thesis-Graph-Representation/lib/python3.9/site-packages/isodate/isodates.py\", line 201, in parse_date\n",
      "    return date(sign * int(groups['year']),\n",
      "ValueError: year 0 is out of range\n",
      "Failed to convert Literal lexical form to value. Datatype=http://www.w3.org/2001/XMLSchema#date, Converter=<function parse_date at 0x7fda8be5aa60>\n",
      "Traceback (most recent call last):\n",
      "  File \"/Users/janneke/opt/anaconda3/envs/Master-Thesis-Graph-Representation/lib/python3.9/site-packages/rdflib/term.py\", line 2084, in _castLexicalToPython\n",
      "    return conv_func(lexical)  # type: ignore[arg-type]\n",
      "  File \"/Users/janneke/opt/anaconda3/envs/Master-Thesis-Graph-Representation/lib/python3.9/site-packages/isodate/isodates.py\", line 201, in parse_date\n",
      "    return date(sign * int(groups['year']),\n",
      "ValueError: month must be in 1..12\n",
      "Failed to convert Literal lexical form to value. Datatype=http://www.w3.org/2001/XMLSchema#date, Converter=<function parse_date at 0x7fda8be5aa60>\n",
      "Traceback (most recent call last):\n",
      "  File \"/Users/janneke/opt/anaconda3/envs/Master-Thesis-Graph-Representation/lib/python3.9/site-packages/rdflib/term.py\", line 2084, in _castLexicalToPython\n",
      "    return conv_func(lexical)  # type: ignore[arg-type]\n",
      "  File \"/Users/janneke/opt/anaconda3/envs/Master-Thesis-Graph-Representation/lib/python3.9/site-packages/isodate/isodates.py\", line 201, in parse_date\n",
      "    return date(sign * int(groups['year']),\n",
      "ValueError: month must be in 1..12\n",
      "Failed to convert Literal lexical form to value. Datatype=http://www.w3.org/2001/XMLSchema#date, Converter=<function parse_date at 0x7fda8be5aa60>\n",
      "Traceback (most recent call last):\n",
      "  File \"/Users/janneke/opt/anaconda3/envs/Master-Thesis-Graph-Representation/lib/python3.9/site-packages/rdflib/term.py\", line 2084, in _castLexicalToPython\n",
      "    return conv_func(lexical)  # type: ignore[arg-type]\n",
      "  File \"/Users/janneke/opt/anaconda3/envs/Master-Thesis-Graph-Representation/lib/python3.9/site-packages/isodate/isodates.py\", line 201, in parse_date\n",
      "    return date(sign * int(groups['year']),\n",
      "ValueError: month must be in 1..12\n",
      "Failed to convert Literal lexical form to value. Datatype=http://www.w3.org/2001/XMLSchema#date, Converter=<function parse_date at 0x7fda8be5aa60>\n",
      "Traceback (most recent call last):\n",
      "  File \"/Users/janneke/opt/anaconda3/envs/Master-Thesis-Graph-Representation/lib/python3.9/site-packages/rdflib/term.py\", line 2084, in _castLexicalToPython\n",
      "    return conv_func(lexical)  # type: ignore[arg-type]\n",
      "  File \"/Users/janneke/opt/anaconda3/envs/Master-Thesis-Graph-Representation/lib/python3.9/site-packages/isodate/isodates.py\", line 201, in parse_date\n",
      "    return date(sign * int(groups['year']),\n",
      "ValueError: day is out of range for month\n",
      "Failed to convert Literal lexical form to value. Datatype=http://www.w3.org/2001/XMLSchema#date, Converter=<function parse_date at 0x7fda8be5aa60>\n",
      "Traceback (most recent call last):\n",
      "  File \"/Users/janneke/opt/anaconda3/envs/Master-Thesis-Graph-Representation/lib/python3.9/site-packages/rdflib/term.py\", line 2084, in _castLexicalToPython\n",
      "    return conv_func(lexical)  # type: ignore[arg-type]\n",
      "  File \"/Users/janneke/opt/anaconda3/envs/Master-Thesis-Graph-Representation/lib/python3.9/site-packages/isodate/isodates.py\", line 201, in parse_date\n",
      "    return date(sign * int(groups['year']),\n",
      "ValueError: month must be in 1..12\n",
      "Failed to convert Literal lexical form to value. Datatype=http://www.w3.org/2001/XMLSchema#date, Converter=<function parse_date at 0x7fda8be5aa60>\n",
      "Traceback (most recent call last):\n",
      "  File \"/Users/janneke/opt/anaconda3/envs/Master-Thesis-Graph-Representation/lib/python3.9/site-packages/rdflib/term.py\", line 2084, in _castLexicalToPython\n",
      "    return conv_func(lexical)  # type: ignore[arg-type]\n",
      "  File \"/Users/janneke/opt/anaconda3/envs/Master-Thesis-Graph-Representation/lib/python3.9/site-packages/isodate/isodates.py\", line 201, in parse_date\n",
      "    return date(sign * int(groups['year']),\n",
      "ValueError: month must be in 1..12\n",
      "Failed to convert Literal lexical form to value. Datatype=http://www.w3.org/2001/XMLSchema#date, Converter=<function parse_date at 0x7fda8be5aa60>\n",
      "Traceback (most recent call last):\n",
      "  File \"/Users/janneke/opt/anaconda3/envs/Master-Thesis-Graph-Representation/lib/python3.9/site-packages/rdflib/term.py\", line 2084, in _castLexicalToPython\n",
      "    return conv_func(lexical)  # type: ignore[arg-type]\n",
      "  File \"/Users/janneke/opt/anaconda3/envs/Master-Thesis-Graph-Representation/lib/python3.9/site-packages/isodate/isodates.py\", line 201, in parse_date\n",
      "    return date(sign * int(groups['year']),\n",
      "ValueError: month must be in 1..12\n",
      "Failed to convert Literal lexical form to value. Datatype=http://www.w3.org/2001/XMLSchema#date, Converter=<function parse_date at 0x7fda8be5aa60>\n",
      "Traceback (most recent call last):\n",
      "  File \"/Users/janneke/opt/anaconda3/envs/Master-Thesis-Graph-Representation/lib/python3.9/site-packages/rdflib/term.py\", line 2084, in _castLexicalToPython\n",
      "    return conv_func(lexical)  # type: ignore[arg-type]\n",
      "  File \"/Users/janneke/opt/anaconda3/envs/Master-Thesis-Graph-Representation/lib/python3.9/site-packages/isodate/isodates.py\", line 201, in parse_date\n",
      "    return date(sign * int(groups['year']),\n",
      "ValueError: month must be in 1..12\n",
      "Failed to convert Literal lexical form to value. Datatype=http://www.w3.org/2001/XMLSchema#date, Converter=<function parse_date at 0x7fda8be5aa60>\n",
      "Traceback (most recent call last):\n",
      "  File \"/Users/janneke/opt/anaconda3/envs/Master-Thesis-Graph-Representation/lib/python3.9/site-packages/rdflib/term.py\", line 2084, in _castLexicalToPython\n",
      "    return conv_func(lexical)  # type: ignore[arg-type]\n",
      "  File \"/Users/janneke/opt/anaconda3/envs/Master-Thesis-Graph-Representation/lib/python3.9/site-packages/isodate/isodates.py\", line 201, in parse_date\n",
      "    return date(sign * int(groups['year']),\n",
      "ValueError: day is out of range for month\n",
      "Failed to convert Literal lexical form to value. Datatype=http://www.w3.org/2001/XMLSchema#date, Converter=<function parse_date at 0x7fda8be5aa60>\n",
      "Traceback (most recent call last):\n",
      "  File \"/Users/janneke/opt/anaconda3/envs/Master-Thesis-Graph-Representation/lib/python3.9/site-packages/rdflib/term.py\", line 2084, in _castLexicalToPython\n",
      "    return conv_func(lexical)  # type: ignore[arg-type]\n",
      "  File \"/Users/janneke/opt/anaconda3/envs/Master-Thesis-Graph-Representation/lib/python3.9/site-packages/isodate/isodates.py\", line 201, in parse_date\n",
      "    return date(sign * int(groups['year']),\n",
      "ValueError: month must be in 1..12\n",
      "Failed to convert Literal lexical form to value. Datatype=http://www.w3.org/2001/XMLSchema#date, Converter=<function parse_date at 0x7fda8be5aa60>\n",
      "Traceback (most recent call last):\n",
      "  File \"/Users/janneke/opt/anaconda3/envs/Master-Thesis-Graph-Representation/lib/python3.9/site-packages/rdflib/term.py\", line 2084, in _castLexicalToPython\n",
      "    return conv_func(lexical)  # type: ignore[arg-type]\n",
      "  File \"/Users/janneke/opt/anaconda3/envs/Master-Thesis-Graph-Representation/lib/python3.9/site-packages/isodate/isodates.py\", line 201, in parse_date\n",
      "    return date(sign * int(groups['year']),\n",
      "ValueError: month must be in 1..12\n",
      "Failed to convert Literal lexical form to value. Datatype=http://www.w3.org/2001/XMLSchema#date, Converter=<function parse_date at 0x7fda8be5aa60>\n",
      "Traceback (most recent call last):\n",
      "  File \"/Users/janneke/opt/anaconda3/envs/Master-Thesis-Graph-Representation/lib/python3.9/site-packages/rdflib/term.py\", line 2084, in _castLexicalToPython\n",
      "    return conv_func(lexical)  # type: ignore[arg-type]\n",
      "  File \"/Users/janneke/opt/anaconda3/envs/Master-Thesis-Graph-Representation/lib/python3.9/site-packages/isodate/isodates.py\", line 201, in parse_date\n",
      "    return date(sign * int(groups['year']),\n",
      "ValueError: month must be in 1..12\n"
     ]
    },
    {
     "name": "stderr",
     "output_type": "stream",
     "text": [
      "Failed to convert Literal lexical form to value. Datatype=http://www.w3.org/2001/XMLSchema#date, Converter=<function parse_date at 0x7fda8be5aa60>\n",
      "Traceback (most recent call last):\n",
      "  File \"/Users/janneke/opt/anaconda3/envs/Master-Thesis-Graph-Representation/lib/python3.9/site-packages/rdflib/term.py\", line 2084, in _castLexicalToPython\n",
      "    return conv_func(lexical)  # type: ignore[arg-type]\n",
      "  File \"/Users/janneke/opt/anaconda3/envs/Master-Thesis-Graph-Representation/lib/python3.9/site-packages/isodate/isodates.py\", line 201, in parse_date\n",
      "    return date(sign * int(groups['year']),\n",
      "ValueError: day is out of range for month\n",
      "Failed to convert Literal lexical form to value. Datatype=http://www.w3.org/2001/XMLSchema#date, Converter=<function parse_date at 0x7fda8be5aa60>\n",
      "Traceback (most recent call last):\n",
      "  File \"/Users/janneke/opt/anaconda3/envs/Master-Thesis-Graph-Representation/lib/python3.9/site-packages/rdflib/term.py\", line 2084, in _castLexicalToPython\n",
      "    return conv_func(lexical)  # type: ignore[arg-type]\n",
      "  File \"/Users/janneke/opt/anaconda3/envs/Master-Thesis-Graph-Representation/lib/python3.9/site-packages/isodate/isodates.py\", line 201, in parse_date\n",
      "    return date(sign * int(groups['year']),\n",
      "ValueError: year 0 is out of range\n",
      "Failed to convert Literal lexical form to value. Datatype=http://www.w3.org/2001/XMLSchema#date, Converter=<function parse_date at 0x7fda8be5aa60>\n",
      "Traceback (most recent call last):\n",
      "  File \"/Users/janneke/opt/anaconda3/envs/Master-Thesis-Graph-Representation/lib/python3.9/site-packages/rdflib/term.py\", line 2084, in _castLexicalToPython\n",
      "    return conv_func(lexical)  # type: ignore[arg-type]\n",
      "  File \"/Users/janneke/opt/anaconda3/envs/Master-Thesis-Graph-Representation/lib/python3.9/site-packages/isodate/isodates.py\", line 201, in parse_date\n",
      "    return date(sign * int(groups['year']),\n",
      "ValueError: month must be in 1..12\n",
      "Failed to convert Literal lexical form to value. Datatype=http://www.w3.org/2001/XMLSchema#date, Converter=<function parse_date at 0x7fda8be5aa60>\n",
      "Traceback (most recent call last):\n",
      "  File \"/Users/janneke/opt/anaconda3/envs/Master-Thesis-Graph-Representation/lib/python3.9/site-packages/rdflib/term.py\", line 2084, in _castLexicalToPython\n",
      "    return conv_func(lexical)  # type: ignore[arg-type]\n",
      "  File \"/Users/janneke/opt/anaconda3/envs/Master-Thesis-Graph-Representation/lib/python3.9/site-packages/isodate/isodates.py\", line 201, in parse_date\n",
      "    return date(sign * int(groups['year']),\n",
      "ValueError: day is out of range for month\n",
      "Failed to convert Literal lexical form to value. Datatype=http://www.w3.org/2001/XMLSchema#date, Converter=<function parse_date at 0x7fda8be5aa60>\n",
      "Traceback (most recent call last):\n",
      "  File \"/Users/janneke/opt/anaconda3/envs/Master-Thesis-Graph-Representation/lib/python3.9/site-packages/rdflib/term.py\", line 2084, in _castLexicalToPython\n",
      "    return conv_func(lexical)  # type: ignore[arg-type]\n",
      "  File \"/Users/janneke/opt/anaconda3/envs/Master-Thesis-Graph-Representation/lib/python3.9/site-packages/isodate/isodates.py\", line 203, in parse_date\n",
      "    raise ISO8601Error('Unrecognised ISO 8601 date format: %r' % datestring)\n",
      "isodate.isoerror.ISO8601Error: Unrecognised ISO 8601 date format: '-01-01'\n",
      "Failed to convert Literal lexical form to value. Datatype=http://www.w3.org/2001/XMLSchema#date, Converter=<function parse_date at 0x7fda8be5aa60>\n",
      "Traceback (most recent call last):\n",
      "  File \"/Users/janneke/opt/anaconda3/envs/Master-Thesis-Graph-Representation/lib/python3.9/site-packages/rdflib/term.py\", line 2084, in _castLexicalToPython\n",
      "    return conv_func(lexical)  # type: ignore[arg-type]\n",
      "  File \"/Users/janneke/opt/anaconda3/envs/Master-Thesis-Graph-Representation/lib/python3.9/site-packages/isodate/isodates.py\", line 201, in parse_date\n",
      "    return date(sign * int(groups['year']),\n",
      "ValueError: month must be in 1..12\n",
      "Failed to convert Literal lexical form to value. Datatype=http://www.w3.org/2001/XMLSchema#date, Converter=<function parse_date at 0x7fda8be5aa60>\n",
      "Traceback (most recent call last):\n",
      "  File \"/Users/janneke/opt/anaconda3/envs/Master-Thesis-Graph-Representation/lib/python3.9/site-packages/rdflib/term.py\", line 2084, in _castLexicalToPython\n",
      "    return conv_func(lexical)  # type: ignore[arg-type]\n",
      "  File \"/Users/janneke/opt/anaconda3/envs/Master-Thesis-Graph-Representation/lib/python3.9/site-packages/isodate/isodates.py\", line 201, in parse_date\n",
      "    return date(sign * int(groups['year']),\n",
      "ValueError: month must be in 1..12\n",
      "Failed to convert Literal lexical form to value. Datatype=http://www.w3.org/2001/XMLSchema#date, Converter=<function parse_date at 0x7fda8be5aa60>\n",
      "Traceback (most recent call last):\n",
      "  File \"/Users/janneke/opt/anaconda3/envs/Master-Thesis-Graph-Representation/lib/python3.9/site-packages/rdflib/term.py\", line 2084, in _castLexicalToPython\n",
      "    return conv_func(lexical)  # type: ignore[arg-type]\n",
      "  File \"/Users/janneke/opt/anaconda3/envs/Master-Thesis-Graph-Representation/lib/python3.9/site-packages/isodate/isodates.py\", line 201, in parse_date\n",
      "    return date(sign * int(groups['year']),\n",
      "ValueError: year 0 is out of range\n",
      "Failed to convert Literal lexical form to value. Datatype=http://www.w3.org/2001/XMLSchema#date, Converter=<function parse_date at 0x7fda8be5aa60>\n",
      "Traceback (most recent call last):\n",
      "  File \"/Users/janneke/opt/anaconda3/envs/Master-Thesis-Graph-Representation/lib/python3.9/site-packages/rdflib/term.py\", line 2084, in _castLexicalToPython\n",
      "    return conv_func(lexical)  # type: ignore[arg-type]\n",
      "  File \"/Users/janneke/opt/anaconda3/envs/Master-Thesis-Graph-Representation/lib/python3.9/site-packages/isodate/isodates.py\", line 201, in parse_date\n",
      "    return date(sign * int(groups['year']),\n",
      "ValueError: day is out of range for month\n",
      "Failed to convert Literal lexical form to value. Datatype=http://www.w3.org/2001/XMLSchema#date, Converter=<function parse_date at 0x7fda8be5aa60>\n",
      "Traceback (most recent call last):\n",
      "  File \"/Users/janneke/opt/anaconda3/envs/Master-Thesis-Graph-Representation/lib/python3.9/site-packages/rdflib/term.py\", line 2084, in _castLexicalToPython\n",
      "    return conv_func(lexical)  # type: ignore[arg-type]\n",
      "  File \"/Users/janneke/opt/anaconda3/envs/Master-Thesis-Graph-Representation/lib/python3.9/site-packages/isodate/isodates.py\", line 201, in parse_date\n",
      "    return date(sign * int(groups['year']),\n",
      "ValueError: year 0 is out of range\n",
      "Failed to convert Literal lexical form to value. Datatype=http://www.w3.org/2001/XMLSchema#date, Converter=<function parse_date at 0x7fda8be5aa60>\n",
      "Traceback (most recent call last):\n",
      "  File \"/Users/janneke/opt/anaconda3/envs/Master-Thesis-Graph-Representation/lib/python3.9/site-packages/rdflib/term.py\", line 2084, in _castLexicalToPython\n",
      "    return conv_func(lexical)  # type: ignore[arg-type]\n",
      "  File \"/Users/janneke/opt/anaconda3/envs/Master-Thesis-Graph-Representation/lib/python3.9/site-packages/isodate/isodates.py\", line 201, in parse_date\n",
      "    return date(sign * int(groups['year']),\n",
      "ValueError: month must be in 1..12\n",
      "Failed to convert Literal lexical form to value. Datatype=http://www.w3.org/2001/XMLSchema#date, Converter=<function parse_date at 0x7fda8be5aa60>\n",
      "Traceback (most recent call last):\n",
      "  File \"/Users/janneke/opt/anaconda3/envs/Master-Thesis-Graph-Representation/lib/python3.9/site-packages/rdflib/term.py\", line 2084, in _castLexicalToPython\n",
      "    return conv_func(lexical)  # type: ignore[arg-type]\n",
      "  File \"/Users/janneke/opt/anaconda3/envs/Master-Thesis-Graph-Representation/lib/python3.9/site-packages/isodate/isodates.py\", line 201, in parse_date\n",
      "    return date(sign * int(groups['year']),\n",
      "ValueError: month must be in 1..12\n",
      "Failed to convert Literal lexical form to value. Datatype=http://www.w3.org/2001/XMLSchema#date, Converter=<function parse_date at 0x7fda8be5aa60>\n",
      "Traceback (most recent call last):\n",
      "  File \"/Users/janneke/opt/anaconda3/envs/Master-Thesis-Graph-Representation/lib/python3.9/site-packages/rdflib/term.py\", line 2084, in _castLexicalToPython\n",
      "    return conv_func(lexical)  # type: ignore[arg-type]\n",
      "  File \"/Users/janneke/opt/anaconda3/envs/Master-Thesis-Graph-Representation/lib/python3.9/site-packages/isodate/isodates.py\", line 201, in parse_date\n",
      "    return date(sign * int(groups['year']),\n",
      "ValueError: month must be in 1..12\n"
     ]
    },
    {
     "name": "stderr",
     "output_type": "stream",
     "text": [
      "Failed to convert Literal lexical form to value. Datatype=http://www.w3.org/2001/XMLSchema#date, Converter=<function parse_date at 0x7fda8be5aa60>\n",
      "Traceback (most recent call last):\n",
      "  File \"/Users/janneke/opt/anaconda3/envs/Master-Thesis-Graph-Representation/lib/python3.9/site-packages/rdflib/term.py\", line 2084, in _castLexicalToPython\n",
      "    return conv_func(lexical)  # type: ignore[arg-type]\n",
      "  File \"/Users/janneke/opt/anaconda3/envs/Master-Thesis-Graph-Representation/lib/python3.9/site-packages/isodate/isodates.py\", line 201, in parse_date\n",
      "    return date(sign * int(groups['year']),\n",
      "ValueError: day is out of range for month\n",
      "Failed to convert Literal lexical form to value. Datatype=http://www.w3.org/2001/XMLSchema#date, Converter=<function parse_date at 0x7fda8be5aa60>\n",
      "Traceback (most recent call last):\n",
      "  File \"/Users/janneke/opt/anaconda3/envs/Master-Thesis-Graph-Representation/lib/python3.9/site-packages/rdflib/term.py\", line 2084, in _castLexicalToPython\n",
      "    return conv_func(lexical)  # type: ignore[arg-type]\n",
      "  File \"/Users/janneke/opt/anaconda3/envs/Master-Thesis-Graph-Representation/lib/python3.9/site-packages/isodate/isodates.py\", line 201, in parse_date\n",
      "    return date(sign * int(groups['year']),\n",
      "ValueError: month must be in 1..12\n",
      "Failed to convert Literal lexical form to value. Datatype=http://www.w3.org/2001/XMLSchema#date, Converter=<function parse_date at 0x7fda8be5aa60>\n",
      "Traceback (most recent call last):\n",
      "  File \"/Users/janneke/opt/anaconda3/envs/Master-Thesis-Graph-Representation/lib/python3.9/site-packages/rdflib/term.py\", line 2084, in _castLexicalToPython\n",
      "    return conv_func(lexical)  # type: ignore[arg-type]\n",
      "  File \"/Users/janneke/opt/anaconda3/envs/Master-Thesis-Graph-Representation/lib/python3.9/site-packages/isodate/isodates.py\", line 201, in parse_date\n",
      "    return date(sign * int(groups['year']),\n",
      "ValueError: month must be in 1..12\n",
      "Failed to convert Literal lexical form to value. Datatype=http://www.w3.org/2001/XMLSchema#date, Converter=<function parse_date at 0x7fda8be5aa60>\n",
      "Traceback (most recent call last):\n",
      "  File \"/Users/janneke/opt/anaconda3/envs/Master-Thesis-Graph-Representation/lib/python3.9/site-packages/rdflib/term.py\", line 2084, in _castLexicalToPython\n",
      "    return conv_func(lexical)  # type: ignore[arg-type]\n",
      "  File \"/Users/janneke/opt/anaconda3/envs/Master-Thesis-Graph-Representation/lib/python3.9/site-packages/isodate/isodates.py\", line 201, in parse_date\n",
      "    return date(sign * int(groups['year']),\n",
      "ValueError: month must be in 1..12\n",
      "Failed to convert Literal lexical form to value. Datatype=http://www.w3.org/2001/XMLSchema#date, Converter=<function parse_date at 0x7fda8be5aa60>\n",
      "Traceback (most recent call last):\n",
      "  File \"/Users/janneke/opt/anaconda3/envs/Master-Thesis-Graph-Representation/lib/python3.9/site-packages/rdflib/term.py\", line 2084, in _castLexicalToPython\n",
      "    return conv_func(lexical)  # type: ignore[arg-type]\n",
      "  File \"/Users/janneke/opt/anaconda3/envs/Master-Thesis-Graph-Representation/lib/python3.9/site-packages/isodate/isodates.py\", line 201, in parse_date\n",
      "    return date(sign * int(groups['year']),\n",
      "ValueError: month must be in 1..12\n",
      "Failed to convert Literal lexical form to value. Datatype=http://www.w3.org/2001/XMLSchema#date, Converter=<function parse_date at 0x7fda8be5aa60>\n",
      "Traceback (most recent call last):\n",
      "  File \"/Users/janneke/opt/anaconda3/envs/Master-Thesis-Graph-Representation/lib/python3.9/site-packages/rdflib/term.py\", line 2084, in _castLexicalToPython\n",
      "    return conv_func(lexical)  # type: ignore[arg-type]\n",
      "  File \"/Users/janneke/opt/anaconda3/envs/Master-Thesis-Graph-Representation/lib/python3.9/site-packages/isodate/isodates.py\", line 201, in parse_date\n",
      "    return date(sign * int(groups['year']),\n",
      "ValueError: day is out of range for month\n",
      "Failed to convert Literal lexical form to value. Datatype=http://www.w3.org/2001/XMLSchema#date, Converter=<function parse_date at 0x7fda8be5aa60>\n",
      "Traceback (most recent call last):\n",
      "  File \"/Users/janneke/opt/anaconda3/envs/Master-Thesis-Graph-Representation/lib/python3.9/site-packages/rdflib/term.py\", line 2084, in _castLexicalToPython\n",
      "    return conv_func(lexical)  # type: ignore[arg-type]\n",
      "  File \"/Users/janneke/opt/anaconda3/envs/Master-Thesis-Graph-Representation/lib/python3.9/site-packages/isodate/isodates.py\", line 201, in parse_date\n",
      "    return date(sign * int(groups['year']),\n",
      "ValueError: month must be in 1..12\n",
      "Failed to convert Literal lexical form to value. Datatype=http://www.w3.org/2001/XMLSchema#date, Converter=<function parse_date at 0x7fda8be5aa60>\n",
      "Traceback (most recent call last):\n",
      "  File \"/Users/janneke/opt/anaconda3/envs/Master-Thesis-Graph-Representation/lib/python3.9/site-packages/rdflib/term.py\", line 2084, in _castLexicalToPython\n",
      "    return conv_func(lexical)  # type: ignore[arg-type]\n",
      "  File \"/Users/janneke/opt/anaconda3/envs/Master-Thesis-Graph-Representation/lib/python3.9/site-packages/isodate/isodates.py\", line 201, in parse_date\n",
      "    return date(sign * int(groups['year']),\n",
      "ValueError: month must be in 1..12\n",
      "Failed to convert Literal lexical form to value. Datatype=http://www.w3.org/2001/XMLSchema#date, Converter=<function parse_date at 0x7fda8be5aa60>\n",
      "Traceback (most recent call last):\n",
      "  File \"/Users/janneke/opt/anaconda3/envs/Master-Thesis-Graph-Representation/lib/python3.9/site-packages/rdflib/term.py\", line 2084, in _castLexicalToPython\n",
      "    return conv_func(lexical)  # type: ignore[arg-type]\n",
      "  File \"/Users/janneke/opt/anaconda3/envs/Master-Thesis-Graph-Representation/lib/python3.9/site-packages/isodate/isodates.py\", line 201, in parse_date\n",
      "    return date(sign * int(groups['year']),\n",
      "ValueError: month must be in 1..12\n",
      "Failed to convert Literal lexical form to value. Datatype=http://www.w3.org/2001/XMLSchema#date, Converter=<function parse_date at 0x7fda8be5aa60>\n",
      "Traceback (most recent call last):\n",
      "  File \"/Users/janneke/opt/anaconda3/envs/Master-Thesis-Graph-Representation/lib/python3.9/site-packages/rdflib/term.py\", line 2084, in _castLexicalToPython\n",
      "    return conv_func(lexical)  # type: ignore[arg-type]\n",
      "  File \"/Users/janneke/opt/anaconda3/envs/Master-Thesis-Graph-Representation/lib/python3.9/site-packages/isodate/isodates.py\", line 201, in parse_date\n",
      "    return date(sign * int(groups['year']),\n",
      "ValueError: day is out of range for month\n",
      "Failed to convert Literal lexical form to value. Datatype=http://www.w3.org/2001/XMLSchema#date, Converter=<function parse_date at 0x7fda8be5aa60>\n",
      "Traceback (most recent call last):\n",
      "  File \"/Users/janneke/opt/anaconda3/envs/Master-Thesis-Graph-Representation/lib/python3.9/site-packages/rdflib/term.py\", line 2084, in _castLexicalToPython\n",
      "    return conv_func(lexical)  # type: ignore[arg-type]\n",
      "  File \"/Users/janneke/opt/anaconda3/envs/Master-Thesis-Graph-Representation/lib/python3.9/site-packages/isodate/isodates.py\", line 201, in parse_date\n",
      "    return date(sign * int(groups['year']),\n",
      "ValueError: year 0 is out of range\n",
      "Failed to convert Literal lexical form to value. Datatype=http://www.w3.org/2001/XMLSchema#date, Converter=<function parse_date at 0x7fda8be5aa60>\n",
      "Traceback (most recent call last):\n",
      "  File \"/Users/janneke/opt/anaconda3/envs/Master-Thesis-Graph-Representation/lib/python3.9/site-packages/rdflib/term.py\", line 2084, in _castLexicalToPython\n",
      "    return conv_func(lexical)  # type: ignore[arg-type]\n",
      "  File \"/Users/janneke/opt/anaconda3/envs/Master-Thesis-Graph-Representation/lib/python3.9/site-packages/isodate/isodates.py\", line 201, in parse_date\n",
      "    return date(sign * int(groups['year']),\n",
      "ValueError: month must be in 1..12\n",
      "Failed to convert Literal lexical form to value. Datatype=http://www.w3.org/2001/XMLSchema#date, Converter=<function parse_date at 0x7fda8be5aa60>\n",
      "Traceback (most recent call last):\n",
      "  File \"/Users/janneke/opt/anaconda3/envs/Master-Thesis-Graph-Representation/lib/python3.9/site-packages/rdflib/term.py\", line 2084, in _castLexicalToPython\n",
      "    return conv_func(lexical)  # type: ignore[arg-type]\n",
      "  File \"/Users/janneke/opt/anaconda3/envs/Master-Thesis-Graph-Representation/lib/python3.9/site-packages/isodate/isodates.py\", line 201, in parse_date\n",
      "    return date(sign * int(groups['year']),\n",
      "ValueError: day is out of range for month\n",
      "Failed to convert Literal lexical form to value. Datatype=http://www.w3.org/2001/XMLSchema#date, Converter=<function parse_date at 0x7fda8be5aa60>\n",
      "Traceback (most recent call last):\n",
      "  File \"/Users/janneke/opt/anaconda3/envs/Master-Thesis-Graph-Representation/lib/python3.9/site-packages/rdflib/term.py\", line 2084, in _castLexicalToPython\n",
      "    return conv_func(lexical)  # type: ignore[arg-type]\n",
      "  File \"/Users/janneke/opt/anaconda3/envs/Master-Thesis-Graph-Representation/lib/python3.9/site-packages/isodate/isodates.py\", line 203, in parse_date\n",
      "    raise ISO8601Error('Unrecognised ISO 8601 date format: %r' % datestring)\n",
      "isodate.isoerror.ISO8601Error: Unrecognised ISO 8601 date format: '-01-01'\n"
     ]
    },
    {
     "name": "stderr",
     "output_type": "stream",
     "text": [
      "Failed to convert Literal lexical form to value. Datatype=http://www.w3.org/2001/XMLSchema#date, Converter=<function parse_date at 0x7fda8be5aa60>\n",
      "Traceback (most recent call last):\n",
      "  File \"/Users/janneke/opt/anaconda3/envs/Master-Thesis-Graph-Representation/lib/python3.9/site-packages/rdflib/term.py\", line 2084, in _castLexicalToPython\n",
      "    return conv_func(lexical)  # type: ignore[arg-type]\n",
      "  File \"/Users/janneke/opt/anaconda3/envs/Master-Thesis-Graph-Representation/lib/python3.9/site-packages/isodate/isodates.py\", line 201, in parse_date\n",
      "    return date(sign * int(groups['year']),\n",
      "ValueError: month must be in 1..12\n",
      "Failed to convert Literal lexical form to value. Datatype=http://www.w3.org/2001/XMLSchema#date, Converter=<function parse_date at 0x7fda8be5aa60>\n",
      "Traceback (most recent call last):\n",
      "  File \"/Users/janneke/opt/anaconda3/envs/Master-Thesis-Graph-Representation/lib/python3.9/site-packages/rdflib/term.py\", line 2084, in _castLexicalToPython\n",
      "    return conv_func(lexical)  # type: ignore[arg-type]\n",
      "  File \"/Users/janneke/opt/anaconda3/envs/Master-Thesis-Graph-Representation/lib/python3.9/site-packages/isodate/isodates.py\", line 201, in parse_date\n",
      "    return date(sign * int(groups['year']),\n",
      "ValueError: month must be in 1..12\n",
      "Failed to convert Literal lexical form to value. Datatype=http://www.w3.org/2001/XMLSchema#date, Converter=<function parse_date at 0x7fda8be5aa60>\n",
      "Traceback (most recent call last):\n",
      "  File \"/Users/janneke/opt/anaconda3/envs/Master-Thesis-Graph-Representation/lib/python3.9/site-packages/rdflib/term.py\", line 2084, in _castLexicalToPython\n",
      "    return conv_func(lexical)  # type: ignore[arg-type]\n",
      "  File \"/Users/janneke/opt/anaconda3/envs/Master-Thesis-Graph-Representation/lib/python3.9/site-packages/isodate/isodates.py\", line 201, in parse_date\n",
      "    return date(sign * int(groups['year']),\n",
      "ValueError: year 0 is out of range\n",
      "Failed to convert Literal lexical form to value. Datatype=http://www.w3.org/2001/XMLSchema#date, Converter=<function parse_date at 0x7fda8be5aa60>\n",
      "Traceback (most recent call last):\n",
      "  File \"/Users/janneke/opt/anaconda3/envs/Master-Thesis-Graph-Representation/lib/python3.9/site-packages/rdflib/term.py\", line 2084, in _castLexicalToPython\n",
      "    return conv_func(lexical)  # type: ignore[arg-type]\n",
      "  File \"/Users/janneke/opt/anaconda3/envs/Master-Thesis-Graph-Representation/lib/python3.9/site-packages/isodate/isodates.py\", line 201, in parse_date\n",
      "    return date(sign * int(groups['year']),\n",
      "ValueError: day is out of range for month\n",
      "Failed to convert Literal lexical form to value. Datatype=http://www.w3.org/2001/XMLSchema#date, Converter=<function parse_date at 0x7fda8be5aa60>\n",
      "Traceback (most recent call last):\n",
      "  File \"/Users/janneke/opt/anaconda3/envs/Master-Thesis-Graph-Representation/lib/python3.9/site-packages/rdflib/term.py\", line 2084, in _castLexicalToPython\n",
      "    return conv_func(lexical)  # type: ignore[arg-type]\n",
      "  File \"/Users/janneke/opt/anaconda3/envs/Master-Thesis-Graph-Representation/lib/python3.9/site-packages/isodate/isodates.py\", line 201, in parse_date\n",
      "    return date(sign * int(groups['year']),\n",
      "ValueError: year 0 is out of range\n",
      "Failed to convert Literal lexical form to value. Datatype=http://www.w3.org/2001/XMLSchema#date, Converter=<function parse_date at 0x7fda8be5aa60>\n",
      "Traceback (most recent call last):\n",
      "  File \"/Users/janneke/opt/anaconda3/envs/Master-Thesis-Graph-Representation/lib/python3.9/site-packages/rdflib/term.py\", line 2084, in _castLexicalToPython\n",
      "    return conv_func(lexical)  # type: ignore[arg-type]\n",
      "  File \"/Users/janneke/opt/anaconda3/envs/Master-Thesis-Graph-Representation/lib/python3.9/site-packages/isodate/isodates.py\", line 201, in parse_date\n",
      "    return date(sign * int(groups['year']),\n",
      "ValueError: month must be in 1..12\n",
      "Failed to convert Literal lexical form to value. Datatype=http://www.w3.org/2001/XMLSchema#date, Converter=<function parse_date at 0x7fda8be5aa60>\n",
      "Traceback (most recent call last):\n",
      "  File \"/Users/janneke/opt/anaconda3/envs/Master-Thesis-Graph-Representation/lib/python3.9/site-packages/rdflib/term.py\", line 2084, in _castLexicalToPython\n",
      "    return conv_func(lexical)  # type: ignore[arg-type]\n",
      "  File \"/Users/janneke/opt/anaconda3/envs/Master-Thesis-Graph-Representation/lib/python3.9/site-packages/isodate/isodates.py\", line 201, in parse_date\n",
      "    return date(sign * int(groups['year']),\n",
      "ValueError: month must be in 1..12\n",
      "Failed to convert Literal lexical form to value. Datatype=http://www.w3.org/2001/XMLSchema#date, Converter=<function parse_date at 0x7fda8be5aa60>\n",
      "Traceback (most recent call last):\n",
      "  File \"/Users/janneke/opt/anaconda3/envs/Master-Thesis-Graph-Representation/lib/python3.9/site-packages/rdflib/term.py\", line 2084, in _castLexicalToPython\n",
      "    return conv_func(lexical)  # type: ignore[arg-type]\n",
      "  File \"/Users/janneke/opt/anaconda3/envs/Master-Thesis-Graph-Representation/lib/python3.9/site-packages/isodate/isodates.py\", line 201, in parse_date\n",
      "    return date(sign * int(groups['year']),\n",
      "ValueError: month must be in 1..12\n",
      "Failed to convert Literal lexical form to value. Datatype=http://www.w3.org/2001/XMLSchema#date, Converter=<function parse_date at 0x7fda8be5aa60>\n",
      "Traceback (most recent call last):\n",
      "  File \"/Users/janneke/opt/anaconda3/envs/Master-Thesis-Graph-Representation/lib/python3.9/site-packages/rdflib/term.py\", line 2084, in _castLexicalToPython\n",
      "    return conv_func(lexical)  # type: ignore[arg-type]\n",
      "  File \"/Users/janneke/opt/anaconda3/envs/Master-Thesis-Graph-Representation/lib/python3.9/site-packages/isodate/isodates.py\", line 201, in parse_date\n",
      "    return date(sign * int(groups['year']),\n",
      "ValueError: day is out of range for month\n",
      "Failed to convert Literal lexical form to value. Datatype=http://www.w3.org/2001/XMLSchema#date, Converter=<function parse_date at 0x7fda8be5aa60>\n",
      "Traceback (most recent call last):\n",
      "  File \"/Users/janneke/opt/anaconda3/envs/Master-Thesis-Graph-Representation/lib/python3.9/site-packages/rdflib/term.py\", line 2084, in _castLexicalToPython\n",
      "    return conv_func(lexical)  # type: ignore[arg-type]\n",
      "  File \"/Users/janneke/opt/anaconda3/envs/Master-Thesis-Graph-Representation/lib/python3.9/site-packages/isodate/isodates.py\", line 201, in parse_date\n",
      "    return date(sign * int(groups['year']),\n",
      "ValueError: month must be in 1..12\n",
      "Failed to convert Literal lexical form to value. Datatype=http://www.w3.org/2001/XMLSchema#date, Converter=<function parse_date at 0x7fda8be5aa60>\n",
      "Traceback (most recent call last):\n",
      "  File \"/Users/janneke/opt/anaconda3/envs/Master-Thesis-Graph-Representation/lib/python3.9/site-packages/rdflib/term.py\", line 2084, in _castLexicalToPython\n",
      "    return conv_func(lexical)  # type: ignore[arg-type]\n",
      "  File \"/Users/janneke/opt/anaconda3/envs/Master-Thesis-Graph-Representation/lib/python3.9/site-packages/isodate/isodates.py\", line 201, in parse_date\n",
      "    return date(sign * int(groups['year']),\n",
      "ValueError: month must be in 1..12\n",
      "Failed to convert Literal lexical form to value. Datatype=http://www.w3.org/2001/XMLSchema#date, Converter=<function parse_date at 0x7fda8be5aa60>\n",
      "Traceback (most recent call last):\n",
      "  File \"/Users/janneke/opt/anaconda3/envs/Master-Thesis-Graph-Representation/lib/python3.9/site-packages/rdflib/term.py\", line 2084, in _castLexicalToPython\n",
      "    return conv_func(lexical)  # type: ignore[arg-type]\n",
      "  File \"/Users/janneke/opt/anaconda3/envs/Master-Thesis-Graph-Representation/lib/python3.9/site-packages/isodate/isodates.py\", line 201, in parse_date\n",
      "    return date(sign * int(groups['year']),\n",
      "ValueError: month must be in 1..12\n",
      "Failed to convert Literal lexical form to value. Datatype=http://www.w3.org/2001/XMLSchema#date, Converter=<function parse_date at 0x7fda8be5aa60>\n",
      "Traceback (most recent call last):\n",
      "  File \"/Users/janneke/opt/anaconda3/envs/Master-Thesis-Graph-Representation/lib/python3.9/site-packages/rdflib/term.py\", line 2084, in _castLexicalToPython\n",
      "    return conv_func(lexical)  # type: ignore[arg-type]\n",
      "  File \"/Users/janneke/opt/anaconda3/envs/Master-Thesis-Graph-Representation/lib/python3.9/site-packages/isodate/isodates.py\", line 201, in parse_date\n",
      "    return date(sign * int(groups['year']),\n",
      "ValueError: month must be in 1..12\n",
      "Failed to convert Literal lexical form to value. Datatype=http://www.w3.org/2001/XMLSchema#date, Converter=<function parse_date at 0x7fda8be5aa60>\n",
      "Traceback (most recent call last):\n",
      "  File \"/Users/janneke/opt/anaconda3/envs/Master-Thesis-Graph-Representation/lib/python3.9/site-packages/rdflib/term.py\", line 2084, in _castLexicalToPython\n",
      "    return conv_func(lexical)  # type: ignore[arg-type]\n",
      "  File \"/Users/janneke/opt/anaconda3/envs/Master-Thesis-Graph-Representation/lib/python3.9/site-packages/isodate/isodates.py\", line 201, in parse_date\n",
      "    return date(sign * int(groups['year']),\n",
      "ValueError: day is out of range for month\n"
     ]
    },
    {
     "name": "stderr",
     "output_type": "stream",
     "text": [
      "Failed to convert Literal lexical form to value. Datatype=http://www.w3.org/2001/XMLSchema#date, Converter=<function parse_date at 0x7fda8be5aa60>\n",
      "Traceback (most recent call last):\n",
      "  File \"/Users/janneke/opt/anaconda3/envs/Master-Thesis-Graph-Representation/lib/python3.9/site-packages/rdflib/term.py\", line 2084, in _castLexicalToPython\n",
      "    return conv_func(lexical)  # type: ignore[arg-type]\n",
      "  File \"/Users/janneke/opt/anaconda3/envs/Master-Thesis-Graph-Representation/lib/python3.9/site-packages/isodate/isodates.py\", line 201, in parse_date\n",
      "    return date(sign * int(groups['year']),\n",
      "ValueError: month must be in 1..12\n",
      "Failed to convert Literal lexical form to value. Datatype=http://www.w3.org/2001/XMLSchema#date, Converter=<function parse_date at 0x7fda8be5aa60>\n",
      "Traceback (most recent call last):\n",
      "  File \"/Users/janneke/opt/anaconda3/envs/Master-Thesis-Graph-Representation/lib/python3.9/site-packages/rdflib/term.py\", line 2084, in _castLexicalToPython\n",
      "    return conv_func(lexical)  # type: ignore[arg-type]\n",
      "  File \"/Users/janneke/opt/anaconda3/envs/Master-Thesis-Graph-Representation/lib/python3.9/site-packages/isodate/isodates.py\", line 201, in parse_date\n",
      "    return date(sign * int(groups['year']),\n",
      "ValueError: month must be in 1..12\n",
      "Failed to convert Literal lexical form to value. Datatype=http://www.w3.org/2001/XMLSchema#date, Converter=<function parse_date at 0x7fda8be5aa60>\n",
      "Traceback (most recent call last):\n",
      "  File \"/Users/janneke/opt/anaconda3/envs/Master-Thesis-Graph-Representation/lib/python3.9/site-packages/rdflib/term.py\", line 2084, in _castLexicalToPython\n",
      "    return conv_func(lexical)  # type: ignore[arg-type]\n",
      "  File \"/Users/janneke/opt/anaconda3/envs/Master-Thesis-Graph-Representation/lib/python3.9/site-packages/isodate/isodates.py\", line 201, in parse_date\n",
      "    return date(sign * int(groups['year']),\n",
      "ValueError: month must be in 1..12\n",
      "Failed to convert Literal lexical form to value. Datatype=http://www.w3.org/2001/XMLSchema#date, Converter=<function parse_date at 0x7fda8be5aa60>\n",
      "Traceback (most recent call last):\n",
      "  File \"/Users/janneke/opt/anaconda3/envs/Master-Thesis-Graph-Representation/lib/python3.9/site-packages/rdflib/term.py\", line 2084, in _castLexicalToPython\n",
      "    return conv_func(lexical)  # type: ignore[arg-type]\n",
      "  File \"/Users/janneke/opt/anaconda3/envs/Master-Thesis-Graph-Representation/lib/python3.9/site-packages/isodate/isodates.py\", line 201, in parse_date\n",
      "    return date(sign * int(groups['year']),\n",
      "ValueError: day is out of range for month\n",
      "Failed to convert Literal lexical form to value. Datatype=http://www.w3.org/2001/XMLSchema#date, Converter=<function parse_date at 0x7fda8be5aa60>\n",
      "Traceback (most recent call last):\n",
      "  File \"/Users/janneke/opt/anaconda3/envs/Master-Thesis-Graph-Representation/lib/python3.9/site-packages/rdflib/term.py\", line 2084, in _castLexicalToPython\n",
      "    return conv_func(lexical)  # type: ignore[arg-type]\n",
      "  File \"/Users/janneke/opt/anaconda3/envs/Master-Thesis-Graph-Representation/lib/python3.9/site-packages/isodate/isodates.py\", line 201, in parse_date\n",
      "    return date(sign * int(groups['year']),\n",
      "ValueError: year 0 is out of range\n",
      "Failed to convert Literal lexical form to value. Datatype=http://www.w3.org/2001/XMLSchema#date, Converter=<function parse_date at 0x7fda8be5aa60>\n",
      "Traceback (most recent call last):\n",
      "  File \"/Users/janneke/opt/anaconda3/envs/Master-Thesis-Graph-Representation/lib/python3.9/site-packages/rdflib/term.py\", line 2084, in _castLexicalToPython\n",
      "    return conv_func(lexical)  # type: ignore[arg-type]\n",
      "  File \"/Users/janneke/opt/anaconda3/envs/Master-Thesis-Graph-Representation/lib/python3.9/site-packages/isodate/isodates.py\", line 201, in parse_date\n",
      "    return date(sign * int(groups['year']),\n",
      "ValueError: month must be in 1..12\n",
      "Failed to convert Literal lexical form to value. Datatype=http://www.w3.org/2001/XMLSchema#date, Converter=<function parse_date at 0x7fda8be5aa60>\n",
      "Traceback (most recent call last):\n",
      "  File \"/Users/janneke/opt/anaconda3/envs/Master-Thesis-Graph-Representation/lib/python3.9/site-packages/rdflib/term.py\", line 2084, in _castLexicalToPython\n",
      "    return conv_func(lexical)  # type: ignore[arg-type]\n",
      "  File \"/Users/janneke/opt/anaconda3/envs/Master-Thesis-Graph-Representation/lib/python3.9/site-packages/isodate/isodates.py\", line 201, in parse_date\n",
      "    return date(sign * int(groups['year']),\n",
      "ValueError: day is out of range for month\n",
      "Failed to convert Literal lexical form to value. Datatype=http://www.w3.org/2001/XMLSchema#date, Converter=<function parse_date at 0x7fda8be5aa60>\n",
      "Traceback (most recent call last):\n",
      "  File \"/Users/janneke/opt/anaconda3/envs/Master-Thesis-Graph-Representation/lib/python3.9/site-packages/rdflib/term.py\", line 2084, in _castLexicalToPython\n",
      "    return conv_func(lexical)  # type: ignore[arg-type]\n",
      "  File \"/Users/janneke/opt/anaconda3/envs/Master-Thesis-Graph-Representation/lib/python3.9/site-packages/isodate/isodates.py\", line 203, in parse_date\n",
      "    raise ISO8601Error('Unrecognised ISO 8601 date format: %r' % datestring)\n",
      "isodate.isoerror.ISO8601Error: Unrecognised ISO 8601 date format: '-01-01'\n",
      "Failed to convert Literal lexical form to value. Datatype=http://www.w3.org/2001/XMLSchema#date, Converter=<function parse_date at 0x7fda8be5aa60>\n",
      "Traceback (most recent call last):\n",
      "  File \"/Users/janneke/opt/anaconda3/envs/Master-Thesis-Graph-Representation/lib/python3.9/site-packages/rdflib/term.py\", line 2084, in _castLexicalToPython\n",
      "    return conv_func(lexical)  # type: ignore[arg-type]\n",
      "  File \"/Users/janneke/opt/anaconda3/envs/Master-Thesis-Graph-Representation/lib/python3.9/site-packages/isodate/isodates.py\", line 201, in parse_date\n",
      "    return date(sign * int(groups['year']),\n",
      "ValueError: month must be in 1..12\n",
      "Failed to convert Literal lexical form to value. Datatype=http://www.w3.org/2001/XMLSchema#date, Converter=<function parse_date at 0x7fda8be5aa60>\n",
      "Traceback (most recent call last):\n",
      "  File \"/Users/janneke/opt/anaconda3/envs/Master-Thesis-Graph-Representation/lib/python3.9/site-packages/rdflib/term.py\", line 2084, in _castLexicalToPython\n",
      "    return conv_func(lexical)  # type: ignore[arg-type]\n",
      "  File \"/Users/janneke/opt/anaconda3/envs/Master-Thesis-Graph-Representation/lib/python3.9/site-packages/isodate/isodates.py\", line 201, in parse_date\n",
      "    return date(sign * int(groups['year']),\n",
      "ValueError: month must be in 1..12\n",
      "Failed to convert Literal lexical form to value. Datatype=http://www.w3.org/2001/XMLSchema#date, Converter=<function parse_date at 0x7fda8be5aa60>\n",
      "Traceback (most recent call last):\n",
      "  File \"/Users/janneke/opt/anaconda3/envs/Master-Thesis-Graph-Representation/lib/python3.9/site-packages/rdflib/term.py\", line 2084, in _castLexicalToPython\n",
      "    return conv_func(lexical)  # type: ignore[arg-type]\n",
      "  File \"/Users/janneke/opt/anaconda3/envs/Master-Thesis-Graph-Representation/lib/python3.9/site-packages/isodate/isodates.py\", line 201, in parse_date\n",
      "    return date(sign * int(groups['year']),\n",
      "ValueError: year 0 is out of range\n",
      "Failed to convert Literal lexical form to value. Datatype=http://www.w3.org/2001/XMLSchema#date, Converter=<function parse_date at 0x7fda8be5aa60>\n",
      "Traceback (most recent call last):\n",
      "  File \"/Users/janneke/opt/anaconda3/envs/Master-Thesis-Graph-Representation/lib/python3.9/site-packages/rdflib/term.py\", line 2084, in _castLexicalToPython\n",
      "    return conv_func(lexical)  # type: ignore[arg-type]\n",
      "  File \"/Users/janneke/opt/anaconda3/envs/Master-Thesis-Graph-Representation/lib/python3.9/site-packages/isodate/isodates.py\", line 201, in parse_date\n",
      "    return date(sign * int(groups['year']),\n",
      "ValueError: day is out of range for month\n",
      "Failed to convert Literal lexical form to value. Datatype=http://www.w3.org/2001/XMLSchema#date, Converter=<function parse_date at 0x7fda8be5aa60>\n",
      "Traceback (most recent call last):\n",
      "  File \"/Users/janneke/opt/anaconda3/envs/Master-Thesis-Graph-Representation/lib/python3.9/site-packages/rdflib/term.py\", line 2084, in _castLexicalToPython\n",
      "    return conv_func(lexical)  # type: ignore[arg-type]\n",
      "  File \"/Users/janneke/opt/anaconda3/envs/Master-Thesis-Graph-Representation/lib/python3.9/site-packages/isodate/isodates.py\", line 201, in parse_date\n",
      "    return date(sign * int(groups['year']),\n",
      "ValueError: year 0 is out of range\n"
     ]
    },
    {
     "name": "stderr",
     "output_type": "stream",
     "text": [
      "Failed to convert Literal lexical form to value. Datatype=http://www.w3.org/2001/XMLSchema#date, Converter=<function parse_date at 0x7fda8be5aa60>\n",
      "Traceback (most recent call last):\n",
      "  File \"/Users/janneke/opt/anaconda3/envs/Master-Thesis-Graph-Representation/lib/python3.9/site-packages/rdflib/term.py\", line 2084, in _castLexicalToPython\n",
      "    return conv_func(lexical)  # type: ignore[arg-type]\n",
      "  File \"/Users/janneke/opt/anaconda3/envs/Master-Thesis-Graph-Representation/lib/python3.9/site-packages/isodate/isodates.py\", line 201, in parse_date\n",
      "    return date(sign * int(groups['year']),\n",
      "ValueError: month must be in 1..12\n",
      "Failed to convert Literal lexical form to value. Datatype=http://www.w3.org/2001/XMLSchema#date, Converter=<function parse_date at 0x7fda8be5aa60>\n",
      "Traceback (most recent call last):\n",
      "  File \"/Users/janneke/opt/anaconda3/envs/Master-Thesis-Graph-Representation/lib/python3.9/site-packages/rdflib/term.py\", line 2084, in _castLexicalToPython\n",
      "    return conv_func(lexical)  # type: ignore[arg-type]\n",
      "  File \"/Users/janneke/opt/anaconda3/envs/Master-Thesis-Graph-Representation/lib/python3.9/site-packages/isodate/isodates.py\", line 201, in parse_date\n",
      "    return date(sign * int(groups['year']),\n",
      "ValueError: month must be in 1..12\n",
      "Failed to convert Literal lexical form to value. Datatype=http://www.w3.org/2001/XMLSchema#date, Converter=<function parse_date at 0x7fda8be5aa60>\n",
      "Traceback (most recent call last):\n",
      "  File \"/Users/janneke/opt/anaconda3/envs/Master-Thesis-Graph-Representation/lib/python3.9/site-packages/rdflib/term.py\", line 2084, in _castLexicalToPython\n",
      "    return conv_func(lexical)  # type: ignore[arg-type]\n",
      "  File \"/Users/janneke/opt/anaconda3/envs/Master-Thesis-Graph-Representation/lib/python3.9/site-packages/isodate/isodates.py\", line 201, in parse_date\n",
      "    return date(sign * int(groups['year']),\n",
      "ValueError: month must be in 1..12\n",
      "Failed to convert Literal lexical form to value. Datatype=http://www.w3.org/2001/XMLSchema#date, Converter=<function parse_date at 0x7fda8be5aa60>\n",
      "Traceback (most recent call last):\n",
      "  File \"/Users/janneke/opt/anaconda3/envs/Master-Thesis-Graph-Representation/lib/python3.9/site-packages/rdflib/term.py\", line 2084, in _castLexicalToPython\n",
      "    return conv_func(lexical)  # type: ignore[arg-type]\n",
      "  File \"/Users/janneke/opt/anaconda3/envs/Master-Thesis-Graph-Representation/lib/python3.9/site-packages/isodate/isodates.py\", line 201, in parse_date\n",
      "    return date(sign * int(groups['year']),\n",
      "ValueError: day is out of range for month\n",
      "Failed to convert Literal lexical form to value. Datatype=http://www.w3.org/2001/XMLSchema#date, Converter=<function parse_date at 0x7fda8be5aa60>\n",
      "Traceback (most recent call last):\n",
      "  File \"/Users/janneke/opt/anaconda3/envs/Master-Thesis-Graph-Representation/lib/python3.9/site-packages/rdflib/term.py\", line 2084, in _castLexicalToPython\n",
      "    return conv_func(lexical)  # type: ignore[arg-type]\n",
      "  File \"/Users/janneke/opt/anaconda3/envs/Master-Thesis-Graph-Representation/lib/python3.9/site-packages/isodate/isodates.py\", line 201, in parse_date\n",
      "    return date(sign * int(groups['year']),\n",
      "ValueError: month must be in 1..12\n",
      "Failed to convert Literal lexical form to value. Datatype=http://www.w3.org/2001/XMLSchema#date, Converter=<function parse_date at 0x7fda8be5aa60>\n",
      "Traceback (most recent call last):\n",
      "  File \"/Users/janneke/opt/anaconda3/envs/Master-Thesis-Graph-Representation/lib/python3.9/site-packages/rdflib/term.py\", line 2084, in _castLexicalToPython\n",
      "    return conv_func(lexical)  # type: ignore[arg-type]\n",
      "  File \"/Users/janneke/opt/anaconda3/envs/Master-Thesis-Graph-Representation/lib/python3.9/site-packages/isodate/isodates.py\", line 201, in parse_date\n",
      "    return date(sign * int(groups['year']),\n",
      "ValueError: month must be in 1..12\n",
      "Failed to convert Literal lexical form to value. Datatype=http://www.w3.org/2001/XMLSchema#date, Converter=<function parse_date at 0x7fda8be5aa60>\n",
      "Traceback (most recent call last):\n",
      "  File \"/Users/janneke/opt/anaconda3/envs/Master-Thesis-Graph-Representation/lib/python3.9/site-packages/rdflib/term.py\", line 2084, in _castLexicalToPython\n",
      "    return conv_func(lexical)  # type: ignore[arg-type]\n",
      "  File \"/Users/janneke/opt/anaconda3/envs/Master-Thesis-Graph-Representation/lib/python3.9/site-packages/isodate/isodates.py\", line 201, in parse_date\n",
      "    return date(sign * int(groups['year']),\n",
      "ValueError: month must be in 1..12\n"
     ]
    }
   ],
   "source": [
    "am_dmg777k_fil_rel, mapping_index_to_node_dmg777k_fil_rel, map_entity_to_index_dmg777k_fil_rel, map_index_to_relation_dmg777k_fil = create_adjacency_matrix_nt(\"data/dmg777k/gz_files/dmg777k_stripped.nt.gz\", literal_representation=\"filtered\", sparse=True, relational=True)\n",
    "am_dmg777k_ato_rel, mapping_index_to_node_dmg777k_ato_rel, map_entity_to_index_dmg777k_ato_rel, map_index_to_relation_dmg777k_ato = create_adjacency_matrix_nt(\"data/dmg777k/gz_files/dmg777k_stripped.nt.gz\", literal_representation=\"all-to-one\", sparse=True, relational=True)\n",
    "am_dmg777k_col_rel, mapping_index_to_node_dmg777k_col_rel, map_entity_to_index_dmg777k_col_rel, map_index_to_relation_dmg777k_col = create_adjacency_matrix_nt(\"data/dmg777k/gz_files/dmg777k_stripped.nt.gz\", literal_representation=\"collapsed\", sparse=True, relational=True)\n",
    "am_dmg777k_sep_rel, mapping_index_to_node_dmg777k_sep_rel, map_entity_to_index_dmg777k_sep_rel, map_index_to_relation_dmg777k_sep = create_adjacency_matrix_nt(\"data/dmg777k/gz_files/dmg777k_stripped.nt.gz\", literal_representation=\"separate\", sparse=True, relational=True)"
   ]
  },
  {
   "cell_type": "markdown",
   "id": "db0a24af",
   "metadata": {},
   "source": [
    "# Explore this data"
   ]
  },
  {
   "cell_type": "markdown",
   "id": "0349827f",
   "metadata": {},
   "source": [
    "## AIFB+"
   ]
  },
  {
   "cell_type": "code",
   "execution_count": 8,
   "id": "e1688b9f",
   "metadata": {},
   "outputs": [
    {
     "name": "stdout",
     "output_type": "stream",
     "text": [
      "Adjacency matrix, AIFB+ data, filtered, non-relational:  tensor(indices=tensor([[ 712, 2773, 1626,  ..., 1409,  616,  813],\n",
      "                       [2249, 1563, 2043,  ...,  637, 1777, 2826]]),\n",
      "       values=tensor([1, 1, 1,  ..., 1, 1, 1]),\n",
      "       size=(2835, 2835), nnz=20338, layout=torch.sparse_coo)\n",
      "\n",
      "Adjacency matrix, AIFB+ data, all-to-one, non-relational:  tensor(indices=tensor([[ 723, 2770, 1637,  ..., 1416,  626,  820],\n",
      "                       [2255, 1575, 2051,  ...,  648, 1781, 2824]]),\n",
      "       values=tensor([1, 1, 1,  ..., 1, 1, 1]),\n",
      "       size=(2836, 2836), nnz=29043, layout=torch.sparse_coo)\n",
      "\n",
      "Adjacency matrix, AIFB+ data, collapsed, non-relational:  tensor(indices=tensor([[ 730, 2774, 1631,  ..., 1414,  630,  829],\n",
      "                       [2251, 1568, 2045,  ...,  654, 1776, 2827]]),\n",
      "       values=tensor([1, 1, 1,  ..., 1, 1, 1]),\n",
      "       size=(8303, 8303), nnz=29043, layout=torch.sparse_coo)\n",
      "\n",
      "Adjacency matrix, AIFB+ data, separate, non-relational:  tensor(indices=tensor([[ 715, 2773, 1630,  ..., 1415,  618,  821],\n",
      "                       [2251, 1565, 2045,  ...,  639, 1783, 2827]]),\n",
      "       values=tensor([1, 1, 1,  ..., 1, 1, 1]),\n",
      "       size=(11540, 11540), nnz=29043, layout=torch.sparse_coo)\n",
      "\n",
      "---------------------------------------------------\n",
      "Adjacency matrix, AIFB+ data, filtered, relational:  tensor(indices=tensor([[ 722, 2769, 1636,  ..., 1417,  626,  823],\n",
      "                       [2252, 1571, 2048,  ...,  648, 1782, 2826],\n",
      "                       [   5,    3,   15,  ...,    4,   15,    2]]),\n",
      "       values=tensor([1, 1, 1,  ..., 1, 1, 1]),\n",
      "       size=(2835, 2835, 22), nnz=20338, layout=torch.sparse_coo)\n",
      "\n",
      "Adjacency matrix, AIFB+ data, all-to-one, relational:  tensor(indices=tensor([[ 725, 2772, 1631,  ..., 1408,  630,  822],\n",
      "                       [2256, 1565, 2050,  ...,  650, 1788, 2826],\n",
      "                       [   9,    4,   31,  ...,    8,   31,    3]]),\n",
      "       values=tensor([1, 1, 1,  ..., 1, 1, 1]),\n",
      "       size=(2836, 2836, 45), nnz=29043, layout=torch.sparse_coo)\n",
      "\n",
      "Adjacency matrix, AIFB+ data, collapsed, relational:  tensor(indices=tensor([[ 716, 2768, 1619,  ..., 1403,  622,  821],\n",
      "                       [2243, 1556, 2039,  ...,  643, 1768, 2827],\n",
      "                       [   9,    4,   31,  ...,    8,   31,    3]]),\n",
      "       values=tensor([1, 1, 1,  ..., 1, 1, 1]),\n",
      "       size=(8303, 8303, 45), nnz=29043, layout=torch.sparse_coo)\n",
      "\n",
      "Adjacency matrix, AIFB+ data, separate, relational:  tensor(indices=tensor([[ 727, 2771, 1624,  ..., 1404,  629,  825],\n",
      "                       [2251, 1561, 2041,  ...,  650, 1772, 2827],\n",
      "                       [   9,    4,   31,  ...,    8,   31,    3]]),\n",
      "       values=tensor([1, 1, 1,  ..., 1, 1, 1]),\n",
      "       size=(11540, 11540, 45), nnz=29043, layout=torch.sparse_coo)\n"
     ]
    }
   ],
   "source": [
    "print(\"Adjacency matrix, AIFB+ data, filtered, non-relational: \", am_aifb_fil)\n",
    "print()\n",
    "print(\"Adjacency matrix, AIFB+ data, all-to-one, non-relational: \", am_aifb_ato)\n",
    "print()\n",
    "print(\"Adjacency matrix, AIFB+ data, collapsed, non-relational: \", am_aifb_col)\n",
    "print()\n",
    "print(\"Adjacency matrix, AIFB+ data, separate, non-relational: \", am_aifb_sep)\n",
    "print()\n",
    "print(\"---------------------------------------------------\")\n",
    "print(\"Adjacency matrix, AIFB+ data, filtered, relational: \", am_aifb_fil_rel)\n",
    "print()\n",
    "print(\"Adjacency matrix, AIFB+ data, all-to-one, relational: \", am_aifb_ato_rel)\n",
    "print()\n",
    "print(\"Adjacency matrix, AIFB+ data, collapsed, relational: \", am_aifb_col_rel)\n",
    "print()\n",
    "print(\"Adjacency matrix, AIFB+ data, separate, relational: \", am_aifb_sep_rel)"
   ]
  },
  {
   "cell_type": "markdown",
   "id": "5b1c478d",
   "metadata": {},
   "source": [
    "## MUTAG"
   ]
  },
  {
   "cell_type": "code",
   "execution_count": 9,
   "id": "219a9138",
   "metadata": {},
   "outputs": [
    {
     "name": "stdout",
     "output_type": "stream",
     "text": [
      "Adjacency matrix, MUTAG data, filtered, non-relational:  tensor(indices=tensor([[  521,  7210,  1200,  ..., 15094, 18583,  5366],\n",
      "                       [17231, 19001, 19340,  ..., 19001,  9812, 20134]]),\n",
      "       values=tensor([1, 1, 1,  ..., 1, 1, 1]),\n",
      "       size=(22540, 22540), nnz=63382, layout=torch.sparse_coo)\n",
      "\n",
      "Adjacency matrix, MUTAG data, all-to-one, non-relational:  tensor(indices=tensor([[  521,  1332,   640,  ..., 15094, 18583,  5366],\n",
      "                       [17231, 22540, 22540,  ..., 19001,  9812, 20134]]),\n",
      "       values=tensor([1, 1, 1,  ..., 1, 1, 1]),\n",
      "       size=(22541, 22541), nnz=74227, layout=torch.sparse_coo)\n",
      "\n",
      "Adjacency matrix, MUTAG data, collapsed, non-relational:  tensor(indices=tensor([[  521,  1332,   640,  ..., 15094, 18583,  5366],\n",
      "                       [17231, 22794, 23078,  ..., 19001,  9812, 20134]]),\n",
      "       values=tensor([1, 1, 1,  ..., 1, 1, 1]),\n",
      "       size=(23644, 23644), nnz=74227, layout=torch.sparse_coo)\n",
      "\n",
      "Adjacency matrix, MUTAG data, separate, non-relational:  tensor(indices=tensor([[  521,  1332,   640,  ..., 15094, 18583,  5366],\n",
      "                       [17231, 22540, 22541,  ..., 19001,  9812, 20134]]),\n",
      "       values=tensor([1, 1, 1,  ..., 1, 1, 1]),\n",
      "       size=(33385, 33385), nnz=74227, layout=torch.sparse_coo)\n",
      "\n",
      "---------------------------------------------------\n",
      "Adjacency matrix, MUTAG data, filtered, relational:  tensor(indices=tensor([[  521,  7210,  1200,  ..., 15094, 18583,  5366],\n",
      "                       [17231, 19001, 19340,  ..., 19001,  9812, 20134],\n",
      "                       [    3,     4,     3,  ...,     4,     3,     4]]),\n",
      "       values=tensor([1, 1, 1,  ..., 1, 1, 1]),\n",
      "       size=(22540, 22540, 9), nnz=63382, layout=torch.sparse_coo)\n",
      "\n",
      "Adjacency matrix, MUTAG data, all-to-one, relational:  tensor(indices=tensor([[  521,  1332,   640,  ..., 15094, 18583,  5366],\n",
      "                       [17231, 22540, 22540,  ..., 19001,  9812, 20134],\n",
      "                       [    1,     6,     6,  ...,    12,     1,    12]]),\n",
      "       values=tensor([1, 1, 1,  ..., 1, 1, 1]),\n",
      "       size=(22541, 22541, 23), nnz=74227, layout=torch.sparse_coo)\n",
      "\n",
      "Adjacency matrix, MUTAG data, collapsed, relational:  tensor(indices=tensor([[  521,  1332,   640,  ..., 15094, 18583,  5366],\n",
      "                       [17231, 22794, 23078,  ..., 19001,  9812, 20134],\n",
      "                       [    1,     6,     6,  ...,    12,     1,    12]]),\n",
      "       values=tensor([1, 1, 1,  ..., 1, 1, 1]),\n",
      "       size=(23644, 23644, 23), nnz=74227, layout=torch.sparse_coo)\n",
      "\n",
      "Adjacency matrix, MUTAG data, separate, relational:  tensor(indices=tensor([[  521,  1332,   640,  ..., 15094, 18583,  5366],\n",
      "                       [17231, 22540, 22541,  ..., 19001,  9812, 20134],\n",
      "                       [    1,     6,     6,  ...,    12,     1,    12]]),\n",
      "       values=tensor([1, 1, 1,  ..., 1, 1, 1]),\n",
      "       size=(33385, 33385, 23), nnz=74227, layout=torch.sparse_coo)\n"
     ]
    }
   ],
   "source": [
    "print(\"Adjacency matrix, MUTAG data, filtered, non-relational: \", am_mutag_fil)\n",
    "print()\n",
    "print(\"Adjacency matrix, MUTAG data, all-to-one, non-relational: \", am_mutag_ato)\n",
    "print()\n",
    "print(\"Adjacency matrix, MUTAG data, collapsed, non-relational: \", am_mutag_col)\n",
    "print()\n",
    "print(\"Adjacency matrix, MUTAG data, separate, non-relational: \", am_mutag_sep)\n",
    "print()\n",
    "print(\"---------------------------------------------------\")\n",
    "print(\"Adjacency matrix, MUTAG data, filtered, relational: \", am_mutag_fil_rel)\n",
    "print()\n",
    "print(\"Adjacency matrix, MUTAG data, all-to-one, relational: \", am_mutag_ato_rel)\n",
    "print()\n",
    "print(\"Adjacency matrix, MUTAG data, collapsed, relational: \", am_mutag_col_rel)\n",
    "print()\n",
    "print(\"Adjacency matrix, MUTAG data, separate, relational: \", am_mutag_sep_rel)"
   ]
  },
  {
   "cell_type": "markdown",
   "id": "e833c6c3",
   "metadata": {},
   "source": [
    "## DMG777k"
   ]
  },
  {
   "cell_type": "code",
   "execution_count": 10,
   "id": "dd64b5d0",
   "metadata": {},
   "outputs": [
    {
     "name": "stdout",
     "output_type": "stream",
     "text": [
      "Adjacency matrix, DMG777k data, filtered, non-relational:  tensor(indices=tensor([[146081,  75078,  60366,  ..., 112748, 103087,  29166],\n",
      "                       [ 84777,  99875,  75915,  ...,  67841,  94927,  56916]]),\n",
      "       values=tensor([1, 1, 1,  ..., 1, 1, 1]),\n",
      "       size=(148127, 148127), nnz=288379, layout=torch.sparse_coo)\n",
      "\n",
      "Adjacency matrix, DMG777k data, all-to-one, non-relational:  tensor(indices=tensor([[146081,  58100,  75078,  ...,  34332,  97335,  24374],\n",
      "                       [ 84777, 148127,  99875,  ..., 148127, 148127, 148127]]),\n",
      "       values=tensor([1, 1, 1,  ..., 1, 1, 1]),\n",
      "       size=(148128, 148128), nnz=777124, layout=torch.sparse_coo)\n",
      "\n",
      "Adjacency matrix, DMG777k data, collapsed, non-relational:  tensor(indices=tensor([[146081,  58100,  75078,  ...,  34332,  97335,  24374],\n",
      "                       [ 84777, 190687,  99875,  ..., 272587, 190687, 290932]]),\n",
      "       values=tensor([1, 1, 1,  ..., 1, 1, 1]),\n",
      "       size=(343219, 343219), nnz=777124, layout=torch.sparse_coo)\n",
      "\n",
      "Adjacency matrix, DMG777k data, separate, non-relational:  tensor(indices=tensor([[146081,  58100,  75078,  ...,  34332,  97335,  24374],\n",
      "                       [ 84777, 148127,  99875,  ..., 636869, 636870, 636871]]),\n",
      "       values=tensor([1, 1, 1,  ..., 1, 1, 1]),\n",
      "       size=(636872, 636872), nnz=777124, layout=torch.sparse_coo)\n",
      "\n",
      "---------------------------------------------------\n",
      "Adjacency matrix, DMG777k data, filtered, relational:  tensor(indices=tensor([[146081,  75078,  60366,  ..., 112748, 103087,  29166],\n",
      "                       [ 84777,  99875,  75915,  ...,  67841,  94927,  56916],\n",
      "                       [    12,     12,      6,  ...,     10,      7,      1]]),\n",
      "       values=tensor([1, 1, 1,  ..., 1, 1, 1]),\n",
      "       size=(148127, 148127, 16), nnz=288379, layout=torch.sparse_coo)\n",
      "\n",
      "Adjacency matrix, DMG777k data, all-to-one, relational:  tensor(indices=tensor([[146081,  58100,  75078,  ...,  34332,  97335,  24374],\n",
      "                       [ 84777, 148127,  99875,  ..., 148127, 148127, 148127],\n",
      "                       [    45,     19,     45,  ...,     25,     19,     13]]),\n",
      "       values=tensor([1, 1, 1,  ..., 1, 1, 1]),\n",
      "       size=(148128, 148128, 60), nnz=777124, layout=torch.sparse_coo)\n",
      "\n",
      "Adjacency matrix, DMG777k data, collapsed, relational:  tensor(indices=tensor([[146081,  58100,  75078,  ...,  34332,  97335,  24374],\n",
      "                       [ 84777, 190687,  99875,  ..., 272587, 190687, 290932],\n",
      "                       [    45,     19,     45,  ...,     25,     19,     13]]),\n",
      "       values=tensor([1, 1, 1,  ..., 1, 1, 1]),\n",
      "       size=(343219, 343219, 60), nnz=777124, layout=torch.sparse_coo)\n",
      "\n",
      "Adjacency matrix, DMG777k data, separate, relational:  tensor(indices=tensor([[146081,  58100,  75078,  ...,  34332,  97335,  24374],\n",
      "                       [ 84777, 148127,  99875,  ..., 636869, 636870, 636871],\n",
      "                       [    45,     19,     45,  ...,     25,     19,     13]]),\n",
      "       values=tensor([1, 1, 1,  ..., 1, 1, 1]),\n",
      "       size=(636872, 636872, 60), nnz=777124, layout=torch.sparse_coo)\n"
     ]
    }
   ],
   "source": [
    "print(\"Adjacency matrix, DMG777k data, filtered, non-relational: \", am_dmg777k_fil)\n",
    "print()\n",
    "print(\"Adjacency matrix, DMG777k data, all-to-one, non-relational: \", am_dmg777k_ato)\n",
    "print()\n",
    "print(\"Adjacency matrix, DMG777k data, collapsed, non-relational: \", am_dmg777k_col)\n",
    "print()\n",
    "print(\"Adjacency matrix, DMG777k data, separate, non-relational: \", am_dmg777k_sep)\n",
    "print()\n",
    "print(\"---------------------------------------------------\")\n",
    "print(\"Adjacency matrix, DMG777k data, filtered, relational: \", am_dmg777k_fil_rel)\n",
    "print()\n",
    "print(\"Adjacency matrix, DMG777k data, all-to-one, relational: \", am_dmg777k_ato_rel)\n",
    "print()\n",
    "print(\"Adjacency matrix, DMG777k data, collapsed, relational: \", am_dmg777k_col_rel)\n",
    "print()\n",
    "print(\"Adjacency matrix, DMG777k data, separate, relational: \", am_dmg777k_sep_rel)"
   ]
  },
  {
   "cell_type": "markdown",
   "id": "162bf2bf",
   "metadata": {},
   "source": [
    "## Create PyTorch Geometric data files, for further exploration"
   ]
  },
  {
   "cell_type": "code",
   "execution_count": 11,
   "id": "48693b93",
   "metadata": {},
   "outputs": [],
   "source": [
    "import matplotlib.pyplot as plt\n",
    "from torch_geometric.utils import degree\n",
    "from torch_geometric.data import Data"
   ]
  },
  {
   "cell_type": "code",
   "execution_count": 12,
   "id": "40a636a5",
   "metadata": {},
   "outputs": [],
   "source": [
    "# create data objects to use further\n",
    "# only do this for relational data, as they are similar to the other ones, but with edge types added here\n",
    "\n",
    "# aifb\n",
    "data_aifb_fil = Data(edge_index=am_aifb_fil_rel.coalesce().indices()[0:2], edge_type=am_aifb_fil_rel.coalesce().indices()[2], num_nodes=am_aifb_fil_rel.size()[0])\n",
    "data_aifb_ato = Data(edge_index=am_aifb_ato_rel.coalesce().indices()[0:2], edge_type=am_aifb_ato_rel.coalesce().indices()[2], num_nodes=am_aifb_ato_rel.size()[0])\n",
    "data_aifb_col = Data(edge_index=am_aifb_col_rel.coalesce().indices()[0:2], edge_type=am_aifb_col_rel.coalesce().indices()[2], num_nodes=am_aifb_col_rel.size()[0])\n",
    "data_aifb_sep = Data(edge_index=am_aifb_sep_rel.coalesce().indices()[0:2], edge_type=am_aifb_sep_rel.coalesce().indices()[2], num_nodes=am_aifb_sep_rel.size()[0])\n",
    "\n",
    "# mutag\n",
    "data_mutag_fil = Data(edge_index=am_mutag_fil_rel.coalesce().indices()[0:2], edge_type=am_mutag_fil_rel.coalesce().indices()[2], num_nodes=am_mutag_fil_rel.size()[0])\n",
    "data_mutag_ato = Data(edge_index=am_mutag_ato_rel.coalesce().indices()[0:2], edge_type=am_mutag_ato_rel.coalesce().indices()[2], num_nodes=am_mutag_ato_rel.size()[0])\n",
    "data_mutag_col = Data(edge_index=am_mutag_col_rel.coalesce().indices()[0:2], edge_type=am_mutag_col_rel.coalesce().indices()[2], num_nodes=am_mutag_col_rel.size()[0])\n",
    "data_mutag_sep = Data(edge_index=am_mutag_sep_rel.coalesce().indices()[0:2], edge_type=am_mutag_sep_rel.coalesce().indices()[2], num_nodes=am_mutag_sep_rel.size()[0])\n",
    "\n",
    "# dmg777k\n",
    "data_dmg777k_fil = Data(edge_index=am_dmg777k_fil_rel.coalesce().indices()[0:2], edge_type=am_dmg777k_fil_rel.coalesce().indices()[2], num_nodes=am_dmg777k_fil_rel.size()[0])\n",
    "data_dmg777k_ato = Data(edge_index=am_dmg777k_ato_rel.coalesce().indices()[0:2], edge_type=am_dmg777k_ato_rel.coalesce().indices()[2], num_nodes=am_dmg777k_ato_rel.size()[0])\n",
    "data_dmg777k_col = Data(edge_index=am_dmg777k_col_rel.coalesce().indices()[0:2], edge_type=am_dmg777k_col_rel.coalesce().indices()[2], num_nodes=am_dmg777k_col_rel.size()[0])\n",
    "data_dmg777k_sep = Data(edge_index=am_dmg777k_sep_rel.coalesce().indices()[0:2], edge_type=am_dmg777k_sep_rel.coalesce().indices()[2], num_nodes=am_dmg777k_sep_rel.size()[0])"
   ]
  },
  {
   "cell_type": "code",
   "execution_count": 13,
   "id": "5270bba6",
   "metadata": {},
   "outputs": [],
   "source": [
    "# aifb\n",
    "incoming_degree_aifb_fil = degree(index=data_aifb_fil.edge_index[1], num_nodes=data_aifb_fil.num_nodes)\n",
    "incoming_degree_aifb_ato = degree(index=data_aifb_ato.edge_index[1], num_nodes=data_aifb_ato.num_nodes)\n",
    "incoming_degree_aifb_col = degree(index=data_aifb_col.edge_index[1], num_nodes=data_aifb_col.num_nodes)\n",
    "incoming_degree_aifb_sep = degree(index=data_aifb_sep.edge_index[1], num_nodes=data_aifb_sep.num_nodes)\n",
    "\n",
    "# mutag\n",
    "incoming_degree_mutag_fil = degree(index=data_mutag_fil.edge_index[1], num_nodes=data_mutag_fil.num_nodes)\n",
    "incoming_degree_mutag_ato = degree(index=data_mutag_ato.edge_index[1], num_nodes=data_mutag_ato.num_nodes)\n",
    "incoming_degree_mutag_col = degree(index=data_mutag_col.edge_index[1], num_nodes=data_mutag_col.num_nodes)\n",
    "incoming_degree_mutag_sep = degree(index=data_mutag_sep.edge_index[1], num_nodes=data_mutag_sep.num_nodes)\n",
    "\n",
    "# dmg777k+\n",
    "incoming_degree_dmg777k_fil = degree(index=data_dmg777k_fil.edge_index[1], num_nodes=data_dmg777k_fil.num_nodes)\n",
    "incoming_degree_dmg777k_ato = degree(index=data_dmg777k_ato.edge_index[1], num_nodes=data_dmg777k_ato.num_nodes)\n",
    "incoming_degree_dmg777k_col = degree(index=data_dmg777k_col.edge_index[1], num_nodes=data_dmg777k_col.num_nodes)\n",
    "incoming_degree_dmg777k_sep = degree(index=data_dmg777k_sep.edge_index[1], num_nodes=data_dmg777k_sep.num_nodes)"
   ]
  },
  {
   "cell_type": "markdown",
   "id": "3c0a4a92",
   "metadata": {},
   "source": [
    "## Print all the number of relations of the data:"
   ]
  },
  {
   "cell_type": "code",
   "execution_count": 14,
   "id": "76ab1ed1",
   "metadata": {},
   "outputs": [
    {
     "name": "stdout",
     "output_type": "stream",
     "text": [
      "Number of relations, AIFB+ data, filtered:  22\n",
      "Number of relations, AIFB+ data, all-to-one:  45\n",
      "Number of relations, AIFB+ data, collapsed:  45\n",
      "Number of relations, AIFB+ data, separate:  45\n",
      "\n",
      "Number of relations, MUTAG data, filtered:  9\n",
      "Number of relations, MUTAG data, all-to-one:  23\n",
      "Number of relations, MUTAG data, collapsed:  23\n",
      "Number of relations, MUTAG data, separate:  23\n",
      "\n",
      "Number of relations, DMG777k data, filtered:  16\n",
      "Number of relations, DMG777k data, all-to-one:  60\n",
      "Number of relations, DMG777k data, collapsed:  60\n",
      "Number of relations, DMG777k data, separate:  60\n"
     ]
    }
   ],
   "source": [
    "print(\"Number of relations, AIFB+ data, filtered: \", data_aifb_fil.num_edge_types)\n",
    "print(\"Number of relations, AIFB+ data, all-to-one: \", data_aifb_ato.num_edge_types)\n",
    "print(\"Number of relations, AIFB+ data, collapsed: \", data_aifb_col.num_edge_types)\n",
    "print(\"Number of relations, AIFB+ data, separate: \", data_aifb_sep.num_edge_types)\n",
    "print()\n",
    "print(\"Number of relations, MUTAG data, filtered: \", data_mutag_fil.num_edge_types)\n",
    "print(\"Number of relations, MUTAG data, all-to-one: \", data_mutag_ato.num_edge_types)\n",
    "print(\"Number of relations, MUTAG data, collapsed: \", data_mutag_col.num_edge_types)\n",
    "print(\"Number of relations, MUTAG data, separate: \", data_mutag_sep.num_edge_types)\n",
    "print()\n",
    "print(\"Number of relations, DMG777k data, filtered: \", data_dmg777k_fil.num_edge_types)\n",
    "print(\"Number of relations, DMG777k data, all-to-one: \", data_dmg777k_ato.num_edge_types)\n",
    "print(\"Number of relations, DMG777k data, collapsed: \", data_dmg777k_col.num_edge_types)\n",
    "print(\"Number of relations, DMG777k data, separate: \", data_dmg777k_sep.num_edge_types)"
   ]
  },
  {
   "cell_type": "markdown",
   "id": "b018ae49",
   "metadata": {},
   "source": [
    "## Plot (and save the plots) of the degree of nodes:"
   ]
  },
  {
   "cell_type": "markdown",
   "id": "6976e4da",
   "metadata": {},
   "source": [
    "### AIFB+"
   ]
  },
  {
   "cell_type": "code",
   "execution_count": 15,
   "id": "6f2c164c",
   "metadata": {},
   "outputs": [
    {
     "data": {
      "image/png": "[encoded data removed]",
      "text/plain": [
       "<Figure size 432x288 with 1 Axes>"
      ]
     },
     "metadata": {
      "needs_background": "light"
     },
     "output_type": "display_data"
    }
   ],
   "source": [
    "plt.hist(incoming_degree_aifb_fil, bins=100, range=[0,100])\n",
    "plt.xlabel(\"Incoming node degree\", fontsize=13)\n",
    "plt.ylabel(\"Number of nodes\", fontsize=13)\n",
    "plt.savefig(\"plots/EDA_graphs/incoming_node_degree_aifb_filtered.png\", dpi=300, bbox_inches='tight')\n",
    "plt.show()"
   ]
  },
  {
   "cell_type": "code",
   "execution_count": 16,
   "id": "3c8c28a8",
   "metadata": {},
   "outputs": [
    {
     "data": {
      "image/png": "[encoded data removed]",
      "text/plain": [
       "<Figure size 432x288 with 1 Axes>"
      ]
     },
     "metadata": {
      "needs_background": "light"
     },
     "output_type": "display_data"
    }
   ],
   "source": [
    "plt.hist(incoming_degree_aifb_ato, bins=100, range=[0,100])\n",
    "plt.xlabel(\"Incoming node degree\", fontsize=13)\n",
    "plt.ylabel(\"Number of nodes\", fontsize=13)\n",
    "plt.savefig(\"plots/EDA_graphs/incoming_node_degree_aifb_all_to_one.png\", dpi=300, bbox_inches='tight')\n",
    "plt.show()"
   ]
  },
  {
   "cell_type": "code",
   "execution_count": 17,
   "id": "c927b6a6",
   "metadata": {},
   "outputs": [
    {
     "data": {
      "image/png": "[encoded data removed]",
      "text/plain": [
       "<Figure size 432x288 with 1 Axes>"
      ]
     },
     "metadata": {
      "needs_background": "light"
     },
     "output_type": "display_data"
    }
   ],
   "source": [
    "plt.hist(incoming_degree_aifb_col, bins=100, range=[0,100])\n",
    "plt.xlabel(\"Incoming node degree\", fontsize=13)\n",
    "plt.ylabel(\"Number of nodes\", fontsize=13)\n",
    "plt.savefig(\"plots/EDA_graphs/incoming_node_degree_aifb_collapsed.png\", dpi=300, bbox_inches='tight')\n",
    "plt.show()"
   ]
  },
  {
   "cell_type": "code",
   "execution_count": 18,
   "id": "e90de1a8",
   "metadata": {},
   "outputs": [
    {
     "data": {
      "image/png": "[encoded data removed]",
      "text/plain": [
       "<Figure size 432x288 with 1 Axes>"
      ]
     },
     "metadata": {
      "needs_background": "light"
     },
     "output_type": "display_data"
    }
   ],
   "source": [
    "plt.hist(incoming_degree_aifb_sep, bins=100, range=[0,100])\n",
    "plt.xlabel(\"Incoming node degree\", fontsize=13)\n",
    "plt.ylabel(\"Number of nodes\", fontsize=13)\n",
    "plt.savefig(\"plots/EDA_graphs/incoming_node_degree_aifb_separate.png\", dpi=300, bbox_inches='tight')\n",
    "plt.show()"
   ]
  },
  {
   "cell_type": "markdown",
   "id": "eb87a733",
   "metadata": {},
   "source": [
    "### MUTAG"
   ]
  },
  {
   "cell_type": "code",
   "execution_count": 19,
   "id": "dddb3783",
   "metadata": {},
   "outputs": [
    {
     "data": {
      "image/png": "[encoded data removed]",
      "text/plain": [
       "<Figure size 432x288 with 1 Axes>"
      ]
     },
     "metadata": {
      "needs_background": "light"
     },
     "output_type": "display_data"
    }
   ],
   "source": [
    "plt.hist(incoming_degree_mutag_fil, bins=100, range=[0,100])\n",
    "plt.xlabel(\"Incoming node degree\", fontsize=13)\n",
    "plt.ylabel(\"Number of nodes\", fontsize=13)\n",
    "plt.savefig(\"plots/EDA_graphs/incoming_node_degree_mutag_filtered.png\", dpi=300, bbox_inches='tight')\n",
    "plt.show()"
   ]
  },
  {
   "cell_type": "code",
   "execution_count": 20,
   "id": "e25ed54d",
   "metadata": {},
   "outputs": [
    {
     "data": {
      "image/png": "[encoded data removed]",
      "text/plain": [
       "<Figure size 432x288 with 1 Axes>"
      ]
     },
     "metadata": {
      "needs_background": "light"
     },
     "output_type": "display_data"
    }
   ],
   "source": [
    "plt.hist(incoming_degree_mutag_ato, bins=100, range=[0,100])\n",
    "plt.xlabel(\"Incoming node degree\", fontsize=13)\n",
    "plt.ylabel(\"Number of nodes\", fontsize=13)\n",
    "plt.savefig(\"plots/EDA_graphs/incoming_node_degree_mutag_all_to_one.png\", dpi=300, bbox_inches='tight')\n",
    "plt.show()"
   ]
  },
  {
   "cell_type": "code",
   "execution_count": 21,
   "id": "6c39cb47",
   "metadata": {},
   "outputs": [
    {
     "data": {
      "image/png": "[encoded data removed]",
      "text/plain": [
       "<Figure size 432x288 with 1 Axes>"
      ]
     },
     "metadata": {
      "needs_background": "light"
     },
     "output_type": "display_data"
    }
   ],
   "source": [
    "plt.hist(incoming_degree_mutag_col, bins=100, range=[0, 100])\n",
    "plt.xlabel(\"Incoming node degree\", fontsize=13)\n",
    "plt.ylabel(\"Number of nodes\", fontsize=13)\n",
    "plt.savefig(\"plots/EDA_graphs/incoming_node_degree_mutag_collapsed.png\", dpi=300, bbox_inches='tight')\n",
    "plt.show()"
   ]
  },
  {
   "cell_type": "code",
   "execution_count": 22,
   "id": "99199188",
   "metadata": {},
   "outputs": [
    {
     "data": {
      "image/png": "[encoded data removed]",
      "text/plain": [
       "<Figure size 432x288 with 1 Axes>"
      ]
     },
     "metadata": {
      "needs_background": "light"
     },
     "output_type": "display_data"
    }
   ],
   "source": [
    "plt.hist(incoming_degree_mutag_sep, bins=100, range=[0, 100])\n",
    "plt.xlabel(\"Incoming node degree\", fontsize=13)\n",
    "plt.ylabel(\"Number of nodes\", fontsize=13)\n",
    "plt.savefig(\"plots/EDA_graphs/incoming_node_degree_mutag_separate.png\", dpi=300, bbox_inches='tight')\n",
    "plt.show()"
   ]
  },
  {
   "cell_type": "code",
   "execution_count": 23,
   "id": "fb247f3b",
   "metadata": {},
   "outputs": [
    {
     "data": {
      "image/png": "[encoded data removed]",
      "text/plain": [
       "<Figure size 432x288 with 1 Axes>"
      ]
     },
     "metadata": {
      "needs_background": "light"
     },
     "output_type": "display_data"
    }
   ],
   "source": [
    "plt.hist(incoming_degree_mutag_col,bins=100, range=[100,10000])\n",
    "plt.xlabel(\"Incoming node degree\", fontsize=13)\n",
    "plt.ylabel(\"Number of nodes\", fontsize=13)\n",
    "plt.savefig(\"plots/EDA_graphs/incoming_node_degree_mutag_collapsed_after_100.png\", dpi=300, bbox_inches='tight')\n",
    "plt.show()"
   ]
  },
  {
   "cell_type": "markdown",
   "id": "af3a103f",
   "metadata": {},
   "source": [
    "## DMG777k"
   ]
  },
  {
   "cell_type": "code",
   "execution_count": 24,
   "id": "8a911442",
   "metadata": {},
   "outputs": [
    {
     "data": {
      "image/png": "[encoded data removed]",
      "text/plain": [
       "<Figure size 432x288 with 1 Axes>"
      ]
     },
     "metadata": {
      "needs_background": "light"
     },
     "output_type": "display_data"
    }
   ],
   "source": [
    "plt.hist(incoming_degree_dmg777k_fil, range=[0, 100], bins=100)\n",
    "plt.xlabel(\"Incoming node degree\", fontsize=13)\n",
    "plt.ylabel(\"Number of nodes\", fontsize=13)\n",
    "plt.savefig(\"plots/EDA_graphs/incoming_node_degree_dmg777k_filtered.png\", dpi=300, bbox_inches='tight')\n",
    "plt.show()"
   ]
  },
  {
   "cell_type": "code",
   "execution_count": 25,
   "id": "4d653d2a",
   "metadata": {},
   "outputs": [
    {
     "data": {
      "image/png": "[encoded data removed]",
      "text/plain": [
       "<Figure size 432x288 with 1 Axes>"
      ]
     },
     "metadata": {
      "needs_background": "light"
     },
     "output_type": "display_data"
    }
   ],
   "source": [
    "plt.hist(incoming_degree_dmg777k_ato, range=[0, 100], bins=100)\n",
    "plt.xlabel(\"Incoming node degree\",fontsize=13)\n",
    "plt.ylabel(\"Number of nodes\", fontsize=13)\n",
    "plt.savefig(\"plots/EDA_graphs/incoming_node_degree_dmg777k_ato.png\", dpi=300, bbox_inches='tight')\n",
    "plt.show()"
   ]
  },
  {
   "cell_type": "code",
   "execution_count": 26,
   "id": "e2e66c9a",
   "metadata": {},
   "outputs": [
    {
     "data": {
      "image/png": "[encoded data removed]",
      "text/plain": [
       "<Figure size 432x288 with 1 Axes>"
      ]
     },
     "metadata": {
      "needs_background": "light"
     },
     "output_type": "display_data"
    }
   ],
   "source": [
    "plt.hist(incoming_degree_dmg777k_col, range=[0, 100], bins=100)\n",
    "plt.xlabel(\"Incoming node degree\", fontsize=13)\n",
    "plt.ylabel(\"Number of nodes\", fontsize=13)\n",
    "plt.savefig(\"plots/EDA_graphs/incoming_node_degree_dmg777k_col.png\", dpi=300, bbox_inches='tight')\n",
    "plt.show()"
   ]
  },
  {
   "cell_type": "code",
   "execution_count": 27,
   "id": "b0cd9e1e",
   "metadata": {},
   "outputs": [
    {
     "data": {
      "image/png": "[encoded data removed]",
      "text/plain": [
       "<Figure size 432x288 with 1 Axes>"
      ]
     },
     "metadata": {
      "needs_background": "light"
     },
     "output_type": "display_data"
    }
   ],
   "source": [
    "plt.hist(incoming_degree_dmg777k_sep, range=[0, 100], bins=100)\n",
    "plt.xlabel(\"Incoming node degree\", fontsize=13)\n",
    "plt.ylabel(\"Number of nodes\", fontsize=13)\n",
    "plt.savefig(\"plots/EDA_graphs/incoming_node_degree_dmg777k_separate.png\", dpi=300, bbox_inches='tight')\n",
    "plt.show()"
   ]
  },
  {
   "cell_type": "code",
   "execution_count": 28,
   "id": "74592a6e",
   "metadata": {},
   "outputs": [],
   "source": [
    "import torch"
   ]
  },
  {
   "cell_type": "code",
   "execution_count": 29,
   "id": "0d0c2b9b",
   "metadata": {},
   "outputs": [
    {
     "name": "stdout",
     "output_type": "stream",
     "text": [
      "AIFB+, filtered, stats of node degree:\n",
      "Mean:  7.173897743225098\n",
      "Standard deviation:  36.44883728027344\n",
      "Median:  3.0\n",
      "Minimum:  0.0\n",
      "Maximum:  1240.0\n",
      "-----------------------------------------------------\n",
      "AIFB+, all-to-one, stats of node degree:\n",
      "Mean:  10.240832328796387\n",
      "Standard deviation:  167.3430938720703\n",
      "Median:  3.0\n",
      "Minimum:  0.0\n",
      "Maximum:  8705.0\n",
      "-----------------------------------------------------\n",
      "AIFB+, collapsed, stats of node degree:\n",
      "Mean:  3.497892379760742\n",
      "Standard deviation:  22.273576736450195\n",
      "Median:  1.0\n",
      "Minimum:  0.0\n",
      "Maximum:  1240.0\n",
      "-----------------------------------------------------\n",
      "AIFB+, separate, stats of node degree:\n",
      "Mean:  2.5167243480682373\n",
      "Standard deviation:  18.25789451599121\n",
      "Median:  1.0\n",
      "Minimum:  0.0\n",
      "Maximum:  1240.0\n"
     ]
    }
   ],
   "source": [
    "# other AIFB+ stats\n",
    "print(\"AIFB+, filtered, stats of node degree:\")\n",
    "print(\"Mean: \", torch.mean(incoming_degree_aifb_fil).item())\n",
    "print(\"Standard deviation: \", torch.std(incoming_degree_aifb_fil).item())\n",
    "print(\"Median: \", torch.median(incoming_degree_aifb_fil).item())\n",
    "print(\"Minimum: \", torch.min(incoming_degree_aifb_fil).item())\n",
    "print(\"Maximum: \", torch.max(incoming_degree_aifb_fil).item())\n",
    "print(\"-----------------------------------------------------\")\n",
    "print(\"AIFB+, all-to-one, stats of node degree:\")\n",
    "print(\"Mean: \", torch.mean(incoming_degree_aifb_ato).item())\n",
    "print(\"Standard deviation: \", torch.std(incoming_degree_aifb_ato).item())\n",
    "print(\"Median: \", torch.median(incoming_degree_aifb_ato).item())\n",
    "print(\"Minimum: \", torch.min(incoming_degree_aifb_ato).item())\n",
    "print(\"Maximum: \", torch.max(incoming_degree_aifb_ato).item())\n",
    "print(\"-----------------------------------------------------\")\n",
    "print(\"AIFB+, collapsed, stats of node degree:\")\n",
    "print(\"Mean: \", torch.mean(incoming_degree_aifb_col).item())\n",
    "print(\"Standard deviation: \", torch.std(incoming_degree_aifb_col).item())\n",
    "print(\"Median: \", torch.median(incoming_degree_aifb_col).item())\n",
    "print(\"Minimum: \", torch.min(incoming_degree_aifb_col).item())\n",
    "print(\"Maximum: \", torch.max(incoming_degree_aifb_col).item())\n",
    "print(\"-----------------------------------------------------\")\n",
    "print(\"AIFB+, separate, stats of node degree:\")\n",
    "print(\"Mean: \", torch.mean(incoming_degree_aifb_sep).item())\n",
    "print(\"Standard deviation: \", torch.std(incoming_degree_aifb_sep).item())\n",
    "print(\"Median: \", torch.median(incoming_degree_aifb_sep).item())\n",
    "print(\"Minimum: \", torch.min(incoming_degree_aifb_sep).item())\n",
    "print(\"Maximum: \", torch.max(incoming_degree_aifb_sep).item())"
   ]
  },
  {
   "cell_type": "code",
   "execution_count": 30,
   "id": "6d7c3a75",
   "metadata": {},
   "outputs": [
    {
     "name": "stdout",
     "output_type": "stream",
     "text": [
      "MUTAG, filtered, stats of node degree:\n",
      "Mean:  2.811978816986084\n",
      "Standard deviation:  55.65161895751953\n",
      "Median:  1.0\n",
      "Minimum:  0.0\n",
      "Maximum:  6781.0\n",
      "-----------------------------------------------------\n",
      "MUTAG, all-to-one, stats of node degree:\n",
      "Mean:  3.2929329872131348\n",
      "Standard deviation:  91.16512298583984\n",
      "Median:  1.0\n",
      "Minimum:  0.0\n",
      "Maximum:  10844.0\n",
      "-----------------------------------------------------\n",
      "MUTAG, collapsed, stats of node degree:\n",
      "Mean:  3.1393587589263916\n",
      "Standard deviation:  54.95844268798828\n",
      "Median:  1.0\n",
      "Minimum:  0.0\n",
      "Maximum:  6781.0\n",
      "-----------------------------------------------------\n",
      "MUTAG, separate, stats of node degree:\n",
      "Mean:  2.2233638763427734\n",
      "Standard deviation:  45.73521423339844\n",
      "Median:  1.0\n",
      "Minimum:  0.0\n",
      "Maximum:  6781.0\n"
     ]
    }
   ],
   "source": [
    "# other MUTAG stats\n",
    "print(\"MUTAG, filtered, stats of node degree:\")\n",
    "print(\"Mean: \", torch.mean(incoming_degree_mutag_fil).item())\n",
    "print(\"Standard deviation: \", torch.std(incoming_degree_mutag_fil).item())\n",
    "print(\"Median: \", torch.median(incoming_degree_mutag_fil).item())\n",
    "print(\"Minimum: \", torch.min(incoming_degree_mutag_fil).item())\n",
    "print(\"Maximum: \", torch.max(incoming_degree_mutag_fil).item())\n",
    "print(\"-----------------------------------------------------\")\n",
    "print(\"MUTAG, all-to-one, stats of node degree:\")\n",
    "print(\"Mean: \", torch.mean(incoming_degree_mutag_ato).item())\n",
    "print(\"Standard deviation: \", torch.std(incoming_degree_mutag_ato).item())\n",
    "print(\"Median: \", torch.median(incoming_degree_mutag_ato).item())\n",
    "print(\"Minimum: \", torch.min(incoming_degree_mutag_ato).item())\n",
    "print(\"Maximum: \", torch.max(incoming_degree_mutag_ato).item())\n",
    "print(\"-----------------------------------------------------\")\n",
    "print(\"MUTAG, collapsed, stats of node degree:\")\n",
    "print(\"Mean: \", torch.mean(incoming_degree_mutag_col).item())\n",
    "print(\"Standard deviation: \", torch.std(incoming_degree_mutag_col).item())\n",
    "print(\"Median: \", torch.median(incoming_degree_mutag_col).item())\n",
    "print(\"Minimum: \", torch.min(incoming_degree_mutag_col).item())\n",
    "print(\"Maximum: \", torch.max(incoming_degree_mutag_col).item())\n",
    "print(\"-----------------------------------------------------\")\n",
    "print(\"MUTAG, separate, stats of node degree:\")\n",
    "print(\"Mean: \", torch.mean(incoming_degree_mutag_sep).item())\n",
    "print(\"Standard deviation: \", torch.std(incoming_degree_mutag_sep).item())\n",
    "print(\"Median: \", torch.median(incoming_degree_mutag_sep).item())\n",
    "print(\"Minimum: \", torch.min(incoming_degree_mutag_sep).item())\n",
    "print(\"Maximum: \", torch.max(incoming_degree_mutag_sep).item())"
   ]
  },
  {
   "cell_type": "code",
   "execution_count": 31,
   "id": "e6e24be1",
   "metadata": {},
   "outputs": [
    {
     "name": "stdout",
     "output_type": "stream",
     "text": [
      "DMG777k, filtered, stats of node degree:\n",
      "Mean:  1.9468361139297485\n",
      "Standard deviation:  233.0834197998047\n",
      "Median:  1.0\n",
      "Minimum:  0.0\n",
      "Maximum:  65576.0\n",
      "-----------------------------------------------------\n",
      "DMG777k, all-to-one, stats of node degree:\n",
      "Mean:  5.228147506713867\n",
      "Standard deviation:  1284.220458984375\n",
      "Median:  1.0\n",
      "Minimum:  0.0\n",
      "Maximum:  486056.0\n",
      "-----------------------------------------------------\n",
      "DMG777k, collapsed, stats of node degree:\n",
      "Mean:  2.2642219066619873\n",
      "Standard deviation:  169.4571990966797\n",
      "Median:  1.0\n",
      "Minimum:  0.0\n",
      "Maximum:  65576.0\n",
      "-----------------------------------------------------\n",
      "DMG777k, separate, stats of node degree:\n",
      "Mean:  1.2202200889587402\n",
      "Standard deviation:  112.4097671508789\n",
      "Median:  1.0\n",
      "Minimum:  0.0\n",
      "Maximum:  65576.0\n"
     ]
    }
   ],
   "source": [
    "# other DMG777k stats\n",
    "print(\"DMG777k, filtered, stats of node degree:\")\n",
    "print(\"Mean: \", torch.mean(incoming_degree_dmg777k_fil).item())\n",
    "print(\"Standard deviation: \", torch.std(incoming_degree_dmg777k_fil).item())\n",
    "print(\"Median: \", torch.median(incoming_degree_dmg777k_fil).item())\n",
    "print(\"Minimum: \", torch.min(incoming_degree_dmg777k_fil).item())\n",
    "print(\"Maximum: \", torch.max(incoming_degree_dmg777k_fil).item())\n",
    "print(\"-----------------------------------------------------\")\n",
    "print(\"DMG777k, all-to-one, stats of node degree:\")\n",
    "print(\"Mean: \", torch.mean(incoming_degree_dmg777k_ato).item())\n",
    "print(\"Standard deviation: \", torch.std(incoming_degree_dmg777k_ato).item())\n",
    "print(\"Median: \", torch.median(incoming_degree_dmg777k_ato).item())\n",
    "print(\"Minimum: \", torch.min(incoming_degree_dmg777k_ato).item())\n",
    "print(\"Maximum: \", torch.max(incoming_degree_dmg777k_ato).item())\n",
    "print(\"-----------------------------------------------------\")\n",
    "print(\"DMG777k, collapsed, stats of node degree:\")\n",
    "print(\"Mean: \", torch.mean(incoming_degree_dmg777k_col).item())\n",
    "print(\"Standard deviation: \", torch.std(incoming_degree_dmg777k_col).item())\n",
    "print(\"Median: \", torch.median(incoming_degree_dmg777k_col).item())\n",
    "print(\"Minimum: \", torch.min(incoming_degree_dmg777k_col).item())\n",
    "print(\"Maximum: \", torch.max(incoming_degree_dmg777k_col).item())\n",
    "print(\"-----------------------------------------------------\")\n",
    "print(\"DMG777k, separate, stats of node degree:\")\n",
    "print(\"Mean: \", torch.mean(incoming_degree_dmg777k_sep).item())\n",
    "print(\"Standard deviation: \", torch.std(incoming_degree_dmg777k_sep).item())\n",
    "print(\"Median: \", torch.median(incoming_degree_dmg777k_sep).item())\n",
    "print(\"Minimum: \", torch.min(incoming_degree_dmg777k_sep).item())\n",
    "print(\"Maximum: \", torch.max(incoming_degree_dmg777k_sep).item())"
   ]
  },
  {
   "cell_type": "markdown",
   "id": "8dc7f796",
   "metadata": {},
   "source": [
    "## Investigate labels"
   ]
  },
  {
   "cell_type": "code",
   "execution_count": 32,
   "id": "d54203e0",
   "metadata": {},
   "outputs": [],
   "source": [
    "from reading_data import training_valid_test_set"
   ]
  },
  {
   "cell_type": "code",
   "execution_count": 33,
   "id": "dd292c6b",
   "metadata": {},
   "outputs": [],
   "source": [
    "# only need to do this once, as the number of labelled entities, as well as their labels, are the same for every node\n",
    "file_name_train_aifb = \"data/aifb/gz_files/aifb+_train_set.nt.gz\"\n",
    "file_name_valid_aifb = \"data/aifb/gz_files/aifb+_valid_set.nt.gz\"\n",
    "file_name_test_aifb = \"data/aifb/gz_files/aifb+_test_set.nt.gz\"\n",
    "\n",
    "file_name_train_mutag = \"data/mutag/gz_files/mutag_train_set.nt.gz\"\n",
    "file_name_valid_mutag = \"data/mutag/gz_files/mutag_valid_set.nt.gz\"\n",
    "file_name_test_mutag = \"data/mutag/gz_files/mutag_test_set.nt.gz\"\n",
    "\n",
    "file_name_train_dmg777k = \"data/dmg777k/gz_files/dmg777k_train_set.nt.gz\"\n",
    "file_name_valid_dmg777k = \"data/dmg777k/gz_files/dmg777k_valid_set.nt.gz\"\n",
    "file_name_test_dmg777k = \"data/dmg777k/gz_files/dmg777k_test_set.nt.gz\"\n",
    "\n",
    "labels_aifb, train_entities_aifb, valid_entities_aifb, test_entities_aifb, class_mapping_aifb = training_valid_test_set(file_name_train_aifb, file_name_valid_aifb, file_name_test_aifb, map_entity_to_index_aifb_fil, am_aifb_fil.size()[0])\n",
    "train_mask_aifb = torch.tensor([i in train_entities_aifb for i in range(len(labels_aifb))])\n",
    "valid_mask_aifb = torch.tensor([i in valid_entities_aifb for i in range(len(labels_aifb))])\n",
    "test_mask_aifb = torch.tensor([i in test_entities_aifb for i in range(len(labels_aifb))])\n",
    "\n",
    "labels_mutag, train_entities_mutag, valid_entities_mutag, test_entities_mutag, class_mapping_mutag = training_valid_test_set(file_name_train_mutag, file_name_valid_mutag, file_name_test_mutag, map_entity_to_index_mutag_fil, am_mutag_fil.size()[0])\n",
    "train_mask_mutag = torch.tensor([i in train_entities_mutag for i in range(len(labels_mutag))])\n",
    "valid_mask_mutag = torch.tensor([i in valid_entities_mutag for i in range(len(labels_mutag))])\n",
    "test_mask_mutag = torch.tensor([i in test_entities_mutag for i in range(len(labels_mutag))])\n",
    "\n",
    "labels_dmg777k, train_entities_dmg777k, valid_entities_dmg777k, test_entities_dmg777k, class_mapping_dmg777k = training_valid_test_set(file_name_train_dmg777k, file_name_valid_dmg777k, file_name_test_dmg777k, map_entity_to_index_dmg777k_fil, am_dmg777k_fil.size()[0])\n",
    "train_mask_dmg777k = torch.tensor([i in train_entities_dmg777k for i in range(len(labels_dmg777k))])\n",
    "valid_mask_dmg777k = torch.tensor([i in valid_entities_dmg777k for i in range(len(labels_dmg777k))])\n",
    "test_mask_dmg777k = torch.tensor([i in test_entities_dmg777k for i in range(len(labels_dmg777k))])"
   ]
  },
  {
   "cell_type": "code",
   "execution_count": 34,
   "id": "0784c039",
   "metadata": {},
   "outputs": [],
   "source": [
    "non_zero_labels_aifb = labels_aifb[train_mask_aifb | valid_mask_aifb | test_mask_aifb]"
   ]
  },
  {
   "cell_type": "code",
   "execution_count": 35,
   "id": "f3340daf",
   "metadata": {},
   "outputs": [],
   "source": [
    "non_zero_labels_mutag = labels_mutag[train_mask_mutag | valid_mask_mutag | test_mask_mutag]"
   ]
  },
  {
   "cell_type": "code",
   "execution_count": 36,
   "id": "46b8d549",
   "metadata": {},
   "outputs": [],
   "source": [
    "non_zero_labels_dmg777k = labels_dmg777k[train_mask_dmg777k | valid_mask_dmg777k | test_mask_dmg777k]"
   ]
  },
  {
   "cell_type": "code",
   "execution_count": 37,
   "id": "512daf3a",
   "metadata": {},
   "outputs": [
    {
     "data": {
      "text/plain": [
       "{rdflib.term.URIRef('http://www.aifb.uni-karlsruhe.de/Forschungsgruppen/viewForschungsgruppeOWL/id3instance'): 1,\n",
       " rdflib.term.URIRef('http://www.aifb.uni-karlsruhe.de/Forschungsgruppen/viewForschungsgruppeOWL/id2instance'): 2,\n",
       " rdflib.term.URIRef('http://www.aifb.uni-karlsruhe.de/Forschungsgruppen/viewForschungsgruppeOWL/id1instance'): 3,\n",
       " rdflib.term.URIRef('http://www.aifb.uni-karlsruhe.de/Forschungsgruppen/viewForschungsgruppeOWL/id4instance'): 4}"
      ]
     },
     "execution_count": 37,
     "metadata": {},
     "output_type": "execute_result"
    }
   ],
   "source": [
    "class_mapping_aifb"
   ]
  },
  {
   "cell_type": "code",
   "execution_count": 38,
   "id": "5167857b",
   "metadata": {},
   "outputs": [
    {
     "data": {
      "text/plain": [
       "{rdflib.term.Literal('true', datatype=rdflib.term.URIRef('http://www.w3.org/2001/XMLSchema#boolean')): 1,\n",
       " rdflib.term.Literal('false', datatype=rdflib.term.URIRef('http://www.w3.org/2001/XMLSchema#boolean')): 2}"
      ]
     },
     "execution_count": 38,
     "metadata": {},
     "output_type": "execute_result"
    }
   ],
   "source": [
    "class_mapping_mutag"
   ]
  },
  {
   "cell_type": "code",
   "execution_count": 39,
   "id": "129276c9",
   "metadata": {},
   "outputs": [
    {
     "data": {
      "text/plain": [
       "{rdflib.term.URIRef('https://data.labs.pdok.nl/rce/def/woonhuis'): 1,\n",
       " rdflib.term.URIRef('https://data.labs.pdok.nl/rce/def/agrarischGebouw'): 2,\n",
       " rdflib.term.URIRef('https://data.labs.pdok.nl/rce/def/kerk'): 3,\n",
       " rdflib.term.URIRef('https://data.labs.pdok.nl/rce/def/molen'): 4,\n",
       " rdflib.term.URIRef('https://data.labs.pdok.nl/rce/def/kasteelLandhuis'): 5}"
      ]
     },
     "execution_count": 39,
     "metadata": {},
     "output_type": "execute_result"
    }
   ],
   "source": [
    "class_mapping_dmg777k"
   ]
  },
  {
   "cell_type": "markdown",
   "id": "642d550a",
   "metadata": {},
   "source": [
    "## Plot the labels"
   ]
  },
  {
   "cell_type": "code",
   "execution_count": 40,
   "id": "d0e2ae04",
   "metadata": {},
   "outputs": [
    {
     "name": "stdout",
     "output_type": "stream",
     "text": [
      "Label id3instance has 60 instances.\n",
      "Label id2instance has 28 instances.\n",
      "Label id1instance has 73 instances.\n",
      "Label id4instance has 15 instances.\n",
      "Label true has 129 instances.\n",
      "Label false has 211 instances.\n",
      "Label woonhuis has 4012 instances.\n",
      "Label agrarischGebouw has 2329 instances.\n",
      "Label kerk has 1133 instances.\n",
      "Label molen has 603 instances.\n",
      "Label kasteelLandhuis has 319 instances.\n"
     ]
    }
   ],
   "source": [
    "# count the labels and put them in lists\n",
    "\n",
    "# --- AIFB+ -----\n",
    "aifb_labels= list()\n",
    "aifb_nr_labels = list()\n",
    "\n",
    "for key, value in class_mapping_aifb.items():\n",
    "    print(\"Label\", key.split('/')[-1], \"has\", list(non_zero_labels_aifb).count(value), \"instances.\")\n",
    "    aifb_labels.append(key.split('/')[-1])\n",
    "    aifb_nr_labels.append(list(non_zero_labels_aifb).count(value))\n",
    "    \n",
    "# --- MUTAG -----\n",
    "mutag_labels= list()\n",
    "mutag_nr_labels = list()\n",
    "\n",
    "for key, value in class_mapping_mutag.items():\n",
    "    print(\"Label\", key, \"has\", list(non_zero_labels_mutag).count(value), \"instances.\")\n",
    "    mutag_labels.append(str(key))\n",
    "    mutag_nr_labels.append(list(non_zero_labels_mutag).count(value))\n",
    "    \n",
    "    \n",
    "# --- DMG777k -----\n",
    "dmg777k_labels= list()\n",
    "dmg777k_nr_labels = list()\n",
    "\n",
    "for key, value in class_mapping_dmg777k.items():\n",
    "    print(\"Label\", key.split('/')[-1], \"has\", list(non_zero_labels_dmg777k).count(value), \"instances.\")\n",
    "    dmg777k_labels.append(key.split('/')[-1])\n",
    "    dmg777k_nr_labels.append(list(non_zero_labels_dmg777k).count(value))"
   ]
  },
  {
   "cell_type": "code",
   "execution_count": 41,
   "id": "9e522c30",
   "metadata": {},
   "outputs": [
    {
     "data": {
      "image/png": "[encoded data removed]",
      "text/plain": [
       "<Figure size 432x288 with 1 Axes>"
      ]
     },
     "metadata": {
      "needs_background": "light"
     },
     "output_type": "display_data"
    }
   ],
   "source": [
    "# plot this in a bar plot, and save these plots\n",
    "plt.bar(aifb_labels, aifb_nr_labels)\n",
    "plt.xlabel(\"Label\", fontsize=13)\n",
    "plt.xticks(rotation=25)\n",
    "plt.ylabel(\"Number of occurences\", fontsize=13)\n",
    "plt.savefig(\"plots/EDA_graphs/label_division_aifb.png\", dpi=300, bbox_inches='tight')\n",
    "plt.show()"
   ]
  },
  {
   "cell_type": "code",
   "execution_count": 42,
   "id": "09c2fd2f",
   "metadata": {},
   "outputs": [
    {
     "data": {
      "image/png": "[encoded data removed]",
      "text/plain": [
       "<Figure size 432x288 with 1 Axes>"
      ]
     },
     "metadata": {
      "needs_background": "light"
     },
     "output_type": "display_data"
    }
   ],
   "source": [
    "plt.bar(mutag_labels, mutag_nr_labels)\n",
    "plt.xlabel(\"Label\", fontsize=13)\n",
    "plt.xticks(rotation=25)\n",
    "plt.ylabel(\"Number of occurences\", fontsize=13)\n",
    "plt.savefig(\"plots/EDA_graphs/label_division_mutag.png\", dpi=300, bbox_inches='tight')\n",
    "plt.show()"
   ]
  },
  {
   "cell_type": "code",
   "execution_count": 43,
   "id": "4310d55b",
   "metadata": {},
   "outputs": [
    {
     "data": {
      "image/png": "[encoded data removed]",
      "text/plain": [
       "<Figure size 432x288 with 1 Axes>"
      ]
     },
     "metadata": {
      "needs_background": "light"
     },
     "output_type": "display_data"
    }
   ],
   "source": [
    "plt.bar(dmg777k_labels, dmg777k_nr_labels)\n",
    "plt.xlabel(\"Label\", fontsize=13)\n",
    "plt.xticks(rotation=25)\n",
    "plt.ylabel(\"Number of occurences\", fontsize=13)\n",
    "plt.savefig(\"plots/EDA_graphs/label_division_dmg777k.png\", dpi=300, bbox_inches='tight')\n",
    "plt.show()"
   ]
  },
  {
   "cell_type": "code",
   "execution_count": null,
   "id": "25354d58",
   "metadata": {},
   "outputs": [],
   "source": []
  }
 ],
 "metadata": {
  "kernelspec": {
   "display_name": "GraphRepresentationKernel",
   "language": "python",
   "name": "graphrepresentationkernel"
  },
  "language_info": {
   "codemirror_mode": {
    "name": "ipython",
    "version": 3
   },
   "file_extension": ".py",
   "mimetype": "text/x-python",
   "name": "python",
   "nbconvert_exporter": "python",
   "pygments_lexer": "ipython3",
   "version": "3.9.16"
  }
 },
 "nbformat": 4,
 "nbformat_minor": 5
}
