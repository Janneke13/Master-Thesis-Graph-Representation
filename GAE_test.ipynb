{
 "cells": [
  {
   "cell_type": "markdown",
   "id": "8dc8a3d9",
   "metadata": {},
   "source": [
    "# Graph Auto-Encoder (GAE)"
   ]
  },
  {
   "cell_type": "markdown",
   "id": "067a51ef",
   "metadata": {},
   "source": [
    "This file is for design purposes - will first try it with one dataset and one way of representing, and then move on to other datasets and ways of representing it. Follows: https://github.com/pyg-team/pytorch_geometric/blob/master/examples/autoencoder.py as much as possible.\n",
    "\n",
    "**Note: I'm trying to work with sparse matrices as much as possible. If this is not possible, I will need to change back to dense matrices. But for memory efficiency, sparse matrices are much better.**"
   ]
  },
  {
   "cell_type": "markdown",
   "id": "2be77c1d",
   "metadata": {},
   "source": [
    "## Import packages"
   ]
  },
  {
   "cell_type": "code",
   "execution_count": 40,
   "id": "8b8b9482",
   "metadata": {},
   "outputs": [],
   "source": [
    "# import packages\n",
    "import torch\n",
    "import torch_geometric.transforms as trans\n",
    "from torch_geometric.data import Data\n",
    "from torch_geometric.nn import GCNConv\n",
    "from torch_geometric.utils import train_test_split_edges\n",
    "\n",
    "# import python files\n",
    "import reading_data"
   ]
  },
  {
   "cell_type": "markdown",
   "id": "b8dfefe0",
   "metadata": {},
   "source": [
    "## Read in data"
   ]
  },
  {
   "cell_type": "code",
   "execution_count": 3,
   "id": "1e865801",
   "metadata": {},
   "outputs": [],
   "source": [
    "# for the AIFB+, filtered, not-relational, sparse\n",
    "adjacency_matrix, mapping_index_to_node, mapping_entity_to_index = reading_data.create_adjacency_matrix_nt(\"data/aifb/aifb+.nt\", literal_representation=\"filtered\", sparse=True)\n",
    "number_nodes = adjacency_matrix.size()[0]"
   ]
  },
  {
   "cell_type": "code",
   "execution_count": 15,
   "id": "bd5b5c4e",
   "metadata": {},
   "outputs": [
    {
     "data": {
      "text/plain": [
       "tensor([[   0,    0,    0,  ..., 2833, 2834, 2834],\n",
       "        [ 472, 1091, 1195,  ..., 2767,  472,  781]])"
      ]
     },
     "execution_count": 15,
     "metadata": {},
     "output_type": "execute_result"
    }
   ],
   "source": [
    "adjacency_matrix.coalesce().indices()"
   ]
  },
  {
   "cell_type": "markdown",
   "id": "4ddd3ce7",
   "metadata": {},
   "source": [
    "## Create feature matrix (one-hot)"
   ]
  },
  {
   "cell_type": "code",
   "execution_count": 9,
   "id": "3c95510b",
   "metadata": {},
   "outputs": [],
   "source": [
    "feature_matrix = torch.sparse_coo_tensor(indices=torch.tensor([list(range(number_nodes)), list(range(number_nodes))]), values=torch.ones(number_nodes),size=(number_nodes, number_nodes))"
   ]
  },
  {
   "cell_type": "code",
   "execution_count": 10,
   "id": "23771ab5",
   "metadata": {},
   "outputs": [
    {
     "data": {
      "text/plain": [
       "tensor(indices=tensor([[   0,    1,    2,  ..., 2832, 2833, 2834],\n",
       "                       [   0,    1,    2,  ..., 2832, 2833, 2834]]),\n",
       "       values=tensor([1., 1., 1.,  ..., 1., 1., 1.]),\n",
       "       size=(2835, 2835), nnz=2835, layout=torch.sparse_coo)"
      ]
     },
     "execution_count": 10,
     "metadata": {},
     "output_type": "execute_result"
    }
   ],
   "source": [
    "feature_matrix"
   ]
  },
  {
   "cell_type": "markdown",
   "id": "6b685ba7",
   "metadata": {},
   "source": [
    "## Create a data object"
   ]
  },
  {
   "cell_type": "code",
   "execution_count": 51,
   "id": "e08fa15b",
   "metadata": {},
   "outputs": [],
   "source": [
    "data_aifb = Data(x=feature_matrix, edge_index=adjacency_matrix.coalesce().indices(), num_nodes=number_nodes)"
   ]
  },
  {
   "cell_type": "code",
   "execution_count": 52,
   "id": "d1de06c4",
   "metadata": {},
   "outputs": [
    {
     "data": {
      "text/plain": [
       "Data(x=[2835, 2835], edge_index=[2, 20338], num_nodes=2835)"
      ]
     },
     "execution_count": 52,
     "metadata": {},
     "output_type": "execute_result"
    }
   ],
   "source": [
    "data_aifb"
   ]
  },
  {
   "cell_type": "code",
   "execution_count": 53,
   "id": "dcb13e50",
   "metadata": {},
   "outputs": [
    {
     "data": {
      "text/plain": [
       "True"
      ]
     },
     "execution_count": 53,
     "metadata": {},
     "output_type": "execute_result"
    }
   ],
   "source": [
    "data_aifb.is_directed()"
   ]
  },
  {
   "cell_type": "code",
   "execution_count": 54,
   "id": "f4a0d483",
   "metadata": {},
   "outputs": [
    {
     "data": {
      "text/plain": [
       "2835"
      ]
     },
     "execution_count": 54,
     "metadata": {},
     "output_type": "execute_result"
    }
   ],
   "source": [
    "data_aifb.num_node_features"
   ]
  },
  {
   "cell_type": "markdown",
   "id": "c064e502",
   "metadata": {},
   "source": [
    "Split it into three:"
   ]
  },
  {
   "cell_type": "code",
   "execution_count": 55,
   "id": "2632c8ff",
   "metadata": {},
   "outputs": [],
   "source": [
    "from torch_geometric.transforms import RandomLinkSplit\n",
    "\n",
    "transform = RandomLinkSplit(add_negative_train_samples=False)\n",
    "train_data, val_data, test_data = transform(data_aifb)"
   ]
  },
  {
   "cell_type": "code",
   "execution_count": 56,
   "id": "29da6480",
   "metadata": {},
   "outputs": [
    {
     "data": {
      "text/plain": [
       "Data(x=[2835, 2835], edge_index=[2, 14238], num_nodes=2835, edge_label=[14238], edge_label_index=[2, 14238])"
      ]
     },
     "execution_count": 56,
     "metadata": {},
     "output_type": "execute_result"
    }
   ],
   "source": [
    "train_data"
   ]
  },
  {
   "cell_type": "code",
   "execution_count": 57,
   "id": "0ca19330",
   "metadata": {},
   "outputs": [
    {
     "data": {
      "text/plain": [
       "Data(x=[2835, 2835], edge_index=[2, 14238], num_nodes=2835, edge_label=[4066], edge_label_index=[2, 4066])"
      ]
     },
     "execution_count": 57,
     "metadata": {},
     "output_type": "execute_result"
    }
   ],
   "source": [
    "val_data"
   ]
  },
  {
   "cell_type": "code",
   "execution_count": 58,
   "id": "fdf840f3",
   "metadata": {},
   "outputs": [
    {
     "data": {
      "text/plain": [
       "Data(x=[2835, 2835], edge_index=[2, 16271], num_nodes=2835, edge_label=[8134], edge_label_index=[2, 8134])"
      ]
     },
     "execution_count": 58,
     "metadata": {},
     "output_type": "execute_result"
    }
   ],
   "source": [
    "test_data"
   ]
  },
  {
   "cell_type": "markdown",
   "id": "4da7f8c9",
   "metadata": {},
   "source": [
    "Later on, this can be expanded, by, for example, adding labels and training, validation, and testing masks. For only the GAE, though, this is not needed."
   ]
  },
  {
   "cell_type": "markdown",
   "id": "76199c23",
   "metadata": {},
   "source": [
    "## Create the GAE"
   ]
  },
  {
   "cell_type": "code",
   "execution_count": null,
   "id": "c086a74a",
   "metadata": {},
   "outputs": [],
   "source": []
  },
  {
   "cell_type": "markdown",
   "id": "beb0ffed",
   "metadata": {},
   "source": [
    "## Run a training loop"
   ]
  },
  {
   "cell_type": "code",
   "execution_count": null,
   "id": "7d86136b",
   "metadata": {},
   "outputs": [],
   "source": []
  },
  {
   "cell_type": "markdown",
   "id": "799e51b4",
   "metadata": {},
   "source": [
    "## Analysis of results"
   ]
  },
  {
   "cell_type": "code",
   "execution_count": null,
   "id": "1f2fb53d",
   "metadata": {},
   "outputs": [],
   "source": []
  }
 ],
 "metadata": {
  "kernelspec": {
   "display_name": "GraphRepresentationKernel",
   "language": "python",
   "name": "graphrepresentationkernel"
  },
  "language_info": {
   "codemirror_mode": {
    "name": "ipython",
    "version": 3
   },
   "file_extension": ".py",
   "mimetype": "text/x-python",
   "name": "python",
   "nbconvert_exporter": "python",
   "pygments_lexer": "ipython3",
   "version": "3.9.16"
  }
 },
 "nbformat": 4,
 "nbformat_minor": 5
}
