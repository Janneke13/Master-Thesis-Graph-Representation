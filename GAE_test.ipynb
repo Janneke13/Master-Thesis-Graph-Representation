{
 "cells": [
  {
   "cell_type": "markdown",
   "id": "9b31d744",
   "metadata": {},
   "source": [
    "# Graph Auto-Encoder (GAE)"
   ]
  },
  {
   "cell_type": "markdown",
   "id": "c3a596f4",
   "metadata": {},
   "source": [
    "This file is for design purposes - will first try it with one dataset and one way of representing, and then move on to other datasets and ways of representing it. Based on https://github.com/pyg-team/pytorch_geometric/blob/master/examples/autoencoder.py.\n",
    "\n",
    "**Note: I'm trying to work with sparse matrices as much as possible. If this is not possible, I will need to change back to dense matrices. But for memory efficiency, sparse matrices are much better.**"
   ]
  },
  {
   "cell_type": "markdown",
   "id": "8aaab78a",
   "metadata": {},
   "source": [
    "## Import packages"
   ]
  },
  {
   "cell_type": "code",
   "execution_count": 1,
   "id": "02af122a",
   "metadata": {},
   "outputs": [],
   "source": [
    "# import packages\n",
    "import torch\n",
    "from torch_geometric.data import Data\n",
    "from torch_geometric.nn import GCNConv, GAE\n",
    "from torch_geometric.transforms import RandomLinkSplit\n",
    "import torch.nn.functional as F\n",
    "import matplotlib.pyplot as plt\n",
    "import os\n",
    "\n",
    "# import python files needed to create adjacency matrices\n",
    "import reading_data"
   ]
  },
  {
   "cell_type": "markdown",
   "id": "77c5e003",
   "metadata": {},
   "source": [
    "## Read in data"
   ]
  },
  {
   "cell_type": "code",
   "execution_count": 4,
   "id": "301641a2",
   "metadata": {},
   "outputs": [],
   "source": [
    "# for the AIFB+, filtered, not-relational, sparse\n",
    "adjacency_matrix, mapping_index_to_node, mapping_entity_to_index = reading_data.create_adjacency_matrix_nt(\"data/aifb/aifb+.nt\", literal_representation=\"separate\", sparse=True)\n",
    "number_nodes = adjacency_matrix.size()[0]"
   ]
  },
  {
   "cell_type": "code",
   "execution_count": 5,
   "id": "b9a1267d",
   "metadata": {},
   "outputs": [
    {
     "data": {
      "text/plain": [
       "tensor([[    0,     0,     0,  ...,  2834,  2834,  2834],\n",
       "        [   57,   111,   157,  ...,  8718, 10658, 10993]])"
      ]
     },
     "execution_count": 5,
     "metadata": {},
     "output_type": "execute_result"
    }
   ],
   "source": [
    "adjacency_matrix.coalesce().indices()"
   ]
  },
  {
   "cell_type": "markdown",
   "id": "58b2c379",
   "metadata": {},
   "source": [
    "## Create feature matrix (one-hot)"
   ]
  },
  {
   "cell_type": "code",
   "execution_count": 6,
   "id": "feaacec2",
   "metadata": {},
   "outputs": [],
   "source": [
    "feature_matrix = torch.sparse_coo_tensor(indices=torch.tensor([list(range(number_nodes)), list(range(number_nodes))]), values=torch.ones(number_nodes),size=(number_nodes, number_nodes))"
   ]
  },
  {
   "cell_type": "code",
   "execution_count": 7,
   "id": "1e50bc95",
   "metadata": {},
   "outputs": [
    {
     "data": {
      "text/plain": [
       "tensor(indices=tensor([[    0,     1,     2,  ..., 11537, 11538, 11539],\n",
       "                       [    0,     1,     2,  ..., 11537, 11538, 11539]]),\n",
       "       values=tensor([1., 1., 1.,  ..., 1., 1., 1.]),\n",
       "       size=(11540, 11540), nnz=11540, layout=torch.sparse_coo)"
      ]
     },
     "execution_count": 7,
     "metadata": {},
     "output_type": "execute_result"
    }
   ],
   "source": [
    "feature_matrix"
   ]
  },
  {
   "cell_type": "markdown",
   "id": "0f674106",
   "metadata": {},
   "source": [
    "## Create a data object"
   ]
  },
  {
   "cell_type": "code",
   "execution_count": 8,
   "id": "73b4e6a8",
   "metadata": {},
   "outputs": [],
   "source": [
    "data_aifb = Data(x=feature_matrix, edge_index=adjacency_matrix.coalesce().indices(), num_nodes=number_nodes)"
   ]
  },
  {
   "cell_type": "code",
   "execution_count": 9,
   "id": "1856c2ba",
   "metadata": {},
   "outputs": [
    {
     "data": {
      "text/plain": [
       "Data(x=[11540, 11540], edge_index=[2, 29043], num_nodes=11540)"
      ]
     },
     "execution_count": 9,
     "metadata": {},
     "output_type": "execute_result"
    }
   ],
   "source": [
    "data_aifb"
   ]
  },
  {
   "cell_type": "code",
   "execution_count": 10,
   "id": "d0c33533",
   "metadata": {},
   "outputs": [
    {
     "data": {
      "text/plain": [
       "True"
      ]
     },
     "execution_count": 10,
     "metadata": {},
     "output_type": "execute_result"
    }
   ],
   "source": [
    "data_aifb.is_directed()"
   ]
  },
  {
   "cell_type": "code",
   "execution_count": 11,
   "id": "e7c698db",
   "metadata": {},
   "outputs": [
    {
     "data": {
      "text/plain": [
       "11540"
      ]
     },
     "execution_count": 11,
     "metadata": {},
     "output_type": "execute_result"
    }
   ],
   "source": [
    "data_aifb.num_node_features"
   ]
  },
  {
   "cell_type": "markdown",
   "id": "c5e9cef2",
   "metadata": {},
   "source": [
    "**Split it into three:**"
   ]
  },
  {
   "cell_type": "code",
   "execution_count": 12,
   "id": "69715bd5",
   "metadata": {},
   "outputs": [],
   "source": [
    "# set up a link split function --> have to split the labels into positive and negative\n",
    "transformation = RandomLinkSplit(split_labels=True, add_negative_train_samples=False)\n",
    "\n",
    "# split the data into a train, validation and test set\n",
    "aifb_train, aifb_val, aifb_test = transformation(data_aifb)"
   ]
  },
  {
   "cell_type": "code",
   "execution_count": 13,
   "id": "1bdd8765",
   "metadata": {},
   "outputs": [
    {
     "data": {
      "text/plain": [
       "Data(x=[11540, 11540], edge_index=[2, 20331], num_nodes=11540, pos_edge_label=[20331], pos_edge_label_index=[2, 20331])"
      ]
     },
     "execution_count": 13,
     "metadata": {},
     "output_type": "execute_result"
    }
   ],
   "source": [
    "aifb_train"
   ]
  },
  {
   "cell_type": "code",
   "execution_count": 14,
   "id": "f901d68b",
   "metadata": {},
   "outputs": [
    {
     "data": {
      "text/plain": [
       "Data(x=[11540, 11540], edge_index=[2, 20331], num_nodes=11540, pos_edge_label=[2904], pos_edge_label_index=[2, 2904], neg_edge_label=[2904], neg_edge_label_index=[2, 2904])"
      ]
     },
     "execution_count": 14,
     "metadata": {},
     "output_type": "execute_result"
    }
   ],
   "source": [
    "aifb_val"
   ]
  },
  {
   "cell_type": "code",
   "execution_count": 15,
   "id": "178d75dc",
   "metadata": {},
   "outputs": [
    {
     "data": {
      "text/plain": [
       "Data(x=[11540, 11540], edge_index=[2, 23235], num_nodes=11540, pos_edge_label=[5808], pos_edge_label_index=[2, 5808], neg_edge_label=[5808], neg_edge_label_index=[2, 5808])"
      ]
     },
     "execution_count": 15,
     "metadata": {},
     "output_type": "execute_result"
    }
   ],
   "source": [
    "aifb_test"
   ]
  },
  {
   "cell_type": "markdown",
   "id": "b87c467b",
   "metadata": {},
   "source": [
    "Later on, this can be expanded, by, for example, adding labels and training, validation, and testing masks. For only the GAE, though, this is not needed."
   ]
  },
  {
   "cell_type": "markdown",
   "id": "cdb04984",
   "metadata": {},
   "source": [
    "## Create the GCN-encoder and the GAE"
   ]
  },
  {
   "cell_type": "code",
   "execution_count": 16,
   "id": "6547dcbb",
   "metadata": {},
   "outputs": [],
   "source": [
    "class GCN_encoder(torch.nn.Module):\n",
    "    def __init__(self, input_nodes, hidden_nodes, output_nodes):\n",
    "        super().__init__()\n",
    "        self.layer1 = GCNConv(input_nodes, hidden_nodes)\n",
    "        self.layer2 = GCNConv(hidden_nodes, output_nodes)\n",
    "    \n",
    "    def forward(self, X, A):\n",
    "        h1 =  self.layer1(X, A)\n",
    "        h1_activated = F.relu(h1)\n",
    "        h2 = self.layer2(h1_activated, A)\n",
    "        return h2"
   ]
  },
  {
   "cell_type": "code",
   "execution_count": 17,
   "id": "f7ded632",
   "metadata": {},
   "outputs": [],
   "source": [
    "input_n = data_aifb.num_features\n",
    "hidden_n = 200\n",
    "output_n = 30\n",
    "encoder = GCN_encoder(input_n, hidden_n, output_n)\n",
    "model = GAE(encoder) # decoder is not needed, as it is implied"
   ]
  },
  {
   "cell_type": "markdown",
   "id": "3647c7df",
   "metadata": {},
   "source": [
    "## Run a training loop"
   ]
  },
  {
   "cell_type": "code",
   "execution_count": 18,
   "id": "5f0420fd",
   "metadata": {},
   "outputs": [],
   "source": [
    "# needed for the training loop:\n",
    "optimizer = torch.optim.Adam(model.parameters(), lr=0.005)\n",
    "nr_epochs = 100"
   ]
  },
  {
   "cell_type": "code",
   "execution_count": 19,
   "id": "e0243ee3",
   "metadata": {},
   "outputs": [
    {
     "name": "stdout",
     "output_type": "stream",
     "text": [
      "[1.362058162689209, 1.3049805164337158, 1.2319586277008057, 1.1931350231170654, 1.2105778455734253, 1.2018848657608032, 1.1695587635040283, 1.145520567893982, 1.1412158012390137, 1.1530671119689941, 1.174067735671997, 1.2094134092330933, 1.2664648294448853, 1.3396999835968018, 1.4155144691467285, 1.4764573574066162, 1.512782096862793, 1.5221221446990967, 1.50689697265625, 1.4771820306777954, 1.4385019540786743, 1.3998355865478516, 1.3632429838180542, 1.3299636840820312, 1.3024499416351318, 1.2804765701293945, 1.2649717330932617, 1.2546448707580566, 1.2493585348129272, 1.2497787475585938, 1.253612995147705, 1.2611536979675293, 1.2718749046325684, 1.2846753597259521, 1.2986855506896973, 1.315173625946045, 1.3320353031158447, 1.3483083248138428, 1.3620400428771973, 1.3730206489562988, 1.382702112197876, 1.388515830039978, 1.3924429416656494, 1.392345666885376, 1.387614130973816, 1.3797048330307007, 1.3701226711273193, 1.360473871231079, 1.349714756011963, 1.340929388999939, 1.3346142768859863, 1.3303745985031128, 1.3268836736679077, 1.325073480606079, 1.3232674598693848, 1.3215265274047852, 1.3217412233352661, 1.3230609893798828, 1.324354648590088, 1.325666904449463, 1.327439308166504, 1.3284780979156494, 1.327824354171753, 1.3265151977539062, 1.3233888149261475, 1.318002700805664, 1.3140628337860107, 1.3104443550109863, 1.3074312210083008, 1.3057178258895874, 1.3033115863800049, 1.3016977310180664, 1.2995374202728271, 1.296825885772705, 1.295128345489502, 1.2931504249572754, 1.2897039651870728, 1.2876049280166626, 1.2844741344451904, 1.2797355651855469, 1.2722201347351074, 1.2648907899856567, 1.2590076923370361, 1.253650188446045, 1.2467609643936157, 1.2398574352264404, 1.234304428100586, 1.2302480936050415, 1.2276735305786133, 1.224460482597351, 1.220449686050415, 1.2165639400482178, 1.21453857421875, 1.2129992246627808, 1.2121844291687012, 1.2114958763122559, 1.2102231979370117, 1.2095178365707397, 1.208320140838623, 1.2066174745559692]\n",
      "[0.8227725935159257, 0.8035299344876261, 0.789189497814357, 0.7853117363530117, 0.7833966899460418, 0.7745462110777195, 0.7308121243425996, 0.707428399794337, 0.7026808040965629, 0.7006684045564586, 0.6980173400040981, 0.6960579451540195, 0.6953524017409254, 0.6953333105662182, 0.6947775913720222, 0.6935864680805045, 0.6920573361336886, 0.6901249179435224, 0.6892801038180452, 0.690032248670021, 0.6919202591277159, 0.6934372960445931, 0.6948532445985018, 0.6963483444512746, 0.6971950558363499, 0.697879255078964, 0.6984557255500154, 0.6989900412843688, 0.6994936451289757, 0.7000132571014427, 0.7004931452010716, 0.7006908752248252, 0.7006116053472364, 0.7003267792500512, 0.7002881225857371, 0.700237845206384, 0.7001350374519044, 0.7000006877566043, 0.6998624249633829, 0.6997280159787203, 0.699686928450546, 0.6997768111240125, 0.6998120290053047, 0.6999188684364304, 0.6999947588203599, 0.6999932172969363, 0.6999862211521679, 0.7001777257928647, 0.7004491524941374, 0.7008107583156888, 0.7011318102133278, 0.701389837518688, 0.7016204731385987, 0.7017927680258634, 0.7019705175344731, 0.7021418045025765, 0.7023027751216143, 0.7026221076277425, 0.7026982351691218, 0.7025801307591315, 0.70271614055658, 0.7031860680433182, 0.7031349013235284, 0.7026079967594806, 0.7024137055187487, 0.7021367056174062, 0.7016582997518384, 0.7014600361238227, 0.701484581919875, 0.7018408516988063, 0.7020242336968483, 0.7024606034044426, 0.7030616789609089, 0.7041369508382094, 0.7056373274442396, 0.7078358362930582, 0.7108066483770841, 0.713289034693289, 0.7153395572934453, 0.7169185515940775, 0.7191881483884677, 0.72180506226806, 0.7233206169508762, 0.7241826249914624, 0.7251922042551738, 0.7266179948432484, 0.727439804696097, 0.7281963369608937, 0.728816740849517, 0.7294581924618082, 0.7298803920117782, 0.7305511918584796, 0.7319001434328256, 0.7331641333507881, 0.734128711988404, 0.7346640356419188, 0.734741348970547, 0.7351816317760627, 0.7357377067064332, 0.7366954077780055]\n",
      "[0.8587107368647058, 0.8544910975190617, 0.848650384021276, 0.8475654922122562, 0.8476650050634952, 0.8457172049568741, 0.8320046782811183, 0.8251985890414152, 0.8241776119754657, 0.8228605206178558, 0.8204439356267766, 0.8186424693716355, 0.8179189892362895, 0.8177102601046238, 0.817196636263986, 0.8162868835460879, 0.8151197240340333, 0.8136495435815992, 0.8129847205835086, 0.8136043886330655, 0.815299071318346, 0.8169626679479911, 0.818386515729312, 0.8196860245777008, 0.8205353159463151, 0.8211187533583408, 0.8215380962020876, 0.8218769234585122, 0.8221499701530137, 0.8223935897386241, 0.8226005409189291, 0.8225890993722623, 0.8224565448896644, 0.8222477289665877, 0.8221304792139632, 0.821995177111281, 0.8218112341814376, 0.821590511967889, 0.821399861203437, 0.8212282324635883, 0.8211369054740045, 0.8211524915133395, 0.8211741275123982, 0.8212773913511044, 0.8213652976849886, 0.8214055653953648, 0.8214978922144498, 0.821675660129368, 0.8218905018072125, 0.8221633066064062, 0.822453142398795, 0.8226730838721661, 0.8228698061196283, 0.823004959706793, 0.8231048283856062, 0.8232061445670212, 0.8232844511432139, 0.8234814440763553, 0.8235266616608727, 0.8234690834906264, 0.8235681528995444, 0.8239016593451893, 0.8238943337005882, 0.8235479454772033, 0.8234208933296917, 0.8232266882477663, 0.8229984571218776, 0.8228898337321218, 0.8227717875959054, 0.8227659399068237, 0.8225958227463757, 0.8225096794872248, 0.8225194608405918, 0.8227304573524324, 0.8232574728134819, 0.8240717439094278, 0.8252879506762107, 0.8263396989432372, 0.8269343801816837, 0.827252061740118, 0.8281399322247129, 0.8293247588906216, 0.8300212504593871, 0.830415313787437, 0.8307829937818559, 0.8314760495048196, 0.8317989651590991, 0.8321978764044038, 0.8325234741594509, 0.8327426998279939, 0.832644318479441, 0.832737443173066, 0.8332971330667467, 0.8339664590599961, 0.8344422530310294, 0.8345223008370926, 0.8341608655374642, 0.8340918113156026, 0.8343627706164884, 0.8349089148726874]\n"
     ]
    }
   ],
   "source": [
    "recon_valid_run = list()\n",
    "auc_valid_run = list()\n",
    "ap_valid_run = list()\n",
    "\n",
    "for epoch in range(nr_epochs):\n",
    "    # set to training mode, put the grads to zero:\n",
    "    model.train()\n",
    "    optimizer.zero_grad()\n",
    "    \n",
    "    # encode everything in latent space using the encoder\n",
    "    latent_space = model.encode(aifb_train.x, aifb_train.edge_index)\n",
    "    \n",
    "    # calculate the reconstruction loss and perform the backwards operation\n",
    "    reconstruction_loss = model.recon_loss(latent_space, aifb_train.pos_edge_label_index)\n",
    "    reconstruction_loss.backward()\n",
    "    \n",
    "    # update the parameters\n",
    "    optimizer.step()\n",
    "    \n",
    "    # clip weights?\n",
    "    # --- also, other optimization steps here ----\n",
    "    \n",
    "    # now, evaluate the model as it currently is, and save this information:\n",
    "    model.eval()\n",
    "    latent_space_valid = model.encode(aifb_val.x, aifb_val.edge_index)\n",
    "    reconstruction_loss_valid = model.recon_loss(latent_space_valid, aifb_val.pos_edge_label_index, aifb_val.neg_edge_label_index) \n",
    "    AUC_valid, average_precision_valid = model.test(latent_space_valid, aifb_val.pos_edge_label_index, aifb_val.neg_edge_label_index)\n",
    "    \n",
    "    recon_valid_run.append(reconstruction_loss_valid.item())\n",
    "    auc_valid_run.append(AUC_valid.item())\n",
    "    ap_valid_run.append(average_precision_valid.item())\n",
    "\n",
    "print(recon_valid_run)\n",
    "print(auc_valid_run)\n",
    "print(ap_valid_run)"
   ]
  },
  {
   "cell_type": "markdown",
   "id": "f71d3480",
   "metadata": {},
   "source": [
    "## Analysis of results"
   ]
  },
  {
   "cell_type": "code",
   "execution_count": 20,
   "id": "b1b0febd",
   "metadata": {},
   "outputs": [
    {
     "data": {
      "text/plain": [
       "[<matplotlib.lines.Line2D at 0x7fb2e6d11f10>]"
      ]
     },
     "execution_count": 20,
     "metadata": {},
     "output_type": "execute_result"
    },
    {
     "data": {
      "image/png": "[encoded data removed]",
      "text/plain": [
       "<Figure size 432x288 with 1 Axes>"
      ]
     },
     "metadata": {
      "needs_background": "light"
     },
     "output_type": "display_data"
    }
   ],
   "source": [
    "plt.plot(recon_valid_run)"
   ]
  },
  {
   "cell_type": "code",
   "execution_count": 21,
   "id": "ca86fe9c",
   "metadata": {},
   "outputs": [
    {
     "data": {
      "text/plain": [
       "[<matplotlib.lines.Line2D at 0x7fb2e7c92fd0>]"
      ]
     },
     "execution_count": 21,
     "metadata": {},
     "output_type": "execute_result"
    },
    {
     "data": {
      "image/png": "[encoded data removed]",
      "text/plain": [
       "<Figure size 432x288 with 1 Axes>"
      ]
     },
     "metadata": {
      "needs_background": "light"
     },
     "output_type": "display_data"
    }
   ],
   "source": [
    "plt.plot(auc_valid_run)"
   ]
  },
  {
   "cell_type": "code",
   "execution_count": 22,
   "id": "1aa738e2",
   "metadata": {},
   "outputs": [
    {
     "data": {
      "text/plain": [
       "[<matplotlib.lines.Line2D at 0x7fb2e7d79070>]"
      ]
     },
     "execution_count": 22,
     "metadata": {},
     "output_type": "execute_result"
    },
    {
     "data": {
      "image/png": "[encoded data removed]",
      "text/plain": [
       "<Figure size 432x288 with 1 Axes>"
      ]
     },
     "metadata": {
      "needs_background": "light"
     },
     "output_type": "display_data"
    }
   ],
   "source": [
    "plt.plot(ap_valid_run)"
   ]
  },
  {
   "cell_type": "markdown",
   "id": "23feec8b",
   "metadata": {},
   "source": [
    "## The streamlined version:"
   ]
  },
  {
   "cell_type": "code",
   "execution_count": 2,
   "id": "2ae8f732",
   "metadata": {},
   "outputs": [],
   "source": [
    "import GAE_model\n",
    "\n",
    "# run_gae_model(dataset_filename, literal_representation, hidden_nodes, output_nodes, optimizer, learning_rate,\n",
    "#                  weight_decay, nr_epochs, seed, test=True, record_results=False)\n",
    "\n",
    "GAE_model.run_gae_model(dataset_filename=\"data/aifb/aifb+.nt\", literal_representation=\"collapsed\", hidden_nodes=100, output_nodes=30, optimizer=\"adam\", learning_rate=0.05,\n",
    "                  weight_decay=0.001, nr_epochs=100, seed=10, test=True, record_results=True)"
   ]
  },
  {
   "cell_type": "code",
   "execution_count": null,
   "id": "1ab86f96",
   "metadata": {},
   "outputs": [],
   "source": []
  }
 ],
 "metadata": {
  "kernelspec": {
   "display_name": "GraphRepresentationKernel",
   "language": "python",
   "name": "graphrepresentationkernel"
  },
  "language_info": {
   "codemirror_mode": {
    "name": "ipython",
    "version": 3
   },
   "file_extension": ".py",
   "mimetype": "text/x-python",
   "name": "python",
   "nbconvert_exporter": "python",
   "pygments_lexer": "ipython3",
   "version": "3.9.16"
  }
 },
 "nbformat": 4,
 "nbformat_minor": 5
}
