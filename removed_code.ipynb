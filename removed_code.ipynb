{
 "cells": [
  {
   "cell_type": "code",
   "execution_count": 1,
   "id": "af48fc24",
   "metadata": {},
   "outputs": [],
   "source": [
    "import gzip "
   ]
  },
  {
   "cell_type": "markdown",
   "id": "0fa1adce",
   "metadata": {},
   "source": [
    "### Alternative way, if file is too big (should not be the problem)"
   ]
  },
  {
   "cell_type": "code",
   "execution_count": 2,
   "id": "09151738",
   "metadata": {},
   "outputs": [],
   "source": [
    "# read in the file for the training data\n",
    "triples_train = gzip.open('data/aifb/gz_files/aifb+_train_set.nt.gz','rt').read().splitlines()\n",
    "\n",
    "# read in the file for the validation data\n",
    "triples_validation = gzip.open('data/aifb/gz_files/aifb+_valid_set.nt.gz','rt').read().splitlines()\n",
    "\n",
    "# read in the file for the test data\n",
    "triples_test = gzip.open('data/aifb/gz_files/aifb+_test_set.nt.gz','rt').read().splitlines()"
   ]
  },
  {
   "cell_type": "markdown",
   "id": "2b78c3b9",
   "metadata": {},
   "source": [
    "### Show an example of this format."
   ]
  },
  {
   "cell_type": "code",
   "execution_count": 3,
   "id": "7252feb5",
   "metadata": {},
   "outputs": [
    {
     "data": {
      "text/plain": [
       "['<http://www.aifb.uni-karlsruhe.de/Personen/viewPersonOWL/id1909instance> <http://swrc.ontoware.org/ontology#employs> <http://www.aifb.uni-karlsruhe.de/Forschungsgruppen/viewForschungsgruppeOWL/id1instance> .',\n",
       " '<http://www.aifb.uni-karlsruhe.de/Personen/viewPersonOWL/id2040instance> <http://swrc.ontoware.org/ontology#employs> <http://www.aifb.uni-karlsruhe.de/Forschungsgruppen/viewForschungsgruppeOWL/id3instance> .',\n",
       " '<http://www.aifb.uni-karlsruhe.de/Personen/viewPersonOWL/id46instance> <http://swrc.ontoware.org/ontology#employs> <http://www.aifb.uni-karlsruhe.de/Forschungsgruppen/viewForschungsgruppeOWL/id2instance> .',\n",
       " '<http://www.aifb.uni-karlsruhe.de/Personen/viewPersonOWL/id3instance> <http://swrc.ontoware.org/ontology#employs> <http://www.aifb.uni-karlsruhe.de/Forschungsgruppen/viewForschungsgruppeOWL/id2instance> .',\n",
       " '<http://www.aifb.uni-karlsruhe.de/Personen/viewPersonOWL/id1842instance> <http://swrc.ontoware.org/ontology#employs> <http://www.aifb.uni-karlsruhe.de/Forschungsgruppen/viewForschungsgruppeOWL/id1instance> .',\n",
       " '<http://www.aifb.uni-karlsruhe.de/Personen/viewPersonOWL/id1992instance> <http://swrc.ontoware.org/ontology#employs> <http://www.aifb.uni-karlsruhe.de/Forschungsgruppen/viewForschungsgruppeOWL/id1instance> .',\n",
       " '<http://www.aifb.uni-karlsruhe.de/Personen/viewPersonOWL/id2039instance> <http://swrc.ontoware.org/ontology#employs> <http://www.aifb.uni-karlsruhe.de/Forschungsgruppen/viewForschungsgruppeOWL/id1instance> .',\n",
       " '<http://www.aifb.uni-karlsruhe.de/Personen/viewPersonOWL/id2058instance> <http://swrc.ontoware.org/ontology#employs> <http://www.aifb.uni-karlsruhe.de/Forschungsgruppen/viewForschungsgruppeOWL/id1instance> .',\n",
       " '<http://www.aifb.uni-karlsruhe.de/Personen/viewPersonOWL/id1900instance> <http://swrc.ontoware.org/ontology#employs> <http://www.aifb.uni-karlsruhe.de/Forschungsgruppen/viewForschungsgruppeOWL/id1instance> .',\n",
       " '<http://www.aifb.uni-karlsruhe.de/Personen/viewPersonOWL/id2044instance> <http://swrc.ontoware.org/ontology#employs> <http://www.aifb.uni-karlsruhe.de/Forschungsgruppen/viewForschungsgruppeOWL/id1instance> .']"
      ]
     },
     "execution_count": 3,
     "metadata": {},
     "output_type": "execute_result"
    }
   ],
   "source": [
    "triples_train[0:10]"
   ]
  },
  {
   "cell_type": "code",
   "execution_count": null,
   "id": "5f6562a0",
   "metadata": {},
   "outputs": [],
   "source": []
  }
 ],
 "metadata": {
  "kernelspec": {
   "display_name": "GraphRepresentationKernel",
   "language": "python",
   "name": "graphrepresentationkernel"
  },
  "language_info": {
   "codemirror_mode": {
    "name": "ipython",
    "version": 3
   },
   "file_extension": ".py",
   "mimetype": "text/x-python",
   "name": "python",
   "nbconvert_exporter": "python",
   "pygments_lexer": "ipython3",
   "version": "3.9.16"
  }
 },
 "nbformat": 4,
 "nbformat_minor": 5
}
