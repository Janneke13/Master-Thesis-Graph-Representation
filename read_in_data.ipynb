{
 "cells": [
  {
   "cell_type": "markdown",
   "id": "b46bf8ec",
   "metadata": {},
   "source": [
    "## Reading data - putting it into adjacency matrices and performing some statistic tests"
   ]
  },
  {
   "cell_type": "code",
   "execution_count": 1,
   "id": "16842686",
   "metadata": {},
   "outputs": [],
   "source": [
    "# import packages\n",
    "import torch\n",
    "from rdflib import Graph, Literal\n",
    "import gzip\n",
    "\n",
    "# import python files\n",
    "import reading_data"
   ]
  },
  {
   "cell_type": "markdown",
   "id": "4a656f73",
   "metadata": {},
   "source": [
    "This is for the AIFB+ data, but I will make it more general later on, so everthing works."
   ]
  },
  {
   "cell_type": "markdown",
   "id": "6d9a222d",
   "metadata": {},
   "source": [
    "### Read in the graph:"
   ]
  },
  {
   "cell_type": "markdown",
   "id": "a4c3fed7",
   "metadata": {},
   "source": [
    "**Note:** when I use the training, validation and test set given, it only includes the labels? \"Node\" \"Employs\" \"ID\", ID is the class here I think."
   ]
  },
  {
   "cell_type": "code",
   "execution_count": 3,
   "id": "fedb042f",
   "metadata": {},
   "outputs": [
    {
     "name": "stdout",
     "output_type": "stream",
     "text": [
      "29043\n"
     ]
    }
   ],
   "source": [
    "# create a graph with rdflib --> reads .nt files automatically\n",
    "graph_test = Graph()\n",
    "#graph_test.parse(\"data/aifb/aifb+.nt\")\n",
    "\n",
    "with gzip.open(\"data/aifb/gz_files/aifb+.nt.gz\", 'r') as gf:\n",
    "  graph_test.parse(data=gf.read(), format='nt')\n",
    "\n",
    "# print the amount of triples as a test\n",
    "print(len(graph_test))"
   ]
  },
  {
   "cell_type": "markdown",
   "id": "dd5af162",
   "metadata": {},
   "source": [
    "Note: this will be a very large adjacency matrix, but for the actual computation, it can be sliced."
   ]
  },
  {
   "cell_type": "code",
   "execution_count": 4,
   "id": "4a7ff9d0",
   "metadata": {},
   "outputs": [],
   "source": [
    "# make two sets(!) to find out the amount of unique nodes and literals --> to create the adjacency matrix\n",
    "# for now, disregard the relations --> are included later on, when R-GCN is created\n",
    "entities = set()\n",
    "literals = set()\n",
    "nr_literals_total = 0 # count -- so the ratio between unique and total is clear\n",
    "\n",
    "for head, relation, tail in graph_test:\n",
    "    # note: heads can ONLY be entities\n",
    "    \n",
    "    entities.add(head)\n",
    "    \n",
    "    # add the tail to its respective set\n",
    "    if isinstance(tail, Literal):\n",
    "        literals.add(tail)\n",
    "        nr_literals_total += 1\n",
    "    else:\n",
    "        entities.add(tail)"
   ]
  },
  {
   "cell_type": "code",
   "execution_count": 5,
   "id": "0dff60f1",
   "metadata": {},
   "outputs": [
    {
     "name": "stdout",
     "output_type": "stream",
     "text": [
      "Number of entities:  2835\n",
      "Number of unique literals: 5468\n",
      "Number of literals in total:  8705\n"
     ]
    }
   ],
   "source": [
    "print('Number of entities: ', len(entities))\n",
    "print('Number of unique literals:', len(literals))\n",
    "print('Number of literals in total: ', nr_literals_total)"
   ]
  },
  {
   "cell_type": "markdown",
   "id": "40ffae63",
   "metadata": {},
   "source": [
    "### Put it into adjacency matrix (tensors) - disregarding literals:"
   ]
  },
  {
   "cell_type": "code",
   "execution_count": 5,
   "id": "c67344de",
   "metadata": {},
   "outputs": [],
   "source": [
    "number_nodes = len(entities)\n",
    "adjacency_matrix = torch.zeros(number_nodes, number_nodes)"
   ]
  },
  {
   "cell_type": "code",
   "execution_count": 6,
   "id": "32c6e712",
   "metadata": {},
   "outputs": [
    {
     "data": {
      "text/plain": [
       "tensor([[0., 0., 0.,  ..., 0., 0., 0.],\n",
       "        [0., 0., 0.,  ..., 0., 0., 0.],\n",
       "        [0., 0., 0.,  ..., 0., 0., 0.],\n",
       "        ...,\n",
       "        [0., 0., 0.,  ..., 0., 0., 0.],\n",
       "        [0., 0., 0.,  ..., 0., 0., 0.],\n",
       "        [0., 0., 0.,  ..., 0., 0., 0.]])"
      ]
     },
     "execution_count": 6,
     "metadata": {},
     "output_type": "execute_result"
    }
   ],
   "source": [
    "adjacency_matrix"
   ]
  },
  {
   "cell_type": "code",
   "execution_count": 7,
   "id": "01afb982",
   "metadata": {},
   "outputs": [],
   "source": [
    "# as calling '.index()' every time would result in a O(n^2) complexity, first the mapping is created\n",
    "# so it's faster to look up both from entity to index and from index to entity\n",
    "# there might be a better way to do this --> this takes up memory!\n",
    "map_ent_to_ind = dict()\n",
    "map_ind_to_ent = dict()\n",
    "\n",
    "# increments so every entity gets a different index\n",
    "current = 0\n",
    "\n",
    "for entity in list(entities):\n",
    "    map_ent_to_ind[entity] = current\n",
    "    map_ind_to_ent[current] = entity\n",
    "    current += 1"
   ]
  },
  {
   "cell_type": "code",
   "execution_count": 8,
   "id": "4410dc60",
   "metadata": {},
   "outputs": [],
   "source": [
    "indices = [[],[]]\n",
    "values = []\n",
    "size = [number_nodes, number_nodes]\n",
    "\n",
    "for head, relation, tail in graph_test:\n",
    "    # check whether this is a relational triple:\n",
    "    if not isinstance(tail, Literal):\n",
    "        # find out where one needs to be added:\n",
    "        row_selected = map_ent_to_ind[head]\n",
    "        column_selected = map_ent_to_ind[tail]\n",
    "        adjacency_matrix[row_selected, column_selected] += 1"
   ]
  },
  {
   "cell_type": "code",
   "execution_count": 9,
   "id": "1495c579",
   "metadata": {},
   "outputs": [
    {
     "data": {
      "text/plain": [
       "tensor(20338.)"
      ]
     },
     "execution_count": 9,
     "metadata": {},
     "output_type": "execute_result"
    }
   ],
   "source": [
    "sum(sum(adjacency_matrix))"
   ]
  },
  {
   "cell_type": "code",
   "execution_count": 10,
   "id": "0c10b6d7",
   "metadata": {},
   "outputs": [
    {
     "data": {
      "text/plain": [
       "tensor([1., 2., 1.,  ..., 1., 0., 2.])"
      ]
     },
     "execution_count": 10,
     "metadata": {},
     "output_type": "execute_result"
    }
   ],
   "source": [
    "sum(adjacency_matrix)"
   ]
  },
  {
   "cell_type": "markdown",
   "id": "846115c7",
   "metadata": {},
   "source": [
    "### Put it into adjacency matrix (sparse) - disregarding literals:"
   ]
  },
  {
   "cell_type": "markdown",
   "id": "f31fdbd2",
   "metadata": {},
   "source": [
    "#### Will not show this for all techniques, as the general technique is the same --> creating lists, making a sparse tensor out of that list."
   ]
  },
  {
   "cell_type": "code",
   "execution_count": 11,
   "id": "529ff9b3",
   "metadata": {},
   "outputs": [],
   "source": [
    "number_nodes = len(entities)"
   ]
  },
  {
   "cell_type": "code",
   "execution_count": 12,
   "id": "90f7b920",
   "metadata": {},
   "outputs": [],
   "source": [
    "# as calling '.index()' every time would result in a O(n^2) complexity, first the mapping is created\n",
    "# so it's faster to look up both from entity to index and from index to entity\n",
    "# there might be a better way to do this --> this takes up memory!\n",
    "map_ent_to_ind = dict()\n",
    "map_ind_to_ent = dict()\n",
    "\n",
    "# increments so every entity gets a different index\n",
    "current = 0\n",
    "\n",
    "for entity in list(entities):\n",
    "    map_ent_to_ind[entity] = current\n",
    "    map_ind_to_ent[current] = entity\n",
    "    current += 1"
   ]
  },
  {
   "cell_type": "code",
   "execution_count": 13,
   "id": "31012762",
   "metadata": {},
   "outputs": [],
   "source": [
    "# named differently in the function itself, in the separate file\n",
    "heads = list()\n",
    "tails = list()\n",
    "values = list()\n",
    "\n",
    "for head, relation, tail in graph_test:\n",
    "    # check whether this is a relational triple:\n",
    "    if not isinstance(tail, Literal):\n",
    "        # find out where one needs to be added:\n",
    "        row_selected = map_ent_to_ind[head]\n",
    "        column_selected = map_ent_to_ind[tail]\n",
    "        \n",
    "        heads.append(row_selected)\n",
    "        tails.append(column_selected)\n",
    "        values.append(1.)"
   ]
  },
  {
   "cell_type": "code",
   "execution_count": 14,
   "id": "77e16e84",
   "metadata": {},
   "outputs": [],
   "source": [
    "adjacency_matrix = adjacency_matrix = torch.sparse_coo_tensor(indices=torch.tensor([heads, tails]),values=torch.tensor(values), size=(number_nodes, number_nodes))"
   ]
  },
  {
   "cell_type": "code",
   "execution_count": 15,
   "id": "e6be3827",
   "metadata": {},
   "outputs": [
    {
     "data": {
      "text/plain": [
       "tensor(indices=tensor([[2777,  330, 1626,  ..., 2112,  267,  474],\n",
       "                       [1158, 1676, 1026,  ..., 1418, 2269, 2069]]),\n",
       "       values=tensor([1., 1., 1.,  ..., 1., 1., 1.]),\n",
       "       size=(2835, 2835), nnz=20338, layout=torch.sparse_coo)"
      ]
     },
     "execution_count": 15,
     "metadata": {},
     "output_type": "execute_result"
    }
   ],
   "source": [
    "adjacency_matrix"
   ]
  },
  {
   "cell_type": "code",
   "execution_count": 16,
   "id": "e3e09979",
   "metadata": {},
   "outputs": [
    {
     "data": {
      "text/plain": [
       "tensor(20338.)"
      ]
     },
     "execution_count": 16,
     "metadata": {},
     "output_type": "execute_result"
    }
   ],
   "source": [
    "torch.sparse.sum(adjacency_matrix)"
   ]
  },
  {
   "cell_type": "code",
   "execution_count": 17,
   "id": "04d01bf7",
   "metadata": {},
   "outputs": [
    {
     "data": {
      "text/plain": [
       "tensor(indices=tensor([[   0,    1,    2,  ..., 2831, 2832, 2834]]),\n",
       "       values=tensor([ 1.,  2.,  1.,  ..., 35.,  1.,  2.]),\n",
       "       size=(2835,), nnz=2640, layout=torch.sparse_coo)"
      ]
     },
     "execution_count": 17,
     "metadata": {},
     "output_type": "execute_result"
    }
   ],
   "source": [
    "torch.sparse.sum(adjacency_matrix, dim=0)"
   ]
  },
  {
   "cell_type": "markdown",
   "id": "c9ad5b60",
   "metadata": {},
   "source": [
    "### Put it into adjacency matrix (tensors) - collapsing literals:"
   ]
  },
  {
   "cell_type": "code",
   "execution_count": 18,
   "id": "8415d287",
   "metadata": {},
   "outputs": [],
   "source": [
    "number_nodes = len(entities) + len(literals)\n",
    "adjacency_matrix = torch.zeros(number_nodes, number_nodes)"
   ]
  },
  {
   "cell_type": "code",
   "execution_count": 19,
   "id": "ee315ebd",
   "metadata": {},
   "outputs": [
    {
     "data": {
      "text/plain": [
       "tensor([[0., 0., 0.,  ..., 0., 0., 0.],\n",
       "        [0., 0., 0.,  ..., 0., 0., 0.],\n",
       "        [0., 0., 0.,  ..., 0., 0., 0.],\n",
       "        ...,\n",
       "        [0., 0., 0.,  ..., 0., 0., 0.],\n",
       "        [0., 0., 0.,  ..., 0., 0., 0.],\n",
       "        [0., 0., 0.,  ..., 0., 0., 0.]])"
      ]
     },
     "execution_count": 19,
     "metadata": {},
     "output_type": "execute_result"
    }
   ],
   "source": [
    "adjacency_matrix"
   ]
  },
  {
   "cell_type": "code",
   "execution_count": 20,
   "id": "f3716461",
   "metadata": {},
   "outputs": [],
   "source": [
    "map_ent_to_ind = dict()\n",
    "map_ind_to_ent = dict()\n",
    "\n",
    "# increments so every entity gets a different index\n",
    "current = 0\n",
    "\n",
    "for entity in list(entities):\n",
    "    map_ent_to_ind[entity] = current\n",
    "    map_ind_to_ent[current] = entity\n",
    "    current += 1\n",
    "\n",
    "for literal in list(literals):\n",
    "    map_ent_to_ind[literal] = current\n",
    "    map_ind_to_ent[current] = literal\n",
    "    current += 1"
   ]
  },
  {
   "cell_type": "code",
   "execution_count": 21,
   "id": "eeffbe6e",
   "metadata": {},
   "outputs": [],
   "source": [
    "# treat everything the same\n",
    "for head, relation, tail in graph_test:\n",
    "    row_selected = map_ent_to_ind[head]\n",
    "    column_selected = map_ent_to_ind[tail]\n",
    "    adjacency_matrix[row_selected, column_selected] += 1"
   ]
  },
  {
   "cell_type": "code",
   "execution_count": 22,
   "id": "7dba0c51",
   "metadata": {},
   "outputs": [
    {
     "data": {
      "text/plain": [
       "tensor([1., 2., 1.,  ..., 1., 1., 1.])"
      ]
     },
     "execution_count": 22,
     "metadata": {},
     "output_type": "execute_result"
    }
   ],
   "source": [
    "adjacency_matrix.sum(dim=0)"
   ]
  },
  {
   "cell_type": "markdown",
   "id": "4bc94f70",
   "metadata": {},
   "source": [
    "### Put it into adjacency matrix (tensors) - separating literals:"
   ]
  },
  {
   "cell_type": "code",
   "execution_count": 23,
   "id": "15e1409e",
   "metadata": {},
   "outputs": [],
   "source": [
    "number_nodes = len(entities) + nr_literals_total\n",
    "adjacency_matrix = torch.zeros(number_nodes, number_nodes)"
   ]
  },
  {
   "cell_type": "code",
   "execution_count": 24,
   "id": "802e01c5",
   "metadata": {},
   "outputs": [],
   "source": [
    "map_ent_to_ind = dict()\n",
    "map_ind_to_ent = dict()\n",
    "\n",
    "# increments so every entity gets a different index\n",
    "current = 0\n",
    "\n",
    "for entity in list(entities):\n",
    "    map_ent_to_ind[entity] = current\n",
    "    map_ind_to_ent[current] = entity\n",
    "    current += 1"
   ]
  },
  {
   "cell_type": "code",
   "execution_count": 25,
   "id": "53d3cd13",
   "metadata": {},
   "outputs": [],
   "source": [
    "# add everything to the adjency matrix - use the same 'current' as before\n",
    "for head, relation, tail in graph_test:\n",
    "    # check whether this is a relational triple:\n",
    "    if not isinstance(tail, Literal):\n",
    "        row_selected = map_ent_to_ind[head]\n",
    "        column_selected = map_ent_to_ind[tail]\n",
    "        adjacency_matrix[row_selected, column_selected] += 1\n",
    "    # else, add it in a new row (literals only have one connection):\n",
    "    else:\n",
    "        row_selected = map_ent_to_ind[head]\n",
    "        column_selected = current\n",
    "        \n",
    "        map_ent_to_ind[entity] = current\n",
    "        map_ind_to_ent[current] = entity\n",
    "        \n",
    "        adjacency_matrix[row_selected, column_selected] += 1\n",
    "        current += 1"
   ]
  },
  {
   "cell_type": "code",
   "execution_count": 26,
   "id": "ee49e921",
   "metadata": {},
   "outputs": [
    {
     "data": {
      "text/plain": [
       "tensor([1., 2., 1.,  ..., 1., 1., 1.])"
      ]
     },
     "execution_count": 26,
     "metadata": {},
     "output_type": "execute_result"
    }
   ],
   "source": [
    "adjacency_matrix.sum(dim=0)"
   ]
  },
  {
   "cell_type": "markdown",
   "id": "9b565fb0",
   "metadata": {},
   "source": [
    "### Try it for multiple datasets, so everything works smoothly:"
   ]
  },
  {
   "cell_type": "markdown",
   "id": "48d09677",
   "metadata": {},
   "source": [
    "I put it in a separate file - testing this method here as well - whether it works for both AIFB+ and MUTAG. "
   ]
  },
  {
   "cell_type": "markdown",
   "id": "455b1b94",
   "metadata": {},
   "source": [
    "## AIFB+"
   ]
  },
  {
   "cell_type": "markdown",
   "id": "b2c1b1c9",
   "metadata": {},
   "source": [
    "### Not relational:"
   ]
  },
  {
   "cell_type": "markdown",
   "id": "cea20756",
   "metadata": {},
   "source": [
    "**Filtered:**"
   ]
  },
  {
   "cell_type": "code",
   "execution_count": 27,
   "id": "5fa70303",
   "metadata": {},
   "outputs": [
    {
     "name": "stdout",
     "output_type": "stream",
     "text": [
      "torch.Size([2835, 2835])\n"
     ]
    },
    {
     "data": {
      "text/plain": [
       "tensor(20338.)"
      ]
     },
     "execution_count": 27,
     "metadata": {},
     "output_type": "execute_result"
    }
   ],
   "source": [
    "# dense\n",
    "adj_mat_fil, map_ent_fil, map_ent_to_ind_fil = reading_data.create_adjacency_matrix_nt(\"data/aifb/aifb+.nt\", literal_representation=\"filtered\")\n",
    "print(adj_mat_fil.shape)\n",
    "adj_mat_fil.sum()"
   ]
  },
  {
   "cell_type": "code",
   "execution_count": 28,
   "id": "2bc4eb6d",
   "metadata": {},
   "outputs": [
    {
     "name": "stdout",
     "output_type": "stream",
     "text": [
      "torch.Size([2835, 2835])\n"
     ]
    },
    {
     "data": {
      "text/plain": [
       "tensor(20338.)"
      ]
     },
     "execution_count": 28,
     "metadata": {},
     "output_type": "execute_result"
    }
   ],
   "source": [
    "# sparse\n",
    "adj_mat_fil, map_ent_fil, map_ent_to_ind_fil = reading_data.create_adjacency_matrix_nt(\"data/aifb/aifb+.nt\", literal_representation=\"filtered\", sparse=True)\n",
    "print(adj_mat_fil.size())\n",
    "torch.sparse.sum(adj_mat_fil)"
   ]
  },
  {
   "cell_type": "markdown",
   "id": "4800f079",
   "metadata": {},
   "source": [
    "**All-to-one:**"
   ]
  },
  {
   "cell_type": "code",
   "execution_count": 29,
   "id": "eb676688",
   "metadata": {},
   "outputs": [
    {
     "name": "stdout",
     "output_type": "stream",
     "text": [
      "torch.Size([2836, 2836])\n"
     ]
    },
    {
     "data": {
      "text/plain": [
       "tensor(29043.)"
      ]
     },
     "execution_count": 29,
     "metadata": {},
     "output_type": "execute_result"
    }
   ],
   "source": [
    "# dense\n",
    "adj_mat_all, map_ent_all, map_ent_to_ind_all = reading_data.create_adjacency_matrix_nt(\"data/aifb/aifb+.nt\", literal_representation=\"all-to-one\")\n",
    "print(adj_mat_all.shape)\n",
    "adj_mat_all.sum()"
   ]
  },
  {
   "cell_type": "code",
   "execution_count": 30,
   "id": "7c3bbb7b",
   "metadata": {},
   "outputs": [
    {
     "name": "stdout",
     "output_type": "stream",
     "text": [
      "torch.Size([2836, 2836])\n"
     ]
    },
    {
     "data": {
      "text/plain": [
       "tensor(29043.)"
      ]
     },
     "execution_count": 30,
     "metadata": {},
     "output_type": "execute_result"
    }
   ],
   "source": [
    "# sparse\n",
    "adj_mat_all, map_ent_all, map_ent_to_ind_all = reading_data.create_adjacency_matrix_nt(\"data/aifb/aifb+.nt\", literal_representation=\"all-to-one\", sparse=True)\n",
    "print(adj_mat_all.size())\n",
    "torch.sparse.sum(adj_mat_all)"
   ]
  },
  {
   "cell_type": "markdown",
   "id": "5526c503",
   "metadata": {},
   "source": [
    "**Collapsed:**"
   ]
  },
  {
   "cell_type": "code",
   "execution_count": 31,
   "id": "c083cedd",
   "metadata": {},
   "outputs": [
    {
     "name": "stdout",
     "output_type": "stream",
     "text": [
      "torch.Size([8303, 8303])\n"
     ]
    },
    {
     "data": {
      "text/plain": [
       "tensor(29043.)"
      ]
     },
     "execution_count": 31,
     "metadata": {},
     "output_type": "execute_result"
    }
   ],
   "source": [
    "# dense\n",
    "adj_mat_col, map_ent_col, map_ent_to_ind_col = reading_data.create_adjacency_matrix_nt(\"data/aifb/aifb+.nt\", literal_representation=\"collapsed\")\n",
    "print(adj_mat_col.shape)\n",
    "adj_mat_col.sum()"
   ]
  },
  {
   "cell_type": "code",
   "execution_count": 32,
   "id": "be830324",
   "metadata": {},
   "outputs": [
    {
     "name": "stdout",
     "output_type": "stream",
     "text": [
      "torch.Size([8303, 8303])\n"
     ]
    },
    {
     "data": {
      "text/plain": [
       "tensor(29043.)"
      ]
     },
     "execution_count": 32,
     "metadata": {},
     "output_type": "execute_result"
    }
   ],
   "source": [
    "# sparse\n",
    "adj_mat_col, map_ent_col, map_ent_to_ind_col = reading_data.create_adjacency_matrix_nt(\"data/aifb/aifb+.nt\", literal_representation=\"collapsed\", sparse=True)\n",
    "print(adj_mat_col.size())\n",
    "torch.sparse.sum(adj_mat_col)"
   ]
  },
  {
   "cell_type": "markdown",
   "id": "4d6274d7",
   "metadata": {},
   "source": [
    "**Separate:**"
   ]
  },
  {
   "cell_type": "code",
   "execution_count": 33,
   "id": "6340f4a6",
   "metadata": {},
   "outputs": [
    {
     "name": "stdout",
     "output_type": "stream",
     "text": [
      "torch.Size([11540, 11540])\n"
     ]
    },
    {
     "data": {
      "text/plain": [
       "tensor(29043.)"
      ]
     },
     "execution_count": 33,
     "metadata": {},
     "output_type": "execute_result"
    }
   ],
   "source": [
    "# dense\n",
    "adj_mat_sep, map_ent_sep, map_ent_to_ind_sep = reading_data.create_adjacency_matrix_nt(\"data/aifb/aifb+.nt\", literal_representation=\"separate\")\n",
    "print(adj_mat_sep.shape)\n",
    "adj_mat_sep.sum()"
   ]
  },
  {
   "cell_type": "code",
   "execution_count": 34,
   "id": "60330b06",
   "metadata": {},
   "outputs": [
    {
     "name": "stdout",
     "output_type": "stream",
     "text": [
      "torch.Size([11540, 11540])\n"
     ]
    },
    {
     "data": {
      "text/plain": [
       "tensor(29043.)"
      ]
     },
     "execution_count": 34,
     "metadata": {},
     "output_type": "execute_result"
    }
   ],
   "source": [
    "# sparse\n",
    "adj_mat_sep, map_ent_sep, map_ent_to_ind_sep= reading_data.create_adjacency_matrix_nt(\"data/aifb/aifb+.nt\", literal_representation=\"separate\", sparse=True)\n",
    "print(adj_mat_sep.size())\n",
    "torch.sparse.sum(adj_mat_sep)"
   ]
  },
  {
   "cell_type": "markdown",
   "id": "089ebac4",
   "metadata": {},
   "source": [
    "### Relational:"
   ]
  },
  {
   "cell_type": "markdown",
   "id": "0a089b1f",
   "metadata": {},
   "source": [
    "As a quick test, I look whether the number of relations is correct --> very hard to check whether it all gets to the same thing, so if it is correct, but this is a quick check to see whether everything works properly, and is mapped properly."
   ]
  },
  {
   "cell_type": "markdown",
   "id": "6c532d70",
   "metadata": {},
   "source": [
    "**Filtered:**"
   ]
  },
  {
   "cell_type": "code",
   "execution_count": 35,
   "id": "0ec25cc0",
   "metadata": {},
   "outputs": [
    {
     "name": "stdout",
     "output_type": "stream",
     "text": [
      "torch.Size([2835, 2835, 22])\n",
      "20338.0\n"
     ]
    },
    {
     "data": {
      "text/plain": [
       "tensor([1.5200e+02, 3.3900e+02, 9.5200e+02, 7.9000e+01, 4.1630e+03, 2.0000e+02,\n",
       "        1.0000e+00, 5.7100e+02, 6.8000e+01, 4.1240e+03, 1.9900e+02, 6.5000e+01,\n",
       "        5.0000e+00, 1.2170e+03, 3.5700e+02, 1.5200e+02, 7.9000e+01, 3.9860e+03,\n",
       "        2.4770e+03, 9.5200e+02, 1.9000e+02, 1.0000e+01])"
      ]
     },
     "execution_count": 35,
     "metadata": {},
     "output_type": "execute_result"
    }
   ],
   "source": [
    "# dense\n",
    "adj_mat_fil, map_ent_fil, map_ent_to_ind_fil, map_rel_fil = reading_data.create_adjacency_matrix_nt(\"data/aifb/aifb+.nt\", literal_representation=\"filtered\", relational=True)\n",
    "print(adj_mat_fil.shape)\n",
    "print(adj_mat_fil.sum().item())\n",
    "adj_mat_fil.sum(dim=[0,1])"
   ]
  },
  {
   "cell_type": "code",
   "execution_count": 36,
   "id": "630fca17",
   "metadata": {},
   "outputs": [
    {
     "name": "stdout",
     "output_type": "stream",
     "text": [
      "torch.Size([2835, 2835, 22])\n",
      "20338.0\n"
     ]
    },
    {
     "data": {
      "text/plain": [
       "tensor([1.5200e+02, 3.3900e+02, 9.5200e+02, 7.9000e+01, 4.1630e+03, 2.0000e+02,\n",
       "        1.0000e+00, 5.7100e+02, 6.8000e+01, 4.1240e+03, 1.9900e+02, 6.5000e+01,\n",
       "        5.0000e+00, 1.2170e+03, 1.5200e+02, 3.5700e+02, 7.9000e+01, 3.9860e+03,\n",
       "        2.4770e+03, 9.5200e+02, 1.9000e+02, 1.0000e+01])"
      ]
     },
     "execution_count": 36,
     "metadata": {},
     "output_type": "execute_result"
    }
   ],
   "source": [
    "# sparse\n",
    "adj_mat_fil, map_ent_fil, map_ent_to_ind_fil, map_rel_fil = reading_data.create_adjacency_matrix_nt(\"data/aifb/aifb+.nt\", literal_representation=\"filtered\", relational=True, sparse=True)\n",
    "print(adj_mat_fil.size())\n",
    "print(torch.sparse.sum(adj_mat_fil).item())\n",
    "torch.sparse.sum(adj_mat_fil, dim=[0,1]).values()"
   ]
  },
  {
   "cell_type": "markdown",
   "id": "9f9a8596",
   "metadata": {},
   "source": [
    "**All-to-one:**"
   ]
  },
  {
   "cell_type": "code",
   "execution_count": 37,
   "id": "c37e8cbe",
   "metadata": {},
   "outputs": [
    {
     "name": "stdout",
     "output_type": "stream",
     "text": [
      "torch.Size([2836, 2836, 45])\n",
      "29043.0\n"
     ]
    },
    {
     "data": {
      "text/plain": [
       "tensor([1.3020e+03, 1.5200e+02, 3.3900e+02, 9.5200e+02, 2.3900e+02, 7.9000e+01,\n",
       "        4.1630e+03, 2.2700e+02, 5.4800e+02, 2.0000e+02, 1.2270e+03, 4.9000e+01,\n",
       "        1.0000e+00, 1.5000e+01, 2.2700e+02, 1.1400e+02, 5.7100e+02, 7.5900e+02,\n",
       "        6.8000e+01, 1.4500e+02, 5.0000e+01, 1.0000e+01, 1.9900e+02, 4.1240e+03,\n",
       "        1.2270e+03, 6.5000e+01, 1.2900e+02, 5.0000e+00, 3.1100e+02, 1.2170e+03,\n",
       "        3.5700e+02, 7.9000e+01, 1.5200e+02, 1.6000e+01, 7.6500e+02, 3.9860e+03,\n",
       "        2.9800e+02, 1.6100e+02, 2.4770e+03, 2.0200e+02, 1.2000e+01, 9.5200e+02,\n",
       "        1.9000e+02, 1.4800e+02, 5.3400e+02])"
      ]
     },
     "execution_count": 37,
     "metadata": {},
     "output_type": "execute_result"
    }
   ],
   "source": [
    "# dense\n",
    "adj_mat_all, map_ent_all, map_ent_to_ind_all, map_rel_all = reading_data.create_adjacency_matrix_nt(\"data/aifb/aifb+.nt\", literal_representation=\"all-to-one\", relational=True)\n",
    "print(adj_mat_all.shape)\n",
    "print(adj_mat_all.sum().item())\n",
    "adj_mat_all.sum(dim=[0,1])"
   ]
  },
  {
   "cell_type": "code",
   "execution_count": 38,
   "id": "13394835",
   "metadata": {},
   "outputs": [
    {
     "name": "stdout",
     "output_type": "stream",
     "text": [
      "torch.Size([2836, 2836, 45])\n",
      "29043.0\n"
     ]
    },
    {
     "data": {
      "text/plain": [
       "tensor([1.3020e+03, 1.5200e+02, 3.3900e+02, 9.5200e+02, 2.3900e+02, 7.9000e+01,\n",
       "        4.1630e+03, 2.2700e+02, 5.4800e+02, 2.0000e+02, 1.2270e+03, 4.9000e+01,\n",
       "        1.0000e+00, 1.5000e+01, 2.2700e+02, 1.1400e+02, 5.7100e+02, 7.5900e+02,\n",
       "        6.8000e+01, 1.4500e+02, 5.0000e+01, 1.0000e+01, 4.1240e+03, 1.9900e+02,\n",
       "        1.2270e+03, 6.5000e+01, 1.2900e+02, 5.0000e+00, 3.1100e+02, 1.2170e+03,\n",
       "        3.5700e+02, 1.5200e+02, 7.9000e+01, 1.6000e+01, 7.6500e+02, 3.9860e+03,\n",
       "        2.9800e+02, 1.6100e+02, 2.4770e+03, 2.0200e+02, 1.2000e+01, 9.5200e+02,\n",
       "        1.9000e+02, 1.4800e+02, 5.3400e+02])"
      ]
     },
     "execution_count": 38,
     "metadata": {},
     "output_type": "execute_result"
    }
   ],
   "source": [
    "# sparse\n",
    "adj_mat_all, map_ent_all, map_ent_to_ind_all, map_rel_all = reading_data.create_adjacency_matrix_nt(\"data/aifb/aifb+.nt\", literal_representation=\"all-to-one\", relational=True, sparse=True)\n",
    "print(adj_mat_all.size())\n",
    "print(torch.sparse.sum(adj_mat_all).item())\n",
    "torch.sparse.sum(adj_mat_all, dim=[0,1]).values()"
   ]
  },
  {
   "cell_type": "markdown",
   "id": "fb8818ed",
   "metadata": {},
   "source": [
    "**Collapsed:**"
   ]
  },
  {
   "cell_type": "code",
   "execution_count": 39,
   "id": "351beb32",
   "metadata": {},
   "outputs": [
    {
     "name": "stdout",
     "output_type": "stream",
     "text": [
      "torch.Size([8303, 8303, 45])\n",
      "29043.0\n"
     ]
    },
    {
     "data": {
      "text/plain": [
       "tensor([1.3020e+03, 1.5200e+02, 3.3900e+02, 9.5200e+02, 2.3900e+02, 7.9000e+01,\n",
       "        4.1630e+03, 2.2700e+02, 5.4800e+02, 2.0000e+02, 1.2270e+03, 4.9000e+01,\n",
       "        1.0000e+00, 1.5000e+01, 2.2700e+02, 1.1400e+02, 5.7100e+02, 7.5900e+02,\n",
       "        6.8000e+01, 1.4500e+02, 5.0000e+01, 1.0000e+01, 1.9900e+02, 4.1240e+03,\n",
       "        1.2270e+03, 6.5000e+01, 1.2900e+02, 5.0000e+00, 3.1100e+02, 1.2170e+03,\n",
       "        1.5200e+02, 3.5700e+02, 7.9000e+01, 1.6000e+01, 7.6500e+02, 3.9860e+03,\n",
       "        2.9800e+02, 1.6100e+02, 2.4770e+03, 2.0200e+02, 1.2000e+01, 9.5200e+02,\n",
       "        1.9000e+02, 1.4800e+02, 5.3400e+02])"
      ]
     },
     "execution_count": 39,
     "metadata": {},
     "output_type": "execute_result"
    }
   ],
   "source": [
    "# dense\n",
    "adj_mat_col, map_ent_col, map_ent_to_ind_col, map_rel_col = reading_data.create_adjacency_matrix_nt(\"data/aifb/aifb+.nt\", literal_representation=\"collapsed\", relational=True)\n",
    "print(adj_mat_col.shape)\n",
    "print(adj_mat_col.sum().item())\n",
    "adj_mat_col.sum(dim=[0,1])"
   ]
  },
  {
   "cell_type": "code",
   "execution_count": 40,
   "id": "366e8555",
   "metadata": {},
   "outputs": [
    {
     "name": "stdout",
     "output_type": "stream",
     "text": [
      "torch.Size([8303, 8303, 45])\n",
      "29043.0\n"
     ]
    },
    {
     "data": {
      "text/plain": [
       "tensor([1.3020e+03, 1.5200e+02, 3.3900e+02, 9.5200e+02, 2.3900e+02, 7.9000e+01,\n",
       "        4.1630e+03, 2.2700e+02, 5.4800e+02, 2.0000e+02, 1.2270e+03, 4.9000e+01,\n",
       "        1.0000e+00, 1.5000e+01, 2.2700e+02, 1.1400e+02, 5.7100e+02, 7.5900e+02,\n",
       "        6.8000e+01, 1.4500e+02, 5.0000e+01, 1.0000e+01, 4.1240e+03, 1.9900e+02,\n",
       "        1.2270e+03, 6.5000e+01, 1.2900e+02, 5.0000e+00, 3.1100e+02, 1.2170e+03,\n",
       "        3.5700e+02, 1.5200e+02, 7.9000e+01, 1.6000e+01, 7.6500e+02, 3.9860e+03,\n",
       "        2.9800e+02, 1.6100e+02, 2.4770e+03, 2.0200e+02, 1.2000e+01, 9.5200e+02,\n",
       "        1.9000e+02, 1.4800e+02, 5.3400e+02])"
      ]
     },
     "execution_count": 40,
     "metadata": {},
     "output_type": "execute_result"
    }
   ],
   "source": [
    "# sparse\n",
    "adj_mat_col, map_ent_col, map_ent_to_ind_col, map_rel_col = reading_data.create_adjacency_matrix_nt(\"data/aifb/aifb+.nt\", literal_representation=\"collapsed\", relational=True, sparse=True)\n",
    "print(adj_mat_col.size())\n",
    "print(torch.sparse.sum(adj_mat_col).item())\n",
    "torch.sparse.sum(adj_mat_col, dim=[0,1]).values()"
   ]
  },
  {
   "cell_type": "markdown",
   "id": "8e3e1685",
   "metadata": {},
   "source": [
    "**Separate:**"
   ]
  },
  {
   "cell_type": "code",
   "execution_count": 41,
   "id": "33f7feb0",
   "metadata": {},
   "outputs": [
    {
     "name": "stdout",
     "output_type": "stream",
     "text": [
      "torch.Size([11540, 11540, 45])\n",
      "29043.0\n"
     ]
    },
    {
     "data": {
      "text/plain": [
       "tensor([1.3020e+03, 1.5200e+02, 3.3900e+02, 9.5200e+02, 2.3900e+02, 7.9000e+01,\n",
       "        4.1630e+03, 2.2700e+02, 5.4800e+02, 2.0000e+02, 1.2270e+03, 4.9000e+01,\n",
       "        1.0000e+00, 1.5000e+01, 2.2700e+02, 1.1400e+02, 5.7100e+02, 7.5900e+02,\n",
       "        6.8000e+01, 1.4500e+02, 5.0000e+01, 1.0000e+01, 4.1240e+03, 1.9900e+02,\n",
       "        1.2270e+03, 6.5000e+01, 1.2900e+02, 5.0000e+00, 3.1100e+02, 1.2170e+03,\n",
       "        3.5700e+02, 1.5200e+02, 7.9000e+01, 1.6000e+01, 7.6500e+02, 3.9860e+03,\n",
       "        2.9800e+02, 1.6100e+02, 2.4770e+03, 2.0200e+02, 1.2000e+01, 9.5200e+02,\n",
       "        1.9000e+02, 1.4800e+02, 5.3400e+02])"
      ]
     },
     "execution_count": 41,
     "metadata": {},
     "output_type": "execute_result"
    }
   ],
   "source": [
    "# dense\n",
    "adj_mat_sep, map_ent_sep, map_ent_to_ind_sep, map_rel_sep = reading_data.create_adjacency_matrix_nt(\"data/aifb/aifb+.nt\", literal_representation=\"separate\", relational=True)\n",
    "print(adj_mat_sep.shape)\n",
    "print(adj_mat_sep.sum().item())\n",
    "adj_mat_sep.sum(dim=[0,1])"
   ]
  },
  {
   "cell_type": "code",
   "execution_count": 42,
   "id": "db9eddd3",
   "metadata": {},
   "outputs": [
    {
     "name": "stdout",
     "output_type": "stream",
     "text": [
      "torch.Size([11540, 11540, 45])\n",
      "29043.0\n"
     ]
    },
    {
     "data": {
      "text/plain": [
       "tensor([1.3020e+03, 1.5200e+02, 3.3900e+02, 9.5200e+02, 2.3900e+02, 7.9000e+01,\n",
       "        4.1630e+03, 2.2700e+02, 5.4800e+02, 2.0000e+02, 1.2270e+03, 4.9000e+01,\n",
       "        1.0000e+00, 1.5000e+01, 2.2700e+02, 1.1400e+02, 5.7100e+02, 7.5900e+02,\n",
       "        6.8000e+01, 1.4500e+02, 5.0000e+01, 1.0000e+01, 4.1240e+03, 1.9900e+02,\n",
       "        1.2270e+03, 6.5000e+01, 1.2900e+02, 5.0000e+00, 3.1100e+02, 1.2170e+03,\n",
       "        3.5700e+02, 1.5200e+02, 7.9000e+01, 1.6000e+01, 7.6500e+02, 3.9860e+03,\n",
       "        2.9800e+02, 1.6100e+02, 2.4770e+03, 2.0200e+02, 1.2000e+01, 9.5200e+02,\n",
       "        1.9000e+02, 1.4800e+02, 5.3400e+02])"
      ]
     },
     "execution_count": 42,
     "metadata": {},
     "output_type": "execute_result"
    }
   ],
   "source": [
    "# sparse\n",
    "adj_mat_sep, map_ent_sep, map_ent_to_ind_sep,  map_rel_sep = reading_data.create_adjacency_matrix_nt(\"data/aifb/aifb+.nt\", literal_representation=\"separate\", relational=True, sparse=True)\n",
    "print(adj_mat_sep.size())\n",
    "print(torch.sparse.sum(adj_mat_sep).item())\n",
    "torch.sparse.sum(adj_mat_sep, dim=[0,1]).values()"
   ]
  },
  {
   "cell_type": "markdown",
   "id": "86a5ee84",
   "metadata": {},
   "source": [
    "## MUTAG"
   ]
  },
  {
   "cell_type": "markdown",
   "id": "599eb0d9",
   "metadata": {},
   "source": [
    "As the dense versions of MUTAG take long to create, and sometimes crash due to the excessive memory use, for the MUTAG part, only the sparse COO matrices are used to demonstrate that they are correctly read in."
   ]
  },
  {
   "cell_type": "markdown",
   "id": "b17b4efb",
   "metadata": {},
   "source": [
    "### Not relational:"
   ]
  },
  {
   "cell_type": "code",
   "execution_count": 43,
   "id": "f0d6a095",
   "metadata": {},
   "outputs": [
    {
     "name": "stdout",
     "output_type": "stream",
     "text": [
      "torch.Size([22540, 22540])\n"
     ]
    },
    {
     "data": {
      "text/plain": [
       "tensor(63382.)"
      ]
     },
     "execution_count": 43,
     "metadata": {},
     "output_type": "execute_result"
    }
   ],
   "source": [
    "adj_mat_fil, map_ent_to_ind_fil, map_ent_fil = reading_data.create_adjacency_matrix_nt(\"data/mutag/mutag.nt\", literal_representation=\"filtered\", sparse=True)\n",
    "print(adj_mat_fil.size())\n",
    "torch.sparse.sum(adj_mat_fil)"
   ]
  },
  {
   "cell_type": "code",
   "execution_count": 44,
   "id": "66ddd7c5",
   "metadata": {},
   "outputs": [
    {
     "name": "stdout",
     "output_type": "stream",
     "text": [
      "torch.Size([22541, 22541])\n"
     ]
    },
    {
     "data": {
      "text/plain": [
       "tensor(74227.)"
      ]
     },
     "execution_count": 44,
     "metadata": {},
     "output_type": "execute_result"
    }
   ],
   "source": [
    "adj_mat_all, map_ent_to_ind_all, map_ent_all = reading_data.create_adjacency_matrix_nt(\"data/mutag/mutag.nt\", literal_representation=\"all-to-one\", sparse=True)\n",
    "print(adj_mat_all.size())\n",
    "torch.sparse.sum(adj_mat_all)"
   ]
  },
  {
   "cell_type": "code",
   "execution_count": 45,
   "id": "e479f9be",
   "metadata": {},
   "outputs": [
    {
     "name": "stdout",
     "output_type": "stream",
     "text": [
      "torch.Size([23644, 23644])\n"
     ]
    },
    {
     "data": {
      "text/plain": [
       "tensor(74227.)"
      ]
     },
     "execution_count": 45,
     "metadata": {},
     "output_type": "execute_result"
    }
   ],
   "source": [
    "adj_mat_col, map_ent_to_ind_col, map_ent_col = reading_data.create_adjacency_matrix_nt(\"data/mutag/mutag.nt\", literal_representation=\"collapsed\", sparse=True)\n",
    "print(adj_mat_col.size())\n",
    "torch.sparse.sum(adj_mat_col)"
   ]
  },
  {
   "cell_type": "code",
   "execution_count": 46,
   "id": "410dc8fa",
   "metadata": {},
   "outputs": [
    {
     "name": "stdout",
     "output_type": "stream",
     "text": [
      "torch.Size([33385, 33385])\n"
     ]
    },
    {
     "data": {
      "text/plain": [
       "tensor(74227.)"
      ]
     },
     "execution_count": 46,
     "metadata": {},
     "output_type": "execute_result"
    }
   ],
   "source": [
    "adj_mat_sep, map_ent_to_ind_sep, map_ent_sep = reading_data.create_adjacency_matrix_nt(\"data/mutag/mutag.nt\", literal_representation=\"separate\", sparse=True)\n",
    "print(adj_mat_sep.size())\n",
    "torch.sparse.sum(adj_mat_sep)"
   ]
  },
  {
   "cell_type": "markdown",
   "id": "52b2a7df",
   "metadata": {},
   "source": [
    "### Relational:"
   ]
  },
  {
   "cell_type": "markdown",
   "id": "3d24338e",
   "metadata": {},
   "source": [
    "**Filtered:**"
   ]
  },
  {
   "cell_type": "code",
   "execution_count": 47,
   "id": "a7e8f190",
   "metadata": {},
   "outputs": [
    {
     "name": "stdout",
     "output_type": "stream",
     "text": [
      "torch.Size([22540, 22540, 9])\n",
      "63382.0\n"
     ]
    },
    {
     "data": {
      "text/plain": [
       "tensor(indices=tensor([[0, 1, 2, 3, 4, 5, 6, 7, 8]]),\n",
       "       values=tensor([6.0000e+00, 1.9000e+01, 2.2534e+04, 1.3800e+02,\n",
       "                      3.5260e+03, 1.9000e+01, 9.1890e+03, 1.8634e+04,\n",
       "                      9.3170e+03]),\n",
       "       size=(9,), nnz=9, layout=torch.sparse_coo)"
      ]
     },
     "execution_count": 47,
     "metadata": {},
     "output_type": "execute_result"
    }
   ],
   "source": [
    "adj_mat_fil, map_ent_fil, map_ent_to_ind_fil, map_rel_fil = reading_data.create_adjacency_matrix_nt(\"data/mutag/mutag.nt\", literal_representation=\"filtered\", relational=True, sparse=True)\n",
    "print(adj_mat_fil.size())\n",
    "print(torch.sparse.sum(adj_mat_fil).item())\n",
    "torch.sparse.sum(adj_mat_fil, dim=[0,1])"
   ]
  },
  {
   "cell_type": "markdown",
   "id": "7082ffe1",
   "metadata": {},
   "source": [
    "**All-to-one:**"
   ]
  },
  {
   "cell_type": "code",
   "execution_count": 48,
   "id": "a79a36fb",
   "metadata": {},
   "outputs": [
    {
     "name": "stdout",
     "output_type": "stream",
     "text": [
      "torch.Size([22541, 22541, 23])\n",
      "74227.0\n"
     ]
    },
    {
     "data": {
      "text/plain": [
       "tensor(indices=tensor([[ 0,  1,  2,  3,  4,  5,  6,  7,  8,  9, 10, 11, 12, 13,\n",
       "                        14, 15, 16, 17, 18, 19, 20, 21, 22]]),\n",
       "       values=tensor([6.0000e+00, 1.9000e+01, 1.3000e+01, 6.1000e+01,\n",
       "                      3.0500e+02, 2.8300e+02, 5.0000e+00, 3.5000e+01,\n",
       "                      2.9300e+02, 3.5260e+03, 3.4000e+02, 9.1890e+03,\n",
       "                      1.9000e+01, 1.3000e+01, 2.2534e+04, 2.0300e+02,\n",
       "                      1.3800e+02, 2.5000e+01, 9.3170e+03, 5.5000e+01,\n",
       "                      2.5000e+01, 9.1890e+03, 1.8634e+04]),\n",
       "       size=(23,), nnz=23, layout=torch.sparse_coo)"
      ]
     },
     "execution_count": 48,
     "metadata": {},
     "output_type": "execute_result"
    }
   ],
   "source": [
    "adj_mat_all, map_ent_all, map_ent_to_ind_all, map_rel_all = reading_data.create_adjacency_matrix_nt(\"data/mutag/mutag.nt\", literal_representation=\"all-to-one\", relational=True, sparse=True)\n",
    "print(adj_mat_all.size())\n",
    "print(torch.sparse.sum(adj_mat_all).item())\n",
    "torch.sparse.sum(adj_mat_all, dim=[0,1])"
   ]
  },
  {
   "cell_type": "markdown",
   "id": "aaede8a5",
   "metadata": {},
   "source": [
    "**Collapsed:**"
   ]
  },
  {
   "cell_type": "code",
   "execution_count": 49,
   "id": "9aebebcc",
   "metadata": {},
   "outputs": [
    {
     "name": "stdout",
     "output_type": "stream",
     "text": [
      "torch.Size([23644, 23644, 23])\n",
      "74227.0\n"
     ]
    },
    {
     "data": {
      "text/plain": [
       "tensor(indices=tensor([[ 0,  1,  2,  3,  4,  5,  6,  7,  8,  9, 10, 11, 12, 13,\n",
       "                        14, 15, 16, 17, 18, 19, 20, 21, 22]]),\n",
       "       values=tensor([6.0000e+00, 1.9000e+01, 1.3000e+01, 6.1000e+01,\n",
       "                      3.0500e+02, 2.8300e+02, 5.0000e+00, 3.5000e+01,\n",
       "                      2.9300e+02, 3.5260e+03, 3.4000e+02, 9.1890e+03,\n",
       "                      1.9000e+01, 1.3000e+01, 2.2534e+04, 2.0300e+02,\n",
       "                      1.3800e+02, 2.5000e+01, 9.3170e+03, 5.5000e+01,\n",
       "                      2.5000e+01, 9.1890e+03, 1.8634e+04]),\n",
       "       size=(23,), nnz=23, layout=torch.sparse_coo)"
      ]
     },
     "execution_count": 49,
     "metadata": {},
     "output_type": "execute_result"
    }
   ],
   "source": [
    "adj_mat_col, map_ent_col, map_ent_to_ind_col, map_rel_col = reading_data.create_adjacency_matrix_nt(\"data/mutag/mutag.nt\", literal_representation=\"collapsed\", relational=True, sparse=True)\n",
    "print(adj_mat_col.size())\n",
    "print(torch.sparse.sum(adj_mat_col).item())\n",
    "torch.sparse.sum(adj_mat_col, dim=[0,1])"
   ]
  },
  {
   "cell_type": "markdown",
   "id": "70c0a56e",
   "metadata": {},
   "source": [
    "**Separate:**"
   ]
  },
  {
   "cell_type": "code",
   "execution_count": 50,
   "id": "447bac3b",
   "metadata": {},
   "outputs": [
    {
     "name": "stdout",
     "output_type": "stream",
     "text": [
      "torch.Size([33385, 33385, 23])\n",
      "74227.0\n"
     ]
    },
    {
     "data": {
      "text/plain": [
       "tensor(indices=tensor([[ 0,  1,  2,  3,  4,  5,  6,  7,  8,  9, 10, 11, 12, 13,\n",
       "                        14, 15, 16, 17, 18, 19, 20, 21, 22]]),\n",
       "       values=tensor([6.0000e+00, 1.9000e+01, 1.3000e+01, 6.1000e+01,\n",
       "                      3.0500e+02, 2.8300e+02, 5.0000e+00, 3.5000e+01,\n",
       "                      2.9300e+02, 3.5260e+03, 3.4000e+02, 9.1890e+03,\n",
       "                      1.9000e+01, 1.3000e+01, 2.2534e+04, 2.0300e+02,\n",
       "                      1.3800e+02, 2.5000e+01, 9.3170e+03, 5.5000e+01,\n",
       "                      2.5000e+01, 9.1890e+03, 1.8634e+04]),\n",
       "       size=(23,), nnz=23, layout=torch.sparse_coo)"
      ]
     },
     "execution_count": 50,
     "metadata": {},
     "output_type": "execute_result"
    }
   ],
   "source": [
    "adj_mat_sep, map_ent_sep, map_rel_sep = reading_data.create_adjacency_matrix_nt(\"data/mutag/mutag.nt\", literal_representation=\"separate\", relational=True, sparse=True)\n",
    "print(adj_mat_sep.size())\n",
    "print(torch.sparse.sum(adj_mat_sep).item())\n",
    "torch.sparse.sum(adj_mat_sep, dim=[0,1])"
   ]
  },
  {
   "cell_type": "markdown",
   "id": "8dda7668",
   "metadata": {},
   "source": [
    "### dmg777k"
   ]
  },
  {
   "cell_type": "markdown",
   "id": "553527d2",
   "metadata": {},
   "source": [
    "**Not relational:**"
   ]
  },
  {
   "cell_type": "code",
   "execution_count": 2,
   "id": "8ddea199",
   "metadata": {},
   "outputs": [
    {
     "name": "stderr",
     "output_type": "stream",
     "text": [
      "Failed to convert Literal lexical form to value. Datatype=http://www.w3.org/2001/XMLSchema#date, Converter=<function parse_date at 0x7fb6dac4c5e0>\n",
      "Traceback (most recent call last):\n",
      "  File \"/Users/janneke/opt/anaconda3/envs/Master-Thesis-Graph-Representation/lib/python3.9/site-packages/rdflib/term.py\", line 2084, in _castLexicalToPython\n",
      "    return conv_func(lexical)  # type: ignore[arg-type]\n",
      "  File \"/Users/janneke/opt/anaconda3/envs/Master-Thesis-Graph-Representation/lib/python3.9/site-packages/isodate/isodates.py\", line 201, in parse_date\n",
      "    return date(sign * int(groups['year']),\n",
      "ValueError: month must be in 1..12\n",
      "Failed to convert Literal lexical form to value. Datatype=http://www.w3.org/2001/XMLSchema#date, Converter=<function parse_date at 0x7fb6dac4c5e0>\n",
      "Traceback (most recent call last):\n",
      "  File \"/Users/janneke/opt/anaconda3/envs/Master-Thesis-Graph-Representation/lib/python3.9/site-packages/rdflib/term.py\", line 2084, in _castLexicalToPython\n",
      "    return conv_func(lexical)  # type: ignore[arg-type]\n",
      "  File \"/Users/janneke/opt/anaconda3/envs/Master-Thesis-Graph-Representation/lib/python3.9/site-packages/isodate/isodates.py\", line 201, in parse_date\n",
      "    return date(sign * int(groups['year']),\n",
      "ValueError: day is out of range for month\n",
      "Failed to convert Literal lexical form to value. Datatype=http://www.w3.org/2001/XMLSchema#date, Converter=<function parse_date at 0x7fb6dac4c5e0>\n",
      "Traceback (most recent call last):\n",
      "  File \"/Users/janneke/opt/anaconda3/envs/Master-Thesis-Graph-Representation/lib/python3.9/site-packages/rdflib/term.py\", line 2084, in _castLexicalToPython\n",
      "    return conv_func(lexical)  # type: ignore[arg-type]\n",
      "  File \"/Users/janneke/opt/anaconda3/envs/Master-Thesis-Graph-Representation/lib/python3.9/site-packages/isodate/isodates.py\", line 201, in parse_date\n",
      "    return date(sign * int(groups['year']),\n",
      "ValueError: month must be in 1..12\n",
      "Failed to convert Literal lexical form to value. Datatype=http://www.w3.org/2001/XMLSchema#date, Converter=<function parse_date at 0x7fb6dac4c5e0>\n",
      "Traceback (most recent call last):\n",
      "  File \"/Users/janneke/opt/anaconda3/envs/Master-Thesis-Graph-Representation/lib/python3.9/site-packages/rdflib/term.py\", line 2084, in _castLexicalToPython\n",
      "    return conv_func(lexical)  # type: ignore[arg-type]\n",
      "  File \"/Users/janneke/opt/anaconda3/envs/Master-Thesis-Graph-Representation/lib/python3.9/site-packages/isodate/isodates.py\", line 201, in parse_date\n",
      "    return date(sign * int(groups['year']),\n",
      "ValueError: month must be in 1..12\n",
      "Failed to convert Literal lexical form to value. Datatype=http://www.w3.org/2001/XMLSchema#date, Converter=<function parse_date at 0x7fb6dac4c5e0>\n",
      "Traceback (most recent call last):\n",
      "  File \"/Users/janneke/opt/anaconda3/envs/Master-Thesis-Graph-Representation/lib/python3.9/site-packages/rdflib/term.py\", line 2084, in _castLexicalToPython\n",
      "    return conv_func(lexical)  # type: ignore[arg-type]\n",
      "  File \"/Users/janneke/opt/anaconda3/envs/Master-Thesis-Graph-Representation/lib/python3.9/site-packages/isodate/isodates.py\", line 201, in parse_date\n",
      "    return date(sign * int(groups['year']),\n",
      "ValueError: month must be in 1..12\n",
      "Failed to convert Literal lexical form to value. Datatype=http://www.w3.org/2001/XMLSchema#date, Converter=<function parse_date at 0x7fb6dac4c5e0>\n",
      "Traceback (most recent call last):\n",
      "  File \"/Users/janneke/opt/anaconda3/envs/Master-Thesis-Graph-Representation/lib/python3.9/site-packages/rdflib/term.py\", line 2084, in _castLexicalToPython\n",
      "    return conv_func(lexical)  # type: ignore[arg-type]\n",
      "  File \"/Users/janneke/opt/anaconda3/envs/Master-Thesis-Graph-Representation/lib/python3.9/site-packages/isodate/isodates.py\", line 201, in parse_date\n",
      "    return date(sign * int(groups['year']),\n",
      "ValueError: day is out of range for month\n",
      "Failed to convert Literal lexical form to value. Datatype=http://www.w3.org/2001/XMLSchema#date, Converter=<function parse_date at 0x7fb6dac4c5e0>\n",
      "Traceback (most recent call last):\n",
      "  File \"/Users/janneke/opt/anaconda3/envs/Master-Thesis-Graph-Representation/lib/python3.9/site-packages/rdflib/term.py\", line 2084, in _castLexicalToPython\n",
      "    return conv_func(lexical)  # type: ignore[arg-type]\n",
      "  File \"/Users/janneke/opt/anaconda3/envs/Master-Thesis-Graph-Representation/lib/python3.9/site-packages/isodate/isodates.py\", line 201, in parse_date\n",
      "    return date(sign * int(groups['year']),\n",
      "ValueError: year 0 is out of range\n",
      "Failed to convert Literal lexical form to value. Datatype=http://www.w3.org/2001/XMLSchema#date, Converter=<function parse_date at 0x7fb6dac4c5e0>\n",
      "Traceback (most recent call last):\n",
      "  File \"/Users/janneke/opt/anaconda3/envs/Master-Thesis-Graph-Representation/lib/python3.9/site-packages/rdflib/term.py\", line 2084, in _castLexicalToPython\n",
      "    return conv_func(lexical)  # type: ignore[arg-type]\n",
      "  File \"/Users/janneke/opt/anaconda3/envs/Master-Thesis-Graph-Representation/lib/python3.9/site-packages/isodate/isodates.py\", line 201, in parse_date\n",
      "    return date(sign * int(groups['year']),\n",
      "ValueError: month must be in 1..12\n",
      "Failed to convert Literal lexical form to value. Datatype=http://www.w3.org/2001/XMLSchema#date, Converter=<function parse_date at 0x7fb6dac4c5e0>\n",
      "Traceback (most recent call last):\n",
      "  File \"/Users/janneke/opt/anaconda3/envs/Master-Thesis-Graph-Representation/lib/python3.9/site-packages/rdflib/term.py\", line 2084, in _castLexicalToPython\n",
      "    return conv_func(lexical)  # type: ignore[arg-type]\n",
      "  File \"/Users/janneke/opt/anaconda3/envs/Master-Thesis-Graph-Representation/lib/python3.9/site-packages/isodate/isodates.py\", line 201, in parse_date\n",
      "    return date(sign * int(groups['year']),\n",
      "ValueError: day is out of range for month\n",
      "Failed to convert Literal lexical form to value. Datatype=http://www.w3.org/2001/XMLSchema#date, Converter=<function parse_date at 0x7fb6dac4c5e0>\n",
      "Traceback (most recent call last):\n",
      "  File \"/Users/janneke/opt/anaconda3/envs/Master-Thesis-Graph-Representation/lib/python3.9/site-packages/rdflib/term.py\", line 2084, in _castLexicalToPython\n",
      "    return conv_func(lexical)  # type: ignore[arg-type]\n",
      "  File \"/Users/janneke/opt/anaconda3/envs/Master-Thesis-Graph-Representation/lib/python3.9/site-packages/isodate/isodates.py\", line 203, in parse_date\n",
      "    raise ISO8601Error('Unrecognised ISO 8601 date format: %r' % datestring)\n",
      "isodate.isoerror.ISO8601Error: Unrecognised ISO 8601 date format: '-01-01'\n",
      "Failed to convert Literal lexical form to value. Datatype=http://www.w3.org/2001/XMLSchema#date, Converter=<function parse_date at 0x7fb6dac4c5e0>\n",
      "Traceback (most recent call last):\n",
      "  File \"/Users/janneke/opt/anaconda3/envs/Master-Thesis-Graph-Representation/lib/python3.9/site-packages/rdflib/term.py\", line 2084, in _castLexicalToPython\n",
      "    return conv_func(lexical)  # type: ignore[arg-type]\n",
      "  File \"/Users/janneke/opt/anaconda3/envs/Master-Thesis-Graph-Representation/lib/python3.9/site-packages/isodate/isodates.py\", line 201, in parse_date\n",
      "    return date(sign * int(groups['year']),\n",
      "ValueError: month must be in 1..12\n",
      "Failed to convert Literal lexical form to value. Datatype=http://www.w3.org/2001/XMLSchema#date, Converter=<function parse_date at 0x7fb6dac4c5e0>\n",
      "Traceback (most recent call last):\n",
      "  File \"/Users/janneke/opt/anaconda3/envs/Master-Thesis-Graph-Representation/lib/python3.9/site-packages/rdflib/term.py\", line 2084, in _castLexicalToPython\n",
      "    return conv_func(lexical)  # type: ignore[arg-type]\n",
      "  File \"/Users/janneke/opt/anaconda3/envs/Master-Thesis-Graph-Representation/lib/python3.9/site-packages/isodate/isodates.py\", line 201, in parse_date\n",
      "    return date(sign * int(groups['year']),\n",
      "ValueError: month must be in 1..12\n",
      "Failed to convert Literal lexical form to value. Datatype=http://www.w3.org/2001/XMLSchema#date, Converter=<function parse_date at 0x7fb6dac4c5e0>\n",
      "Traceback (most recent call last):\n",
      "  File \"/Users/janneke/opt/anaconda3/envs/Master-Thesis-Graph-Representation/lib/python3.9/site-packages/rdflib/term.py\", line 2084, in _castLexicalToPython\n",
      "    return conv_func(lexical)  # type: ignore[arg-type]\n",
      "  File \"/Users/janneke/opt/anaconda3/envs/Master-Thesis-Graph-Representation/lib/python3.9/site-packages/isodate/isodates.py\", line 201, in parse_date\n",
      "    return date(sign * int(groups['year']),\n",
      "ValueError: year 0 is out of range\n"
     ]
    },
    {
     "name": "stderr",
     "output_type": "stream",
     "text": [
      "Failed to convert Literal lexical form to value. Datatype=http://www.w3.org/2001/XMLSchema#date, Converter=<function parse_date at 0x7fb6dac4c5e0>\n",
      "Traceback (most recent call last):\n",
      "  File \"/Users/janneke/opt/anaconda3/envs/Master-Thesis-Graph-Representation/lib/python3.9/site-packages/rdflib/term.py\", line 2084, in _castLexicalToPython\n",
      "    return conv_func(lexical)  # type: ignore[arg-type]\n",
      "  File \"/Users/janneke/opt/anaconda3/envs/Master-Thesis-Graph-Representation/lib/python3.9/site-packages/isodate/isodates.py\", line 201, in parse_date\n",
      "    return date(sign * int(groups['year']),\n",
      "ValueError: day is out of range for month\n",
      "Failed to convert Literal lexical form to value. Datatype=http://www.w3.org/2001/XMLSchema#date, Converter=<function parse_date at 0x7fb6dac4c5e0>\n",
      "Traceback (most recent call last):\n",
      "  File \"/Users/janneke/opt/anaconda3/envs/Master-Thesis-Graph-Representation/lib/python3.9/site-packages/rdflib/term.py\", line 2084, in _castLexicalToPython\n",
      "    return conv_func(lexical)  # type: ignore[arg-type]\n",
      "  File \"/Users/janneke/opt/anaconda3/envs/Master-Thesis-Graph-Representation/lib/python3.9/site-packages/isodate/isodates.py\", line 201, in parse_date\n",
      "    return date(sign * int(groups['year']),\n",
      "ValueError: year 0 is out of range\n",
      "Failed to convert Literal lexical form to value. Datatype=http://www.w3.org/2001/XMLSchema#date, Converter=<function parse_date at 0x7fb6dac4c5e0>\n",
      "Traceback (most recent call last):\n",
      "  File \"/Users/janneke/opt/anaconda3/envs/Master-Thesis-Graph-Representation/lib/python3.9/site-packages/rdflib/term.py\", line 2084, in _castLexicalToPython\n",
      "    return conv_func(lexical)  # type: ignore[arg-type]\n",
      "  File \"/Users/janneke/opt/anaconda3/envs/Master-Thesis-Graph-Representation/lib/python3.9/site-packages/isodate/isodates.py\", line 201, in parse_date\n",
      "    return date(sign * int(groups['year']),\n",
      "ValueError: month must be in 1..12\n",
      "Failed to convert Literal lexical form to value. Datatype=http://www.w3.org/2001/XMLSchema#date, Converter=<function parse_date at 0x7fb6dac4c5e0>\n",
      "Traceback (most recent call last):\n",
      "  File \"/Users/janneke/opt/anaconda3/envs/Master-Thesis-Graph-Representation/lib/python3.9/site-packages/rdflib/term.py\", line 2084, in _castLexicalToPython\n",
      "    return conv_func(lexical)  # type: ignore[arg-type]\n",
      "  File \"/Users/janneke/opt/anaconda3/envs/Master-Thesis-Graph-Representation/lib/python3.9/site-packages/isodate/isodates.py\", line 201, in parse_date\n",
      "    return date(sign * int(groups['year']),\n",
      "ValueError: month must be in 1..12\n",
      "Failed to convert Literal lexical form to value. Datatype=http://www.w3.org/2001/XMLSchema#date, Converter=<function parse_date at 0x7fb6dac4c5e0>\n",
      "Traceback (most recent call last):\n",
      "  File \"/Users/janneke/opt/anaconda3/envs/Master-Thesis-Graph-Representation/lib/python3.9/site-packages/rdflib/term.py\", line 2084, in _castLexicalToPython\n",
      "    return conv_func(lexical)  # type: ignore[arg-type]\n",
      "  File \"/Users/janneke/opt/anaconda3/envs/Master-Thesis-Graph-Representation/lib/python3.9/site-packages/isodate/isodates.py\", line 201, in parse_date\n",
      "    return date(sign * int(groups['year']),\n",
      "ValueError: month must be in 1..12\n",
      "Failed to convert Literal lexical form to value. Datatype=http://www.w3.org/2001/XMLSchema#date, Converter=<function parse_date at 0x7fb6dac4c5e0>\n",
      "Traceback (most recent call last):\n",
      "  File \"/Users/janneke/opt/anaconda3/envs/Master-Thesis-Graph-Representation/lib/python3.9/site-packages/rdflib/term.py\", line 2084, in _castLexicalToPython\n",
      "    return conv_func(lexical)  # type: ignore[arg-type]\n",
      "  File \"/Users/janneke/opt/anaconda3/envs/Master-Thesis-Graph-Representation/lib/python3.9/site-packages/isodate/isodates.py\", line 201, in parse_date\n",
      "    return date(sign * int(groups['year']),\n",
      "ValueError: day is out of range for month\n",
      "Failed to convert Literal lexical form to value. Datatype=http://www.w3.org/2001/XMLSchema#date, Converter=<function parse_date at 0x7fb6dac4c5e0>\n",
      "Traceback (most recent call last):\n",
      "  File \"/Users/janneke/opt/anaconda3/envs/Master-Thesis-Graph-Representation/lib/python3.9/site-packages/rdflib/term.py\", line 2084, in _castLexicalToPython\n",
      "    return conv_func(lexical)  # type: ignore[arg-type]\n",
      "  File \"/Users/janneke/opt/anaconda3/envs/Master-Thesis-Graph-Representation/lib/python3.9/site-packages/isodate/isodates.py\", line 201, in parse_date\n",
      "    return date(sign * int(groups['year']),\n",
      "ValueError: month must be in 1..12\n",
      "Failed to convert Literal lexical form to value. Datatype=http://www.w3.org/2001/XMLSchema#date, Converter=<function parse_date at 0x7fb6dac4c5e0>\n",
      "Traceback (most recent call last):\n",
      "  File \"/Users/janneke/opt/anaconda3/envs/Master-Thesis-Graph-Representation/lib/python3.9/site-packages/rdflib/term.py\", line 2084, in _castLexicalToPython\n",
      "    return conv_func(lexical)  # type: ignore[arg-type]\n",
      "  File \"/Users/janneke/opt/anaconda3/envs/Master-Thesis-Graph-Representation/lib/python3.9/site-packages/isodate/isodates.py\", line 201, in parse_date\n",
      "    return date(sign * int(groups['year']),\n",
      "ValueError: month must be in 1..12\n",
      "Failed to convert Literal lexical form to value. Datatype=http://www.w3.org/2001/XMLSchema#date, Converter=<function parse_date at 0x7fb6dac4c5e0>\n",
      "Traceback (most recent call last):\n",
      "  File \"/Users/janneke/opt/anaconda3/envs/Master-Thesis-Graph-Representation/lib/python3.9/site-packages/rdflib/term.py\", line 2084, in _castLexicalToPython\n",
      "    return conv_func(lexical)  # type: ignore[arg-type]\n",
      "  File \"/Users/janneke/opt/anaconda3/envs/Master-Thesis-Graph-Representation/lib/python3.9/site-packages/isodate/isodates.py\", line 201, in parse_date\n",
      "    return date(sign * int(groups['year']),\n",
      "ValueError: month must be in 1..12\n"
     ]
    },
    {
     "name": "stdout",
     "output_type": "stream",
     "text": [
      "torch.Size([148127, 148127])\n"
     ]
    },
    {
     "data": {
      "text/plain": [
       "tensor(288379.)"
      ]
     },
     "execution_count": 2,
     "metadata": {},
     "output_type": "execute_result"
    }
   ],
   "source": [
    "adj_mat_fil, map_ent_fil, map_ent_to_ind_fil = reading_data.create_adjacency_matrix_nt(\"data/dmg777k/dmg777k_stripped.nt\", literal_representation=\"filtered\", sparse=True)\n",
    "print(adj_mat_fil.size())\n",
    "torch.sparse.sum(adj_mat_fil, dim=[0,1])"
   ]
  },
  {
   "cell_type": "code",
   "execution_count": 6,
   "id": "c22abeb2",
   "metadata": {},
   "outputs": [
    {
     "data": {
      "text/plain": [
       "tensor(indices=tensor([[135729,  13622,  17660,  ...,  92671,  14010,  74795],\n",
       "                       [ 18314, 144158,  18314,  ...,   8724,  18314,    608]]),\n",
       "       values=tensor([1., 1., 1.,  ..., 1., 1., 1.]),\n",
       "       size=(148127, 148127), nnz=288379, layout=torch.sparse_coo)"
      ]
     },
     "execution_count": 6,
     "metadata": {},
     "output_type": "execute_result"
    }
   ],
   "source": [
    "adj_mat_fil"
   ]
  },
  {
   "cell_type": "code",
   "execution_count": 3,
   "id": "be702a4a",
   "metadata": {},
   "outputs": [
    {
     "name": "stderr",
     "output_type": "stream",
     "text": [
      "Failed to convert Literal lexical form to value. Datatype=http://www.w3.org/2001/XMLSchema#date, Converter=<function parse_date at 0x7fb6dac4c5e0>\n",
      "Traceback (most recent call last):\n",
      "  File \"/Users/janneke/opt/anaconda3/envs/Master-Thesis-Graph-Representation/lib/python3.9/site-packages/rdflib/term.py\", line 2084, in _castLexicalToPython\n",
      "    return conv_func(lexical)  # type: ignore[arg-type]\n",
      "  File \"/Users/janneke/opt/anaconda3/envs/Master-Thesis-Graph-Representation/lib/python3.9/site-packages/isodate/isodates.py\", line 201, in parse_date\n",
      "    return date(sign * int(groups['year']),\n",
      "ValueError: month must be in 1..12\n",
      "Failed to convert Literal lexical form to value. Datatype=http://www.w3.org/2001/XMLSchema#date, Converter=<function parse_date at 0x7fb6dac4c5e0>\n",
      "Traceback (most recent call last):\n",
      "  File \"/Users/janneke/opt/anaconda3/envs/Master-Thesis-Graph-Representation/lib/python3.9/site-packages/rdflib/term.py\", line 2084, in _castLexicalToPython\n",
      "    return conv_func(lexical)  # type: ignore[arg-type]\n",
      "  File \"/Users/janneke/opt/anaconda3/envs/Master-Thesis-Graph-Representation/lib/python3.9/site-packages/isodate/isodates.py\", line 201, in parse_date\n",
      "    return date(sign * int(groups['year']),\n",
      "ValueError: day is out of range for month\n",
      "Failed to convert Literal lexical form to value. Datatype=http://www.w3.org/2001/XMLSchema#date, Converter=<function parse_date at 0x7fb6dac4c5e0>\n",
      "Traceback (most recent call last):\n",
      "  File \"/Users/janneke/opt/anaconda3/envs/Master-Thesis-Graph-Representation/lib/python3.9/site-packages/rdflib/term.py\", line 2084, in _castLexicalToPython\n",
      "    return conv_func(lexical)  # type: ignore[arg-type]\n",
      "  File \"/Users/janneke/opt/anaconda3/envs/Master-Thesis-Graph-Representation/lib/python3.9/site-packages/isodate/isodates.py\", line 201, in parse_date\n",
      "    return date(sign * int(groups['year']),\n",
      "ValueError: month must be in 1..12\n",
      "Failed to convert Literal lexical form to value. Datatype=http://www.w3.org/2001/XMLSchema#date, Converter=<function parse_date at 0x7fb6dac4c5e0>\n",
      "Traceback (most recent call last):\n",
      "  File \"/Users/janneke/opt/anaconda3/envs/Master-Thesis-Graph-Representation/lib/python3.9/site-packages/rdflib/term.py\", line 2084, in _castLexicalToPython\n",
      "    return conv_func(lexical)  # type: ignore[arg-type]\n",
      "  File \"/Users/janneke/opt/anaconda3/envs/Master-Thesis-Graph-Representation/lib/python3.9/site-packages/isodate/isodates.py\", line 201, in parse_date\n",
      "    return date(sign * int(groups['year']),\n",
      "ValueError: month must be in 1..12\n",
      "Failed to convert Literal lexical form to value. Datatype=http://www.w3.org/2001/XMLSchema#date, Converter=<function parse_date at 0x7fb6dac4c5e0>\n",
      "Traceback (most recent call last):\n",
      "  File \"/Users/janneke/opt/anaconda3/envs/Master-Thesis-Graph-Representation/lib/python3.9/site-packages/rdflib/term.py\", line 2084, in _castLexicalToPython\n",
      "    return conv_func(lexical)  # type: ignore[arg-type]\n",
      "  File \"/Users/janneke/opt/anaconda3/envs/Master-Thesis-Graph-Representation/lib/python3.9/site-packages/isodate/isodates.py\", line 201, in parse_date\n",
      "    return date(sign * int(groups['year']),\n",
      "ValueError: month must be in 1..12\n",
      "Failed to convert Literal lexical form to value. Datatype=http://www.w3.org/2001/XMLSchema#date, Converter=<function parse_date at 0x7fb6dac4c5e0>\n",
      "Traceback (most recent call last):\n",
      "  File \"/Users/janneke/opt/anaconda3/envs/Master-Thesis-Graph-Representation/lib/python3.9/site-packages/rdflib/term.py\", line 2084, in _castLexicalToPython\n",
      "    return conv_func(lexical)  # type: ignore[arg-type]\n",
      "  File \"/Users/janneke/opt/anaconda3/envs/Master-Thesis-Graph-Representation/lib/python3.9/site-packages/isodate/isodates.py\", line 201, in parse_date\n",
      "    return date(sign * int(groups['year']),\n",
      "ValueError: day is out of range for month\n",
      "Failed to convert Literal lexical form to value. Datatype=http://www.w3.org/2001/XMLSchema#date, Converter=<function parse_date at 0x7fb6dac4c5e0>\n",
      "Traceback (most recent call last):\n",
      "  File \"/Users/janneke/opt/anaconda3/envs/Master-Thesis-Graph-Representation/lib/python3.9/site-packages/rdflib/term.py\", line 2084, in _castLexicalToPython\n",
      "    return conv_func(lexical)  # type: ignore[arg-type]\n",
      "  File \"/Users/janneke/opt/anaconda3/envs/Master-Thesis-Graph-Representation/lib/python3.9/site-packages/isodate/isodates.py\", line 201, in parse_date\n",
      "    return date(sign * int(groups['year']),\n",
      "ValueError: year 0 is out of range\n",
      "Failed to convert Literal lexical form to value. Datatype=http://www.w3.org/2001/XMLSchema#date, Converter=<function parse_date at 0x7fb6dac4c5e0>\n",
      "Traceback (most recent call last):\n",
      "  File \"/Users/janneke/opt/anaconda3/envs/Master-Thesis-Graph-Representation/lib/python3.9/site-packages/rdflib/term.py\", line 2084, in _castLexicalToPython\n",
      "    return conv_func(lexical)  # type: ignore[arg-type]\n",
      "  File \"/Users/janneke/opt/anaconda3/envs/Master-Thesis-Graph-Representation/lib/python3.9/site-packages/isodate/isodates.py\", line 201, in parse_date\n",
      "    return date(sign * int(groups['year']),\n",
      "ValueError: month must be in 1..12\n",
      "Failed to convert Literal lexical form to value. Datatype=http://www.w3.org/2001/XMLSchema#date, Converter=<function parse_date at 0x7fb6dac4c5e0>\n",
      "Traceback (most recent call last):\n",
      "  File \"/Users/janneke/opt/anaconda3/envs/Master-Thesis-Graph-Representation/lib/python3.9/site-packages/rdflib/term.py\", line 2084, in _castLexicalToPython\n",
      "    return conv_func(lexical)  # type: ignore[arg-type]\n",
      "  File \"/Users/janneke/opt/anaconda3/envs/Master-Thesis-Graph-Representation/lib/python3.9/site-packages/isodate/isodates.py\", line 201, in parse_date\n",
      "    return date(sign * int(groups['year']),\n",
      "ValueError: day is out of range for month\n",
      "Failed to convert Literal lexical form to value. Datatype=http://www.w3.org/2001/XMLSchema#date, Converter=<function parse_date at 0x7fb6dac4c5e0>\n",
      "Traceback (most recent call last):\n",
      "  File \"/Users/janneke/opt/anaconda3/envs/Master-Thesis-Graph-Representation/lib/python3.9/site-packages/rdflib/term.py\", line 2084, in _castLexicalToPython\n",
      "    return conv_func(lexical)  # type: ignore[arg-type]\n",
      "  File \"/Users/janneke/opt/anaconda3/envs/Master-Thesis-Graph-Representation/lib/python3.9/site-packages/isodate/isodates.py\", line 203, in parse_date\n",
      "    raise ISO8601Error('Unrecognised ISO 8601 date format: %r' % datestring)\n",
      "isodate.isoerror.ISO8601Error: Unrecognised ISO 8601 date format: '-01-01'\n",
      "Failed to convert Literal lexical form to value. Datatype=http://www.w3.org/2001/XMLSchema#date, Converter=<function parse_date at 0x7fb6dac4c5e0>\n",
      "Traceback (most recent call last):\n",
      "  File \"/Users/janneke/opt/anaconda3/envs/Master-Thesis-Graph-Representation/lib/python3.9/site-packages/rdflib/term.py\", line 2084, in _castLexicalToPython\n",
      "    return conv_func(lexical)  # type: ignore[arg-type]\n",
      "  File \"/Users/janneke/opt/anaconda3/envs/Master-Thesis-Graph-Representation/lib/python3.9/site-packages/isodate/isodates.py\", line 201, in parse_date\n",
      "    return date(sign * int(groups['year']),\n",
      "ValueError: month must be in 1..12\n",
      "Failed to convert Literal lexical form to value. Datatype=http://www.w3.org/2001/XMLSchema#date, Converter=<function parse_date at 0x7fb6dac4c5e0>\n",
      "Traceback (most recent call last):\n",
      "  File \"/Users/janneke/opt/anaconda3/envs/Master-Thesis-Graph-Representation/lib/python3.9/site-packages/rdflib/term.py\", line 2084, in _castLexicalToPython\n",
      "    return conv_func(lexical)  # type: ignore[arg-type]\n",
      "  File \"/Users/janneke/opt/anaconda3/envs/Master-Thesis-Graph-Representation/lib/python3.9/site-packages/isodate/isodates.py\", line 201, in parse_date\n",
      "    return date(sign * int(groups['year']),\n",
      "ValueError: month must be in 1..12\n",
      "Failed to convert Literal lexical form to value. Datatype=http://www.w3.org/2001/XMLSchema#date, Converter=<function parse_date at 0x7fb6dac4c5e0>\n",
      "Traceback (most recent call last):\n",
      "  File \"/Users/janneke/opt/anaconda3/envs/Master-Thesis-Graph-Representation/lib/python3.9/site-packages/rdflib/term.py\", line 2084, in _castLexicalToPython\n",
      "    return conv_func(lexical)  # type: ignore[arg-type]\n",
      "  File \"/Users/janneke/opt/anaconda3/envs/Master-Thesis-Graph-Representation/lib/python3.9/site-packages/isodate/isodates.py\", line 201, in parse_date\n",
      "    return date(sign * int(groups['year']),\n",
      "ValueError: year 0 is out of range\n"
     ]
    },
    {
     "name": "stderr",
     "output_type": "stream",
     "text": [
      "Failed to convert Literal lexical form to value. Datatype=http://www.w3.org/2001/XMLSchema#date, Converter=<function parse_date at 0x7fb6dac4c5e0>\n",
      "Traceback (most recent call last):\n",
      "  File \"/Users/janneke/opt/anaconda3/envs/Master-Thesis-Graph-Representation/lib/python3.9/site-packages/rdflib/term.py\", line 2084, in _castLexicalToPython\n",
      "    return conv_func(lexical)  # type: ignore[arg-type]\n",
      "  File \"/Users/janneke/opt/anaconda3/envs/Master-Thesis-Graph-Representation/lib/python3.9/site-packages/isodate/isodates.py\", line 201, in parse_date\n",
      "    return date(sign * int(groups['year']),\n",
      "ValueError: day is out of range for month\n",
      "Failed to convert Literal lexical form to value. Datatype=http://www.w3.org/2001/XMLSchema#date, Converter=<function parse_date at 0x7fb6dac4c5e0>\n",
      "Traceback (most recent call last):\n",
      "  File \"/Users/janneke/opt/anaconda3/envs/Master-Thesis-Graph-Representation/lib/python3.9/site-packages/rdflib/term.py\", line 2084, in _castLexicalToPython\n",
      "    return conv_func(lexical)  # type: ignore[arg-type]\n",
      "  File \"/Users/janneke/opt/anaconda3/envs/Master-Thesis-Graph-Representation/lib/python3.9/site-packages/isodate/isodates.py\", line 201, in parse_date\n",
      "    return date(sign * int(groups['year']),\n",
      "ValueError: year 0 is out of range\n",
      "Failed to convert Literal lexical form to value. Datatype=http://www.w3.org/2001/XMLSchema#date, Converter=<function parse_date at 0x7fb6dac4c5e0>\n",
      "Traceback (most recent call last):\n",
      "  File \"/Users/janneke/opt/anaconda3/envs/Master-Thesis-Graph-Representation/lib/python3.9/site-packages/rdflib/term.py\", line 2084, in _castLexicalToPython\n",
      "    return conv_func(lexical)  # type: ignore[arg-type]\n",
      "  File \"/Users/janneke/opt/anaconda3/envs/Master-Thesis-Graph-Representation/lib/python3.9/site-packages/isodate/isodates.py\", line 201, in parse_date\n",
      "    return date(sign * int(groups['year']),\n",
      "ValueError: month must be in 1..12\n",
      "Failed to convert Literal lexical form to value. Datatype=http://www.w3.org/2001/XMLSchema#date, Converter=<function parse_date at 0x7fb6dac4c5e0>\n",
      "Traceback (most recent call last):\n",
      "  File \"/Users/janneke/opt/anaconda3/envs/Master-Thesis-Graph-Representation/lib/python3.9/site-packages/rdflib/term.py\", line 2084, in _castLexicalToPython\n",
      "    return conv_func(lexical)  # type: ignore[arg-type]\n",
      "  File \"/Users/janneke/opt/anaconda3/envs/Master-Thesis-Graph-Representation/lib/python3.9/site-packages/isodate/isodates.py\", line 201, in parse_date\n",
      "    return date(sign * int(groups['year']),\n",
      "ValueError: month must be in 1..12\n",
      "Failed to convert Literal lexical form to value. Datatype=http://www.w3.org/2001/XMLSchema#date, Converter=<function parse_date at 0x7fb6dac4c5e0>\n",
      "Traceback (most recent call last):\n",
      "  File \"/Users/janneke/opt/anaconda3/envs/Master-Thesis-Graph-Representation/lib/python3.9/site-packages/rdflib/term.py\", line 2084, in _castLexicalToPython\n",
      "    return conv_func(lexical)  # type: ignore[arg-type]\n",
      "  File \"/Users/janneke/opt/anaconda3/envs/Master-Thesis-Graph-Representation/lib/python3.9/site-packages/isodate/isodates.py\", line 201, in parse_date\n",
      "    return date(sign * int(groups['year']),\n",
      "ValueError: month must be in 1..12\n",
      "Failed to convert Literal lexical form to value. Datatype=http://www.w3.org/2001/XMLSchema#date, Converter=<function parse_date at 0x7fb6dac4c5e0>\n",
      "Traceback (most recent call last):\n",
      "  File \"/Users/janneke/opt/anaconda3/envs/Master-Thesis-Graph-Representation/lib/python3.9/site-packages/rdflib/term.py\", line 2084, in _castLexicalToPython\n",
      "    return conv_func(lexical)  # type: ignore[arg-type]\n",
      "  File \"/Users/janneke/opt/anaconda3/envs/Master-Thesis-Graph-Representation/lib/python3.9/site-packages/isodate/isodates.py\", line 201, in parse_date\n",
      "    return date(sign * int(groups['year']),\n",
      "ValueError: day is out of range for month\n",
      "Failed to convert Literal lexical form to value. Datatype=http://www.w3.org/2001/XMLSchema#date, Converter=<function parse_date at 0x7fb6dac4c5e0>\n",
      "Traceback (most recent call last):\n",
      "  File \"/Users/janneke/opt/anaconda3/envs/Master-Thesis-Graph-Representation/lib/python3.9/site-packages/rdflib/term.py\", line 2084, in _castLexicalToPython\n",
      "    return conv_func(lexical)  # type: ignore[arg-type]\n",
      "  File \"/Users/janneke/opt/anaconda3/envs/Master-Thesis-Graph-Representation/lib/python3.9/site-packages/isodate/isodates.py\", line 201, in parse_date\n",
      "    return date(sign * int(groups['year']),\n",
      "ValueError: month must be in 1..12\n",
      "Failed to convert Literal lexical form to value. Datatype=http://www.w3.org/2001/XMLSchema#date, Converter=<function parse_date at 0x7fb6dac4c5e0>\n",
      "Traceback (most recent call last):\n",
      "  File \"/Users/janneke/opt/anaconda3/envs/Master-Thesis-Graph-Representation/lib/python3.9/site-packages/rdflib/term.py\", line 2084, in _castLexicalToPython\n",
      "    return conv_func(lexical)  # type: ignore[arg-type]\n",
      "  File \"/Users/janneke/opt/anaconda3/envs/Master-Thesis-Graph-Representation/lib/python3.9/site-packages/isodate/isodates.py\", line 201, in parse_date\n",
      "    return date(sign * int(groups['year']),\n",
      "ValueError: month must be in 1..12\n",
      "Failed to convert Literal lexical form to value. Datatype=http://www.w3.org/2001/XMLSchema#date, Converter=<function parse_date at 0x7fb6dac4c5e0>\n",
      "Traceback (most recent call last):\n",
      "  File \"/Users/janneke/opt/anaconda3/envs/Master-Thesis-Graph-Representation/lib/python3.9/site-packages/rdflib/term.py\", line 2084, in _castLexicalToPython\n",
      "    return conv_func(lexical)  # type: ignore[arg-type]\n",
      "  File \"/Users/janneke/opt/anaconda3/envs/Master-Thesis-Graph-Representation/lib/python3.9/site-packages/isodate/isodates.py\", line 201, in parse_date\n",
      "    return date(sign * int(groups['year']),\n",
      "ValueError: month must be in 1..12\n"
     ]
    },
    {
     "name": "stdout",
     "output_type": "stream",
     "text": [
      "torch.Size([148128, 148128])\n"
     ]
    },
    {
     "data": {
      "text/plain": [
       "tensor(777124.)"
      ]
     },
     "execution_count": 3,
     "metadata": {},
     "output_type": "execute_result"
    }
   ],
   "source": [
    "adj_mat_all, map_ent_all, map_ent_to_ind_all = reading_data.create_adjacency_matrix_nt(\"data/dmg777k/dmg777k_stripped.nt\", literal_representation=\"all-to-one\", sparse=True)\n",
    "print(adj_mat_all.size())\n",
    "torch.sparse.sum(adj_mat_all, dim=[0,1])"
   ]
  },
  {
   "cell_type": "code",
   "execution_count": 7,
   "id": "7d54b954",
   "metadata": {},
   "outputs": [
    {
     "data": {
      "text/plain": [
       "tensor(indices=tensor([[ 30118, 135729,  97534,  ...,  74795, 115950,  14051],\n",
       "                       [148127,  18314, 148127,  ...,    608, 148127, 148127]]),\n",
       "       values=tensor([1., 1., 1.,  ..., 1., 1., 1.]),\n",
       "       size=(148128, 148128), nnz=777124, layout=torch.sparse_coo)"
      ]
     },
     "execution_count": 7,
     "metadata": {},
     "output_type": "execute_result"
    }
   ],
   "source": [
    "adj_mat_all"
   ]
  },
  {
   "cell_type": "code",
   "execution_count": 4,
   "id": "85181cbc",
   "metadata": {},
   "outputs": [
    {
     "name": "stderr",
     "output_type": "stream",
     "text": [
      "Failed to convert Literal lexical form to value. Datatype=http://www.w3.org/2001/XMLSchema#date, Converter=<function parse_date at 0x7fb6dac4c5e0>\n",
      "Traceback (most recent call last):\n",
      "  File \"/Users/janneke/opt/anaconda3/envs/Master-Thesis-Graph-Representation/lib/python3.9/site-packages/rdflib/term.py\", line 2084, in _castLexicalToPython\n",
      "    return conv_func(lexical)  # type: ignore[arg-type]\n",
      "  File \"/Users/janneke/opt/anaconda3/envs/Master-Thesis-Graph-Representation/lib/python3.9/site-packages/isodate/isodates.py\", line 201, in parse_date\n",
      "    return date(sign * int(groups['year']),\n",
      "ValueError: month must be in 1..12\n",
      "Failed to convert Literal lexical form to value. Datatype=http://www.w3.org/2001/XMLSchema#date, Converter=<function parse_date at 0x7fb6dac4c5e0>\n",
      "Traceback (most recent call last):\n",
      "  File \"/Users/janneke/opt/anaconda3/envs/Master-Thesis-Graph-Representation/lib/python3.9/site-packages/rdflib/term.py\", line 2084, in _castLexicalToPython\n",
      "    return conv_func(lexical)  # type: ignore[arg-type]\n",
      "  File \"/Users/janneke/opt/anaconda3/envs/Master-Thesis-Graph-Representation/lib/python3.9/site-packages/isodate/isodates.py\", line 201, in parse_date\n",
      "    return date(sign * int(groups['year']),\n",
      "ValueError: day is out of range for month\n",
      "Failed to convert Literal lexical form to value. Datatype=http://www.w3.org/2001/XMLSchema#date, Converter=<function parse_date at 0x7fb6dac4c5e0>\n",
      "Traceback (most recent call last):\n",
      "  File \"/Users/janneke/opt/anaconda3/envs/Master-Thesis-Graph-Representation/lib/python3.9/site-packages/rdflib/term.py\", line 2084, in _castLexicalToPython\n",
      "    return conv_func(lexical)  # type: ignore[arg-type]\n",
      "  File \"/Users/janneke/opt/anaconda3/envs/Master-Thesis-Graph-Representation/lib/python3.9/site-packages/isodate/isodates.py\", line 201, in parse_date\n",
      "    return date(sign * int(groups['year']),\n",
      "ValueError: month must be in 1..12\n",
      "Failed to convert Literal lexical form to value. Datatype=http://www.w3.org/2001/XMLSchema#date, Converter=<function parse_date at 0x7fb6dac4c5e0>\n",
      "Traceback (most recent call last):\n",
      "  File \"/Users/janneke/opt/anaconda3/envs/Master-Thesis-Graph-Representation/lib/python3.9/site-packages/rdflib/term.py\", line 2084, in _castLexicalToPython\n",
      "    return conv_func(lexical)  # type: ignore[arg-type]\n",
      "  File \"/Users/janneke/opt/anaconda3/envs/Master-Thesis-Graph-Representation/lib/python3.9/site-packages/isodate/isodates.py\", line 201, in parse_date\n",
      "    return date(sign * int(groups['year']),\n",
      "ValueError: month must be in 1..12\n",
      "Failed to convert Literal lexical form to value. Datatype=http://www.w3.org/2001/XMLSchema#date, Converter=<function parse_date at 0x7fb6dac4c5e0>\n",
      "Traceback (most recent call last):\n",
      "  File \"/Users/janneke/opt/anaconda3/envs/Master-Thesis-Graph-Representation/lib/python3.9/site-packages/rdflib/term.py\", line 2084, in _castLexicalToPython\n",
      "    return conv_func(lexical)  # type: ignore[arg-type]\n",
      "  File \"/Users/janneke/opt/anaconda3/envs/Master-Thesis-Graph-Representation/lib/python3.9/site-packages/isodate/isodates.py\", line 201, in parse_date\n",
      "    return date(sign * int(groups['year']),\n",
      "ValueError: month must be in 1..12\n",
      "Failed to convert Literal lexical form to value. Datatype=http://www.w3.org/2001/XMLSchema#date, Converter=<function parse_date at 0x7fb6dac4c5e0>\n",
      "Traceback (most recent call last):\n",
      "  File \"/Users/janneke/opt/anaconda3/envs/Master-Thesis-Graph-Representation/lib/python3.9/site-packages/rdflib/term.py\", line 2084, in _castLexicalToPython\n",
      "    return conv_func(lexical)  # type: ignore[arg-type]\n",
      "  File \"/Users/janneke/opt/anaconda3/envs/Master-Thesis-Graph-Representation/lib/python3.9/site-packages/isodate/isodates.py\", line 201, in parse_date\n",
      "    return date(sign * int(groups['year']),\n",
      "ValueError: day is out of range for month\n",
      "Failed to convert Literal lexical form to value. Datatype=http://www.w3.org/2001/XMLSchema#date, Converter=<function parse_date at 0x7fb6dac4c5e0>\n",
      "Traceback (most recent call last):\n",
      "  File \"/Users/janneke/opt/anaconda3/envs/Master-Thesis-Graph-Representation/lib/python3.9/site-packages/rdflib/term.py\", line 2084, in _castLexicalToPython\n",
      "    return conv_func(lexical)  # type: ignore[arg-type]\n",
      "  File \"/Users/janneke/opt/anaconda3/envs/Master-Thesis-Graph-Representation/lib/python3.9/site-packages/isodate/isodates.py\", line 201, in parse_date\n",
      "    return date(sign * int(groups['year']),\n",
      "ValueError: year 0 is out of range\n",
      "Failed to convert Literal lexical form to value. Datatype=http://www.w3.org/2001/XMLSchema#date, Converter=<function parse_date at 0x7fb6dac4c5e0>\n",
      "Traceback (most recent call last):\n",
      "  File \"/Users/janneke/opt/anaconda3/envs/Master-Thesis-Graph-Representation/lib/python3.9/site-packages/rdflib/term.py\", line 2084, in _castLexicalToPython\n",
      "    return conv_func(lexical)  # type: ignore[arg-type]\n",
      "  File \"/Users/janneke/opt/anaconda3/envs/Master-Thesis-Graph-Representation/lib/python3.9/site-packages/isodate/isodates.py\", line 201, in parse_date\n",
      "    return date(sign * int(groups['year']),\n",
      "ValueError: month must be in 1..12\n",
      "Failed to convert Literal lexical form to value. Datatype=http://www.w3.org/2001/XMLSchema#date, Converter=<function parse_date at 0x7fb6dac4c5e0>\n",
      "Traceback (most recent call last):\n",
      "  File \"/Users/janneke/opt/anaconda3/envs/Master-Thesis-Graph-Representation/lib/python3.9/site-packages/rdflib/term.py\", line 2084, in _castLexicalToPython\n",
      "    return conv_func(lexical)  # type: ignore[arg-type]\n",
      "  File \"/Users/janneke/opt/anaconda3/envs/Master-Thesis-Graph-Representation/lib/python3.9/site-packages/isodate/isodates.py\", line 201, in parse_date\n",
      "    return date(sign * int(groups['year']),\n",
      "ValueError: day is out of range for month\n",
      "Failed to convert Literal lexical form to value. Datatype=http://www.w3.org/2001/XMLSchema#date, Converter=<function parse_date at 0x7fb6dac4c5e0>\n",
      "Traceback (most recent call last):\n",
      "  File \"/Users/janneke/opt/anaconda3/envs/Master-Thesis-Graph-Representation/lib/python3.9/site-packages/rdflib/term.py\", line 2084, in _castLexicalToPython\n",
      "    return conv_func(lexical)  # type: ignore[arg-type]\n",
      "  File \"/Users/janneke/opt/anaconda3/envs/Master-Thesis-Graph-Representation/lib/python3.9/site-packages/isodate/isodates.py\", line 203, in parse_date\n",
      "    raise ISO8601Error('Unrecognised ISO 8601 date format: %r' % datestring)\n",
      "isodate.isoerror.ISO8601Error: Unrecognised ISO 8601 date format: '-01-01'\n",
      "Failed to convert Literal lexical form to value. Datatype=http://www.w3.org/2001/XMLSchema#date, Converter=<function parse_date at 0x7fb6dac4c5e0>\n",
      "Traceback (most recent call last):\n",
      "  File \"/Users/janneke/opt/anaconda3/envs/Master-Thesis-Graph-Representation/lib/python3.9/site-packages/rdflib/term.py\", line 2084, in _castLexicalToPython\n",
      "    return conv_func(lexical)  # type: ignore[arg-type]\n",
      "  File \"/Users/janneke/opt/anaconda3/envs/Master-Thesis-Graph-Representation/lib/python3.9/site-packages/isodate/isodates.py\", line 201, in parse_date\n",
      "    return date(sign * int(groups['year']),\n",
      "ValueError: month must be in 1..12\n",
      "Failed to convert Literal lexical form to value. Datatype=http://www.w3.org/2001/XMLSchema#date, Converter=<function parse_date at 0x7fb6dac4c5e0>\n",
      "Traceback (most recent call last):\n",
      "  File \"/Users/janneke/opt/anaconda3/envs/Master-Thesis-Graph-Representation/lib/python3.9/site-packages/rdflib/term.py\", line 2084, in _castLexicalToPython\n",
      "    return conv_func(lexical)  # type: ignore[arg-type]\n",
      "  File \"/Users/janneke/opt/anaconda3/envs/Master-Thesis-Graph-Representation/lib/python3.9/site-packages/isodate/isodates.py\", line 201, in parse_date\n",
      "    return date(sign * int(groups['year']),\n",
      "ValueError: month must be in 1..12\n",
      "Failed to convert Literal lexical form to value. Datatype=http://www.w3.org/2001/XMLSchema#date, Converter=<function parse_date at 0x7fb6dac4c5e0>\n",
      "Traceback (most recent call last):\n",
      "  File \"/Users/janneke/opt/anaconda3/envs/Master-Thesis-Graph-Representation/lib/python3.9/site-packages/rdflib/term.py\", line 2084, in _castLexicalToPython\n",
      "    return conv_func(lexical)  # type: ignore[arg-type]\n",
      "  File \"/Users/janneke/opt/anaconda3/envs/Master-Thesis-Graph-Representation/lib/python3.9/site-packages/isodate/isodates.py\", line 201, in parse_date\n",
      "    return date(sign * int(groups['year']),\n",
      "ValueError: year 0 is out of range\n"
     ]
    },
    {
     "name": "stderr",
     "output_type": "stream",
     "text": [
      "Failed to convert Literal lexical form to value. Datatype=http://www.w3.org/2001/XMLSchema#date, Converter=<function parse_date at 0x7fb6dac4c5e0>\n",
      "Traceback (most recent call last):\n",
      "  File \"/Users/janneke/opt/anaconda3/envs/Master-Thesis-Graph-Representation/lib/python3.9/site-packages/rdflib/term.py\", line 2084, in _castLexicalToPython\n",
      "    return conv_func(lexical)  # type: ignore[arg-type]\n",
      "  File \"/Users/janneke/opt/anaconda3/envs/Master-Thesis-Graph-Representation/lib/python3.9/site-packages/isodate/isodates.py\", line 201, in parse_date\n",
      "    return date(sign * int(groups['year']),\n",
      "ValueError: day is out of range for month\n",
      "Failed to convert Literal lexical form to value. Datatype=http://www.w3.org/2001/XMLSchema#date, Converter=<function parse_date at 0x7fb6dac4c5e0>\n",
      "Traceback (most recent call last):\n",
      "  File \"/Users/janneke/opt/anaconda3/envs/Master-Thesis-Graph-Representation/lib/python3.9/site-packages/rdflib/term.py\", line 2084, in _castLexicalToPython\n",
      "    return conv_func(lexical)  # type: ignore[arg-type]\n",
      "  File \"/Users/janneke/opt/anaconda3/envs/Master-Thesis-Graph-Representation/lib/python3.9/site-packages/isodate/isodates.py\", line 201, in parse_date\n",
      "    return date(sign * int(groups['year']),\n",
      "ValueError: year 0 is out of range\n",
      "Failed to convert Literal lexical form to value. Datatype=http://www.w3.org/2001/XMLSchema#date, Converter=<function parse_date at 0x7fb6dac4c5e0>\n",
      "Traceback (most recent call last):\n",
      "  File \"/Users/janneke/opt/anaconda3/envs/Master-Thesis-Graph-Representation/lib/python3.9/site-packages/rdflib/term.py\", line 2084, in _castLexicalToPython\n",
      "    return conv_func(lexical)  # type: ignore[arg-type]\n",
      "  File \"/Users/janneke/opt/anaconda3/envs/Master-Thesis-Graph-Representation/lib/python3.9/site-packages/isodate/isodates.py\", line 201, in parse_date\n",
      "    return date(sign * int(groups['year']),\n",
      "ValueError: month must be in 1..12\n",
      "Failed to convert Literal lexical form to value. Datatype=http://www.w3.org/2001/XMLSchema#date, Converter=<function parse_date at 0x7fb6dac4c5e0>\n",
      "Traceback (most recent call last):\n",
      "  File \"/Users/janneke/opt/anaconda3/envs/Master-Thesis-Graph-Representation/lib/python3.9/site-packages/rdflib/term.py\", line 2084, in _castLexicalToPython\n",
      "    return conv_func(lexical)  # type: ignore[arg-type]\n",
      "  File \"/Users/janneke/opt/anaconda3/envs/Master-Thesis-Graph-Representation/lib/python3.9/site-packages/isodate/isodates.py\", line 201, in parse_date\n",
      "    return date(sign * int(groups['year']),\n",
      "ValueError: month must be in 1..12\n",
      "Failed to convert Literal lexical form to value. Datatype=http://www.w3.org/2001/XMLSchema#date, Converter=<function parse_date at 0x7fb6dac4c5e0>\n",
      "Traceback (most recent call last):\n",
      "  File \"/Users/janneke/opt/anaconda3/envs/Master-Thesis-Graph-Representation/lib/python3.9/site-packages/rdflib/term.py\", line 2084, in _castLexicalToPython\n",
      "    return conv_func(lexical)  # type: ignore[arg-type]\n",
      "  File \"/Users/janneke/opt/anaconda3/envs/Master-Thesis-Graph-Representation/lib/python3.9/site-packages/isodate/isodates.py\", line 201, in parse_date\n",
      "    return date(sign * int(groups['year']),\n",
      "ValueError: month must be in 1..12\n",
      "Failed to convert Literal lexical form to value. Datatype=http://www.w3.org/2001/XMLSchema#date, Converter=<function parse_date at 0x7fb6dac4c5e0>\n",
      "Traceback (most recent call last):\n",
      "  File \"/Users/janneke/opt/anaconda3/envs/Master-Thesis-Graph-Representation/lib/python3.9/site-packages/rdflib/term.py\", line 2084, in _castLexicalToPython\n",
      "    return conv_func(lexical)  # type: ignore[arg-type]\n",
      "  File \"/Users/janneke/opt/anaconda3/envs/Master-Thesis-Graph-Representation/lib/python3.9/site-packages/isodate/isodates.py\", line 201, in parse_date\n",
      "    return date(sign * int(groups['year']),\n",
      "ValueError: day is out of range for month\n",
      "Failed to convert Literal lexical form to value. Datatype=http://www.w3.org/2001/XMLSchema#date, Converter=<function parse_date at 0x7fb6dac4c5e0>\n",
      "Traceback (most recent call last):\n",
      "  File \"/Users/janneke/opt/anaconda3/envs/Master-Thesis-Graph-Representation/lib/python3.9/site-packages/rdflib/term.py\", line 2084, in _castLexicalToPython\n",
      "    return conv_func(lexical)  # type: ignore[arg-type]\n",
      "  File \"/Users/janneke/opt/anaconda3/envs/Master-Thesis-Graph-Representation/lib/python3.9/site-packages/isodate/isodates.py\", line 201, in parse_date\n",
      "    return date(sign * int(groups['year']),\n",
      "ValueError: month must be in 1..12\n",
      "Failed to convert Literal lexical form to value. Datatype=http://www.w3.org/2001/XMLSchema#date, Converter=<function parse_date at 0x7fb6dac4c5e0>\n",
      "Traceback (most recent call last):\n",
      "  File \"/Users/janneke/opt/anaconda3/envs/Master-Thesis-Graph-Representation/lib/python3.9/site-packages/rdflib/term.py\", line 2084, in _castLexicalToPython\n",
      "    return conv_func(lexical)  # type: ignore[arg-type]\n",
      "  File \"/Users/janneke/opt/anaconda3/envs/Master-Thesis-Graph-Representation/lib/python3.9/site-packages/isodate/isodates.py\", line 201, in parse_date\n",
      "    return date(sign * int(groups['year']),\n",
      "ValueError: month must be in 1..12\n",
      "Failed to convert Literal lexical form to value. Datatype=http://www.w3.org/2001/XMLSchema#date, Converter=<function parse_date at 0x7fb6dac4c5e0>\n",
      "Traceback (most recent call last):\n",
      "  File \"/Users/janneke/opt/anaconda3/envs/Master-Thesis-Graph-Representation/lib/python3.9/site-packages/rdflib/term.py\", line 2084, in _castLexicalToPython\n",
      "    return conv_func(lexical)  # type: ignore[arg-type]\n",
      "  File \"/Users/janneke/opt/anaconda3/envs/Master-Thesis-Graph-Representation/lib/python3.9/site-packages/isodate/isodates.py\", line 201, in parse_date\n",
      "    return date(sign * int(groups['year']),\n",
      "ValueError: month must be in 1..12\n"
     ]
    },
    {
     "name": "stdout",
     "output_type": "stream",
     "text": [
      "torch.Size([343219, 343219])\n"
     ]
    },
    {
     "data": {
      "text/plain": [
       "tensor(777124.)"
      ]
     },
     "execution_count": 4,
     "metadata": {},
     "output_type": "execute_result"
    }
   ],
   "source": [
    "adj_mat_col, map_ent_col, map_ent_to_ind_col = reading_data.create_adjacency_matrix_nt(\"data/dmg777k/dmg777k_stripped.nt\", literal_representation=\"collapsed\", sparse=True)\n",
    "print(adj_mat_col.size())\n",
    "torch.sparse.sum(adj_mat_col, dim=[0,1])"
   ]
  },
  {
   "cell_type": "code",
   "execution_count": 8,
   "id": "2b10a7d6",
   "metadata": {},
   "outputs": [
    {
     "data": {
      "text/plain": [
       "tensor(indices=tensor([[ 30118, 135729,  97534,  ...,  74795, 115950,  14051],\n",
       "                       [265629,  18314, 171189,  ...,    608, 247682, 249376]]),\n",
       "       values=tensor([1., 1., 1.,  ..., 1., 1., 1.]),\n",
       "       size=(343219, 343219), nnz=777124, layout=torch.sparse_coo)"
      ]
     },
     "execution_count": 8,
     "metadata": {},
     "output_type": "execute_result"
    }
   ],
   "source": [
    "adj_mat_col"
   ]
  },
  {
   "cell_type": "code",
   "execution_count": 5,
   "id": "73f448be",
   "metadata": {},
   "outputs": [
    {
     "name": "stderr",
     "output_type": "stream",
     "text": [
      "Failed to convert Literal lexical form to value. Datatype=http://www.w3.org/2001/XMLSchema#date, Converter=<function parse_date at 0x7fb6dac4c5e0>\n",
      "Traceback (most recent call last):\n",
      "  File \"/Users/janneke/opt/anaconda3/envs/Master-Thesis-Graph-Representation/lib/python3.9/site-packages/rdflib/term.py\", line 2084, in _castLexicalToPython\n",
      "    return conv_func(lexical)  # type: ignore[arg-type]\n",
      "  File \"/Users/janneke/opt/anaconda3/envs/Master-Thesis-Graph-Representation/lib/python3.9/site-packages/isodate/isodates.py\", line 201, in parse_date\n",
      "    return date(sign * int(groups['year']),\n",
      "ValueError: month must be in 1..12\n",
      "Failed to convert Literal lexical form to value. Datatype=http://www.w3.org/2001/XMLSchema#date, Converter=<function parse_date at 0x7fb6dac4c5e0>\n",
      "Traceback (most recent call last):\n",
      "  File \"/Users/janneke/opt/anaconda3/envs/Master-Thesis-Graph-Representation/lib/python3.9/site-packages/rdflib/term.py\", line 2084, in _castLexicalToPython\n",
      "    return conv_func(lexical)  # type: ignore[arg-type]\n",
      "  File \"/Users/janneke/opt/anaconda3/envs/Master-Thesis-Graph-Representation/lib/python3.9/site-packages/isodate/isodates.py\", line 201, in parse_date\n",
      "    return date(sign * int(groups['year']),\n",
      "ValueError: day is out of range for month\n",
      "Failed to convert Literal lexical form to value. Datatype=http://www.w3.org/2001/XMLSchema#date, Converter=<function parse_date at 0x7fb6dac4c5e0>\n",
      "Traceback (most recent call last):\n",
      "  File \"/Users/janneke/opt/anaconda3/envs/Master-Thesis-Graph-Representation/lib/python3.9/site-packages/rdflib/term.py\", line 2084, in _castLexicalToPython\n",
      "    return conv_func(lexical)  # type: ignore[arg-type]\n",
      "  File \"/Users/janneke/opt/anaconda3/envs/Master-Thesis-Graph-Representation/lib/python3.9/site-packages/isodate/isodates.py\", line 201, in parse_date\n",
      "    return date(sign * int(groups['year']),\n",
      "ValueError: month must be in 1..12\n",
      "Failed to convert Literal lexical form to value. Datatype=http://www.w3.org/2001/XMLSchema#date, Converter=<function parse_date at 0x7fb6dac4c5e0>\n",
      "Traceback (most recent call last):\n",
      "  File \"/Users/janneke/opt/anaconda3/envs/Master-Thesis-Graph-Representation/lib/python3.9/site-packages/rdflib/term.py\", line 2084, in _castLexicalToPython\n",
      "    return conv_func(lexical)  # type: ignore[arg-type]\n",
      "  File \"/Users/janneke/opt/anaconda3/envs/Master-Thesis-Graph-Representation/lib/python3.9/site-packages/isodate/isodates.py\", line 201, in parse_date\n",
      "    return date(sign * int(groups['year']),\n",
      "ValueError: month must be in 1..12\n",
      "Failed to convert Literal lexical form to value. Datatype=http://www.w3.org/2001/XMLSchema#date, Converter=<function parse_date at 0x7fb6dac4c5e0>\n",
      "Traceback (most recent call last):\n",
      "  File \"/Users/janneke/opt/anaconda3/envs/Master-Thesis-Graph-Representation/lib/python3.9/site-packages/rdflib/term.py\", line 2084, in _castLexicalToPython\n",
      "    return conv_func(lexical)  # type: ignore[arg-type]\n",
      "  File \"/Users/janneke/opt/anaconda3/envs/Master-Thesis-Graph-Representation/lib/python3.9/site-packages/isodate/isodates.py\", line 201, in parse_date\n",
      "    return date(sign * int(groups['year']),\n",
      "ValueError: month must be in 1..12\n",
      "Failed to convert Literal lexical form to value. Datatype=http://www.w3.org/2001/XMLSchema#date, Converter=<function parse_date at 0x7fb6dac4c5e0>\n",
      "Traceback (most recent call last):\n",
      "  File \"/Users/janneke/opt/anaconda3/envs/Master-Thesis-Graph-Representation/lib/python3.9/site-packages/rdflib/term.py\", line 2084, in _castLexicalToPython\n",
      "    return conv_func(lexical)  # type: ignore[arg-type]\n",
      "  File \"/Users/janneke/opt/anaconda3/envs/Master-Thesis-Graph-Representation/lib/python3.9/site-packages/isodate/isodates.py\", line 201, in parse_date\n",
      "    return date(sign * int(groups['year']),\n",
      "ValueError: day is out of range for month\n",
      "Failed to convert Literal lexical form to value. Datatype=http://www.w3.org/2001/XMLSchema#date, Converter=<function parse_date at 0x7fb6dac4c5e0>\n",
      "Traceback (most recent call last):\n",
      "  File \"/Users/janneke/opt/anaconda3/envs/Master-Thesis-Graph-Representation/lib/python3.9/site-packages/rdflib/term.py\", line 2084, in _castLexicalToPython\n",
      "    return conv_func(lexical)  # type: ignore[arg-type]\n",
      "  File \"/Users/janneke/opt/anaconda3/envs/Master-Thesis-Graph-Representation/lib/python3.9/site-packages/isodate/isodates.py\", line 201, in parse_date\n",
      "    return date(sign * int(groups['year']),\n",
      "ValueError: year 0 is out of range\n",
      "Failed to convert Literal lexical form to value. Datatype=http://www.w3.org/2001/XMLSchema#date, Converter=<function parse_date at 0x7fb6dac4c5e0>\n",
      "Traceback (most recent call last):\n",
      "  File \"/Users/janneke/opt/anaconda3/envs/Master-Thesis-Graph-Representation/lib/python3.9/site-packages/rdflib/term.py\", line 2084, in _castLexicalToPython\n",
      "    return conv_func(lexical)  # type: ignore[arg-type]\n",
      "  File \"/Users/janneke/opt/anaconda3/envs/Master-Thesis-Graph-Representation/lib/python3.9/site-packages/isodate/isodates.py\", line 201, in parse_date\n",
      "    return date(sign * int(groups['year']),\n",
      "ValueError: month must be in 1..12\n",
      "Failed to convert Literal lexical form to value. Datatype=http://www.w3.org/2001/XMLSchema#date, Converter=<function parse_date at 0x7fb6dac4c5e0>\n",
      "Traceback (most recent call last):\n",
      "  File \"/Users/janneke/opt/anaconda3/envs/Master-Thesis-Graph-Representation/lib/python3.9/site-packages/rdflib/term.py\", line 2084, in _castLexicalToPython\n",
      "    return conv_func(lexical)  # type: ignore[arg-type]\n",
      "  File \"/Users/janneke/opt/anaconda3/envs/Master-Thesis-Graph-Representation/lib/python3.9/site-packages/isodate/isodates.py\", line 201, in parse_date\n",
      "    return date(sign * int(groups['year']),\n",
      "ValueError: day is out of range for month\n",
      "Failed to convert Literal lexical form to value. Datatype=http://www.w3.org/2001/XMLSchema#date, Converter=<function parse_date at 0x7fb6dac4c5e0>\n",
      "Traceback (most recent call last):\n",
      "  File \"/Users/janneke/opt/anaconda3/envs/Master-Thesis-Graph-Representation/lib/python3.9/site-packages/rdflib/term.py\", line 2084, in _castLexicalToPython\n",
      "    return conv_func(lexical)  # type: ignore[arg-type]\n",
      "  File \"/Users/janneke/opt/anaconda3/envs/Master-Thesis-Graph-Representation/lib/python3.9/site-packages/isodate/isodates.py\", line 203, in parse_date\n",
      "    raise ISO8601Error('Unrecognised ISO 8601 date format: %r' % datestring)\n",
      "isodate.isoerror.ISO8601Error: Unrecognised ISO 8601 date format: '-01-01'\n",
      "Failed to convert Literal lexical form to value. Datatype=http://www.w3.org/2001/XMLSchema#date, Converter=<function parse_date at 0x7fb6dac4c5e0>\n",
      "Traceback (most recent call last):\n",
      "  File \"/Users/janneke/opt/anaconda3/envs/Master-Thesis-Graph-Representation/lib/python3.9/site-packages/rdflib/term.py\", line 2084, in _castLexicalToPython\n",
      "    return conv_func(lexical)  # type: ignore[arg-type]\n",
      "  File \"/Users/janneke/opt/anaconda3/envs/Master-Thesis-Graph-Representation/lib/python3.9/site-packages/isodate/isodates.py\", line 201, in parse_date\n",
      "    return date(sign * int(groups['year']),\n",
      "ValueError: month must be in 1..12\n",
      "Failed to convert Literal lexical form to value. Datatype=http://www.w3.org/2001/XMLSchema#date, Converter=<function parse_date at 0x7fb6dac4c5e0>\n",
      "Traceback (most recent call last):\n",
      "  File \"/Users/janneke/opt/anaconda3/envs/Master-Thesis-Graph-Representation/lib/python3.9/site-packages/rdflib/term.py\", line 2084, in _castLexicalToPython\n",
      "    return conv_func(lexical)  # type: ignore[arg-type]\n",
      "  File \"/Users/janneke/opt/anaconda3/envs/Master-Thesis-Graph-Representation/lib/python3.9/site-packages/isodate/isodates.py\", line 201, in parse_date\n",
      "    return date(sign * int(groups['year']),\n",
      "ValueError: month must be in 1..12\n",
      "Failed to convert Literal lexical form to value. Datatype=http://www.w3.org/2001/XMLSchema#date, Converter=<function parse_date at 0x7fb6dac4c5e0>\n",
      "Traceback (most recent call last):\n",
      "  File \"/Users/janneke/opt/anaconda3/envs/Master-Thesis-Graph-Representation/lib/python3.9/site-packages/rdflib/term.py\", line 2084, in _castLexicalToPython\n",
      "    return conv_func(lexical)  # type: ignore[arg-type]\n",
      "  File \"/Users/janneke/opt/anaconda3/envs/Master-Thesis-Graph-Representation/lib/python3.9/site-packages/isodate/isodates.py\", line 201, in parse_date\n",
      "    return date(sign * int(groups['year']),\n",
      "ValueError: year 0 is out of range\n"
     ]
    },
    {
     "name": "stderr",
     "output_type": "stream",
     "text": [
      "Failed to convert Literal lexical form to value. Datatype=http://www.w3.org/2001/XMLSchema#date, Converter=<function parse_date at 0x7fb6dac4c5e0>\n",
      "Traceback (most recent call last):\n",
      "  File \"/Users/janneke/opt/anaconda3/envs/Master-Thesis-Graph-Representation/lib/python3.9/site-packages/rdflib/term.py\", line 2084, in _castLexicalToPython\n",
      "    return conv_func(lexical)  # type: ignore[arg-type]\n",
      "  File \"/Users/janneke/opt/anaconda3/envs/Master-Thesis-Graph-Representation/lib/python3.9/site-packages/isodate/isodates.py\", line 201, in parse_date\n",
      "    return date(sign * int(groups['year']),\n",
      "ValueError: day is out of range for month\n",
      "Failed to convert Literal lexical form to value. Datatype=http://www.w3.org/2001/XMLSchema#date, Converter=<function parse_date at 0x7fb6dac4c5e0>\n",
      "Traceback (most recent call last):\n",
      "  File \"/Users/janneke/opt/anaconda3/envs/Master-Thesis-Graph-Representation/lib/python3.9/site-packages/rdflib/term.py\", line 2084, in _castLexicalToPython\n",
      "    return conv_func(lexical)  # type: ignore[arg-type]\n",
      "  File \"/Users/janneke/opt/anaconda3/envs/Master-Thesis-Graph-Representation/lib/python3.9/site-packages/isodate/isodates.py\", line 201, in parse_date\n",
      "    return date(sign * int(groups['year']),\n",
      "ValueError: year 0 is out of range\n",
      "Failed to convert Literal lexical form to value. Datatype=http://www.w3.org/2001/XMLSchema#date, Converter=<function parse_date at 0x7fb6dac4c5e0>\n",
      "Traceback (most recent call last):\n",
      "  File \"/Users/janneke/opt/anaconda3/envs/Master-Thesis-Graph-Representation/lib/python3.9/site-packages/rdflib/term.py\", line 2084, in _castLexicalToPython\n",
      "    return conv_func(lexical)  # type: ignore[arg-type]\n",
      "  File \"/Users/janneke/opt/anaconda3/envs/Master-Thesis-Graph-Representation/lib/python3.9/site-packages/isodate/isodates.py\", line 201, in parse_date\n",
      "    return date(sign * int(groups['year']),\n",
      "ValueError: month must be in 1..12\n",
      "Failed to convert Literal lexical form to value. Datatype=http://www.w3.org/2001/XMLSchema#date, Converter=<function parse_date at 0x7fb6dac4c5e0>\n",
      "Traceback (most recent call last):\n",
      "  File \"/Users/janneke/opt/anaconda3/envs/Master-Thesis-Graph-Representation/lib/python3.9/site-packages/rdflib/term.py\", line 2084, in _castLexicalToPython\n",
      "    return conv_func(lexical)  # type: ignore[arg-type]\n",
      "  File \"/Users/janneke/opt/anaconda3/envs/Master-Thesis-Graph-Representation/lib/python3.9/site-packages/isodate/isodates.py\", line 201, in parse_date\n",
      "    return date(sign * int(groups['year']),\n",
      "ValueError: month must be in 1..12\n",
      "Failed to convert Literal lexical form to value. Datatype=http://www.w3.org/2001/XMLSchema#date, Converter=<function parse_date at 0x7fb6dac4c5e0>\n",
      "Traceback (most recent call last):\n",
      "  File \"/Users/janneke/opt/anaconda3/envs/Master-Thesis-Graph-Representation/lib/python3.9/site-packages/rdflib/term.py\", line 2084, in _castLexicalToPython\n",
      "    return conv_func(lexical)  # type: ignore[arg-type]\n",
      "  File \"/Users/janneke/opt/anaconda3/envs/Master-Thesis-Graph-Representation/lib/python3.9/site-packages/isodate/isodates.py\", line 201, in parse_date\n",
      "    return date(sign * int(groups['year']),\n",
      "ValueError: month must be in 1..12\n",
      "Failed to convert Literal lexical form to value. Datatype=http://www.w3.org/2001/XMLSchema#date, Converter=<function parse_date at 0x7fb6dac4c5e0>\n",
      "Traceback (most recent call last):\n",
      "  File \"/Users/janneke/opt/anaconda3/envs/Master-Thesis-Graph-Representation/lib/python3.9/site-packages/rdflib/term.py\", line 2084, in _castLexicalToPython\n",
      "    return conv_func(lexical)  # type: ignore[arg-type]\n",
      "  File \"/Users/janneke/opt/anaconda3/envs/Master-Thesis-Graph-Representation/lib/python3.9/site-packages/isodate/isodates.py\", line 201, in parse_date\n",
      "    return date(sign * int(groups['year']),\n",
      "ValueError: day is out of range for month\n",
      "Failed to convert Literal lexical form to value. Datatype=http://www.w3.org/2001/XMLSchema#date, Converter=<function parse_date at 0x7fb6dac4c5e0>\n",
      "Traceback (most recent call last):\n",
      "  File \"/Users/janneke/opt/anaconda3/envs/Master-Thesis-Graph-Representation/lib/python3.9/site-packages/rdflib/term.py\", line 2084, in _castLexicalToPython\n",
      "    return conv_func(lexical)  # type: ignore[arg-type]\n",
      "  File \"/Users/janneke/opt/anaconda3/envs/Master-Thesis-Graph-Representation/lib/python3.9/site-packages/isodate/isodates.py\", line 201, in parse_date\n",
      "    return date(sign * int(groups['year']),\n",
      "ValueError: month must be in 1..12\n",
      "Failed to convert Literal lexical form to value. Datatype=http://www.w3.org/2001/XMLSchema#date, Converter=<function parse_date at 0x7fb6dac4c5e0>\n",
      "Traceback (most recent call last):\n",
      "  File \"/Users/janneke/opt/anaconda3/envs/Master-Thesis-Graph-Representation/lib/python3.9/site-packages/rdflib/term.py\", line 2084, in _castLexicalToPython\n",
      "    return conv_func(lexical)  # type: ignore[arg-type]\n",
      "  File \"/Users/janneke/opt/anaconda3/envs/Master-Thesis-Graph-Representation/lib/python3.9/site-packages/isodate/isodates.py\", line 201, in parse_date\n",
      "    return date(sign * int(groups['year']),\n",
      "ValueError: month must be in 1..12\n",
      "Failed to convert Literal lexical form to value. Datatype=http://www.w3.org/2001/XMLSchema#date, Converter=<function parse_date at 0x7fb6dac4c5e0>\n",
      "Traceback (most recent call last):\n",
      "  File \"/Users/janneke/opt/anaconda3/envs/Master-Thesis-Graph-Representation/lib/python3.9/site-packages/rdflib/term.py\", line 2084, in _castLexicalToPython\n",
      "    return conv_func(lexical)  # type: ignore[arg-type]\n",
      "  File \"/Users/janneke/opt/anaconda3/envs/Master-Thesis-Graph-Representation/lib/python3.9/site-packages/isodate/isodates.py\", line 201, in parse_date\n",
      "    return date(sign * int(groups['year']),\n",
      "ValueError: month must be in 1..12\n"
     ]
    },
    {
     "name": "stdout",
     "output_type": "stream",
     "text": [
      "torch.Size([636872, 636872])\n"
     ]
    },
    {
     "data": {
      "text/plain": [
       "tensor(777124.)"
      ]
     },
     "execution_count": 5,
     "metadata": {},
     "output_type": "execute_result"
    }
   ],
   "source": [
    "adj_mat_sep, map_ent_sep, map_ent_to_ind_sep = reading_data.create_adjacency_matrix_nt(\"data/dmg777k/dmg777k_stripped.nt\", literal_representation=\"separate\", sparse=True)\n",
    "print(adj_mat_sep.size())\n",
    "torch.sparse.sum(adj_mat_sep, dim=[0,1])"
   ]
  },
  {
   "cell_type": "code",
   "execution_count": 9,
   "id": "d251a206",
   "metadata": {},
   "outputs": [
    {
     "data": {
      "text/plain": [
       "tensor(indices=tensor([[ 30118, 135729,  97534,  ...,  74795, 115950,  14051],\n",
       "                       [148127,  18314, 148128,  ...,    608, 636870, 636871]]),\n",
       "       values=tensor([1., 1., 1.,  ..., 1., 1., 1.]),\n",
       "       size=(636872, 636872), nnz=777124, layout=torch.sparse_coo)"
      ]
     },
     "execution_count": 9,
     "metadata": {},
     "output_type": "execute_result"
    }
   ],
   "source": [
    "adj_mat_sep"
   ]
  },
  {
   "cell_type": "markdown",
   "id": "f24e27a3",
   "metadata": {},
   "source": [
    "**Relational:**"
   ]
  },
  {
   "cell_type": "code",
   "execution_count": 11,
   "id": "a12a03af",
   "metadata": {},
   "outputs": [
    {
     "name": "stderr",
     "output_type": "stream",
     "text": [
      "Failed to convert Literal lexical form to value. Datatype=http://www.w3.org/2001/XMLSchema#date, Converter=<function parse_date at 0x7fb6dac4c5e0>\n",
      "Traceback (most recent call last):\n",
      "  File \"/Users/janneke/opt/anaconda3/envs/Master-Thesis-Graph-Representation/lib/python3.9/site-packages/rdflib/term.py\", line 2084, in _castLexicalToPython\n",
      "    return conv_func(lexical)  # type: ignore[arg-type]\n",
      "  File \"/Users/janneke/opt/anaconda3/envs/Master-Thesis-Graph-Representation/lib/python3.9/site-packages/isodate/isodates.py\", line 201, in parse_date\n",
      "    return date(sign * int(groups['year']),\n",
      "ValueError: month must be in 1..12\n",
      "Failed to convert Literal lexical form to value. Datatype=http://www.w3.org/2001/XMLSchema#date, Converter=<function parse_date at 0x7fb6dac4c5e0>\n",
      "Traceback (most recent call last):\n",
      "  File \"/Users/janneke/opt/anaconda3/envs/Master-Thesis-Graph-Representation/lib/python3.9/site-packages/rdflib/term.py\", line 2084, in _castLexicalToPython\n",
      "    return conv_func(lexical)  # type: ignore[arg-type]\n",
      "  File \"/Users/janneke/opt/anaconda3/envs/Master-Thesis-Graph-Representation/lib/python3.9/site-packages/isodate/isodates.py\", line 201, in parse_date\n",
      "    return date(sign * int(groups['year']),\n",
      "ValueError: day is out of range for month\n",
      "Failed to convert Literal lexical form to value. Datatype=http://www.w3.org/2001/XMLSchema#date, Converter=<function parse_date at 0x7fb6dac4c5e0>\n",
      "Traceback (most recent call last):\n",
      "  File \"/Users/janneke/opt/anaconda3/envs/Master-Thesis-Graph-Representation/lib/python3.9/site-packages/rdflib/term.py\", line 2084, in _castLexicalToPython\n",
      "    return conv_func(lexical)  # type: ignore[arg-type]\n",
      "  File \"/Users/janneke/opt/anaconda3/envs/Master-Thesis-Graph-Representation/lib/python3.9/site-packages/isodate/isodates.py\", line 201, in parse_date\n",
      "    return date(sign * int(groups['year']),\n",
      "ValueError: month must be in 1..12\n",
      "Failed to convert Literal lexical form to value. Datatype=http://www.w3.org/2001/XMLSchema#date, Converter=<function parse_date at 0x7fb6dac4c5e0>\n",
      "Traceback (most recent call last):\n",
      "  File \"/Users/janneke/opt/anaconda3/envs/Master-Thesis-Graph-Representation/lib/python3.9/site-packages/rdflib/term.py\", line 2084, in _castLexicalToPython\n",
      "    return conv_func(lexical)  # type: ignore[arg-type]\n",
      "  File \"/Users/janneke/opt/anaconda3/envs/Master-Thesis-Graph-Representation/lib/python3.9/site-packages/isodate/isodates.py\", line 201, in parse_date\n",
      "    return date(sign * int(groups['year']),\n",
      "ValueError: month must be in 1..12\n",
      "Failed to convert Literal lexical form to value. Datatype=http://www.w3.org/2001/XMLSchema#date, Converter=<function parse_date at 0x7fb6dac4c5e0>\n",
      "Traceback (most recent call last):\n",
      "  File \"/Users/janneke/opt/anaconda3/envs/Master-Thesis-Graph-Representation/lib/python3.9/site-packages/rdflib/term.py\", line 2084, in _castLexicalToPython\n",
      "    return conv_func(lexical)  # type: ignore[arg-type]\n",
      "  File \"/Users/janneke/opt/anaconda3/envs/Master-Thesis-Graph-Representation/lib/python3.9/site-packages/isodate/isodates.py\", line 201, in parse_date\n",
      "    return date(sign * int(groups['year']),\n",
      "ValueError: month must be in 1..12\n",
      "Failed to convert Literal lexical form to value. Datatype=http://www.w3.org/2001/XMLSchema#date, Converter=<function parse_date at 0x7fb6dac4c5e0>\n",
      "Traceback (most recent call last):\n",
      "  File \"/Users/janneke/opt/anaconda3/envs/Master-Thesis-Graph-Representation/lib/python3.9/site-packages/rdflib/term.py\", line 2084, in _castLexicalToPython\n",
      "    return conv_func(lexical)  # type: ignore[arg-type]\n",
      "  File \"/Users/janneke/opt/anaconda3/envs/Master-Thesis-Graph-Representation/lib/python3.9/site-packages/isodate/isodates.py\", line 201, in parse_date\n",
      "    return date(sign * int(groups['year']),\n",
      "ValueError: day is out of range for month\n",
      "Failed to convert Literal lexical form to value. Datatype=http://www.w3.org/2001/XMLSchema#date, Converter=<function parse_date at 0x7fb6dac4c5e0>\n",
      "Traceback (most recent call last):\n",
      "  File \"/Users/janneke/opt/anaconda3/envs/Master-Thesis-Graph-Representation/lib/python3.9/site-packages/rdflib/term.py\", line 2084, in _castLexicalToPython\n",
      "    return conv_func(lexical)  # type: ignore[arg-type]\n",
      "  File \"/Users/janneke/opt/anaconda3/envs/Master-Thesis-Graph-Representation/lib/python3.9/site-packages/isodate/isodates.py\", line 201, in parse_date\n",
      "    return date(sign * int(groups['year']),\n",
      "ValueError: year 0 is out of range\n",
      "Failed to convert Literal lexical form to value. Datatype=http://www.w3.org/2001/XMLSchema#date, Converter=<function parse_date at 0x7fb6dac4c5e0>\n",
      "Traceback (most recent call last):\n",
      "  File \"/Users/janneke/opt/anaconda3/envs/Master-Thesis-Graph-Representation/lib/python3.9/site-packages/rdflib/term.py\", line 2084, in _castLexicalToPython\n",
      "    return conv_func(lexical)  # type: ignore[arg-type]\n",
      "  File \"/Users/janneke/opt/anaconda3/envs/Master-Thesis-Graph-Representation/lib/python3.9/site-packages/isodate/isodates.py\", line 201, in parse_date\n",
      "    return date(sign * int(groups['year']),\n",
      "ValueError: month must be in 1..12\n",
      "Failed to convert Literal lexical form to value. Datatype=http://www.w3.org/2001/XMLSchema#date, Converter=<function parse_date at 0x7fb6dac4c5e0>\n",
      "Traceback (most recent call last):\n",
      "  File \"/Users/janneke/opt/anaconda3/envs/Master-Thesis-Graph-Representation/lib/python3.9/site-packages/rdflib/term.py\", line 2084, in _castLexicalToPython\n",
      "    return conv_func(lexical)  # type: ignore[arg-type]\n",
      "  File \"/Users/janneke/opt/anaconda3/envs/Master-Thesis-Graph-Representation/lib/python3.9/site-packages/isodate/isodates.py\", line 201, in parse_date\n",
      "    return date(sign * int(groups['year']),\n",
      "ValueError: day is out of range for month\n",
      "Failed to convert Literal lexical form to value. Datatype=http://www.w3.org/2001/XMLSchema#date, Converter=<function parse_date at 0x7fb6dac4c5e0>\n",
      "Traceback (most recent call last):\n",
      "  File \"/Users/janneke/opt/anaconda3/envs/Master-Thesis-Graph-Representation/lib/python3.9/site-packages/rdflib/term.py\", line 2084, in _castLexicalToPython\n",
      "    return conv_func(lexical)  # type: ignore[arg-type]\n",
      "  File \"/Users/janneke/opt/anaconda3/envs/Master-Thesis-Graph-Representation/lib/python3.9/site-packages/isodate/isodates.py\", line 203, in parse_date\n",
      "    raise ISO8601Error('Unrecognised ISO 8601 date format: %r' % datestring)\n",
      "isodate.isoerror.ISO8601Error: Unrecognised ISO 8601 date format: '-01-01'\n",
      "Failed to convert Literal lexical form to value. Datatype=http://www.w3.org/2001/XMLSchema#date, Converter=<function parse_date at 0x7fb6dac4c5e0>\n",
      "Traceback (most recent call last):\n",
      "  File \"/Users/janneke/opt/anaconda3/envs/Master-Thesis-Graph-Representation/lib/python3.9/site-packages/rdflib/term.py\", line 2084, in _castLexicalToPython\n",
      "    return conv_func(lexical)  # type: ignore[arg-type]\n",
      "  File \"/Users/janneke/opt/anaconda3/envs/Master-Thesis-Graph-Representation/lib/python3.9/site-packages/isodate/isodates.py\", line 201, in parse_date\n",
      "    return date(sign * int(groups['year']),\n",
      "ValueError: month must be in 1..12\n",
      "Failed to convert Literal lexical form to value. Datatype=http://www.w3.org/2001/XMLSchema#date, Converter=<function parse_date at 0x7fb6dac4c5e0>\n",
      "Traceback (most recent call last):\n",
      "  File \"/Users/janneke/opt/anaconda3/envs/Master-Thesis-Graph-Representation/lib/python3.9/site-packages/rdflib/term.py\", line 2084, in _castLexicalToPython\n",
      "    return conv_func(lexical)  # type: ignore[arg-type]\n",
      "  File \"/Users/janneke/opt/anaconda3/envs/Master-Thesis-Graph-Representation/lib/python3.9/site-packages/isodate/isodates.py\", line 201, in parse_date\n",
      "    return date(sign * int(groups['year']),\n",
      "ValueError: month must be in 1..12\n",
      "Failed to convert Literal lexical form to value. Datatype=http://www.w3.org/2001/XMLSchema#date, Converter=<function parse_date at 0x7fb6dac4c5e0>\n",
      "Traceback (most recent call last):\n",
      "  File \"/Users/janneke/opt/anaconda3/envs/Master-Thesis-Graph-Representation/lib/python3.9/site-packages/rdflib/term.py\", line 2084, in _castLexicalToPython\n",
      "    return conv_func(lexical)  # type: ignore[arg-type]\n",
      "  File \"/Users/janneke/opt/anaconda3/envs/Master-Thesis-Graph-Representation/lib/python3.9/site-packages/isodate/isodates.py\", line 201, in parse_date\n",
      "    return date(sign * int(groups['year']),\n",
      "ValueError: year 0 is out of range\n"
     ]
    },
    {
     "name": "stderr",
     "output_type": "stream",
     "text": [
      "Failed to convert Literal lexical form to value. Datatype=http://www.w3.org/2001/XMLSchema#date, Converter=<function parse_date at 0x7fb6dac4c5e0>\n",
      "Traceback (most recent call last):\n",
      "  File \"/Users/janneke/opt/anaconda3/envs/Master-Thesis-Graph-Representation/lib/python3.9/site-packages/rdflib/term.py\", line 2084, in _castLexicalToPython\n",
      "    return conv_func(lexical)  # type: ignore[arg-type]\n",
      "  File \"/Users/janneke/opt/anaconda3/envs/Master-Thesis-Graph-Representation/lib/python3.9/site-packages/isodate/isodates.py\", line 201, in parse_date\n",
      "    return date(sign * int(groups['year']),\n",
      "ValueError: day is out of range for month\n",
      "Failed to convert Literal lexical form to value. Datatype=http://www.w3.org/2001/XMLSchema#date, Converter=<function parse_date at 0x7fb6dac4c5e0>\n",
      "Traceback (most recent call last):\n",
      "  File \"/Users/janneke/opt/anaconda3/envs/Master-Thesis-Graph-Representation/lib/python3.9/site-packages/rdflib/term.py\", line 2084, in _castLexicalToPython\n",
      "    return conv_func(lexical)  # type: ignore[arg-type]\n",
      "  File \"/Users/janneke/opt/anaconda3/envs/Master-Thesis-Graph-Representation/lib/python3.9/site-packages/isodate/isodates.py\", line 201, in parse_date\n",
      "    return date(sign * int(groups['year']),\n",
      "ValueError: year 0 is out of range\n",
      "Failed to convert Literal lexical form to value. Datatype=http://www.w3.org/2001/XMLSchema#date, Converter=<function parse_date at 0x7fb6dac4c5e0>\n",
      "Traceback (most recent call last):\n",
      "  File \"/Users/janneke/opt/anaconda3/envs/Master-Thesis-Graph-Representation/lib/python3.9/site-packages/rdflib/term.py\", line 2084, in _castLexicalToPython\n",
      "    return conv_func(lexical)  # type: ignore[arg-type]\n",
      "  File \"/Users/janneke/opt/anaconda3/envs/Master-Thesis-Graph-Representation/lib/python3.9/site-packages/isodate/isodates.py\", line 201, in parse_date\n",
      "    return date(sign * int(groups['year']),\n",
      "ValueError: month must be in 1..12\n",
      "Failed to convert Literal lexical form to value. Datatype=http://www.w3.org/2001/XMLSchema#date, Converter=<function parse_date at 0x7fb6dac4c5e0>\n",
      "Traceback (most recent call last):\n",
      "  File \"/Users/janneke/opt/anaconda3/envs/Master-Thesis-Graph-Representation/lib/python3.9/site-packages/rdflib/term.py\", line 2084, in _castLexicalToPython\n",
      "    return conv_func(lexical)  # type: ignore[arg-type]\n",
      "  File \"/Users/janneke/opt/anaconda3/envs/Master-Thesis-Graph-Representation/lib/python3.9/site-packages/isodate/isodates.py\", line 201, in parse_date\n",
      "    return date(sign * int(groups['year']),\n",
      "ValueError: month must be in 1..12\n",
      "Failed to convert Literal lexical form to value. Datatype=http://www.w3.org/2001/XMLSchema#date, Converter=<function parse_date at 0x7fb6dac4c5e0>\n",
      "Traceback (most recent call last):\n",
      "  File \"/Users/janneke/opt/anaconda3/envs/Master-Thesis-Graph-Representation/lib/python3.9/site-packages/rdflib/term.py\", line 2084, in _castLexicalToPython\n",
      "    return conv_func(lexical)  # type: ignore[arg-type]\n",
      "  File \"/Users/janneke/opt/anaconda3/envs/Master-Thesis-Graph-Representation/lib/python3.9/site-packages/isodate/isodates.py\", line 201, in parse_date\n",
      "    return date(sign * int(groups['year']),\n",
      "ValueError: month must be in 1..12\n",
      "Failed to convert Literal lexical form to value. Datatype=http://www.w3.org/2001/XMLSchema#date, Converter=<function parse_date at 0x7fb6dac4c5e0>\n",
      "Traceback (most recent call last):\n",
      "  File \"/Users/janneke/opt/anaconda3/envs/Master-Thesis-Graph-Representation/lib/python3.9/site-packages/rdflib/term.py\", line 2084, in _castLexicalToPython\n",
      "    return conv_func(lexical)  # type: ignore[arg-type]\n",
      "  File \"/Users/janneke/opt/anaconda3/envs/Master-Thesis-Graph-Representation/lib/python3.9/site-packages/isodate/isodates.py\", line 201, in parse_date\n",
      "    return date(sign * int(groups['year']),\n",
      "ValueError: day is out of range for month\n",
      "Failed to convert Literal lexical form to value. Datatype=http://www.w3.org/2001/XMLSchema#date, Converter=<function parse_date at 0x7fb6dac4c5e0>\n",
      "Traceback (most recent call last):\n",
      "  File \"/Users/janneke/opt/anaconda3/envs/Master-Thesis-Graph-Representation/lib/python3.9/site-packages/rdflib/term.py\", line 2084, in _castLexicalToPython\n",
      "    return conv_func(lexical)  # type: ignore[arg-type]\n",
      "  File \"/Users/janneke/opt/anaconda3/envs/Master-Thesis-Graph-Representation/lib/python3.9/site-packages/isodate/isodates.py\", line 201, in parse_date\n",
      "    return date(sign * int(groups['year']),\n",
      "ValueError: month must be in 1..12\n",
      "Failed to convert Literal lexical form to value. Datatype=http://www.w3.org/2001/XMLSchema#date, Converter=<function parse_date at 0x7fb6dac4c5e0>\n",
      "Traceback (most recent call last):\n",
      "  File \"/Users/janneke/opt/anaconda3/envs/Master-Thesis-Graph-Representation/lib/python3.9/site-packages/rdflib/term.py\", line 2084, in _castLexicalToPython\n",
      "    return conv_func(lexical)  # type: ignore[arg-type]\n",
      "  File \"/Users/janneke/opt/anaconda3/envs/Master-Thesis-Graph-Representation/lib/python3.9/site-packages/isodate/isodates.py\", line 201, in parse_date\n",
      "    return date(sign * int(groups['year']),\n",
      "ValueError: month must be in 1..12\n",
      "Failed to convert Literal lexical form to value. Datatype=http://www.w3.org/2001/XMLSchema#date, Converter=<function parse_date at 0x7fb6dac4c5e0>\n",
      "Traceback (most recent call last):\n",
      "  File \"/Users/janneke/opt/anaconda3/envs/Master-Thesis-Graph-Representation/lib/python3.9/site-packages/rdflib/term.py\", line 2084, in _castLexicalToPython\n",
      "    return conv_func(lexical)  # type: ignore[arg-type]\n",
      "  File \"/Users/janneke/opt/anaconda3/envs/Master-Thesis-Graph-Representation/lib/python3.9/site-packages/isodate/isodates.py\", line 201, in parse_date\n",
      "    return date(sign * int(groups['year']),\n",
      "ValueError: month must be in 1..12\n"
     ]
    },
    {
     "name": "stdout",
     "output_type": "stream",
     "text": [
      "torch.Size([148127, 148127, 16])\n",
      "288379.0\n"
     ]
    },
    {
     "data": {
      "text/plain": [
       "tensor(indices=tensor([[ 0,  1,  2,  3,  4,  5,  6,  7,  8,  9, 10, 11, 12, 13,\n",
       "                        14, 15]]),\n",
       "       values=tensor([  5755.,   2407., 130126.,   2407.,   2407.,   8396.,\n",
       "                       21039.,   2376.,  47872.,   1079.,   8783.,   2373.,\n",
       "                        1540.,   2407.,   1540.,  47872.]),\n",
       "       size=(16,), nnz=16, layout=torch.sparse_coo)"
      ]
     },
     "execution_count": 11,
     "metadata": {},
     "output_type": "execute_result"
    }
   ],
   "source": [
    "adj_mat_fil, map_ent_fil, map_ent_to_ind_fil, map_rel_fil = reading_data.create_adjacency_matrix_nt(\"data/dmg777k/dmg777k_stripped.nt\", literal_representation=\"filtered\", sparse=True, relational=True)\n",
    "print(adj_mat_fil.size())\n",
    "print(torch.sparse.sum(adj_mat_fil).item())\n",
    "torch.sparse.sum(adj_mat_fil, dim=[0,1])"
   ]
  },
  {
   "cell_type": "code",
   "execution_count": 12,
   "id": "c6055980",
   "metadata": {},
   "outputs": [
    {
     "name": "stderr",
     "output_type": "stream",
     "text": [
      "Failed to convert Literal lexical form to value. Datatype=http://www.w3.org/2001/XMLSchema#date, Converter=<function parse_date at 0x7fb6dac4c5e0>\n",
      "Traceback (most recent call last):\n",
      "  File \"/Users/janneke/opt/anaconda3/envs/Master-Thesis-Graph-Representation/lib/python3.9/site-packages/rdflib/term.py\", line 2084, in _castLexicalToPython\n",
      "    return conv_func(lexical)  # type: ignore[arg-type]\n",
      "  File \"/Users/janneke/opt/anaconda3/envs/Master-Thesis-Graph-Representation/lib/python3.9/site-packages/isodate/isodates.py\", line 201, in parse_date\n",
      "    return date(sign * int(groups['year']),\n",
      "ValueError: month must be in 1..12\n",
      "Failed to convert Literal lexical form to value. Datatype=http://www.w3.org/2001/XMLSchema#date, Converter=<function parse_date at 0x7fb6dac4c5e0>\n",
      "Traceback (most recent call last):\n",
      "  File \"/Users/janneke/opt/anaconda3/envs/Master-Thesis-Graph-Representation/lib/python3.9/site-packages/rdflib/term.py\", line 2084, in _castLexicalToPython\n",
      "    return conv_func(lexical)  # type: ignore[arg-type]\n",
      "  File \"/Users/janneke/opt/anaconda3/envs/Master-Thesis-Graph-Representation/lib/python3.9/site-packages/isodate/isodates.py\", line 201, in parse_date\n",
      "    return date(sign * int(groups['year']),\n",
      "ValueError: day is out of range for month\n",
      "Failed to convert Literal lexical form to value. Datatype=http://www.w3.org/2001/XMLSchema#date, Converter=<function parse_date at 0x7fb6dac4c5e0>\n",
      "Traceback (most recent call last):\n",
      "  File \"/Users/janneke/opt/anaconda3/envs/Master-Thesis-Graph-Representation/lib/python3.9/site-packages/rdflib/term.py\", line 2084, in _castLexicalToPython\n",
      "    return conv_func(lexical)  # type: ignore[arg-type]\n",
      "  File \"/Users/janneke/opt/anaconda3/envs/Master-Thesis-Graph-Representation/lib/python3.9/site-packages/isodate/isodates.py\", line 201, in parse_date\n",
      "    return date(sign * int(groups['year']),\n",
      "ValueError: month must be in 1..12\n",
      "Failed to convert Literal lexical form to value. Datatype=http://www.w3.org/2001/XMLSchema#date, Converter=<function parse_date at 0x7fb6dac4c5e0>\n",
      "Traceback (most recent call last):\n",
      "  File \"/Users/janneke/opt/anaconda3/envs/Master-Thesis-Graph-Representation/lib/python3.9/site-packages/rdflib/term.py\", line 2084, in _castLexicalToPython\n",
      "    return conv_func(lexical)  # type: ignore[arg-type]\n",
      "  File \"/Users/janneke/opt/anaconda3/envs/Master-Thesis-Graph-Representation/lib/python3.9/site-packages/isodate/isodates.py\", line 201, in parse_date\n",
      "    return date(sign * int(groups['year']),\n",
      "ValueError: month must be in 1..12\n",
      "Failed to convert Literal lexical form to value. Datatype=http://www.w3.org/2001/XMLSchema#date, Converter=<function parse_date at 0x7fb6dac4c5e0>\n",
      "Traceback (most recent call last):\n",
      "  File \"/Users/janneke/opt/anaconda3/envs/Master-Thesis-Graph-Representation/lib/python3.9/site-packages/rdflib/term.py\", line 2084, in _castLexicalToPython\n",
      "    return conv_func(lexical)  # type: ignore[arg-type]\n",
      "  File \"/Users/janneke/opt/anaconda3/envs/Master-Thesis-Graph-Representation/lib/python3.9/site-packages/isodate/isodates.py\", line 201, in parse_date\n",
      "    return date(sign * int(groups['year']),\n",
      "ValueError: month must be in 1..12\n",
      "Failed to convert Literal lexical form to value. Datatype=http://www.w3.org/2001/XMLSchema#date, Converter=<function parse_date at 0x7fb6dac4c5e0>\n",
      "Traceback (most recent call last):\n",
      "  File \"/Users/janneke/opt/anaconda3/envs/Master-Thesis-Graph-Representation/lib/python3.9/site-packages/rdflib/term.py\", line 2084, in _castLexicalToPython\n",
      "    return conv_func(lexical)  # type: ignore[arg-type]\n",
      "  File \"/Users/janneke/opt/anaconda3/envs/Master-Thesis-Graph-Representation/lib/python3.9/site-packages/isodate/isodates.py\", line 201, in parse_date\n",
      "    return date(sign * int(groups['year']),\n",
      "ValueError: day is out of range for month\n",
      "Failed to convert Literal lexical form to value. Datatype=http://www.w3.org/2001/XMLSchema#date, Converter=<function parse_date at 0x7fb6dac4c5e0>\n",
      "Traceback (most recent call last):\n",
      "  File \"/Users/janneke/opt/anaconda3/envs/Master-Thesis-Graph-Representation/lib/python3.9/site-packages/rdflib/term.py\", line 2084, in _castLexicalToPython\n",
      "    return conv_func(lexical)  # type: ignore[arg-type]\n",
      "  File \"/Users/janneke/opt/anaconda3/envs/Master-Thesis-Graph-Representation/lib/python3.9/site-packages/isodate/isodates.py\", line 201, in parse_date\n",
      "    return date(sign * int(groups['year']),\n",
      "ValueError: year 0 is out of range\n",
      "Failed to convert Literal lexical form to value. Datatype=http://www.w3.org/2001/XMLSchema#date, Converter=<function parse_date at 0x7fb6dac4c5e0>\n",
      "Traceback (most recent call last):\n",
      "  File \"/Users/janneke/opt/anaconda3/envs/Master-Thesis-Graph-Representation/lib/python3.9/site-packages/rdflib/term.py\", line 2084, in _castLexicalToPython\n",
      "    return conv_func(lexical)  # type: ignore[arg-type]\n",
      "  File \"/Users/janneke/opt/anaconda3/envs/Master-Thesis-Graph-Representation/lib/python3.9/site-packages/isodate/isodates.py\", line 201, in parse_date\n",
      "    return date(sign * int(groups['year']),\n",
      "ValueError: month must be in 1..12\n",
      "Failed to convert Literal lexical form to value. Datatype=http://www.w3.org/2001/XMLSchema#date, Converter=<function parse_date at 0x7fb6dac4c5e0>\n",
      "Traceback (most recent call last):\n",
      "  File \"/Users/janneke/opt/anaconda3/envs/Master-Thesis-Graph-Representation/lib/python3.9/site-packages/rdflib/term.py\", line 2084, in _castLexicalToPython\n",
      "    return conv_func(lexical)  # type: ignore[arg-type]\n",
      "  File \"/Users/janneke/opt/anaconda3/envs/Master-Thesis-Graph-Representation/lib/python3.9/site-packages/isodate/isodates.py\", line 201, in parse_date\n",
      "    return date(sign * int(groups['year']),\n",
      "ValueError: day is out of range for month\n",
      "Failed to convert Literal lexical form to value. Datatype=http://www.w3.org/2001/XMLSchema#date, Converter=<function parse_date at 0x7fb6dac4c5e0>\n",
      "Traceback (most recent call last):\n",
      "  File \"/Users/janneke/opt/anaconda3/envs/Master-Thesis-Graph-Representation/lib/python3.9/site-packages/rdflib/term.py\", line 2084, in _castLexicalToPython\n",
      "    return conv_func(lexical)  # type: ignore[arg-type]\n",
      "  File \"/Users/janneke/opt/anaconda3/envs/Master-Thesis-Graph-Representation/lib/python3.9/site-packages/isodate/isodates.py\", line 203, in parse_date\n",
      "    raise ISO8601Error('Unrecognised ISO 8601 date format: %r' % datestring)\n",
      "isodate.isoerror.ISO8601Error: Unrecognised ISO 8601 date format: '-01-01'\n",
      "Failed to convert Literal lexical form to value. Datatype=http://www.w3.org/2001/XMLSchema#date, Converter=<function parse_date at 0x7fb6dac4c5e0>\n",
      "Traceback (most recent call last):\n",
      "  File \"/Users/janneke/opt/anaconda3/envs/Master-Thesis-Graph-Representation/lib/python3.9/site-packages/rdflib/term.py\", line 2084, in _castLexicalToPython\n",
      "    return conv_func(lexical)  # type: ignore[arg-type]\n",
      "  File \"/Users/janneke/opt/anaconda3/envs/Master-Thesis-Graph-Representation/lib/python3.9/site-packages/isodate/isodates.py\", line 201, in parse_date\n",
      "    return date(sign * int(groups['year']),\n",
      "ValueError: month must be in 1..12\n",
      "Failed to convert Literal lexical form to value. Datatype=http://www.w3.org/2001/XMLSchema#date, Converter=<function parse_date at 0x7fb6dac4c5e0>\n",
      "Traceback (most recent call last):\n",
      "  File \"/Users/janneke/opt/anaconda3/envs/Master-Thesis-Graph-Representation/lib/python3.9/site-packages/rdflib/term.py\", line 2084, in _castLexicalToPython\n",
      "    return conv_func(lexical)  # type: ignore[arg-type]\n",
      "  File \"/Users/janneke/opt/anaconda3/envs/Master-Thesis-Graph-Representation/lib/python3.9/site-packages/isodate/isodates.py\", line 201, in parse_date\n",
      "    return date(sign * int(groups['year']),\n",
      "ValueError: month must be in 1..12\n",
      "Failed to convert Literal lexical form to value. Datatype=http://www.w3.org/2001/XMLSchema#date, Converter=<function parse_date at 0x7fb6dac4c5e0>\n",
      "Traceback (most recent call last):\n",
      "  File \"/Users/janneke/opt/anaconda3/envs/Master-Thesis-Graph-Representation/lib/python3.9/site-packages/rdflib/term.py\", line 2084, in _castLexicalToPython\n",
      "    return conv_func(lexical)  # type: ignore[arg-type]\n",
      "  File \"/Users/janneke/opt/anaconda3/envs/Master-Thesis-Graph-Representation/lib/python3.9/site-packages/isodate/isodates.py\", line 201, in parse_date\n",
      "    return date(sign * int(groups['year']),\n",
      "ValueError: year 0 is out of range\n"
     ]
    },
    {
     "name": "stderr",
     "output_type": "stream",
     "text": [
      "Failed to convert Literal lexical form to value. Datatype=http://www.w3.org/2001/XMLSchema#date, Converter=<function parse_date at 0x7fb6dac4c5e0>\n",
      "Traceback (most recent call last):\n",
      "  File \"/Users/janneke/opt/anaconda3/envs/Master-Thesis-Graph-Representation/lib/python3.9/site-packages/rdflib/term.py\", line 2084, in _castLexicalToPython\n",
      "    return conv_func(lexical)  # type: ignore[arg-type]\n",
      "  File \"/Users/janneke/opt/anaconda3/envs/Master-Thesis-Graph-Representation/lib/python3.9/site-packages/isodate/isodates.py\", line 201, in parse_date\n",
      "    return date(sign * int(groups['year']),\n",
      "ValueError: day is out of range for month\n",
      "Failed to convert Literal lexical form to value. Datatype=http://www.w3.org/2001/XMLSchema#date, Converter=<function parse_date at 0x7fb6dac4c5e0>\n",
      "Traceback (most recent call last):\n",
      "  File \"/Users/janneke/opt/anaconda3/envs/Master-Thesis-Graph-Representation/lib/python3.9/site-packages/rdflib/term.py\", line 2084, in _castLexicalToPython\n",
      "    return conv_func(lexical)  # type: ignore[arg-type]\n",
      "  File \"/Users/janneke/opt/anaconda3/envs/Master-Thesis-Graph-Representation/lib/python3.9/site-packages/isodate/isodates.py\", line 201, in parse_date\n",
      "    return date(sign * int(groups['year']),\n",
      "ValueError: year 0 is out of range\n",
      "Failed to convert Literal lexical form to value. Datatype=http://www.w3.org/2001/XMLSchema#date, Converter=<function parse_date at 0x7fb6dac4c5e0>\n",
      "Traceback (most recent call last):\n",
      "  File \"/Users/janneke/opt/anaconda3/envs/Master-Thesis-Graph-Representation/lib/python3.9/site-packages/rdflib/term.py\", line 2084, in _castLexicalToPython\n",
      "    return conv_func(lexical)  # type: ignore[arg-type]\n",
      "  File \"/Users/janneke/opt/anaconda3/envs/Master-Thesis-Graph-Representation/lib/python3.9/site-packages/isodate/isodates.py\", line 201, in parse_date\n",
      "    return date(sign * int(groups['year']),\n",
      "ValueError: month must be in 1..12\n",
      "Failed to convert Literal lexical form to value. Datatype=http://www.w3.org/2001/XMLSchema#date, Converter=<function parse_date at 0x7fb6dac4c5e0>\n",
      "Traceback (most recent call last):\n",
      "  File \"/Users/janneke/opt/anaconda3/envs/Master-Thesis-Graph-Representation/lib/python3.9/site-packages/rdflib/term.py\", line 2084, in _castLexicalToPython\n",
      "    return conv_func(lexical)  # type: ignore[arg-type]\n",
      "  File \"/Users/janneke/opt/anaconda3/envs/Master-Thesis-Graph-Representation/lib/python3.9/site-packages/isodate/isodates.py\", line 201, in parse_date\n",
      "    return date(sign * int(groups['year']),\n",
      "ValueError: month must be in 1..12\n",
      "Failed to convert Literal lexical form to value. Datatype=http://www.w3.org/2001/XMLSchema#date, Converter=<function parse_date at 0x7fb6dac4c5e0>\n",
      "Traceback (most recent call last):\n",
      "  File \"/Users/janneke/opt/anaconda3/envs/Master-Thesis-Graph-Representation/lib/python3.9/site-packages/rdflib/term.py\", line 2084, in _castLexicalToPython\n",
      "    return conv_func(lexical)  # type: ignore[arg-type]\n",
      "  File \"/Users/janneke/opt/anaconda3/envs/Master-Thesis-Graph-Representation/lib/python3.9/site-packages/isodate/isodates.py\", line 201, in parse_date\n",
      "    return date(sign * int(groups['year']),\n",
      "ValueError: month must be in 1..12\n",
      "Failed to convert Literal lexical form to value. Datatype=http://www.w3.org/2001/XMLSchema#date, Converter=<function parse_date at 0x7fb6dac4c5e0>\n",
      "Traceback (most recent call last):\n",
      "  File \"/Users/janneke/opt/anaconda3/envs/Master-Thesis-Graph-Representation/lib/python3.9/site-packages/rdflib/term.py\", line 2084, in _castLexicalToPython\n",
      "    return conv_func(lexical)  # type: ignore[arg-type]\n",
      "  File \"/Users/janneke/opt/anaconda3/envs/Master-Thesis-Graph-Representation/lib/python3.9/site-packages/isodate/isodates.py\", line 201, in parse_date\n",
      "    return date(sign * int(groups['year']),\n",
      "ValueError: day is out of range for month\n",
      "Failed to convert Literal lexical form to value. Datatype=http://www.w3.org/2001/XMLSchema#date, Converter=<function parse_date at 0x7fb6dac4c5e0>\n",
      "Traceback (most recent call last):\n",
      "  File \"/Users/janneke/opt/anaconda3/envs/Master-Thesis-Graph-Representation/lib/python3.9/site-packages/rdflib/term.py\", line 2084, in _castLexicalToPython\n",
      "    return conv_func(lexical)  # type: ignore[arg-type]\n",
      "  File \"/Users/janneke/opt/anaconda3/envs/Master-Thesis-Graph-Representation/lib/python3.9/site-packages/isodate/isodates.py\", line 201, in parse_date\n",
      "    return date(sign * int(groups['year']),\n",
      "ValueError: month must be in 1..12\n",
      "Failed to convert Literal lexical form to value. Datatype=http://www.w3.org/2001/XMLSchema#date, Converter=<function parse_date at 0x7fb6dac4c5e0>\n",
      "Traceback (most recent call last):\n",
      "  File \"/Users/janneke/opt/anaconda3/envs/Master-Thesis-Graph-Representation/lib/python3.9/site-packages/rdflib/term.py\", line 2084, in _castLexicalToPython\n",
      "    return conv_func(lexical)  # type: ignore[arg-type]\n",
      "  File \"/Users/janneke/opt/anaconda3/envs/Master-Thesis-Graph-Representation/lib/python3.9/site-packages/isodate/isodates.py\", line 201, in parse_date\n",
      "    return date(sign * int(groups['year']),\n",
      "ValueError: month must be in 1..12\n",
      "Failed to convert Literal lexical form to value. Datatype=http://www.w3.org/2001/XMLSchema#date, Converter=<function parse_date at 0x7fb6dac4c5e0>\n",
      "Traceback (most recent call last):\n",
      "  File \"/Users/janneke/opt/anaconda3/envs/Master-Thesis-Graph-Representation/lib/python3.9/site-packages/rdflib/term.py\", line 2084, in _castLexicalToPython\n",
      "    return conv_func(lexical)  # type: ignore[arg-type]\n",
      "  File \"/Users/janneke/opt/anaconda3/envs/Master-Thesis-Graph-Representation/lib/python3.9/site-packages/isodate/isodates.py\", line 201, in parse_date\n",
      "    return date(sign * int(groups['year']),\n",
      "ValueError: month must be in 1..12\n"
     ]
    },
    {
     "name": "stdout",
     "output_type": "stream",
     "text": [
      "torch.Size([148128, 148128, 60])\n",
      "777124.0\n"
     ]
    },
    {
     "data": {
      "text/plain": [
       "tensor(indices=tensor([[ 0,  1,  2,  3,  4,  5,  6,  7,  8,  9, 10, 11, 12, 13,\n",
       "                        14, 15, 16, 17, 18, 19, 20, 21, 22, 23, 24, 25, 26, 27,\n",
       "                        28, 29, 30, 31, 32, 33, 34, 35, 36, 37, 38, 39, 40, 41,\n",
       "                        42, 43, 44, 45, 46, 47, 48, 49, 50, 51, 52, 53, 54, 55,\n",
       "                        56, 57, 58, 59]]),\n",
       "       values=tensor([5.7042e+04, 5.7550e+03, 9.3300e+02, 4.6123e+04,\n",
       "                      8.3960e+03, 3.7200e+02, 2.1200e+02, 2.4070e+03,\n",
       "                      2.4070e+03, 7.0000e+00, 1.5400e+03, 8.3960e+03,\n",
       "                      4.3964e+04, 1.0790e+03, 4.4216e+04, 8.7830e+03,\n",
       "                      1.0000e+00, 8.3960e+03, 1.2520e+03, 3.4865e+04,\n",
       "                      2.4070e+03, 1.3013e+05, 4.7384e+04, 1.8260e+04,\n",
       "                      6.3000e+02, 2.3730e+03, 2.5800e+02, 4.5111e+04,\n",
       "                      8.3960e+03, 8.3960e+03, 2.0866e+04, 2.6000e+02,\n",
       "                      3.7100e+02, 8.3960e+03, 8.3960e+03, 1.6150e+03,\n",
       "                      1.8000e+03, 1.5400e+03, 8.0000e+00, 8.3960e+03,\n",
       "                      3.7200e+02, 6.3000e+02, 1.0390e+03, 1.5600e+02,\n",
       "                      4.6108e+04, 7.7100e+02, 5.5000e+01, 8.2990e+03,\n",
       "                      3.0000e+00, 1.8240e+03, 2.1039e+04, 2.3760e+03,\n",
       "                      4.7872e+04, 1.5400e+03, 1.5400e+03, 5.1000e+02,\n",
       "                      2.4070e+03, 1.5400e+03, 3.6000e+01, 4.7872e+04]),\n",
       "       size=(60,), nnz=60, layout=torch.sparse_coo)"
      ]
     },
     "execution_count": 12,
     "metadata": {},
     "output_type": "execute_result"
    }
   ],
   "source": [
    "adj_mat_all, map_ent_all, map_ent_to_ind_all, map_rel_all = reading_data.create_adjacency_matrix_nt(\"data/dmg777k/dmg777k_stripped.nt\", literal_representation=\"all-to-one\", sparse=True, relational=True)\n",
    "print(adj_mat_all.size())\n",
    "print(torch.sparse.sum(adj_mat_all).item())\n",
    "torch.sparse.sum(adj_mat_all, dim=[0,1])"
   ]
  },
  {
   "cell_type": "code",
   "execution_count": 13,
   "id": "373436ee",
   "metadata": {},
   "outputs": [
    {
     "name": "stderr",
     "output_type": "stream",
     "text": [
      "Failed to convert Literal lexical form to value. Datatype=http://www.w3.org/2001/XMLSchema#date, Converter=<function parse_date at 0x7fb6dac4c5e0>\n",
      "Traceback (most recent call last):\n",
      "  File \"/Users/janneke/opt/anaconda3/envs/Master-Thesis-Graph-Representation/lib/python3.9/site-packages/rdflib/term.py\", line 2084, in _castLexicalToPython\n",
      "    return conv_func(lexical)  # type: ignore[arg-type]\n",
      "  File \"/Users/janneke/opt/anaconda3/envs/Master-Thesis-Graph-Representation/lib/python3.9/site-packages/isodate/isodates.py\", line 201, in parse_date\n",
      "    return date(sign * int(groups['year']),\n",
      "ValueError: month must be in 1..12\n",
      "Failed to convert Literal lexical form to value. Datatype=http://www.w3.org/2001/XMLSchema#date, Converter=<function parse_date at 0x7fb6dac4c5e0>\n",
      "Traceback (most recent call last):\n",
      "  File \"/Users/janneke/opt/anaconda3/envs/Master-Thesis-Graph-Representation/lib/python3.9/site-packages/rdflib/term.py\", line 2084, in _castLexicalToPython\n",
      "    return conv_func(lexical)  # type: ignore[arg-type]\n",
      "  File \"/Users/janneke/opt/anaconda3/envs/Master-Thesis-Graph-Representation/lib/python3.9/site-packages/isodate/isodates.py\", line 201, in parse_date\n",
      "    return date(sign * int(groups['year']),\n",
      "ValueError: day is out of range for month\n",
      "Failed to convert Literal lexical form to value. Datatype=http://www.w3.org/2001/XMLSchema#date, Converter=<function parse_date at 0x7fb6dac4c5e0>\n",
      "Traceback (most recent call last):\n",
      "  File \"/Users/janneke/opt/anaconda3/envs/Master-Thesis-Graph-Representation/lib/python3.9/site-packages/rdflib/term.py\", line 2084, in _castLexicalToPython\n",
      "    return conv_func(lexical)  # type: ignore[arg-type]\n",
      "  File \"/Users/janneke/opt/anaconda3/envs/Master-Thesis-Graph-Representation/lib/python3.9/site-packages/isodate/isodates.py\", line 201, in parse_date\n",
      "    return date(sign * int(groups['year']),\n",
      "ValueError: month must be in 1..12\n",
      "Failed to convert Literal lexical form to value. Datatype=http://www.w3.org/2001/XMLSchema#date, Converter=<function parse_date at 0x7fb6dac4c5e0>\n",
      "Traceback (most recent call last):\n",
      "  File \"/Users/janneke/opt/anaconda3/envs/Master-Thesis-Graph-Representation/lib/python3.9/site-packages/rdflib/term.py\", line 2084, in _castLexicalToPython\n",
      "    return conv_func(lexical)  # type: ignore[arg-type]\n",
      "  File \"/Users/janneke/opt/anaconda3/envs/Master-Thesis-Graph-Representation/lib/python3.9/site-packages/isodate/isodates.py\", line 201, in parse_date\n",
      "    return date(sign * int(groups['year']),\n",
      "ValueError: month must be in 1..12\n",
      "Failed to convert Literal lexical form to value. Datatype=http://www.w3.org/2001/XMLSchema#date, Converter=<function parse_date at 0x7fb6dac4c5e0>\n",
      "Traceback (most recent call last):\n",
      "  File \"/Users/janneke/opt/anaconda3/envs/Master-Thesis-Graph-Representation/lib/python3.9/site-packages/rdflib/term.py\", line 2084, in _castLexicalToPython\n",
      "    return conv_func(lexical)  # type: ignore[arg-type]\n",
      "  File \"/Users/janneke/opt/anaconda3/envs/Master-Thesis-Graph-Representation/lib/python3.9/site-packages/isodate/isodates.py\", line 201, in parse_date\n",
      "    return date(sign * int(groups['year']),\n",
      "ValueError: month must be in 1..12\n",
      "Failed to convert Literal lexical form to value. Datatype=http://www.w3.org/2001/XMLSchema#date, Converter=<function parse_date at 0x7fb6dac4c5e0>\n",
      "Traceback (most recent call last):\n",
      "  File \"/Users/janneke/opt/anaconda3/envs/Master-Thesis-Graph-Representation/lib/python3.9/site-packages/rdflib/term.py\", line 2084, in _castLexicalToPython\n",
      "    return conv_func(lexical)  # type: ignore[arg-type]\n",
      "  File \"/Users/janneke/opt/anaconda3/envs/Master-Thesis-Graph-Representation/lib/python3.9/site-packages/isodate/isodates.py\", line 201, in parse_date\n",
      "    return date(sign * int(groups['year']),\n",
      "ValueError: day is out of range for month\n",
      "Failed to convert Literal lexical form to value. Datatype=http://www.w3.org/2001/XMLSchema#date, Converter=<function parse_date at 0x7fb6dac4c5e0>\n",
      "Traceback (most recent call last):\n",
      "  File \"/Users/janneke/opt/anaconda3/envs/Master-Thesis-Graph-Representation/lib/python3.9/site-packages/rdflib/term.py\", line 2084, in _castLexicalToPython\n",
      "    return conv_func(lexical)  # type: ignore[arg-type]\n",
      "  File \"/Users/janneke/opt/anaconda3/envs/Master-Thesis-Graph-Representation/lib/python3.9/site-packages/isodate/isodates.py\", line 201, in parse_date\n",
      "    return date(sign * int(groups['year']),\n",
      "ValueError: year 0 is out of range\n",
      "Failed to convert Literal lexical form to value. Datatype=http://www.w3.org/2001/XMLSchema#date, Converter=<function parse_date at 0x7fb6dac4c5e0>\n",
      "Traceback (most recent call last):\n",
      "  File \"/Users/janneke/opt/anaconda3/envs/Master-Thesis-Graph-Representation/lib/python3.9/site-packages/rdflib/term.py\", line 2084, in _castLexicalToPython\n",
      "    return conv_func(lexical)  # type: ignore[arg-type]\n",
      "  File \"/Users/janneke/opt/anaconda3/envs/Master-Thesis-Graph-Representation/lib/python3.9/site-packages/isodate/isodates.py\", line 201, in parse_date\n",
      "    return date(sign * int(groups['year']),\n",
      "ValueError: month must be in 1..12\n",
      "Failed to convert Literal lexical form to value. Datatype=http://www.w3.org/2001/XMLSchema#date, Converter=<function parse_date at 0x7fb6dac4c5e0>\n",
      "Traceback (most recent call last):\n",
      "  File \"/Users/janneke/opt/anaconda3/envs/Master-Thesis-Graph-Representation/lib/python3.9/site-packages/rdflib/term.py\", line 2084, in _castLexicalToPython\n",
      "    return conv_func(lexical)  # type: ignore[arg-type]\n",
      "  File \"/Users/janneke/opt/anaconda3/envs/Master-Thesis-Graph-Representation/lib/python3.9/site-packages/isodate/isodates.py\", line 201, in parse_date\n",
      "    return date(sign * int(groups['year']),\n",
      "ValueError: day is out of range for month\n",
      "Failed to convert Literal lexical form to value. Datatype=http://www.w3.org/2001/XMLSchema#date, Converter=<function parse_date at 0x7fb6dac4c5e0>\n",
      "Traceback (most recent call last):\n",
      "  File \"/Users/janneke/opt/anaconda3/envs/Master-Thesis-Graph-Representation/lib/python3.9/site-packages/rdflib/term.py\", line 2084, in _castLexicalToPython\n",
      "    return conv_func(lexical)  # type: ignore[arg-type]\n",
      "  File \"/Users/janneke/opt/anaconda3/envs/Master-Thesis-Graph-Representation/lib/python3.9/site-packages/isodate/isodates.py\", line 203, in parse_date\n",
      "    raise ISO8601Error('Unrecognised ISO 8601 date format: %r' % datestring)\n",
      "isodate.isoerror.ISO8601Error: Unrecognised ISO 8601 date format: '-01-01'\n",
      "Failed to convert Literal lexical form to value. Datatype=http://www.w3.org/2001/XMLSchema#date, Converter=<function parse_date at 0x7fb6dac4c5e0>\n",
      "Traceback (most recent call last):\n",
      "  File \"/Users/janneke/opt/anaconda3/envs/Master-Thesis-Graph-Representation/lib/python3.9/site-packages/rdflib/term.py\", line 2084, in _castLexicalToPython\n",
      "    return conv_func(lexical)  # type: ignore[arg-type]\n",
      "  File \"/Users/janneke/opt/anaconda3/envs/Master-Thesis-Graph-Representation/lib/python3.9/site-packages/isodate/isodates.py\", line 201, in parse_date\n",
      "    return date(sign * int(groups['year']),\n",
      "ValueError: month must be in 1..12\n",
      "Failed to convert Literal lexical form to value. Datatype=http://www.w3.org/2001/XMLSchema#date, Converter=<function parse_date at 0x7fb6dac4c5e0>\n",
      "Traceback (most recent call last):\n",
      "  File \"/Users/janneke/opt/anaconda3/envs/Master-Thesis-Graph-Representation/lib/python3.9/site-packages/rdflib/term.py\", line 2084, in _castLexicalToPython\n",
      "    return conv_func(lexical)  # type: ignore[arg-type]\n",
      "  File \"/Users/janneke/opt/anaconda3/envs/Master-Thesis-Graph-Representation/lib/python3.9/site-packages/isodate/isodates.py\", line 201, in parse_date\n",
      "    return date(sign * int(groups['year']),\n",
      "ValueError: month must be in 1..12\n",
      "Failed to convert Literal lexical form to value. Datatype=http://www.w3.org/2001/XMLSchema#date, Converter=<function parse_date at 0x7fb6dac4c5e0>\n",
      "Traceback (most recent call last):\n",
      "  File \"/Users/janneke/opt/anaconda3/envs/Master-Thesis-Graph-Representation/lib/python3.9/site-packages/rdflib/term.py\", line 2084, in _castLexicalToPython\n",
      "    return conv_func(lexical)  # type: ignore[arg-type]\n",
      "  File \"/Users/janneke/opt/anaconda3/envs/Master-Thesis-Graph-Representation/lib/python3.9/site-packages/isodate/isodates.py\", line 201, in parse_date\n",
      "    return date(sign * int(groups['year']),\n",
      "ValueError: year 0 is out of range\n"
     ]
    },
    {
     "name": "stderr",
     "output_type": "stream",
     "text": [
      "Failed to convert Literal lexical form to value. Datatype=http://www.w3.org/2001/XMLSchema#date, Converter=<function parse_date at 0x7fb6dac4c5e0>\n",
      "Traceback (most recent call last):\n",
      "  File \"/Users/janneke/opt/anaconda3/envs/Master-Thesis-Graph-Representation/lib/python3.9/site-packages/rdflib/term.py\", line 2084, in _castLexicalToPython\n",
      "    return conv_func(lexical)  # type: ignore[arg-type]\n",
      "  File \"/Users/janneke/opt/anaconda3/envs/Master-Thesis-Graph-Representation/lib/python3.9/site-packages/isodate/isodates.py\", line 201, in parse_date\n",
      "    return date(sign * int(groups['year']),\n",
      "ValueError: day is out of range for month\n",
      "Failed to convert Literal lexical form to value. Datatype=http://www.w3.org/2001/XMLSchema#date, Converter=<function parse_date at 0x7fb6dac4c5e0>\n",
      "Traceback (most recent call last):\n",
      "  File \"/Users/janneke/opt/anaconda3/envs/Master-Thesis-Graph-Representation/lib/python3.9/site-packages/rdflib/term.py\", line 2084, in _castLexicalToPython\n",
      "    return conv_func(lexical)  # type: ignore[arg-type]\n",
      "  File \"/Users/janneke/opt/anaconda3/envs/Master-Thesis-Graph-Representation/lib/python3.9/site-packages/isodate/isodates.py\", line 201, in parse_date\n",
      "    return date(sign * int(groups['year']),\n",
      "ValueError: year 0 is out of range\n",
      "Failed to convert Literal lexical form to value. Datatype=http://www.w3.org/2001/XMLSchema#date, Converter=<function parse_date at 0x7fb6dac4c5e0>\n",
      "Traceback (most recent call last):\n",
      "  File \"/Users/janneke/opt/anaconda3/envs/Master-Thesis-Graph-Representation/lib/python3.9/site-packages/rdflib/term.py\", line 2084, in _castLexicalToPython\n",
      "    return conv_func(lexical)  # type: ignore[arg-type]\n",
      "  File \"/Users/janneke/opt/anaconda3/envs/Master-Thesis-Graph-Representation/lib/python3.9/site-packages/isodate/isodates.py\", line 201, in parse_date\n",
      "    return date(sign * int(groups['year']),\n",
      "ValueError: month must be in 1..12\n",
      "Failed to convert Literal lexical form to value. Datatype=http://www.w3.org/2001/XMLSchema#date, Converter=<function parse_date at 0x7fb6dac4c5e0>\n",
      "Traceback (most recent call last):\n",
      "  File \"/Users/janneke/opt/anaconda3/envs/Master-Thesis-Graph-Representation/lib/python3.9/site-packages/rdflib/term.py\", line 2084, in _castLexicalToPython\n",
      "    return conv_func(lexical)  # type: ignore[arg-type]\n",
      "  File \"/Users/janneke/opt/anaconda3/envs/Master-Thesis-Graph-Representation/lib/python3.9/site-packages/isodate/isodates.py\", line 201, in parse_date\n",
      "    return date(sign * int(groups['year']),\n",
      "ValueError: month must be in 1..12\n",
      "Failed to convert Literal lexical form to value. Datatype=http://www.w3.org/2001/XMLSchema#date, Converter=<function parse_date at 0x7fb6dac4c5e0>\n",
      "Traceback (most recent call last):\n",
      "  File \"/Users/janneke/opt/anaconda3/envs/Master-Thesis-Graph-Representation/lib/python3.9/site-packages/rdflib/term.py\", line 2084, in _castLexicalToPython\n",
      "    return conv_func(lexical)  # type: ignore[arg-type]\n",
      "  File \"/Users/janneke/opt/anaconda3/envs/Master-Thesis-Graph-Representation/lib/python3.9/site-packages/isodate/isodates.py\", line 201, in parse_date\n",
      "    return date(sign * int(groups['year']),\n",
      "ValueError: month must be in 1..12\n",
      "Failed to convert Literal lexical form to value. Datatype=http://www.w3.org/2001/XMLSchema#date, Converter=<function parse_date at 0x7fb6dac4c5e0>\n",
      "Traceback (most recent call last):\n",
      "  File \"/Users/janneke/opt/anaconda3/envs/Master-Thesis-Graph-Representation/lib/python3.9/site-packages/rdflib/term.py\", line 2084, in _castLexicalToPython\n",
      "    return conv_func(lexical)  # type: ignore[arg-type]\n",
      "  File \"/Users/janneke/opt/anaconda3/envs/Master-Thesis-Graph-Representation/lib/python3.9/site-packages/isodate/isodates.py\", line 201, in parse_date\n",
      "    return date(sign * int(groups['year']),\n",
      "ValueError: day is out of range for month\n",
      "Failed to convert Literal lexical form to value. Datatype=http://www.w3.org/2001/XMLSchema#date, Converter=<function parse_date at 0x7fb6dac4c5e0>\n",
      "Traceback (most recent call last):\n",
      "  File \"/Users/janneke/opt/anaconda3/envs/Master-Thesis-Graph-Representation/lib/python3.9/site-packages/rdflib/term.py\", line 2084, in _castLexicalToPython\n",
      "    return conv_func(lexical)  # type: ignore[arg-type]\n",
      "  File \"/Users/janneke/opt/anaconda3/envs/Master-Thesis-Graph-Representation/lib/python3.9/site-packages/isodate/isodates.py\", line 201, in parse_date\n",
      "    return date(sign * int(groups['year']),\n",
      "ValueError: month must be in 1..12\n",
      "Failed to convert Literal lexical form to value. Datatype=http://www.w3.org/2001/XMLSchema#date, Converter=<function parse_date at 0x7fb6dac4c5e0>\n",
      "Traceback (most recent call last):\n",
      "  File \"/Users/janneke/opt/anaconda3/envs/Master-Thesis-Graph-Representation/lib/python3.9/site-packages/rdflib/term.py\", line 2084, in _castLexicalToPython\n",
      "    return conv_func(lexical)  # type: ignore[arg-type]\n",
      "  File \"/Users/janneke/opt/anaconda3/envs/Master-Thesis-Graph-Representation/lib/python3.9/site-packages/isodate/isodates.py\", line 201, in parse_date\n",
      "    return date(sign * int(groups['year']),\n",
      "ValueError: month must be in 1..12\n",
      "Failed to convert Literal lexical form to value. Datatype=http://www.w3.org/2001/XMLSchema#date, Converter=<function parse_date at 0x7fb6dac4c5e0>\n",
      "Traceback (most recent call last):\n",
      "  File \"/Users/janneke/opt/anaconda3/envs/Master-Thesis-Graph-Representation/lib/python3.9/site-packages/rdflib/term.py\", line 2084, in _castLexicalToPython\n",
      "    return conv_func(lexical)  # type: ignore[arg-type]\n",
      "  File \"/Users/janneke/opt/anaconda3/envs/Master-Thesis-Graph-Representation/lib/python3.9/site-packages/isodate/isodates.py\", line 201, in parse_date\n",
      "    return date(sign * int(groups['year']),\n",
      "ValueError: month must be in 1..12\n"
     ]
    },
    {
     "name": "stdout",
     "output_type": "stream",
     "text": [
      "torch.Size([343219, 343219, 60])\n",
      "777124.0\n"
     ]
    },
    {
     "data": {
      "text/plain": [
       "tensor(indices=tensor([[ 0,  1,  2,  3,  4,  5,  6,  7,  8,  9, 10, 11, 12, 13,\n",
       "                        14, 15, 16, 17, 18, 19, 20, 21, 22, 23, 24, 25, 26, 27,\n",
       "                        28, 29, 30, 31, 32, 33, 34, 35, 36, 37, 38, 39, 40, 41,\n",
       "                        42, 43, 44, 45, 46, 47, 48, 49, 50, 51, 52, 53, 54, 55,\n",
       "                        56, 57, 58, 59]]),\n",
       "       values=tensor([5.7042e+04, 5.7550e+03, 9.3300e+02, 4.6123e+04,\n",
       "                      8.3960e+03, 3.7200e+02, 2.1200e+02, 2.4070e+03,\n",
       "                      2.4070e+03, 7.0000e+00, 1.5400e+03, 8.3960e+03,\n",
       "                      4.3964e+04, 1.0790e+03, 4.4216e+04, 8.7830e+03,\n",
       "                      1.0000e+00, 8.3960e+03, 1.2520e+03, 3.4865e+04,\n",
       "                      2.4070e+03, 1.3013e+05, 4.7384e+04, 1.8260e+04,\n",
       "                      6.3000e+02, 2.3730e+03, 2.5800e+02, 4.5111e+04,\n",
       "                      8.3960e+03, 8.3960e+03, 2.0866e+04, 2.6000e+02,\n",
       "                      3.7100e+02, 8.3960e+03, 8.3960e+03, 1.6150e+03,\n",
       "                      1.8000e+03, 1.5400e+03, 8.0000e+00, 8.3960e+03,\n",
       "                      3.7200e+02, 6.3000e+02, 1.0390e+03, 1.5600e+02,\n",
       "                      4.6108e+04, 7.7100e+02, 5.5000e+01, 8.2990e+03,\n",
       "                      3.0000e+00, 1.8240e+03, 2.1039e+04, 2.3760e+03,\n",
       "                      4.7872e+04, 1.5400e+03, 1.5400e+03, 5.1000e+02,\n",
       "                      2.4070e+03, 1.5400e+03, 3.6000e+01, 4.7872e+04]),\n",
       "       size=(60,), nnz=60, layout=torch.sparse_coo)"
      ]
     },
     "execution_count": 13,
     "metadata": {},
     "output_type": "execute_result"
    }
   ],
   "source": [
    "adj_mat_col, map_ent_col, map_ent_to_ind_col, map_rel_col = reading_data.create_adjacency_matrix_nt(\"data/dmg777k/dmg777k_stripped.nt\", literal_representation=\"collapsed\", sparse=True, relational=True)\n",
    "print(adj_mat_col.size())\n",
    "print(torch.sparse.sum(adj_mat_col).item())\n",
    "torch.sparse.sum(adj_mat_col, dim=[0,1])"
   ]
  },
  {
   "cell_type": "code",
   "execution_count": 14,
   "id": "6b09ed80",
   "metadata": {},
   "outputs": [
    {
     "name": "stderr",
     "output_type": "stream",
     "text": [
      "Failed to convert Literal lexical form to value. Datatype=http://www.w3.org/2001/XMLSchema#date, Converter=<function parse_date at 0x7fb6dac4c5e0>\n",
      "Traceback (most recent call last):\n",
      "  File \"/Users/janneke/opt/anaconda3/envs/Master-Thesis-Graph-Representation/lib/python3.9/site-packages/rdflib/term.py\", line 2084, in _castLexicalToPython\n",
      "    return conv_func(lexical)  # type: ignore[arg-type]\n",
      "  File \"/Users/janneke/opt/anaconda3/envs/Master-Thesis-Graph-Representation/lib/python3.9/site-packages/isodate/isodates.py\", line 201, in parse_date\n",
      "    return date(sign * int(groups['year']),\n",
      "ValueError: month must be in 1..12\n",
      "Failed to convert Literal lexical form to value. Datatype=http://www.w3.org/2001/XMLSchema#date, Converter=<function parse_date at 0x7fb6dac4c5e0>\n",
      "Traceback (most recent call last):\n",
      "  File \"/Users/janneke/opt/anaconda3/envs/Master-Thesis-Graph-Representation/lib/python3.9/site-packages/rdflib/term.py\", line 2084, in _castLexicalToPython\n",
      "    return conv_func(lexical)  # type: ignore[arg-type]\n",
      "  File \"/Users/janneke/opt/anaconda3/envs/Master-Thesis-Graph-Representation/lib/python3.9/site-packages/isodate/isodates.py\", line 201, in parse_date\n",
      "    return date(sign * int(groups['year']),\n",
      "ValueError: day is out of range for month\n",
      "Failed to convert Literal lexical form to value. Datatype=http://www.w3.org/2001/XMLSchema#date, Converter=<function parse_date at 0x7fb6dac4c5e0>\n",
      "Traceback (most recent call last):\n",
      "  File \"/Users/janneke/opt/anaconda3/envs/Master-Thesis-Graph-Representation/lib/python3.9/site-packages/rdflib/term.py\", line 2084, in _castLexicalToPython\n",
      "    return conv_func(lexical)  # type: ignore[arg-type]\n",
      "  File \"/Users/janneke/opt/anaconda3/envs/Master-Thesis-Graph-Representation/lib/python3.9/site-packages/isodate/isodates.py\", line 201, in parse_date\n",
      "    return date(sign * int(groups['year']),\n",
      "ValueError: month must be in 1..12\n",
      "Failed to convert Literal lexical form to value. Datatype=http://www.w3.org/2001/XMLSchema#date, Converter=<function parse_date at 0x7fb6dac4c5e0>\n",
      "Traceback (most recent call last):\n",
      "  File \"/Users/janneke/opt/anaconda3/envs/Master-Thesis-Graph-Representation/lib/python3.9/site-packages/rdflib/term.py\", line 2084, in _castLexicalToPython\n",
      "    return conv_func(lexical)  # type: ignore[arg-type]\n",
      "  File \"/Users/janneke/opt/anaconda3/envs/Master-Thesis-Graph-Representation/lib/python3.9/site-packages/isodate/isodates.py\", line 201, in parse_date\n",
      "    return date(sign * int(groups['year']),\n",
      "ValueError: month must be in 1..12\n",
      "Failed to convert Literal lexical form to value. Datatype=http://www.w3.org/2001/XMLSchema#date, Converter=<function parse_date at 0x7fb6dac4c5e0>\n",
      "Traceback (most recent call last):\n",
      "  File \"/Users/janneke/opt/anaconda3/envs/Master-Thesis-Graph-Representation/lib/python3.9/site-packages/rdflib/term.py\", line 2084, in _castLexicalToPython\n",
      "    return conv_func(lexical)  # type: ignore[arg-type]\n",
      "  File \"/Users/janneke/opt/anaconda3/envs/Master-Thesis-Graph-Representation/lib/python3.9/site-packages/isodate/isodates.py\", line 201, in parse_date\n",
      "    return date(sign * int(groups['year']),\n",
      "ValueError: month must be in 1..12\n",
      "Failed to convert Literal lexical form to value. Datatype=http://www.w3.org/2001/XMLSchema#date, Converter=<function parse_date at 0x7fb6dac4c5e0>\n",
      "Traceback (most recent call last):\n",
      "  File \"/Users/janneke/opt/anaconda3/envs/Master-Thesis-Graph-Representation/lib/python3.9/site-packages/rdflib/term.py\", line 2084, in _castLexicalToPython\n",
      "    return conv_func(lexical)  # type: ignore[arg-type]\n",
      "  File \"/Users/janneke/opt/anaconda3/envs/Master-Thesis-Graph-Representation/lib/python3.9/site-packages/isodate/isodates.py\", line 201, in parse_date\n",
      "    return date(sign * int(groups['year']),\n",
      "ValueError: day is out of range for month\n",
      "Failed to convert Literal lexical form to value. Datatype=http://www.w3.org/2001/XMLSchema#date, Converter=<function parse_date at 0x7fb6dac4c5e0>\n",
      "Traceback (most recent call last):\n",
      "  File \"/Users/janneke/opt/anaconda3/envs/Master-Thesis-Graph-Representation/lib/python3.9/site-packages/rdflib/term.py\", line 2084, in _castLexicalToPython\n",
      "    return conv_func(lexical)  # type: ignore[arg-type]\n",
      "  File \"/Users/janneke/opt/anaconda3/envs/Master-Thesis-Graph-Representation/lib/python3.9/site-packages/isodate/isodates.py\", line 201, in parse_date\n",
      "    return date(sign * int(groups['year']),\n",
      "ValueError: year 0 is out of range\n",
      "Failed to convert Literal lexical form to value. Datatype=http://www.w3.org/2001/XMLSchema#date, Converter=<function parse_date at 0x7fb6dac4c5e0>\n",
      "Traceback (most recent call last):\n",
      "  File \"/Users/janneke/opt/anaconda3/envs/Master-Thesis-Graph-Representation/lib/python3.9/site-packages/rdflib/term.py\", line 2084, in _castLexicalToPython\n",
      "    return conv_func(lexical)  # type: ignore[arg-type]\n",
      "  File \"/Users/janneke/opt/anaconda3/envs/Master-Thesis-Graph-Representation/lib/python3.9/site-packages/isodate/isodates.py\", line 201, in parse_date\n",
      "    return date(sign * int(groups['year']),\n",
      "ValueError: month must be in 1..12\n",
      "Failed to convert Literal lexical form to value. Datatype=http://www.w3.org/2001/XMLSchema#date, Converter=<function parse_date at 0x7fb6dac4c5e0>\n",
      "Traceback (most recent call last):\n",
      "  File \"/Users/janneke/opt/anaconda3/envs/Master-Thesis-Graph-Representation/lib/python3.9/site-packages/rdflib/term.py\", line 2084, in _castLexicalToPython\n",
      "    return conv_func(lexical)  # type: ignore[arg-type]\n",
      "  File \"/Users/janneke/opt/anaconda3/envs/Master-Thesis-Graph-Representation/lib/python3.9/site-packages/isodate/isodates.py\", line 201, in parse_date\n",
      "    return date(sign * int(groups['year']),\n",
      "ValueError: day is out of range for month\n",
      "Failed to convert Literal lexical form to value. Datatype=http://www.w3.org/2001/XMLSchema#date, Converter=<function parse_date at 0x7fb6dac4c5e0>\n",
      "Traceback (most recent call last):\n",
      "  File \"/Users/janneke/opt/anaconda3/envs/Master-Thesis-Graph-Representation/lib/python3.9/site-packages/rdflib/term.py\", line 2084, in _castLexicalToPython\n",
      "    return conv_func(lexical)  # type: ignore[arg-type]\n",
      "  File \"/Users/janneke/opt/anaconda3/envs/Master-Thesis-Graph-Representation/lib/python3.9/site-packages/isodate/isodates.py\", line 203, in parse_date\n",
      "    raise ISO8601Error('Unrecognised ISO 8601 date format: %r' % datestring)\n",
      "isodate.isoerror.ISO8601Error: Unrecognised ISO 8601 date format: '-01-01'\n",
      "Failed to convert Literal lexical form to value. Datatype=http://www.w3.org/2001/XMLSchema#date, Converter=<function parse_date at 0x7fb6dac4c5e0>\n",
      "Traceback (most recent call last):\n",
      "  File \"/Users/janneke/opt/anaconda3/envs/Master-Thesis-Graph-Representation/lib/python3.9/site-packages/rdflib/term.py\", line 2084, in _castLexicalToPython\n",
      "    return conv_func(lexical)  # type: ignore[arg-type]\n",
      "  File \"/Users/janneke/opt/anaconda3/envs/Master-Thesis-Graph-Representation/lib/python3.9/site-packages/isodate/isodates.py\", line 201, in parse_date\n",
      "    return date(sign * int(groups['year']),\n",
      "ValueError: month must be in 1..12\n",
      "Failed to convert Literal lexical form to value. Datatype=http://www.w3.org/2001/XMLSchema#date, Converter=<function parse_date at 0x7fb6dac4c5e0>\n",
      "Traceback (most recent call last):\n",
      "  File \"/Users/janneke/opt/anaconda3/envs/Master-Thesis-Graph-Representation/lib/python3.9/site-packages/rdflib/term.py\", line 2084, in _castLexicalToPython\n",
      "    return conv_func(lexical)  # type: ignore[arg-type]\n",
      "  File \"/Users/janneke/opt/anaconda3/envs/Master-Thesis-Graph-Representation/lib/python3.9/site-packages/isodate/isodates.py\", line 201, in parse_date\n",
      "    return date(sign * int(groups['year']),\n",
      "ValueError: month must be in 1..12\n",
      "Failed to convert Literal lexical form to value. Datatype=http://www.w3.org/2001/XMLSchema#date, Converter=<function parse_date at 0x7fb6dac4c5e0>\n",
      "Traceback (most recent call last):\n",
      "  File \"/Users/janneke/opt/anaconda3/envs/Master-Thesis-Graph-Representation/lib/python3.9/site-packages/rdflib/term.py\", line 2084, in _castLexicalToPython\n",
      "    return conv_func(lexical)  # type: ignore[arg-type]\n",
      "  File \"/Users/janneke/opt/anaconda3/envs/Master-Thesis-Graph-Representation/lib/python3.9/site-packages/isodate/isodates.py\", line 201, in parse_date\n",
      "    return date(sign * int(groups['year']),\n",
      "ValueError: year 0 is out of range\n"
     ]
    },
    {
     "name": "stderr",
     "output_type": "stream",
     "text": [
      "Failed to convert Literal lexical form to value. Datatype=http://www.w3.org/2001/XMLSchema#date, Converter=<function parse_date at 0x7fb6dac4c5e0>\n",
      "Traceback (most recent call last):\n",
      "  File \"/Users/janneke/opt/anaconda3/envs/Master-Thesis-Graph-Representation/lib/python3.9/site-packages/rdflib/term.py\", line 2084, in _castLexicalToPython\n",
      "    return conv_func(lexical)  # type: ignore[arg-type]\n",
      "  File \"/Users/janneke/opt/anaconda3/envs/Master-Thesis-Graph-Representation/lib/python3.9/site-packages/isodate/isodates.py\", line 201, in parse_date\n",
      "    return date(sign * int(groups['year']),\n",
      "ValueError: day is out of range for month\n",
      "Failed to convert Literal lexical form to value. Datatype=http://www.w3.org/2001/XMLSchema#date, Converter=<function parse_date at 0x7fb6dac4c5e0>\n",
      "Traceback (most recent call last):\n",
      "  File \"/Users/janneke/opt/anaconda3/envs/Master-Thesis-Graph-Representation/lib/python3.9/site-packages/rdflib/term.py\", line 2084, in _castLexicalToPython\n",
      "    return conv_func(lexical)  # type: ignore[arg-type]\n",
      "  File \"/Users/janneke/opt/anaconda3/envs/Master-Thesis-Graph-Representation/lib/python3.9/site-packages/isodate/isodates.py\", line 201, in parse_date\n",
      "    return date(sign * int(groups['year']),\n",
      "ValueError: year 0 is out of range\n",
      "Failed to convert Literal lexical form to value. Datatype=http://www.w3.org/2001/XMLSchema#date, Converter=<function parse_date at 0x7fb6dac4c5e0>\n",
      "Traceback (most recent call last):\n",
      "  File \"/Users/janneke/opt/anaconda3/envs/Master-Thesis-Graph-Representation/lib/python3.9/site-packages/rdflib/term.py\", line 2084, in _castLexicalToPython\n",
      "    return conv_func(lexical)  # type: ignore[arg-type]\n",
      "  File \"/Users/janneke/opt/anaconda3/envs/Master-Thesis-Graph-Representation/lib/python3.9/site-packages/isodate/isodates.py\", line 201, in parse_date\n",
      "    return date(sign * int(groups['year']),\n",
      "ValueError: month must be in 1..12\n",
      "Failed to convert Literal lexical form to value. Datatype=http://www.w3.org/2001/XMLSchema#date, Converter=<function parse_date at 0x7fb6dac4c5e0>\n",
      "Traceback (most recent call last):\n",
      "  File \"/Users/janneke/opt/anaconda3/envs/Master-Thesis-Graph-Representation/lib/python3.9/site-packages/rdflib/term.py\", line 2084, in _castLexicalToPython\n",
      "    return conv_func(lexical)  # type: ignore[arg-type]\n",
      "  File \"/Users/janneke/opt/anaconda3/envs/Master-Thesis-Graph-Representation/lib/python3.9/site-packages/isodate/isodates.py\", line 201, in parse_date\n",
      "    return date(sign * int(groups['year']),\n",
      "ValueError: month must be in 1..12\n",
      "Failed to convert Literal lexical form to value. Datatype=http://www.w3.org/2001/XMLSchema#date, Converter=<function parse_date at 0x7fb6dac4c5e0>\n",
      "Traceback (most recent call last):\n",
      "  File \"/Users/janneke/opt/anaconda3/envs/Master-Thesis-Graph-Representation/lib/python3.9/site-packages/rdflib/term.py\", line 2084, in _castLexicalToPython\n",
      "    return conv_func(lexical)  # type: ignore[arg-type]\n",
      "  File \"/Users/janneke/opt/anaconda3/envs/Master-Thesis-Graph-Representation/lib/python3.9/site-packages/isodate/isodates.py\", line 201, in parse_date\n",
      "    return date(sign * int(groups['year']),\n",
      "ValueError: month must be in 1..12\n",
      "Failed to convert Literal lexical form to value. Datatype=http://www.w3.org/2001/XMLSchema#date, Converter=<function parse_date at 0x7fb6dac4c5e0>\n",
      "Traceback (most recent call last):\n",
      "  File \"/Users/janneke/opt/anaconda3/envs/Master-Thesis-Graph-Representation/lib/python3.9/site-packages/rdflib/term.py\", line 2084, in _castLexicalToPython\n",
      "    return conv_func(lexical)  # type: ignore[arg-type]\n",
      "  File \"/Users/janneke/opt/anaconda3/envs/Master-Thesis-Graph-Representation/lib/python3.9/site-packages/isodate/isodates.py\", line 201, in parse_date\n",
      "    return date(sign * int(groups['year']),\n",
      "ValueError: day is out of range for month\n",
      "Failed to convert Literal lexical form to value. Datatype=http://www.w3.org/2001/XMLSchema#date, Converter=<function parse_date at 0x7fb6dac4c5e0>\n",
      "Traceback (most recent call last):\n",
      "  File \"/Users/janneke/opt/anaconda3/envs/Master-Thesis-Graph-Representation/lib/python3.9/site-packages/rdflib/term.py\", line 2084, in _castLexicalToPython\n",
      "    return conv_func(lexical)  # type: ignore[arg-type]\n",
      "  File \"/Users/janneke/opt/anaconda3/envs/Master-Thesis-Graph-Representation/lib/python3.9/site-packages/isodate/isodates.py\", line 201, in parse_date\n",
      "    return date(sign * int(groups['year']),\n",
      "ValueError: month must be in 1..12\n",
      "Failed to convert Literal lexical form to value. Datatype=http://www.w3.org/2001/XMLSchema#date, Converter=<function parse_date at 0x7fb6dac4c5e0>\n",
      "Traceback (most recent call last):\n",
      "  File \"/Users/janneke/opt/anaconda3/envs/Master-Thesis-Graph-Representation/lib/python3.9/site-packages/rdflib/term.py\", line 2084, in _castLexicalToPython\n",
      "    return conv_func(lexical)  # type: ignore[arg-type]\n",
      "  File \"/Users/janneke/opt/anaconda3/envs/Master-Thesis-Graph-Representation/lib/python3.9/site-packages/isodate/isodates.py\", line 201, in parse_date\n",
      "    return date(sign * int(groups['year']),\n",
      "ValueError: month must be in 1..12\n",
      "Failed to convert Literal lexical form to value. Datatype=http://www.w3.org/2001/XMLSchema#date, Converter=<function parse_date at 0x7fb6dac4c5e0>\n",
      "Traceback (most recent call last):\n",
      "  File \"/Users/janneke/opt/anaconda3/envs/Master-Thesis-Graph-Representation/lib/python3.9/site-packages/rdflib/term.py\", line 2084, in _castLexicalToPython\n",
      "    return conv_func(lexical)  # type: ignore[arg-type]\n",
      "  File \"/Users/janneke/opt/anaconda3/envs/Master-Thesis-Graph-Representation/lib/python3.9/site-packages/isodate/isodates.py\", line 201, in parse_date\n",
      "    return date(sign * int(groups['year']),\n",
      "ValueError: month must be in 1..12\n"
     ]
    },
    {
     "name": "stdout",
     "output_type": "stream",
     "text": [
      "torch.Size([636872, 636872, 60])\n",
      "777124.0\n"
     ]
    },
    {
     "data": {
      "text/plain": [
       "tensor(indices=tensor([[ 0,  1,  2,  3,  4,  5,  6,  7,  8,  9, 10, 11, 12, 13,\n",
       "                        14, 15, 16, 17, 18, 19, 20, 21, 22, 23, 24, 25, 26, 27,\n",
       "                        28, 29, 30, 31, 32, 33, 34, 35, 36, 37, 38, 39, 40, 41,\n",
       "                        42, 43, 44, 45, 46, 47, 48, 49, 50, 51, 52, 53, 54, 55,\n",
       "                        56, 57, 58, 59]]),\n",
       "       values=tensor([5.7042e+04, 5.7550e+03, 9.3300e+02, 4.6123e+04,\n",
       "                      8.3960e+03, 3.7200e+02, 2.1200e+02, 2.4070e+03,\n",
       "                      2.4070e+03, 7.0000e+00, 1.5400e+03, 8.3960e+03,\n",
       "                      4.3964e+04, 1.0790e+03, 4.4216e+04, 8.7830e+03,\n",
       "                      1.0000e+00, 8.3960e+03, 1.2520e+03, 3.4865e+04,\n",
       "                      2.4070e+03, 1.3013e+05, 4.7384e+04, 1.8260e+04,\n",
       "                      6.3000e+02, 2.3730e+03, 2.5800e+02, 4.5111e+04,\n",
       "                      8.3960e+03, 8.3960e+03, 2.0866e+04, 2.6000e+02,\n",
       "                      3.7100e+02, 8.3960e+03, 8.3960e+03, 1.6150e+03,\n",
       "                      1.8000e+03, 1.5400e+03, 8.0000e+00, 8.3960e+03,\n",
       "                      3.7200e+02, 6.3000e+02, 1.0390e+03, 1.5600e+02,\n",
       "                      4.6108e+04, 7.7100e+02, 5.5000e+01, 8.2990e+03,\n",
       "                      3.0000e+00, 1.8240e+03, 2.1039e+04, 2.3760e+03,\n",
       "                      4.7872e+04, 1.5400e+03, 1.5400e+03, 5.1000e+02,\n",
       "                      2.4070e+03, 1.5400e+03, 3.6000e+01, 4.7872e+04]),\n",
       "       size=(60,), nnz=60, layout=torch.sparse_coo)"
      ]
     },
     "execution_count": 14,
     "metadata": {},
     "output_type": "execute_result"
    }
   ],
   "source": [
    "adj_mat_sep, map_ent_sep, map_ent_to_ind_sep, map_rel_sep = reading_data.create_adjacency_matrix_nt(\"data/dmg777k/dmg777k_stripped.nt\", literal_representation=\"separate\", sparse=True, relational=True)\n",
    "print(adj_mat_sep.size())\n",
    "print(torch.sparse.sum(adj_mat_sep).item())\n",
    "torch.sparse.sum(adj_mat_sep, dim=[0,1])"
   ]
  },
  {
   "cell_type": "markdown",
   "id": "e2784a42",
   "metadata": {},
   "source": [
    "## Reading in data - classes for the testing process --> so it can be used as a mask during training"
   ]
  },
  {
   "cell_type": "markdown",
   "id": "9a8fdfd4",
   "metadata": {},
   "source": [
    "The cells below are for developing the function."
   ]
  },
  {
   "cell_type": "code",
   "execution_count": 3,
   "id": "a880e84e",
   "metadata": {},
   "outputs": [],
   "source": [
    "# read in the train, valid and test set indices\n",
    "graph_train = Graph()\n",
    "graph_valid = Graph()\n",
    "graph_test = Graph()\n",
    "\n",
    "with gzip.open(\"data/aifb/gz_files/aifb+_train_set.nt.gz\", 'r') as gf:\n",
    "    graph_train.parse(data=gf.read(), format='nt')\n",
    "\n",
    "with gzip.open(\"data/aifb/gz_files/aifb+_valid_set.nt.gz\", 'r') as gf:\n",
    "    graph_valid.parse(data=gf.read(), format='nt')\n",
    "    \n",
    "with gzip.open(\"data/aifb/gz_files/aifb+_test_set.nt.gz\", 'r') as gf:\n",
    "    graph_test.parse(data=gf.read(), format='nt')\n",
    "    \n",
    "graph_all = graph_train + graph_valid + graph_test"
   ]
  },
  {
   "cell_type": "code",
   "execution_count": 5,
   "id": "7b2c83f7",
   "metadata": {},
   "outputs": [
    {
     "name": "stdout",
     "output_type": "stream",
     "text": [
      "torch.Size([2835, 2835])\n",
      "tensor(20338.)\n"
     ]
    }
   ],
   "source": [
    "# read the matrix (to get the mapping and the number of nodes)\n",
    "adj_mat_fil, map_ent_fil, map_ent_to_ind_fil = reading_data.create_adjacency_matrix_nt(\"data/aifb/aifb+.nt\", literal_representation=\"filtered\")\n",
    "print(adj_mat_fil.shape)\n",
    "print(adj_mat_fil.sum())"
   ]
  },
  {
   "cell_type": "code",
   "execution_count": 6,
   "id": "98a652ae",
   "metadata": {},
   "outputs": [],
   "source": [
    "# make a tensor of zeroes (everything without a class is seen as a zero)\n",
    "labels = torch.zeros(adj_mat_fil.shape[0])\n",
    "class_mapping = dict()\n",
    "current = 1\n",
    "\n",
    "# put these enumerators together, maybe we can append them in some way?\n",
    "for head, relation, tail in graph_all:\n",
    "    # get the index of head:\n",
    "    head_index = map_ent_to_ind_fil[head]\n",
    "\n",
    "    # if current class not yet in map, add it and increment\n",
    "    if tail not in class_mapping:\n",
    "        class_mapping[tail] = current\n",
    "        labels[head_index] = current\n",
    "\n",
    "        current += 1\n",
    "\n",
    "    # otherwise, add the class index to the tensor at that point\n",
    "    else:\n",
    "        label = class_mapping[tail]\n",
    "        labels[head_index] = label"
   ]
  },
  {
   "cell_type": "markdown",
   "id": "3758b1eb",
   "metadata": {},
   "source": [
    "### Testing this function:"
   ]
  },
  {
   "cell_type": "code",
   "execution_count": 13,
   "id": "b1db5053",
   "metadata": {},
   "outputs": [],
   "source": [
    "# add the file names\n",
    "file_name_train = \"data/mutag/gz_files/mutag_train_set.nt.gz\"\n",
    "file_name_valid = \"data/mutag/gz_files/mutag_valid_set.nt.gz\"\n",
    "file_name_test = \"data/mutag/gz_files/mutag_test_set.nt.gz\"\n",
    "\n",
    "# read in graph\n",
    "adj_mat_fil, map_ent_to_ind_fil, map_ent_fil = reading_data.create_adjacency_matrix_nt(\"data/mutag/gz_files/mutag.nt.gz\", literal_representation=\"separate\", sparse=True)"
   ]
  },
  {
   "cell_type": "code",
   "execution_count": 14,
   "id": "6bab339c",
   "metadata": {},
   "outputs": [],
   "source": [
    "labels, train_entities, valid_entities, test_entities = reading_data.training_valid_test_set(file_name_train, file_name_valid, file_name_test, map_ent_fil, adj_mat_fil.size()[0])"
   ]
  },
  {
   "cell_type": "code",
   "execution_count": 15,
   "id": "924955b2",
   "metadata": {},
   "outputs": [
    {
     "data": {
      "text/plain": [
       "tensor([1., 1., 1., 1., 1., 2., 1., 2., 2., 1., 2., 2., 1., 1., 1., 1., 2., 1.,\n",
       "        1., 2., 2., 1., 1., 1., 2., 1., 2., 1., 2., 2., 1., 2., 2., 1., 2., 2.,\n",
       "        2., 2., 1., 1., 1., 1., 2., 2., 2., 2., 1., 1., 2., 2., 1., 1., 1., 1.,\n",
       "        1., 2., 1., 1., 1., 1., 1., 2., 1., 1., 2., 2., 1., 1., 1., 1., 2., 2.,\n",
       "        2., 2., 2., 1., 1., 1., 1., 1., 1., 2., 2., 2., 2., 2., 2., 1., 2., 2.,\n",
       "        1., 1., 1., 2., 1., 1., 2., 2., 2., 2., 1., 1., 1., 1., 2., 1., 1., 1.,\n",
       "        2., 2., 2., 2., 1., 1., 1., 2., 1., 1., 1., 1., 1., 1., 1., 2., 1., 1.,\n",
       "        1., 2., 1., 1., 1., 2., 2., 1., 2., 2., 1., 2., 2., 1., 1., 2., 1., 1.,\n",
       "        2., 1., 2., 1., 1., 1., 2., 1., 1., 2., 1., 1., 1., 1., 2., 2., 2., 1.,\n",
       "        1., 1., 1., 2., 1., 2., 1., 2., 1., 1., 2., 1., 1., 1., 1., 2., 2., 1.,\n",
       "        1., 2., 2., 1., 2., 1., 2., 1., 2., 1., 1., 1., 1., 1., 1., 1., 1., 1.,\n",
       "        2., 1., 1., 1., 2., 1., 2., 1., 1., 1., 1., 1., 2., 1., 2., 1., 1., 2.,\n",
       "        1., 1.])"
      ]
     },
     "execution_count": 15,
     "metadata": {},
     "output_type": "execute_result"
    }
   ],
   "source": [
    "labels[train_entities]"
   ]
  },
  {
   "cell_type": "code",
   "execution_count": 16,
   "id": "c51b986f",
   "metadata": {},
   "outputs": [
    {
     "data": {
      "text/plain": [
       "tensor([1., 2., 2., 1., 1., 1., 2., 2., 1., 1., 2., 1., 2., 1., 1., 1., 1., 1.,\n",
       "        1., 1., 1., 2., 1., 1., 1., 2., 2., 1., 1., 1., 1., 1., 2., 2., 2., 1.,\n",
       "        2., 1., 2., 2., 2., 1., 2., 1., 1., 1., 1., 1., 2., 1., 2., 2., 2., 1.])"
      ]
     },
     "execution_count": 16,
     "metadata": {},
     "output_type": "execute_result"
    }
   ],
   "source": [
    "labels[valid_entities]"
   ]
  },
  {
   "cell_type": "code",
   "execution_count": 17,
   "id": "ecf05dd6",
   "metadata": {},
   "outputs": [
    {
     "data": {
      "text/plain": [
       "tensor([1., 1., 1., 1., 2., 1., 1., 1., 1., 1., 1., 1., 1., 1., 1., 2., 2., 1.,\n",
       "        1., 2., 2., 2., 2., 1., 1., 2., 1., 1., 2., 2., 1., 1., 2., 1., 1., 1.,\n",
       "        2., 1., 1., 2., 2., 2., 1., 2., 1., 1., 1., 1., 1., 1., 1., 2., 2., 2.,\n",
       "        2., 2., 1., 1., 1., 2., 1., 1., 1., 1., 1., 1., 1., 2.])"
      ]
     },
     "execution_count": 17,
     "metadata": {},
     "output_type": "execute_result"
    }
   ],
   "source": [
    "labels[test_entities]"
   ]
  }
 ],
 "metadata": {
  "kernelspec": {
   "display_name": "GraphRepresentationKernel",
   "language": "python",
   "name": "graphrepresentationkernel"
  },
  "language_info": {
   "codemirror_mode": {
    "name": "ipython",
    "version": 3
   },
   "file_extension": ".py",
   "mimetype": "text/x-python",
   "name": "python",
   "nbconvert_exporter": "python",
   "pygments_lexer": "ipython3",
   "version": "3.9.16"
  }
 },
 "nbformat": 4,
 "nbformat_minor": 5
}
