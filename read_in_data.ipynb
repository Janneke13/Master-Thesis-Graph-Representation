{
 "cells": [
  {
   "cell_type": "markdown",
   "id": "b46bf8ec",
   "metadata": {},
   "source": [
    "## Reading in the data and putting it into adjacency matrices"
   ]
  },
  {
   "cell_type": "code",
   "execution_count": 1,
   "id": "16842686",
   "metadata": {},
   "outputs": [],
   "source": [
    "# import packages\n",
    "import torch\n",
    "from rdflib import Graph, Literal"
   ]
  },
  {
   "cell_type": "markdown",
   "id": "4a656f73",
   "metadata": {},
   "source": [
    "This is for the AIFB+ data, but I will make it more general later on, so everthing works."
   ]
  },
  {
   "cell_type": "markdown",
   "id": "6d9a222d",
   "metadata": {},
   "source": [
    "### Read in the graph:"
   ]
  },
  {
   "cell_type": "markdown",
   "id": "a4c3fed7",
   "metadata": {},
   "source": [
    "**Note:** when I use the training, validation and test set given, it only includes the labels? \"Node\" \"Employs\" \"ID\", ID is the class here I think."
   ]
  },
  {
   "cell_type": "code",
   "execution_count": 2,
   "id": "fedb042f",
   "metadata": {},
   "outputs": [
    {
     "name": "stdout",
     "output_type": "stream",
     "text": [
      "29043\n"
     ]
    }
   ],
   "source": [
    "# create a graph with rdflib --> reads .nt files automatically\n",
    "graph_test = Graph()\n",
    "graph_test.parse(\"data/aifb/aifb+.nt\")\n",
    "\n",
    "# print the amount of triples as a test\n",
    "print(len(graph_test))"
   ]
  },
  {
   "cell_type": "markdown",
   "id": "dd5af162",
   "metadata": {},
   "source": [
    "Note: this will be a very large adjacency matrix, but for the actual computation, it can be sliced."
   ]
  },
  {
   "cell_type": "code",
   "execution_count": 3,
   "id": "4a7ff9d0",
   "metadata": {},
   "outputs": [],
   "source": [
    "# make two sets(!) to find out the amount of unique nodes and literals --> to create the adjacency matrix\n",
    "# for now, disregard the relations --> are included later on, when R-GCN is created\n",
    "entities = set()\n",
    "literals = set()\n",
    "nr_literals_total = 0 # count -- so the ratio between unique and total is clear\n",
    "\n",
    "for head, relation, tail in graph_test:\n",
    "    # note: heads can ONLY be entities\n",
    "    \n",
    "    entities.add(head)\n",
    "    \n",
    "    # add the tail to its respective set\n",
    "    if isinstance(tail, Literal):\n",
    "        literals.add(tail)\n",
    "        nr_literals_total += 1\n",
    "    else:\n",
    "        entities.add(tail)"
   ]
  },
  {
   "cell_type": "code",
   "execution_count": 4,
   "id": "572a6746",
   "metadata": {},
   "outputs": [
    {
     "name": "stdout",
     "output_type": "stream",
     "text": [
      "Number of entities:  2835\n",
      "Number of unique literals: 5468\n",
      "Number of literals in total:  8705\n"
     ]
    }
   ],
   "source": [
    "print('Number of entities: ', len(entities))\n",
    "print('Number of unique literals:', len(literals))\n",
    "print('Number of literals in total: ', nr_literals_total)"
   ]
  },
  {
   "cell_type": "markdown",
   "id": "40ffae63",
   "metadata": {},
   "source": [
    "### Put it into adjacency matrix (tensors) - disregarding literals:"
   ]
  },
  {
   "cell_type": "code",
   "execution_count": 5,
   "id": "c67344de",
   "metadata": {},
   "outputs": [],
   "source": [
    "number_nodes = len(entities)\n",
    "adjacency_matrix = torch.zeros(number_nodes, number_nodes)"
   ]
  },
  {
   "cell_type": "code",
   "execution_count": 6,
   "id": "99b34170",
   "metadata": {},
   "outputs": [
    {
     "data": {
      "text/plain": [
       "tensor([[0., 0., 0.,  ..., 0., 0., 0.],\n",
       "        [0., 0., 0.,  ..., 0., 0., 0.],\n",
       "        [0., 0., 0.,  ..., 0., 0., 0.],\n",
       "        ...,\n",
       "        [0., 0., 0.,  ..., 0., 0., 0.],\n",
       "        [0., 0., 0.,  ..., 0., 0., 0.],\n",
       "        [0., 0., 0.,  ..., 0., 0., 0.]])"
      ]
     },
     "execution_count": 6,
     "metadata": {},
     "output_type": "execute_result"
    }
   ],
   "source": [
    "adjacency_matrix"
   ]
  },
  {
   "cell_type": "code",
   "execution_count": 7,
   "id": "e7e133bf",
   "metadata": {},
   "outputs": [],
   "source": [
    "# as calling '.index()' every time would result in a O(n^2) complexity, first the mapping is created\n",
    "# so it's faster to look up both from entity to index and from index to entity\n",
    "# there might be a better way to do this --> this takes up memory!\n",
    "map_ent_to_ind = dict()\n",
    "map_ind_to_ent = dict()\n",
    "\n",
    "# increments so every entity gets a different index\n",
    "current = 0\n",
    "\n",
    "for entity in list(entities):\n",
    "    map_ent_to_ind[entity] = current\n",
    "    map_ind_to_ent[current] = entity\n",
    "    current += 1"
   ]
  },
  {
   "cell_type": "code",
   "execution_count": 8,
   "id": "9ca99962",
   "metadata": {},
   "outputs": [],
   "source": [
    "for head, relation, tail in graph_test:\n",
    "    # check whether this is a relational triple:\n",
    "    if not isinstance(tail, Literal):\n",
    "        # find out where one needs to be added:\n",
    "        row_selected = map_ent_to_ind[head]\n",
    "        column_selected = map_ent_to_ind[tail]\n",
    "        adjacency_matrix[row_selected, column_selected] += 1"
   ]
  },
  {
   "cell_type": "code",
   "execution_count": 9,
   "id": "61c922e1",
   "metadata": {},
   "outputs": [
    {
     "data": {
      "text/plain": [
       "tensor([13.,  1.,  5.,  ...,  9.,  1.,  3.])"
      ]
     },
     "execution_count": 9,
     "metadata": {},
     "output_type": "execute_result"
    }
   ],
   "source": [
    "# to show there are relations being added:\n",
    "adjacency_matrix.sum(dim=0)"
   ]
  },
  {
   "cell_type": "markdown",
   "id": "df8b7b07",
   "metadata": {},
   "source": [
    "### Put it into adjacency matrix (tensors) - collapsing literals:"
   ]
  },
  {
   "cell_type": "code",
   "execution_count": 10,
   "id": "68a9707d",
   "metadata": {},
   "outputs": [],
   "source": [
    "number_nodes = len(entities) + len(literals)\n",
    "adjacency_matrix = torch.zeros(number_nodes, number_nodes)"
   ]
  },
  {
   "cell_type": "code",
   "execution_count": 11,
   "id": "3db89491",
   "metadata": {},
   "outputs": [
    {
     "data": {
      "text/plain": [
       "tensor([[0., 0., 0.,  ..., 0., 0., 0.],\n",
       "        [0., 0., 0.,  ..., 0., 0., 0.],\n",
       "        [0., 0., 0.,  ..., 0., 0., 0.],\n",
       "        ...,\n",
       "        [0., 0., 0.,  ..., 0., 0., 0.],\n",
       "        [0., 0., 0.,  ..., 0., 0., 0.],\n",
       "        [0., 0., 0.,  ..., 0., 0., 0.]])"
      ]
     },
     "execution_count": 11,
     "metadata": {},
     "output_type": "execute_result"
    }
   ],
   "source": [
    "adjacency_matrix"
   ]
  },
  {
   "cell_type": "code",
   "execution_count": 12,
   "id": "b09a1278",
   "metadata": {},
   "outputs": [],
   "source": [
    "map_ent_to_ind = dict()\n",
    "map_ind_to_ent = dict()\n",
    "\n",
    "# increments so every entity gets a different index\n",
    "current = 0\n",
    "\n",
    "for entity in list(entities):\n",
    "    map_ent_to_ind[entity] = current\n",
    "    map_ind_to_ent[current] = entity\n",
    "    current += 1\n",
    "\n",
    "for literal in list(literals):\n",
    "    map_ent_to_ind[literal] = current\n",
    "    map_ind_to_ent[current] = literal\n",
    "    current += 1"
   ]
  },
  {
   "cell_type": "code",
   "execution_count": 13,
   "id": "b97c1e1b",
   "metadata": {},
   "outputs": [],
   "source": [
    "# treat everything the same\n",
    "for head, relation, tail in graph_test:\n",
    "    row_selected = map_ent_to_ind[head]\n",
    "    column_selected = map_ent_to_ind[tail]\n",
    "    adjacency_matrix[row_selected, column_selected] += 1"
   ]
  },
  {
   "cell_type": "code",
   "execution_count": 14,
   "id": "70dcfdc6",
   "metadata": {},
   "outputs": [
    {
     "data": {
      "text/plain": [
       "tensor([13.,  1.,  5.,  ...,  1.,  1.,  1.])"
      ]
     },
     "execution_count": 14,
     "metadata": {},
     "output_type": "execute_result"
    }
   ],
   "source": [
    "adjacency_matrix.sum(dim=0)"
   ]
  },
  {
   "cell_type": "markdown",
   "id": "062e8dbc",
   "metadata": {},
   "source": [
    "### Put it into adjacency matrix (tensors) - separating literals:"
   ]
  },
  {
   "cell_type": "code",
   "execution_count": 15,
   "id": "c8c79550",
   "metadata": {},
   "outputs": [],
   "source": [
    "number_nodes = len(entities) + nr_literals_total\n",
    "adjacency_matrix = torch.zeros(number_nodes, number_nodes)"
   ]
  },
  {
   "cell_type": "code",
   "execution_count": 16,
   "id": "ab9cd077",
   "metadata": {},
   "outputs": [],
   "source": [
    "map_ent_to_ind = dict()\n",
    "map_ind_to_ent = dict()\n",
    "\n",
    "# increments so every entity gets a different index\n",
    "current = 0\n",
    "\n",
    "for entity in list(entities):\n",
    "    map_ent_to_ind[entity] = current\n",
    "    map_ind_to_ent[current] = entity\n",
    "    current += 1"
   ]
  },
  {
   "cell_type": "code",
   "execution_count": 17,
   "id": "70819b9f",
   "metadata": {},
   "outputs": [],
   "source": [
    "# add everything to the adjency matrix - use the same 'current' as before\n",
    "for head, relation, tail in graph_test:\n",
    "    # check whether this is a relational triple:\n",
    "    if not isinstance(tail, Literal):\n",
    "        row_selected = map_ent_to_ind[head]\n",
    "        column_selected = map_ent_to_ind[tail]\n",
    "        adjacency_matrix[row_selected, column_selected] += 1\n",
    "    # else, add it in a new row (literals only have one connection):\n",
    "    else:\n",
    "        row_selected = map_ent_to_ind[head]\n",
    "        column_selected = current\n",
    "        \n",
    "        map_ent_to_ind[entity] = current\n",
    "        map_ind_to_ent[current] = entity\n",
    "        \n",
    "        adjacency_matrix[row_selected, column_selected] += 1\n",
    "        current += 1"
   ]
  },
  {
   "cell_type": "code",
   "execution_count": 18,
   "id": "98bc7a9b",
   "metadata": {},
   "outputs": [
    {
     "data": {
      "text/plain": [
       "tensor([13.,  1.,  5.,  ...,  1.,  1.,  1.])"
      ]
     },
     "execution_count": 18,
     "metadata": {},
     "output_type": "execute_result"
    }
   ],
   "source": [
    "adjacency_matrix.sum(dim=0)"
   ]
  },
  {
   "cell_type": "markdown",
   "id": "9b565fb0",
   "metadata": {},
   "source": [
    "### Try it for multiple datasets, so everything works smoothly:"
   ]
  },
  {
   "cell_type": "markdown",
   "id": "852a72a0",
   "metadata": {},
   "source": [
    "I put it in a separate file - testing this method here as well - whether it works for both AIFB+ and MUTAG. "
   ]
  },
  {
   "cell_type": "code",
   "execution_count": 19,
   "id": "2dc97c8d",
   "metadata": {},
   "outputs": [],
   "source": [
    "import reading_data"
   ]
  },
  {
   "cell_type": "markdown",
   "id": "ea32336f",
   "metadata": {},
   "source": [
    "### AIFB+"
   ]
  },
  {
   "cell_type": "code",
   "execution_count": 26,
   "id": "0f9372e9",
   "metadata": {},
   "outputs": [
    {
     "name": "stdout",
     "output_type": "stream",
     "text": [
      "torch.Size([2835, 2835])\n"
     ]
    },
    {
     "data": {
      "text/plain": [
       "tensor(20338.)"
      ]
     },
     "execution_count": 26,
     "metadata": {},
     "output_type": "execute_result"
    }
   ],
   "source": [
    "adj_mat_fil, map_ent_fil = reading_data.create_adjacency_matrix_nt(\"data/aifb/aifb+.nt\", literal_representation=\"filtered\")\n",
    "print(adj_mat_fil.shape)\n",
    "adj_mat_fil.sum(dim=0).sum()"
   ]
  },
  {
   "cell_type": "code",
   "execution_count": 27,
   "id": "631329fd",
   "metadata": {},
   "outputs": [
    {
     "name": "stdout",
     "output_type": "stream",
     "text": [
      "torch.Size([8303, 8303])\n"
     ]
    },
    {
     "data": {
      "text/plain": [
       "tensor(29043.)"
      ]
     },
     "execution_count": 27,
     "metadata": {},
     "output_type": "execute_result"
    }
   ],
   "source": [
    "adj_mat_col, map_ent_col = reading_data.create_adjacency_matrix_nt(\"data/aifb/aifb+.nt\", literal_representation=\"collapsed\")\n",
    "print(adj_mat_col.shape)\n",
    "adj_mat_col.sum(dim=0).sum()"
   ]
  },
  {
   "cell_type": "code",
   "execution_count": 28,
   "id": "749a9f86",
   "metadata": {},
   "outputs": [
    {
     "name": "stdout",
     "output_type": "stream",
     "text": [
      "torch.Size([11540, 11540])\n"
     ]
    },
    {
     "data": {
      "text/plain": [
       "tensor(29043.)"
      ]
     },
     "execution_count": 28,
     "metadata": {},
     "output_type": "execute_result"
    }
   ],
   "source": [
    "adj_mat_sep, map_ent_sep = reading_data.create_adjacency_matrix_nt(\"data/aifb/aifb+.nt\", literal_representation=\"separate\")\n",
    "print(adj_mat_sep.shape)\n",
    "adj_mat_sep.sum().sum()"
   ]
  },
  {
   "cell_type": "markdown",
   "id": "3324e6ee",
   "metadata": {},
   "source": [
    "### MUTAG"
   ]
  },
  {
   "cell_type": "code",
   "execution_count": 29,
   "id": "16b4ba6b",
   "metadata": {},
   "outputs": [
    {
     "name": "stdout",
     "output_type": "stream",
     "text": [
      "torch.Size([22540, 22540])\n"
     ]
    },
    {
     "data": {
      "text/plain": [
       "tensor(63382.)"
      ]
     },
     "execution_count": 29,
     "metadata": {},
     "output_type": "execute_result"
    }
   ],
   "source": [
    "adj_mat_fil, map_ent_fil = reading_data.create_adjacency_matrix_nt(\"data/mutag/mutag.nt\", literal_representation=\"filtered\")\n",
    "print(adj_mat_fil.shape)\n",
    "adj_mat_fil.sum(dim=0).sum()"
   ]
  },
  {
   "cell_type": "code",
   "execution_count": 30,
   "id": "91d5f885",
   "metadata": {},
   "outputs": [
    {
     "name": "stdout",
     "output_type": "stream",
     "text": [
      "torch.Size([23644, 23644])\n"
     ]
    },
    {
     "data": {
      "text/plain": [
       "tensor(74227.)"
      ]
     },
     "execution_count": 30,
     "metadata": {},
     "output_type": "execute_result"
    }
   ],
   "source": [
    "adj_mat_col, map_ent_col = reading_data.create_adjacency_matrix_nt(\"data/mutag/mutag.nt\", literal_representation=\"collapsed\")\n",
    "print(adj_mat_col.shape)\n",
    "adj_mat_col.sum(dim=0).sum()"
   ]
  },
  {
   "cell_type": "code",
   "execution_count": 31,
   "id": "c2c9c9b9",
   "metadata": {},
   "outputs": [
    {
     "name": "stdout",
     "output_type": "stream",
     "text": [
      "torch.Size([33385, 33385])\n"
     ]
    },
    {
     "data": {
      "text/plain": [
       "tensor(74227.)"
      ]
     },
     "execution_count": 31,
     "metadata": {},
     "output_type": "execute_result"
    }
   ],
   "source": [
    "adj_mat_sep, map_ent_sep = reading_data.create_adjacency_matrix_nt(\"data/mutag/mutag.nt\", literal_representation=\"separate\")\n",
    "print(adj_mat_sep.shape)\n",
    "adj_mat_sep.sum().sum()"
   ]
  },
  {
   "cell_type": "markdown",
   "id": "d4cc1e35",
   "metadata": {},
   "source": [
    "## Separately for the kgbench - as it uses the data differently"
   ]
  },
  {
   "cell_type": "code",
   "execution_count": null,
   "id": "a8f51438",
   "metadata": {},
   "outputs": [],
   "source": [
    "# need to ask help from supervisor for this!"
   ]
  }
 ],
 "metadata": {
  "kernelspec": {
   "display_name": "GraphRepresentationKernel",
   "language": "python",
   "name": "graphrepresentationkernel"
  },
  "language_info": {
   "codemirror_mode": {
    "name": "ipython",
    "version": 3
   },
   "file_extension": ".py",
   "mimetype": "text/x-python",
   "name": "python",
   "nbconvert_exporter": "python",
   "pygments_lexer": "ipython3",
   "version": "3.9.16"
  }
 },
 "nbformat": 4,
 "nbformat_minor": 5
}
