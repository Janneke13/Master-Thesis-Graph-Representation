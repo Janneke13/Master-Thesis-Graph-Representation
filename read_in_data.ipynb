{
 "cells": [
  {
   "cell_type": "markdown",
   "id": "b46bf8ec",
   "metadata": {},
   "source": [
    "## Reading in the data and putting it into adjacency matrices"
   ]
  },
  {
   "cell_type": "code",
   "execution_count": null,
   "id": "16842686",
   "metadata": {},
   "outputs": [],
   "source": [
    "# import packages\n",
    "import torch"
   ]
  },
  {
   "cell_type": "markdown",
   "id": "2e8e4310",
   "metadata": {},
   "source": [
    "### First read in the files:"
   ]
  },
  {
   "cell_type": "code",
   "execution_count": null,
   "id": "f6ba2045",
   "metadata": {},
   "outputs": [],
   "source": []
  },
  {
   "cell_type": "markdown",
   "id": "40ffae63",
   "metadata": {},
   "source": [
    "### Put it into adjacency matrices:"
   ]
  },
  {
   "cell_type": "code",
   "execution_count": null,
   "id": "92fa4917",
   "metadata": {},
   "outputs": [],
   "source": []
  },
  {
   "cell_type": "markdown",
   "id": "9b565fb0",
   "metadata": {},
   "source": [
    "### Try it for multiple different modalities / datasets, so everything works smoothly:"
   ]
  },
  {
   "cell_type": "code",
   "execution_count": null,
   "id": "84e1c029",
   "metadata": {},
   "outputs": [],
   "source": []
  }
 ],
 "metadata": {
  "kernelspec": {
   "display_name": "GraphRepresentationKernel",
   "language": "python",
   "name": "graphrepresentationkernel"
  },
  "language_info": {
   "codemirror_mode": {
    "name": "ipython",
    "version": 3
   },
   "file_extension": ".py",
   "mimetype": "text/x-python",
   "name": "python",
   "nbconvert_exporter": "python",
   "pygments_lexer": "ipython3",
   "version": "3.9.16"
  }
 },
 "nbformat": 4,
 "nbformat_minor": 5
}
