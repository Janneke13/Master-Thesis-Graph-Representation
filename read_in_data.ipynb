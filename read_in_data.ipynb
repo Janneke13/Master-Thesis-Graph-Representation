{
 "cells": [
  {
   "cell_type": "markdown",
   "id": "b46bf8ec",
   "metadata": {},
   "source": [
    "## Reading in the data and putting it into adjacency matrices"
   ]
  },
  {
   "cell_type": "code",
   "execution_count": 1,
   "id": "16842686",
   "metadata": {},
   "outputs": [],
   "source": [
    "# import packages\n",
    "import torch\n",
    "from rdflib import Graph, Literal\n",
    "import scipy"
   ]
  },
  {
   "cell_type": "markdown",
   "id": "4a656f73",
   "metadata": {},
   "source": [
    "This is for the AIFB+ data, but I will make it more general later on, so everthing works."
   ]
  },
  {
   "cell_type": "markdown",
   "id": "6d9a222d",
   "metadata": {},
   "source": [
    "### Read in the graph:"
   ]
  },
  {
   "cell_type": "markdown",
   "id": "a4c3fed7",
   "metadata": {},
   "source": [
    "**Note:** when I use the training, validation and test set given, it only includes the labels? \"Node\" \"Employs\" \"ID\", ID is the class here I think."
   ]
  },
  {
   "cell_type": "code",
   "execution_count": 2,
   "id": "fedb042f",
   "metadata": {},
   "outputs": [
    {
     "name": "stdout",
     "output_type": "stream",
     "text": [
      "29043\n"
     ]
    }
   ],
   "source": [
    "# create a graph with rdflib --> reads .nt files automatically\n",
    "graph_test = Graph()\n",
    "graph_test.parse(\"data/aifb/aifb+.nt\")\n",
    "\n",
    "# print the amount of triples as a test\n",
    "print(len(graph_test))"
   ]
  },
  {
   "cell_type": "markdown",
   "id": "dd5af162",
   "metadata": {},
   "source": [
    "Note: this will be a very large adjacency matrix, but for the actual computation, it can be sliced."
   ]
  },
  {
   "cell_type": "code",
   "execution_count": 3,
   "id": "4a7ff9d0",
   "metadata": {},
   "outputs": [],
   "source": [
    "# make two sets(!) to find out the amount of unique nodes and literals --> to create the adjacency matrix\n",
    "# for now, disregard the relations --> are included later on, when R-GCN is created\n",
    "entities = set()\n",
    "literals = set()\n",
    "nr_literals_total = 0 # count -- so the ratio between unique and total is clear\n",
    "\n",
    "for head, relation, tail in graph_test:\n",
    "    # note: heads can ONLY be entities\n",
    "    \n",
    "    entities.add(head)\n",
    "    \n",
    "    # add the tail to its respective set\n",
    "    if isinstance(tail, Literal):\n",
    "        literals.add(tail)\n",
    "        nr_literals_total += 1\n",
    "    else:\n",
    "        entities.add(tail)"
   ]
  },
  {
   "cell_type": "code",
   "execution_count": 4,
   "id": "0dff60f1",
   "metadata": {},
   "outputs": [
    {
     "name": "stdout",
     "output_type": "stream",
     "text": [
      "Number of entities:  2835\n",
      "Number of unique literals: 5468\n",
      "Number of literals in total:  8705\n"
     ]
    }
   ],
   "source": [
    "print('Number of entities: ', len(entities))\n",
    "print('Number of unique literals:', len(literals))\n",
    "print('Number of literals in total: ', nr_literals_total)"
   ]
  },
  {
   "cell_type": "markdown",
   "id": "40ffae63",
   "metadata": {},
   "source": [
    "### Put it into adjacency matrix (tensors) - disregarding literals:"
   ]
  },
  {
   "cell_type": "code",
   "execution_count": 5,
   "id": "c67344de",
   "metadata": {},
   "outputs": [],
   "source": [
    "number_nodes = len(entities)\n",
    "adjacency_matrix = torch.zeros(number_nodes, number_nodes)"
   ]
  },
  {
   "cell_type": "code",
   "execution_count": 6,
   "id": "99ce56f3",
   "metadata": {},
   "outputs": [
    {
     "data": {
      "text/plain": [
       "tensor([[0., 0., 0.,  ..., 0., 0., 0.],\n",
       "        [0., 0., 0.,  ..., 0., 0., 0.],\n",
       "        [0., 0., 0.,  ..., 0., 0., 0.],\n",
       "        ...,\n",
       "        [0., 0., 0.,  ..., 0., 0., 0.],\n",
       "        [0., 0., 0.,  ..., 0., 0., 0.],\n",
       "        [0., 0., 0.,  ..., 0., 0., 0.]])"
      ]
     },
     "execution_count": 6,
     "metadata": {},
     "output_type": "execute_result"
    }
   ],
   "source": [
    "adjacency_matrix"
   ]
  },
  {
   "cell_type": "code",
   "execution_count": 7,
   "id": "01afb982",
   "metadata": {},
   "outputs": [],
   "source": [
    "# as calling '.index()' every time would result in a O(n^2) complexity, first the mapping is created\n",
    "# so it's faster to look up both from entity to index and from index to entity\n",
    "# there might be a better way to do this --> this takes up memory!\n",
    "map_ent_to_ind = dict()\n",
    "map_ind_to_ent = dict()\n",
    "\n",
    "# increments so every entity gets a different index\n",
    "current = 0\n",
    "\n",
    "for entity in list(entities):\n",
    "    map_ent_to_ind[entity] = current\n",
    "    map_ind_to_ent[current] = entity\n",
    "    current += 1"
   ]
  },
  {
   "cell_type": "code",
   "execution_count": 8,
   "id": "4410dc60",
   "metadata": {},
   "outputs": [],
   "source": [
    "indices = [[],[]]\n",
    "values = []\n",
    "size = [number_nodes, number_nodes]\n",
    "\n",
    "for head, relation, tail in graph_test:\n",
    "    # check whether this is a relational triple:\n",
    "    if not isinstance(tail, Literal):\n",
    "        # find out where one needs to be added:\n",
    "        row_selected = map_ent_to_ind[head]\n",
    "        column_selected = map_ent_to_ind[tail]\n",
    "        adjacency_matrix[row_selected, column_selected] += 1"
   ]
  },
  {
   "cell_type": "code",
   "execution_count": 9,
   "id": "1495c579",
   "metadata": {},
   "outputs": [
    {
     "data": {
      "text/plain": [
       "tensor(20338.)"
      ]
     },
     "execution_count": 9,
     "metadata": {},
     "output_type": "execute_result"
    }
   ],
   "source": [
    "sum(sum(adjacency_matrix))"
   ]
  },
  {
   "cell_type": "code",
   "execution_count": 10,
   "id": "bf55e541",
   "metadata": {},
   "outputs": [
    {
     "data": {
      "text/plain": [
       "tensor([ 3.,  1., 23.,  ..., 12.,  5., 27.])"
      ]
     },
     "execution_count": 10,
     "metadata": {},
     "output_type": "execute_result"
    }
   ],
   "source": [
    "sum(adjacency_matrix)"
   ]
  },
  {
   "cell_type": "markdown",
   "id": "7b8526d1",
   "metadata": {},
   "source": [
    "**Sparse version - example, similar process done for each technique:**"
   ]
  },
  {
   "cell_type": "code",
   "execution_count": 11,
   "id": "529ff9b3",
   "metadata": {},
   "outputs": [],
   "source": [
    "number_nodes = len(entities)"
   ]
  },
  {
   "cell_type": "code",
   "execution_count": 12,
   "id": "90f7b920",
   "metadata": {},
   "outputs": [],
   "source": [
    "# as calling '.index()' every time would result in a O(n^2) complexity, first the mapping is created\n",
    "# so it's faster to look up both from entity to index and from index to entity\n",
    "# there might be a better way to do this --> this takes up memory!\n",
    "map_ent_to_ind = dict()\n",
    "map_ind_to_ent = dict()\n",
    "\n",
    "# increments so every entity gets a different index\n",
    "current = 0\n",
    "\n",
    "for entity in list(entities):\n",
    "    map_ent_to_ind[entity] = current\n",
    "    map_ind_to_ent[current] = entity\n",
    "    current += 1"
   ]
  },
  {
   "cell_type": "code",
   "execution_count": 13,
   "id": "31012762",
   "metadata": {},
   "outputs": [],
   "source": [
    "heads = list()\n",
    "tails = list()\n",
    "values = list()\n",
    "\n",
    "for head, relation, tail in graph_test:\n",
    "    # check whether this is a relational triple:\n",
    "    if not isinstance(tail, Literal):\n",
    "        # find out where one needs to be added:\n",
    "        row_selected = map_ent_to_ind[head]\n",
    "        column_selected = map_ent_to_ind[tail]\n",
    "        \n",
    "        heads.append(row_selected)\n",
    "        tails.append(column_selected)\n",
    "        values.append(1.)"
   ]
  },
  {
   "cell_type": "code",
   "execution_count": 14,
   "id": "1eb4ad2b",
   "metadata": {},
   "outputs": [],
   "source": [
    "adjacency_matrix = scipy.sparse.coo_matrix((values, (heads, tails)), shape=(number_nodes, number_nodes))"
   ]
  },
  {
   "cell_type": "code",
   "execution_count": 15,
   "id": "e5fc2a72",
   "metadata": {},
   "outputs": [],
   "source": [
    "adjacency_matrix.sum_duplicates()"
   ]
  },
  {
   "cell_type": "code",
   "execution_count": 16,
   "id": "7c3d4a39",
   "metadata": {},
   "outputs": [
    {
     "data": {
      "text/plain": [
       "array([1., 1., 1., ..., 1., 1., 1.])"
      ]
     },
     "execution_count": 16,
     "metadata": {},
     "output_type": "execute_result"
    }
   ],
   "source": [
    "adjacency_matrix.data"
   ]
  },
  {
   "cell_type": "code",
   "execution_count": 17,
   "id": "89ace333",
   "metadata": {},
   "outputs": [
    {
     "data": {
      "text/plain": [
       "array([ 3.,  1., 23., ..., 12.,  5., 27.])"
      ]
     },
     "execution_count": 17,
     "metadata": {},
     "output_type": "execute_result"
    }
   ],
   "source": [
    "sum(adjacency_matrix.toarray())"
   ]
  },
  {
   "cell_type": "code",
   "execution_count": 18,
   "id": "42677728",
   "metadata": {},
   "outputs": [
    {
     "data": {
      "text/plain": [
       "20338.0"
      ]
     },
     "execution_count": 18,
     "metadata": {},
     "output_type": "execute_result"
    }
   ],
   "source": [
    "sum(sum(adjacency_matrix.toarray()))"
   ]
  },
  {
   "cell_type": "markdown",
   "id": "c9ad5b60",
   "metadata": {},
   "source": [
    "### Put it into adjacency matrix (tensors) - collapsing literals:"
   ]
  },
  {
   "cell_type": "code",
   "execution_count": 19,
   "id": "8415d287",
   "metadata": {},
   "outputs": [],
   "source": [
    "number_nodes = len(entities) + len(literals)\n",
    "adjacency_matrix = torch.zeros(number_nodes, number_nodes)"
   ]
  },
  {
   "cell_type": "code",
   "execution_count": 20,
   "id": "ee315ebd",
   "metadata": {},
   "outputs": [
    {
     "data": {
      "text/plain": [
       "tensor([[0., 0., 0.,  ..., 0., 0., 0.],\n",
       "        [0., 0., 0.,  ..., 0., 0., 0.],\n",
       "        [0., 0., 0.,  ..., 0., 0., 0.],\n",
       "        ...,\n",
       "        [0., 0., 0.,  ..., 0., 0., 0.],\n",
       "        [0., 0., 0.,  ..., 0., 0., 0.],\n",
       "        [0., 0., 0.,  ..., 0., 0., 0.]])"
      ]
     },
     "execution_count": 20,
     "metadata": {},
     "output_type": "execute_result"
    }
   ],
   "source": [
    "adjacency_matrix"
   ]
  },
  {
   "cell_type": "code",
   "execution_count": 21,
   "id": "f3716461",
   "metadata": {},
   "outputs": [],
   "source": [
    "map_ent_to_ind = dict()\n",
    "map_ind_to_ent = dict()\n",
    "\n",
    "# increments so every entity gets a different index\n",
    "current = 0\n",
    "\n",
    "for entity in list(entities):\n",
    "    map_ent_to_ind[entity] = current\n",
    "    map_ind_to_ent[current] = entity\n",
    "    current += 1\n",
    "\n",
    "for literal in list(literals):\n",
    "    map_ent_to_ind[literal] = current\n",
    "    map_ind_to_ent[current] = literal\n",
    "    current += 1"
   ]
  },
  {
   "cell_type": "code",
   "execution_count": 22,
   "id": "eeffbe6e",
   "metadata": {},
   "outputs": [],
   "source": [
    "# treat everything the same\n",
    "for head, relation, tail in graph_test:\n",
    "    row_selected = map_ent_to_ind[head]\n",
    "    column_selected = map_ent_to_ind[tail]\n",
    "    adjacency_matrix[row_selected, column_selected] += 1"
   ]
  },
  {
   "cell_type": "code",
   "execution_count": 23,
   "id": "7dba0c51",
   "metadata": {},
   "outputs": [
    {
     "data": {
      "text/plain": [
       "tensor([ 3.,  1., 23.,  ...,  1.,  1.,  1.])"
      ]
     },
     "execution_count": 23,
     "metadata": {},
     "output_type": "execute_result"
    }
   ],
   "source": [
    "adjacency_matrix.sum(dim=0)"
   ]
  },
  {
   "cell_type": "markdown",
   "id": "4bc94f70",
   "metadata": {},
   "source": [
    "### Put it into adjacency matrix (tensors) - separating literals:"
   ]
  },
  {
   "cell_type": "code",
   "execution_count": 24,
   "id": "15e1409e",
   "metadata": {},
   "outputs": [],
   "source": [
    "number_nodes = len(entities) + nr_literals_total\n",
    "adjacency_matrix = torch.zeros(number_nodes, number_nodes)"
   ]
  },
  {
   "cell_type": "code",
   "execution_count": 25,
   "id": "802e01c5",
   "metadata": {},
   "outputs": [],
   "source": [
    "map_ent_to_ind = dict()\n",
    "map_ind_to_ent = dict()\n",
    "\n",
    "# increments so every entity gets a different index\n",
    "current = 0\n",
    "\n",
    "for entity in list(entities):\n",
    "    map_ent_to_ind[entity] = current\n",
    "    map_ind_to_ent[current] = entity\n",
    "    current += 1"
   ]
  },
  {
   "cell_type": "code",
   "execution_count": 26,
   "id": "53d3cd13",
   "metadata": {},
   "outputs": [],
   "source": [
    "# add everything to the adjency matrix - use the same 'current' as before\n",
    "for head, relation, tail in graph_test:\n",
    "    # check whether this is a relational triple:\n",
    "    if not isinstance(tail, Literal):\n",
    "        row_selected = map_ent_to_ind[head]\n",
    "        column_selected = map_ent_to_ind[tail]\n",
    "        adjacency_matrix[row_selected, column_selected] += 1\n",
    "    # else, add it in a new row (literals only have one connection):\n",
    "    else:\n",
    "        row_selected = map_ent_to_ind[head]\n",
    "        column_selected = current\n",
    "        \n",
    "        map_ent_to_ind[entity] = current\n",
    "        map_ind_to_ent[current] = entity\n",
    "        \n",
    "        adjacency_matrix[row_selected, column_selected] += 1\n",
    "        current += 1"
   ]
  },
  {
   "cell_type": "code",
   "execution_count": 27,
   "id": "ee49e921",
   "metadata": {},
   "outputs": [
    {
     "data": {
      "text/plain": [
       "tensor([ 3.,  1., 23.,  ...,  1.,  1.,  1.])"
      ]
     },
     "execution_count": 27,
     "metadata": {},
     "output_type": "execute_result"
    }
   ],
   "source": [
    "adjacency_matrix.sum(dim=0)"
   ]
  },
  {
   "cell_type": "markdown",
   "id": "9b565fb0",
   "metadata": {},
   "source": [
    "### Try it for multiple datasets, so everything works smoothly:"
   ]
  },
  {
   "cell_type": "markdown",
   "id": "48d09677",
   "metadata": {},
   "source": [
    "I put it in a separate file - testing this method here as well - whether it works for both AIFB+ and MUTAG. "
   ]
  },
  {
   "cell_type": "code",
   "execution_count": 28,
   "id": "073d295e",
   "metadata": {},
   "outputs": [],
   "source": [
    "import reading_data"
   ]
  },
  {
   "cell_type": "markdown",
   "id": "455b1b94",
   "metadata": {},
   "source": [
    "### AIFB+"
   ]
  },
  {
   "cell_type": "markdown",
   "id": "b2c1b1c9",
   "metadata": {},
   "source": [
    "**Not relational:**"
   ]
  },
  {
   "cell_type": "code",
   "execution_count": 29,
   "id": "5fa70303",
   "metadata": {},
   "outputs": [
    {
     "name": "stdout",
     "output_type": "stream",
     "text": [
      "torch.Size([2835, 2835])\n"
     ]
    },
    {
     "data": {
      "text/plain": [
       "tensor(20338.)"
      ]
     },
     "execution_count": 29,
     "metadata": {},
     "output_type": "execute_result"
    }
   ],
   "source": [
    "adj_mat_fil, map_ent_fil = reading_data.create_adjacency_matrix_nt_dense(\"data/aifb/aifb+.nt\", literal_representation=\"filtered\")\n",
    "print(adj_mat_fil.shape)\n",
    "adj_mat_fil.sum()"
   ]
  },
  {
   "cell_type": "code",
   "execution_count": 30,
   "id": "5c11fb0a",
   "metadata": {},
   "outputs": [
    {
     "name": "stdout",
     "output_type": "stream",
     "text": [
      "torch.Size([2836, 2836])\n"
     ]
    },
    {
     "data": {
      "text/plain": [
       "tensor(29043.)"
      ]
     },
     "execution_count": 30,
     "metadata": {},
     "output_type": "execute_result"
    }
   ],
   "source": [
    "adj_mat_all, map_ent_all = reading_data.create_adjacency_matrix_nt_dense(\"data/aifb/aifb+.nt\", literal_representation=\"all-to-one\")\n",
    "print(adj_mat_all.shape)\n",
    "adj_mat_all.sum()"
   ]
  },
  {
   "cell_type": "code",
   "execution_count": 31,
   "id": "c083cedd",
   "metadata": {},
   "outputs": [
    {
     "name": "stdout",
     "output_type": "stream",
     "text": [
      "torch.Size([8303, 8303])\n"
     ]
    },
    {
     "data": {
      "text/plain": [
       "tensor(29043.)"
      ]
     },
     "execution_count": 31,
     "metadata": {},
     "output_type": "execute_result"
    }
   ],
   "source": [
    "adj_mat_col, map_ent_col = reading_data.create_adjacency_matrix_nt_dense(\"data/aifb/aifb+.nt\", literal_representation=\"collapsed\")\n",
    "print(adj_mat_col.shape)\n",
    "adj_mat_col.sum()"
   ]
  },
  {
   "cell_type": "code",
   "execution_count": 32,
   "id": "6340f4a6",
   "metadata": {},
   "outputs": [
    {
     "name": "stdout",
     "output_type": "stream",
     "text": [
      "torch.Size([11540, 11540])\n"
     ]
    },
    {
     "data": {
      "text/plain": [
       "tensor(29043.)"
      ]
     },
     "execution_count": 32,
     "metadata": {},
     "output_type": "execute_result"
    }
   ],
   "source": [
    "adj_mat_sep, map_ent_sep = reading_data.create_adjacency_matrix_nt_dense(\"data/aifb/aifb+.nt\", literal_representation=\"separate\")\n",
    "print(adj_mat_sep.shape)\n",
    "adj_mat_sep.sum()"
   ]
  },
  {
   "cell_type": "markdown",
   "id": "089ebac4",
   "metadata": {},
   "source": [
    "**Relational:**"
   ]
  },
  {
   "cell_type": "code",
   "execution_count": 33,
   "id": "0ec25cc0",
   "metadata": {},
   "outputs": [
    {
     "name": "stdout",
     "output_type": "stream",
     "text": [
      "torch.Size([2835, 2835, 22])\n"
     ]
    },
    {
     "data": {
      "text/plain": [
       "tensor(20338.)"
      ]
     },
     "execution_count": 33,
     "metadata": {},
     "output_type": "execute_result"
    }
   ],
   "source": [
    "adj_mat_fil, map_ent_fil, map_rel_fil = reading_data.create_adjacency_matrix_nt_dense(\"data/aifb/aifb+.nt\", literal_representation=\"filtered\", relational=True)\n",
    "print(adj_mat_fil.shape)\n",
    "adj_mat_fil.sum()"
   ]
  },
  {
   "cell_type": "code",
   "execution_count": 34,
   "id": "cc411021",
   "metadata": {},
   "outputs": [
    {
     "data": {
      "text/plain": [
       "tensor([1.9900e+02, 1.9000e+02, 3.9860e+03, 5.7100e+02, 9.5200e+02, 1.0000e+01,\n",
       "        6.8000e+01, 2.0000e+02, 1.2170e+03, 4.1630e+03, 1.5200e+02, 4.1240e+03,\n",
       "        9.5200e+02, 3.5700e+02, 5.0000e+00, 3.3900e+02, 6.5000e+01, 7.9000e+01,\n",
       "        1.5200e+02, 7.9000e+01, 2.4770e+03, 1.0000e+00])"
      ]
     },
     "execution_count": 34,
     "metadata": {},
     "output_type": "execute_result"
    }
   ],
   "source": [
    "adj_mat_fil.sum(dim=[0,1])"
   ]
  },
  {
   "cell_type": "code",
   "execution_count": 35,
   "id": "0532a7b1",
   "metadata": {},
   "outputs": [
    {
     "name": "stdout",
     "output_type": "stream",
     "text": [
      "torch.Size([2836, 2836, 45])\n"
     ]
    },
    {
     "data": {
      "text/plain": [
       "tensor(29043.)"
      ]
     },
     "execution_count": 35,
     "metadata": {},
     "output_type": "execute_result"
    }
   ],
   "source": [
    "adj_mat_all, map_ent_all, map_rel_all = reading_data.create_adjacency_matrix_nt_dense(\"data/aifb/aifb+.nt\", literal_representation=\"all-to-one\", relational=True)\n",
    "print(adj_mat_all.shape)\n",
    "adj_mat_all.sum()"
   ]
  },
  {
   "cell_type": "code",
   "execution_count": 36,
   "id": "a1820af7",
   "metadata": {},
   "outputs": [
    {
     "data": {
      "text/plain": [
       "tensor([1.6100e+02, 1.9900e+02, 1.9000e+02, 2.9800e+02, 3.9860e+03, 5.7100e+02,\n",
       "        7.9000e+01, 9.5200e+02, 1.0000e+01, 1.2000e+01, 1.4800e+02, 6.8000e+01,\n",
       "        2.0000e+02, 3.1100e+02, 4.9000e+01, 1.2170e+03, 4.1630e+03, 2.2700e+02,\n",
       "        1.5200e+02, 4.1240e+03, 1.5000e+01, 2.3900e+02, 5.0000e+01, 9.5200e+02,\n",
       "        1.2270e+03, 1.6000e+01, 7.6500e+02, 1.1400e+02, 5.3400e+02, 3.5700e+02,\n",
       "        5.0000e+00, 3.3900e+02, 6.5000e+01, 2.2700e+02, 2.0200e+02, 7.5900e+02,\n",
       "        1.2270e+03, 7.9000e+01, 1.4500e+02, 1.5200e+02, 1.3020e+03, 1.2900e+02,\n",
       "        2.4770e+03, 5.4800e+02, 1.0000e+00])"
      ]
     },
     "execution_count": 36,
     "metadata": {},
     "output_type": "execute_result"
    }
   ],
   "source": [
    "adj_mat_all.sum(dim=[0,1])"
   ]
  },
  {
   "cell_type": "code",
   "execution_count": 37,
   "id": "351beb32",
   "metadata": {},
   "outputs": [
    {
     "name": "stdout",
     "output_type": "stream",
     "text": [
      "torch.Size([8303, 8303, 45])\n"
     ]
    },
    {
     "data": {
      "text/plain": [
       "tensor(29043.)"
      ]
     },
     "execution_count": 37,
     "metadata": {},
     "output_type": "execute_result"
    }
   ],
   "source": [
    "adj_mat_col, map_ent_col, map_rel_col = reading_data.create_adjacency_matrix_nt_dense(\"data/aifb/aifb+.nt\", literal_representation=\"collapsed\", relational=True)\n",
    "print(adj_mat_col.shape)\n",
    "adj_mat_col.sum()"
   ]
  },
  {
   "cell_type": "code",
   "execution_count": 38,
   "id": "50a6224b",
   "metadata": {},
   "outputs": [
    {
     "data": {
      "text/plain": [
       "tensor([1.6100e+02, 1.9900e+02, 1.9000e+02, 2.9800e+02, 3.9860e+03, 5.7100e+02,\n",
       "        7.9000e+01, 9.5200e+02, 1.0000e+01, 1.2000e+01, 1.4800e+02, 6.8000e+01,\n",
       "        2.0000e+02, 3.1100e+02, 4.9000e+01, 1.2170e+03, 4.1630e+03, 2.2700e+02,\n",
       "        1.5200e+02, 4.1240e+03, 1.5000e+01, 2.3900e+02, 5.0000e+01, 9.5200e+02,\n",
       "        1.2270e+03, 1.6000e+01, 7.6500e+02, 1.1400e+02, 5.3400e+02, 3.5700e+02,\n",
       "        5.0000e+00, 3.3900e+02, 6.5000e+01, 2.2700e+02, 2.0200e+02, 7.5900e+02,\n",
       "        1.2270e+03, 7.9000e+01, 1.4500e+02, 1.5200e+02, 1.3020e+03, 1.2900e+02,\n",
       "        2.4770e+03, 5.4800e+02, 1.0000e+00])"
      ]
     },
     "execution_count": 38,
     "metadata": {},
     "output_type": "execute_result"
    }
   ],
   "source": [
    "adj_mat_col.sum(dim=[0,1])"
   ]
  },
  {
   "cell_type": "code",
   "execution_count": 39,
   "id": "33f7feb0",
   "metadata": {},
   "outputs": [
    {
     "name": "stdout",
     "output_type": "stream",
     "text": [
      "torch.Size([11540, 11540, 45])\n"
     ]
    },
    {
     "data": {
      "text/plain": [
       "tensor(29043.)"
      ]
     },
     "execution_count": 39,
     "metadata": {},
     "output_type": "execute_result"
    }
   ],
   "source": [
    "adj_mat_sep, map_ent_sep, map_rel_sep = reading_data.create_adjacency_matrix_nt_dense(\"data/aifb/aifb+.nt\", literal_representation=\"separate\", relational=True)\n",
    "print(adj_mat_sep.shape)\n",
    "adj_mat_sep.sum()"
   ]
  },
  {
   "cell_type": "code",
   "execution_count": 40,
   "id": "db9eddd3",
   "metadata": {},
   "outputs": [
    {
     "data": {
      "text/plain": [
       "tensor([1.6100e+02, 1.9900e+02, 1.9000e+02, 2.9800e+02, 3.9860e+03, 5.7100e+02,\n",
       "        7.9000e+01, 9.5200e+02, 1.0000e+01, 1.2000e+01, 1.4800e+02, 6.8000e+01,\n",
       "        2.0000e+02, 3.1100e+02, 4.9000e+01, 1.2170e+03, 4.1630e+03, 2.2700e+02,\n",
       "        1.5200e+02, 4.1240e+03, 1.5000e+01, 2.3900e+02, 5.0000e+01, 9.5200e+02,\n",
       "        1.2270e+03, 1.6000e+01, 7.6500e+02, 1.1400e+02, 5.3400e+02, 3.5700e+02,\n",
       "        5.0000e+00, 3.3900e+02, 6.5000e+01, 2.2700e+02, 2.0200e+02, 7.5900e+02,\n",
       "        1.2270e+03, 7.9000e+01, 1.4500e+02, 1.5200e+02, 1.3020e+03, 1.2900e+02,\n",
       "        2.4770e+03, 5.4800e+02, 1.0000e+00])"
      ]
     },
     "execution_count": 40,
     "metadata": {},
     "output_type": "execute_result"
    }
   ],
   "source": [
    "adj_mat_sep.sum(dim=[0,1])"
   ]
  },
  {
   "cell_type": "markdown",
   "id": "86a5ee84",
   "metadata": {},
   "source": [
    "### MUTAG"
   ]
  },
  {
   "cell_type": "markdown",
   "id": "b17b4efb",
   "metadata": {},
   "source": [
    "**Not relational:**"
   ]
  },
  {
   "cell_type": "code",
   "execution_count": 41,
   "id": "f0d6a095",
   "metadata": {},
   "outputs": [
    {
     "name": "stdout",
     "output_type": "stream",
     "text": [
      "torch.Size([22540, 22540])\n"
     ]
    },
    {
     "data": {
      "text/plain": [
       "tensor(63382.)"
      ]
     },
     "execution_count": 41,
     "metadata": {},
     "output_type": "execute_result"
    }
   ],
   "source": [
    "adj_mat_fil, map_ent_fil = reading_data.create_adjacency_matrix_nt_dense(\"data/mutag/mutag.nt\", literal_representation=\"filtered\")\n",
    "print(adj_mat_fil.shape)\n",
    "adj_mat_fil.sum()"
   ]
  },
  {
   "cell_type": "code",
   "execution_count": null,
   "id": "265fe84c",
   "metadata": {},
   "outputs": [],
   "source": [
    "adj_mat_all, map_ent_all = reading_data.create_adjacency_matrix_nt_dense(\"data/mutag/mutag.nt\", literal_representation=\"all-to-one\")\n",
    "print(adj_mat_all.shape)\n",
    "adj_mat_all.sum()"
   ]
  },
  {
   "cell_type": "code",
   "execution_count": null,
   "id": "e479f9be",
   "metadata": {},
   "outputs": [],
   "source": [
    "adj_mat_col, map_ent_col = reading_data.create_adjacency_matrix_nt_dense(\"data/mutag/mutag.nt\", literal_representation=\"collapsed\")\n",
    "print(adj_mat_col.shape)\n",
    "adj_mat_col.sum()"
   ]
  },
  {
   "cell_type": "code",
   "execution_count": null,
   "id": "410dc8fa",
   "metadata": {},
   "outputs": [],
   "source": [
    "adj_mat_sep, map_ent_sep = reading_data.create_adjacency_matrix_nt_dense(\"data/mutag/mutag.nt\", literal_representation=\"separate\")\n",
    "print(adj_mat_sep.shape)\n",
    "adj_mat_sep.sum()"
   ]
  },
  {
   "cell_type": "markdown",
   "id": "52b2a7df",
   "metadata": {},
   "source": [
    "**Relational:**"
   ]
  },
  {
   "cell_type": "code",
   "execution_count": null,
   "id": "a7e8f190",
   "metadata": {},
   "outputs": [],
   "source": [
    "adj_mat_fil, map_ent_fil, map_rel_fil = reading_data.create_adjacency_matrix_nt_dense(\"data/mutag/mutag.nt\", literal_representation=\"filtered\", relational=True)\n",
    "print(adj_mat_fil.shape)\n",
    "adj_mat_fil.sum()"
   ]
  },
  {
   "cell_type": "code",
   "execution_count": null,
   "id": "bf2bedda",
   "metadata": {},
   "outputs": [],
   "source": [
    "adj_mat_fil.sum(dim=[0,1])"
   ]
  },
  {
   "cell_type": "markdown",
   "id": "583e81ab",
   "metadata": {},
   "source": [
    "**Kernel keeps stopping when the following code is run, due to excessive memory use - switch to sparse matrices to fix this error. Change to sparse matrix to fix this error!**"
   ]
  },
  {
   "cell_type": "code",
   "execution_count": null,
   "id": "033cb5c4",
   "metadata": {},
   "outputs": [],
   "source": [
    "adj_mat_col, map_ent_col, map_rel_col = reading_data.create_adjacency_matrix_nt_dense(\"data/mutag/mutag.nt\", literal_representation=\"collapsed\", relational=True)\n",
    "print(adj_mat_col.shape)\n",
    "adj_mat_col.sum()"
   ]
  },
  {
   "cell_type": "code",
   "execution_count": null,
   "id": "13146f97",
   "metadata": {},
   "outputs": [],
   "source": [
    "adj_mat_col.sum(dim=[0,1])"
   ]
  },
  {
   "cell_type": "code",
   "execution_count": null,
   "id": "0d046a95",
   "metadata": {},
   "outputs": [],
   "source": [
    "adj_mat_sep, map_ent_sep, map_rel_sep = reading_data.create_adjacency_matrix_nt_dense(\"data/mutag/mutag.nt\", literal_representation=\"separate\", relational=True)\n",
    "print(adj_mat_sep.shape)\n",
    "adj_mat_sep.sum()"
   ]
  },
  {
   "cell_type": "code",
   "execution_count": null,
   "id": "37314383",
   "metadata": {},
   "outputs": [],
   "source": [
    "adj_mat_sep.sum(dim=[0,1])"
   ]
  },
  {
   "cell_type": "markdown",
   "id": "8dda7668",
   "metadata": {},
   "source": [
    "### dmg777k"
   ]
  },
  {
   "cell_type": "code",
   "execution_count": null,
   "id": "8ddea199",
   "metadata": {},
   "outputs": [],
   "source": [
    "import reading_data\n",
    "adj_mat_fil, map_ent_fil = reading_data.create_adjacency_matrix_nt_dense(\"data/dmg777k/dmg777k_stripped.nt\", literal_representation=\"filtered\")\n",
    "print(adj_mat_fil.shape)\n",
    "adj_mat_fil.sum(dim=0).sum()"
   ]
  },
  {
   "cell_type": "code",
   "execution_count": null,
   "id": "85181cbc",
   "metadata": {},
   "outputs": [],
   "source": [
    "adj_mat_col, map_ent_col = reading_data.create_adjacency_matrix_nt_dense(\"data/dmg777k/dmg777k_stripped.nt\", literal_representation=\"collapsed\")\n",
    "print(adj_mat_col.shape)\n",
    "adj_mat_col.sum(dim=0).sum()"
   ]
  },
  {
   "cell_type": "code",
   "execution_count": null,
   "id": "73f448be",
   "metadata": {},
   "outputs": [],
   "source": [
    "adj_mat_sep, map_ent_sep = reading_data.create_adjacency_matrix_nt_dense(\"data/dmg777k/dmg777k_stripped.nt\", literal_representation=\"separate\")\n",
    "print(adj_mat_sep.shape)\n",
    "adj_mat_sep.sum().sum()"
   ]
  }
 ],
 "metadata": {
  "kernelspec": {
   "display_name": "GraphRepresentationKernel",
   "language": "python",
   "name": "graphrepresentationkernel"
  },
  "language_info": {
   "codemirror_mode": {
    "name": "ipython",
    "version": 3
   },
   "file_extension": ".py",
   "mimetype": "text/x-python",
   "name": "python",
   "nbconvert_exporter": "python",
   "pygments_lexer": "ipython3",
   "version": "3.9.16"
  }
 },
 "nbformat": 4,
 "nbformat_minor": 5
}
