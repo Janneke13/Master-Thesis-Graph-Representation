{
 "cells": [
  {
   "cell_type": "markdown",
   "id": "7f2b39e3",
   "metadata": {},
   "source": [
    "# Base code for GAT"
   ]
  },
  {
   "cell_type": "code",
   "execution_count": 1,
   "id": "67484559",
   "metadata": {},
   "outputs": [],
   "source": [
    "# import packages and reading in files:\n",
    "import torch\n",
    "from torch_geometric.data import Data\n",
    "from torch_geometric.nn import GCNConv, GATConv\n",
    "import torch.nn.functional as F\n",
    "import matplotlib.pyplot as plt\n",
    "\n",
    "# import python files needed to create adjacency matrices\n",
    "import reading_data"
   ]
  },
  {
   "cell_type": "code",
   "execution_count": 2,
   "id": "8fb78376",
   "metadata": {},
   "outputs": [],
   "source": [
    "adjacency_matrix, mapping_index_to_node, mapping_entity_to_index = reading_data.create_adjacency_matrix_nt(\"data/aifb/aifb+.nt\", literal_representation=\"filtered\", sparse=True)\n",
    "number_nodes = adjacency_matrix.size()[0]\n",
    "\n",
    "# add the file names\n",
    "file_name_train = \"data/aifb/gz_files/aifb+_train_set.nt.gz\"\n",
    "file_name_valid = \"data/aifb/gz_files/aifb+_valid_set.nt.gz\"\n",
    "file_name_test = \"data/aifb/gz_files/aifb+_test_set.nt.gz\"\n",
    "\n",
    "labels, train_entities, valid_entities, test_entities = reading_data.training_valid_test_set(file_name_train, file_name_valid, file_name_test, mapping_entity_to_index, adjacency_matrix.size()[0])\n",
    "train_mask = torch.tensor([i in train_entities for i in range(len(labels))])\n",
    "valid_mask = torch.tensor([i in valid_entities for i in range(len(labels))])\n",
    "test_mask = torch.tensor([i in test_entities for i in range(len(labels))])\n",
    "\n",
    "#feature_matrix = torch.sparse_coo_tensor(indices=torch.tensor([list(range(number_nodes)), list(range(number_nodes))]), values=torch.ones(number_nodes),size=(number_nodes, number_nodes))\n",
    "feature_matrix = torch.rand(size=(number_nodes, 100)) # using 100 features\n",
    "\n",
    "# add training and test mask, add labels list\n",
    "\n",
    "data_aifb = Data(x=feature_matrix, edge_index=adjacency_matrix.coalesce().indices(), num_nodes=number_nodes, y=labels.long(), train_mask=train_mask, test_mask=test_mask)"
   ]
  },
  {
   "cell_type": "code",
   "execution_count": 3,
   "id": "db780af4",
   "metadata": {},
   "outputs": [
    {
     "data": {
      "text/plain": [
       "Data(x=[2835, 100], edge_index=[2, 20338], y=[2835], num_nodes=2835, train_mask=[2835], test_mask=[2835])"
      ]
     },
     "execution_count": 3,
     "metadata": {},
     "output_type": "execute_result"
    }
   ],
   "source": [
    "data_aifb"
   ]
  },
  {
   "cell_type": "code",
   "execution_count": 4,
   "id": "3d77237b",
   "metadata": {},
   "outputs": [
    {
     "data": {
      "text/plain": [
       "tensor([[0.4693, 0.2860, 0.1337,  ..., 0.7886, 0.4196, 0.4930],\n",
       "        [0.0115, 0.7947, 0.1485,  ..., 0.2490, 0.1901, 0.1796],\n",
       "        [0.6771, 0.8669, 0.4234,  ..., 0.9704, 0.3503, 0.0271],\n",
       "        ...,\n",
       "        [0.7736, 0.5106, 0.8596,  ..., 0.2568, 0.8841, 0.8980],\n",
       "        [0.7571, 0.1782, 0.8597,  ..., 0.4952, 0.6743, 0.7093],\n",
       "        [0.4114, 0.3979, 0.9990,  ..., 0.4347, 0.3377, 0.1831]])"
      ]
     },
     "execution_count": 4,
     "metadata": {},
     "output_type": "execute_result"
    }
   ],
   "source": [
    "data_aifb.x"
   ]
  },
  {
   "cell_type": "code",
   "execution_count": 5,
   "id": "a140be49",
   "metadata": {},
   "outputs": [],
   "source": [
    "nr_labels = len(labels.unique())"
   ]
  },
  {
   "cell_type": "code",
   "execution_count": 6,
   "id": "801ac286",
   "metadata": {},
   "outputs": [],
   "source": [
    "import torch\n",
    "from torch_geometric.nn import GATConv\n",
    "import torch.nn.functional as F\n",
    "from torch.nn import Dropout\n",
    "\n",
    "\n",
    "class GAT(torch.nn.Module):\n",
    "    \"\"\"\n",
    "    Implementation of the Graph Attention Network.\n",
    "    Based on paper <add reference to paper>\n",
    "    \"\"\"\n",
    "\n",
    "    def __init__(self, input_nodes, hidden_nodes, output_nodes, nr_heads, dropout):\n",
    "        \"\"\"\n",
    "        Intializes the GAT model, using the GATConv layers of PyTorch Geometric.\n",
    "        :param input_nodes: The number of input nodes of the GAT model.\n",
    "        :param hidden_nodes: The number of hidden nodes of the GAT model.\n",
    "        :param output_nodes: The number of output nodes of the GAT model.\n",
    "        :param nr_heads: The number of heads of the first GAT layer.\n",
    "        :param dropout: The probability of dropout during the training phase. Note that the dropour probability is the\n",
    "        same for every layer, for both the attention coefficients and the input.\n",
    "        \"\"\"\n",
    "        super().__init__()\n",
    "        # dropout is applied to the GAT convolutional layer as well, as described in the paper\n",
    "        self.layer1 = GATConv(input_nodes, hidden_nodes, heads=nr_heads, dropout=dropout)\n",
    "\n",
    "        # need to put heads to 1, to be able to get output\n",
    "        self.layer2 = GATConv(nr_heads * hidden_nodes, output_nodes, heads=1, dropout=dropout)\n",
    "\n",
    "        # use the same probability for everything\n",
    "        self.dropout = Dropout(p=dropout)\n",
    "\n",
    "    def forward(self, X, A):\n",
    "        \"\"\"\n",
    "        Performs one forward pass of the initialized GAT model.\n",
    "        :param X: The feature matrix.\n",
    "        :param A: The adjacency matrix in COO format.\n",
    "        :return: The embeddings the GAT model produces.\n",
    "        \"\"\"\n",
    "        # in the paper, they use dropout on both of the layers' input while training\n",
    "        X = self.dropout(X)\n",
    "        h1 = self.layer1(X, A)\n",
    "\n",
    "        # in the paper they use an exponential linear unit, which is used here as well:\n",
    "        h1_activated = F.elu(h1)\n",
    "        h1_activated = self.dropout(h1_activated)\n",
    "        \n",
    "        h2 = self.layer2(h1_activated, A)\n",
    "        # cross entropy loss used, therefore a softmax is not needed.\n",
    "        return h2"
   ]
  },
  {
   "cell_type": "code",
   "execution_count": 7,
   "id": "d207e6f3",
   "metadata": {},
   "outputs": [],
   "source": [
    "# now, create a training loop:\n",
    "from torch.nn import CrossEntropyLoss\n",
    "\n",
    "model = GAT(data_aifb.num_features, 16, output_nodes=nr_labels, nr_heads=8, dropout=0.6)\n",
    "loss_function = CrossEntropyLoss()\n",
    "optimizer = optimizer = torch.optim.Adam(model.parameters(), lr=0.005)"
   ]
  },
  {
   "cell_type": "code",
   "execution_count": 8,
   "id": "0fe76e15",
   "metadata": {},
   "outputs": [],
   "source": [
    "nr_epochs = 200\n",
    "loss_list = list()\n",
    "\n",
    "for i in range(nr_epochs):\n",
    "    model.train()\n",
    "    optimizer.zero_grad()\n",
    "    \n",
    "    output = model(data_aifb.x, data_aifb.edge_index)\n",
    "    loss = loss_function(output[train_mask], data_aifb.y[train_mask])\n",
    "    loss.backward()\n",
    "    optimizer.step()\n",
    "    \n",
    "    loss_list.append(loss.item())"
   ]
  },
  {
   "cell_type": "code",
   "execution_count": 9,
   "id": "5fd39926",
   "metadata": {},
   "outputs": [
    {
     "data": {
      "text/plain": [
       "[2.6146888732910156,\n",
       " 2.0664970874786377,\n",
       " 2.747476577758789,\n",
       " 1.819443702697754,\n",
       " 1.843961477279663,\n",
       " 1.9100803136825562,\n",
       " 1.5919140577316284,\n",
       " 1.920763373374939,\n",
       " 2.256671190261841,\n",
       " 1.935688853263855,\n",
       " 1.7454086542129517,\n",
       " 1.8675661087036133,\n",
       " 1.793034553527832,\n",
       " 1.8689281940460205,\n",
       " 1.6661059856414795,\n",
       " 1.3375952243804932,\n",
       " 1.550525426864624,\n",
       " 1.5260587930679321,\n",
       " 1.4102967977523804,\n",
       " 1.8533380031585693,\n",
       " 1.3837947845458984,\n",
       " 1.458461046218872,\n",
       " 1.4257339239120483,\n",
       " 1.5411813259124756,\n",
       " 1.4278727769851685,\n",
       " 1.3572005033493042,\n",
       " 1.4499690532684326,\n",
       " 1.5931603908538818,\n",
       " 1.33726966381073,\n",
       " 1.4945718050003052,\n",
       " 1.4511781930923462,\n",
       " 1.3448753356933594,\n",
       " 1.39395010471344,\n",
       " 1.3527650833129883,\n",
       " 1.353955864906311,\n",
       " 1.217560887336731,\n",
       " 1.4116092920303345,\n",
       " 1.265128493309021,\n",
       " 1.2731459140777588,\n",
       " 1.3028618097305298,\n",
       " 1.269993543624878,\n",
       " 1.4857761859893799,\n",
       " 1.3439475297927856,\n",
       " 1.330613136291504,\n",
       " 1.4160292148590088,\n",
       " 1.331817865371704,\n",
       " 1.375675082206726,\n",
       " 1.2326347827911377,\n",
       " 1.3552247285842896,\n",
       " 1.2335708141326904,\n",
       " 1.2410907745361328,\n",
       " 1.3278039693832397,\n",
       " 1.337290644645691,\n",
       " 1.3453176021575928,\n",
       " 1.1651886701583862,\n",
       " 1.3529552221298218,\n",
       " 1.4118883609771729,\n",
       " 1.3407061100006104,\n",
       " 1.2949668169021606,\n",
       " 1.234014868736267,\n",
       " 1.2520619630813599,\n",
       " 1.2100343704223633,\n",
       " 1.190999984741211,\n",
       " 1.1670982837677002,\n",
       " 1.1846531629562378,\n",
       " 1.3690108060836792,\n",
       " 1.32187819480896,\n",
       " 1.2146809101104736,\n",
       " 1.2413771152496338,\n",
       " 1.1916533708572388,\n",
       " 1.2307474613189697,\n",
       " 1.3751075267791748,\n",
       " 1.1564464569091797,\n",
       " 1.2226179838180542,\n",
       " 1.2233829498291016,\n",
       " 1.1345237493515015,\n",
       " 1.2140216827392578,\n",
       " 1.1287769079208374,\n",
       " 1.2426947355270386,\n",
       " 1.2233784198760986,\n",
       " 1.1882667541503906,\n",
       " 1.235365629196167,\n",
       " 1.1279799938201904,\n",
       " 1.1331162452697754,\n",
       " 1.1469932794570923,\n",
       " 1.201126217842102,\n",
       " 0.9982014894485474,\n",
       " 1.130979061126709,\n",
       " 1.1576064825057983,\n",
       " 1.1280351877212524,\n",
       " 1.0912320613861084,\n",
       " 0.8891012072563171,\n",
       " 1.2172088623046875,\n",
       " 1.1989082098007202,\n",
       " 1.054628610610962,\n",
       " 1.0810606479644775,\n",
       " 1.0435651540756226,\n",
       " 1.1767131090164185,\n",
       " 1.1218260526657104,\n",
       " 1.1404098272323608,\n",
       " 1.0706285238265991,\n",
       " 1.116873025894165,\n",
       " 1.0132323503494263,\n",
       " 1.1147750616073608,\n",
       " 1.0953303575515747,\n",
       " 1.0682204961776733,\n",
       " 1.1531676054000854,\n",
       " 1.1387710571289062,\n",
       " 1.1568771600723267,\n",
       " 0.9761894345283508,\n",
       " 1.0590013265609741,\n",
       " 0.9178730845451355,\n",
       " 1.1679176092147827,\n",
       " 1.0257827043533325,\n",
       " 1.0451748371124268,\n",
       " 1.1775710582733154,\n",
       " 0.8744183778762817,\n",
       " 0.8965098261833191,\n",
       " 0.9869996905326843,\n",
       " 0.9114757180213928,\n",
       " 1.2853032350540161,\n",
       " 0.9175819754600525,\n",
       " 1.0267072916030884,\n",
       " 0.9790176749229431,\n",
       " 1.022628903388977,\n",
       " 1.137886643409729,\n",
       " 1.0073792934417725,\n",
       " 1.3465837240219116,\n",
       " 1.0663024187088013,\n",
       " 0.9832106232643127,\n",
       " 1.1017944812774658,\n",
       " 0.9359623789787292,\n",
       " 0.9635801911354065,\n",
       " 0.9186015129089355,\n",
       " 0.9047822952270508,\n",
       " 1.1786375045776367,\n",
       " 0.9406701326370239,\n",
       " 0.9342768788337708,\n",
       " 0.9188242554664612,\n",
       " 0.8710637092590332,\n",
       " 1.0311129093170166,\n",
       " 0.9665490388870239,\n",
       " 1.1355687379837036,\n",
       " 1.1460237503051758,\n",
       " 0.7881026268005371,\n",
       " 1.0172120332717896,\n",
       " 0.9808197617530823,\n",
       " 0.87360018491745,\n",
       " 0.9233121871948242,\n",
       " 0.9635981917381287,\n",
       " 1.190441370010376,\n",
       " 0.9513720273971558,\n",
       " 0.866293728351593,\n",
       " 1.282961130142212,\n",
       " 1.0233019590377808,\n",
       " 0.8164311647415161,\n",
       " 0.9152450561523438,\n",
       " 0.90135258436203,\n",
       " 0.9623403549194336,\n",
       " 1.0134421586990356,\n",
       " 0.8706861734390259,\n",
       " 0.8526814579963684,\n",
       " 0.8079522848129272,\n",
       " 1.0076594352722168,\n",
       " 1.0290340185165405,\n",
       " 0.9414997696876526,\n",
       " 0.8167733550071716,\n",
       " 0.8085981011390686,\n",
       " 0.9249863028526306,\n",
       " 1.0468897819519043,\n",
       " 0.7817031741142273,\n",
       " 0.8263928294181824,\n",
       " 0.8663480877876282,\n",
       " 1.2959625720977783,\n",
       " 0.795712411403656,\n",
       " 0.9732775688171387,\n",
       " 0.9177656769752502,\n",
       " 1.084631085395813,\n",
       " 0.9387263059616089,\n",
       " 0.8156595826148987,\n",
       " 0.8762640953063965,\n",
       " 0.9540122747421265,\n",
       " 1.1377339363098145,\n",
       " 1.0511621236801147,\n",
       " 0.7993983030319214,\n",
       " 0.8885399103164673,\n",
       " 1.0578593015670776,\n",
       " 1.1510026454925537,\n",
       " 0.7700215578079224,\n",
       " 0.7980789542198181,\n",
       " 0.8397768139839172,\n",
       " 1.1134916543960571,\n",
       " 0.8304896354675293,\n",
       " 0.8068844676017761,\n",
       " 0.9635580778121948,\n",
       " 0.878726601600647,\n",
       " 0.8546048402786255,\n",
       " 0.6723564267158508,\n",
       " 0.8437156677246094,\n",
       " 0.819563090801239]"
      ]
     },
     "execution_count": 9,
     "metadata": {},
     "output_type": "execute_result"
    }
   ],
   "source": [
    "loss_list"
   ]
  },
  {
   "cell_type": "code",
   "execution_count": 11,
   "id": "43153f5b",
   "metadata": {},
   "outputs": [
    {
     "data": {
      "text/plain": [
       "[<matplotlib.lines.Line2D at 0x7fae60e1d850>]"
      ]
     },
     "execution_count": 11,
     "metadata": {},
     "output_type": "execute_result"
    },
    {
     "data": {
      "image/png": "[encoded data removed]",
      "text/plain": [
       "<Figure size 432x288 with 1 Axes>"
      ]
     },
     "metadata": {
      "needs_background": "light"
     },
     "output_type": "display_data"
    }
   ],
   "source": [
    "plt.plot(loss_list)"
   ]
  },
  {
   "cell_type": "code",
   "execution_count": null,
   "id": "e7d8a90c",
   "metadata": {},
   "outputs": [],
   "source": []
  }
 ],
 "metadata": {
  "kernelspec": {
   "display_name": "GraphRepresentationKernel",
   "language": "python",
   "name": "graphrepresentationkernel"
  },
  "language_info": {
   "codemirror_mode": {
    "name": "ipython",
    "version": 3
   },
   "file_extension": ".py",
   "mimetype": "text/x-python",
   "name": "python",
   "nbconvert_exporter": "python",
   "pygments_lexer": "ipython3",
   "version": "3.9.16"
  }
 },
 "nbformat": 4,
 "nbformat_minor": 5
}
