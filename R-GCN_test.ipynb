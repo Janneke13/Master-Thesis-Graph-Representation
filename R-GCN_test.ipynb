{
 "cells": [
  {
   "cell_type": "markdown",
   "id": "dfb5c851",
   "metadata": {},
   "source": [
    "# Base code for R-GCN"
   ]
  },
  {
   "cell_type": "code",
   "execution_count": 3,
   "id": "fe57d06d",
   "metadata": {},
   "outputs": [],
   "source": [
    "# import packages and reading in files:\n",
    "import torch\n",
    "from torch_geometric.data import Data\n",
    "from torch_geometric.nn import GCNConv, RGCNConv\n",
    "import torch.nn.functional as F\n",
    "import matplotlib.pyplot as plt\n",
    "\n",
    "# import python files needed to create adjacency matrices\n",
    "import reading_data"
   ]
  },
  {
   "cell_type": "code",
   "execution_count": 7,
   "id": "acde4b5e",
   "metadata": {},
   "outputs": [],
   "source": [
    "# change up the code for R-GCN--> add a number in a tensor for everything instead of having multiple ones!!\n",
    "adjacency_matrix, mapping_index_to_node, mapping_entity_to_index, map_index_to_relation = reading_data.create_adjacency_matrix_nt(\"data/aifb/aifb+.nt\", literal_representation=\"filtered\", sparse=True, relational=True)\n",
    "number_nodes = adjacency_matrix.size()[0]\n",
    "\n",
    "# add the file names\n",
    "file_name_train = \"data/aifb/gz_files/aifb+_train_set.nt.gz\"\n",
    "file_name_valid = \"data/aifb/gz_files/aifb+_valid_set.nt.gz\"\n",
    "file_name_test = \"data/aifb/gz_files/aifb+_test_set.nt.gz\"\n",
    "\n",
    "labels, train_entities, valid_entities, test_entities = reading_data.training_valid_test_set(file_name_train, file_name_valid, file_name_test, mapping_entity_to_index, adjacency_matrix.size()[0])\n",
    "train_mask = torch.tensor([i in train_entities for i in range(len(labels))])\n",
    "valid_mask = torch.tensor([i in valid_entities for i in range(len(labels))])\n",
    "test_mask = torch.tensor([i in test_entities for i in range(len(labels))])\n",
    "\n",
    "#feature_matrix = torch.sparse_coo_tensor(indices=torch.tensor([list(range(number_nodes)), list(range(number_nodes))]), values=torch.ones(number_nodes),size=(number_nodes, number_nodes))\n",
    "feature_matrix = torch.rand(size=(number_nodes, 100)) # using 100 features"
   ]
  },
  {
   "cell_type": "code",
   "execution_count": 26,
   "id": "8b2fe24b",
   "metadata": {},
   "outputs": [
    {
     "data": {
      "text/plain": [
       "tensor(indices=tensor([[ 157,  345,  853,  ..., 2488,  650, 1903],\n",
       "                       [2492,  611,  676,  ..., 1418,  516,  526],\n",
       "                       [  10,   18,    9,  ...,   13,    9,   13]]),\n",
       "       values=tensor([1, 1, 1,  ..., 1, 1, 1]),\n",
       "       size=(2835, 2835, 22), nnz=20338, layout=torch.sparse_coo)"
      ]
     },
     "execution_count": 26,
     "metadata": {},
     "output_type": "execute_result"
    }
   ],
   "source": [
    "adjacency_matrix"
   ]
  },
  {
   "cell_type": "code",
   "execution_count": 33,
   "id": "4fc20e1d",
   "metadata": {},
   "outputs": [],
   "source": [
    "indices_edges = adjacency_matrix.coalesce().indices()[0:2]"
   ]
  },
  {
   "cell_type": "code",
   "execution_count": 34,
   "id": "737675de",
   "metadata": {},
   "outputs": [],
   "source": [
    "type_edges = adjacency_matrix.coalesce().indices()[2]"
   ]
  },
  {
   "cell_type": "code",
   "execution_count": 51,
   "id": "767f18df",
   "metadata": {},
   "outputs": [],
   "source": [
    "# add training and test mask, add labels list\n",
    "data_aifb = Data(x=feature_matrix, edge_index=indices_edges, edge_type=type_edges, num_nodes=number_nodes, y=labels.long(), train_mask=train_mask, test_mask=test_mask)\n",
    "nr_relations = data_aifb.num_edge_types"
   ]
  },
  {
   "cell_type": "code",
   "execution_count": 53,
   "id": "57111345",
   "metadata": {},
   "outputs": [
    {
     "data": {
      "text/plain": [
       "22"
      ]
     },
     "execution_count": 53,
     "metadata": {},
     "output_type": "execute_result"
    }
   ],
   "source": [
    "nr_relations"
   ]
  },
  {
   "cell_type": "code",
   "execution_count": 61,
   "id": "8612f880",
   "metadata": {},
   "outputs": [],
   "source": [
    "class RGCN(torch.nn.Module):\n",
    "    def __init__(self, input_nodes, hidden_nodes, output_nodes, num_rel):\n",
    "        super().__init__()\n",
    "        self.layer1 = RGCNConv(input_nodes, hidden_nodes, num_relations=num_rel)\n",
    "        self.layer2 = RGCNConv(hidden_nodes, output_nodes, num_relations=num_rel)\n",
    "    \n",
    "    def forward(self, X, A, edge_type):\n",
    "        h1 =  self.layer1(X, A, edge_type)\n",
    "        h1_activated = F.relu(h1)\n",
    "        h2 = self.layer2(h1_activated, A, edge_type)\n",
    "        h2_activated = F.log_softmax(h2, dim=1)\n",
    "        return h2_activated"
   ]
  },
  {
   "cell_type": "code",
   "execution_count": 62,
   "id": "1c3adf53",
   "metadata": {},
   "outputs": [],
   "source": [
    "input_n = data_aifb.num_features\n",
    "hidden_n = 200\n",
    "output_n = 30\n",
    "\n",
    "model = RGCN(input_n, hidden_n, output_n, nr_relations)\n",
    "optim = torch.optim.Adam(model.parameters(), lr=0.001)\n",
    "\n",
    "loss_list = list()\n",
    "\n",
    "model.train()\n",
    "for epoch in range(100):\n",
    "    optim.zero_grad()\n",
    "    \n",
    "    output = model(data_aifb.x, data_aifb.edge_index, data_aifb.edge_type)\n",
    "    loss = F.nll_loss(output[data_aifb.train_mask], data_aifb.y[data_aifb.train_mask])\n",
    "    loss.backward()\n",
    "    optim.step()\n",
    "    loss_list.append(loss.item())"
   ]
  },
  {
   "cell_type": "code",
   "execution_count": 63,
   "id": "17fa1d39",
   "metadata": {},
   "outputs": [
    {
     "data": {
      "text/plain": [
       "[<matplotlib.lines.Line2D at 0x7fcb802df8e0>]"
      ]
     },
     "execution_count": 63,
     "metadata": {},
     "output_type": "execute_result"
    },
    {
     "data": {
      "image/png": "[encoded data removed]",
      "text/plain": [
       "<Figure size 432x288 with 1 Axes>"
      ]
     },
     "metadata": {
      "needs_background": "light"
     },
     "output_type": "display_data"
    }
   ],
   "source": [
    "plt.plot(loss_list)"
   ]
  },
  {
   "cell_type": "code",
   "execution_count": null,
   "id": "e602d32d",
   "metadata": {},
   "outputs": [],
   "source": []
  }
 ],
 "metadata": {
  "kernelspec": {
   "display_name": "GraphRepresentationKernel",
   "language": "python",
   "name": "graphrepresentationkernel"
  },
  "language_info": {
   "codemirror_mode": {
    "name": "ipython",
    "version": 3
   },
   "file_extension": ".py",
   "mimetype": "text/x-python",
   "name": "python",
   "nbconvert_exporter": "python",
   "pygments_lexer": "ipython3",
   "version": "3.9.16"
  }
 },
 "nbformat": 4,
 "nbformat_minor": 5
}
