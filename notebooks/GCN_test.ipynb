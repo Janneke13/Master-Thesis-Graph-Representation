{
 "cells": [
  {
   "cell_type": "markdown",
   "id": "ebd40990",
   "metadata": {},
   "source": [
    "# Base Graph Convolutional Network"
   ]
  },
  {
   "cell_type": "code",
   "execution_count": 1,
   "id": "2594f9a7",
   "metadata": {},
   "outputs": [],
   "source": [
    "# import packages and reading in files:\n",
    "import torch\n",
    "from torch_geometric.data import Data\n",
    "from torch_geometric.nn import GCNConv\n",
    "from torch_geometric.transforms import RandomLinkSplit\n",
    "import torch.nn.functional as F\n",
    "import matplotlib.pyplot as plt\n",
    "\n",
    "# import python files needed to create adjacency matrices\n",
    "import reading_data"
   ]
  },
  {
   "cell_type": "code",
   "execution_count": 2,
   "id": "39447e1b",
   "metadata": {},
   "outputs": [],
   "source": [
    "adjacency_matrix, mapping_index_to_node, mapping_entity_to_index = reading_data.create_adjacency_matrix_nt(\"data/aifb/aifb+.nt\", literal_representation=\"filtered\", sparse=True)\n",
    "number_nodes = adjacency_matrix.size()[0]"
   ]
  },
  {
   "cell_type": "code",
   "execution_count": 3,
   "id": "ee614299",
   "metadata": {},
   "outputs": [],
   "source": [
    "# add the file names\n",
    "file_name_train = \"data/aifb/gz_files/aifb+_train_set.nt.gz\"\n",
    "file_name_valid = \"data/aifb/gz_files/aifb+_valid_set.nt.gz\"\n",
    "file_name_test = \"data/aifb/gz_files/aifb+_test_set.nt.gz\"\n",
    "\n",
    "labels, train_entities, valid_entities, test_entities = reading_data.training_valid_test_set(file_name_train, file_name_valid, file_name_test, mapping_entity_to_index, adjacency_matrix.size()[0])\n",
    "train_mask = torch.tensor([i in train_entities for i in range(len(labels))])\n",
    "valid_mask = torch.tensor([i in valid_entities for i in range(len(labels))])\n",
    "test_mask = torch.tensor([i in test_entities for i in range(len(labels))])"
   ]
  },
  {
   "cell_type": "code",
   "execution_count": 4,
   "id": "0b9150e8",
   "metadata": {},
   "outputs": [],
   "source": [
    "feature_matrix = torch.sparse_coo_tensor(indices=torch.tensor([list(range(number_nodes)), list(range(number_nodes))]), values=torch.ones(number_nodes),size=(number_nodes, number_nodes))"
   ]
  },
  {
   "cell_type": "code",
   "execution_count": 5,
   "id": "38b6a8a9",
   "metadata": {},
   "outputs": [],
   "source": [
    "# add training and test mask, add labels list\n",
    "\n",
    "data_aifb = Data(x=feature_matrix, edge_index=adjacency_matrix.coalesce().indices(), num_nodes=number_nodes, y=labels.long(), train_mask=train_mask, val_mask=valid_mask, test_mask=test_mask)\n",
    "number_classes = len(labels.unique())"
   ]
  },
  {
   "cell_type": "code",
   "execution_count": 25,
   "id": "58b2cafb",
   "metadata": {},
   "outputs": [],
   "source": [
    "class GCN(torch.nn.Module):\n",
    "    def __init__(self, input_nodes, hidden_nodes, output_nodes):\n",
    "        super().__init__()\n",
    "        self.layer1 = GCNConv(input_nodes, hidden_nodes)\n",
    "        self.layer2 = GCNConv(hidden_nodes, output_nodes)\n",
    "    \n",
    "    def forward(self, X, A):\n",
    "        h1 =  self.layer1(X, A)\n",
    "        h1_activated = F.relu(h1)\n",
    "        h2 = self.layer2(h1_activated, A)\n",
    "        h2_activated = F.log_softmax(h2, dim=1)\n",
    "        return h2_activated"
   ]
  },
  {
   "cell_type": "code",
   "execution_count": 9,
   "id": "2124d039",
   "metadata": {},
   "outputs": [],
   "source": [
    "from sklearn.metrics import accuracy_score\n",
    "input_n = data_aifb.num_features\n",
    "hidden_n = 200\n",
    "output_n = number_classes\n",
    "\n",
    "model = GCN(input_n, hidden_n, output_n)\n",
    "optim = torch.optim.Adam(model.parameters(), lr=0.001)\n",
    "\n",
    "loss_list = list()\n",
    "acc_list = list()\n",
    "\n",
    "model.train()\n",
    "for epoch in range(100):\n",
    "    optim.zero_grad()\n",
    "    \n",
    "    output = model(data_aifb.x, data_aifb.edge_index)\n",
    "    loss = F.nll_loss(output[data_aifb.train_mask], data_aifb.y[data_aifb.train_mask])\n",
    "    loss.backward()\n",
    "    optim.step()\n",
    "    loss_list.append(loss.item())\n",
    "    \n",
    "     # get the predictions\n",
    "    predictions = output.argmax(dim=1)\n",
    "\n",
    "    # now, calculate, store and record everything:\n",
    "    test_acc = accuracy_score(data_aifb.y[data_aifb.test_mask], predictions[data_aifb.test_mask])\n",
    "    acc_list.append(test_acc)"
   ]
  },
  {
   "cell_type": "code",
   "execution_count": 10,
   "id": "6eb2eaff",
   "metadata": {},
   "outputs": [
    {
     "data": {
      "text/plain": [
       "[<matplotlib.lines.Line2D at 0x7feb794dac70>]"
      ]
     },
     "execution_count": 10,
     "metadata": {},
     "output_type": "execute_result"
    },
    {
     "data": {
      "image/png": "[encoded data removed]",
      "text/plain": [
       "<Figure size 432x288 with 1 Axes>"
      ]
     },
     "metadata": {
      "needs_background": "light"
     },
     "output_type": "display_data"
    }
   ],
   "source": [
    "plt.plot(loss_list)"
   ]
  },
  {
   "cell_type": "code",
   "execution_count": 11,
   "id": "50c58b13",
   "metadata": {},
   "outputs": [
    {
     "data": {
      "text/plain": [
       "[<matplotlib.lines.Line2D at 0x7feb7987eeb0>]"
      ]
     },
     "execution_count": 11,
     "metadata": {},
     "output_type": "execute_result"
    },
    {
     "data": {
      "image/png": "[encoded data removed]",
      "text/plain": [
       "<Figure size 432x288 with 1 Axes>"
      ]
     },
     "metadata": {
      "needs_background": "light"
     },
     "output_type": "display_data"
    }
   ],
   "source": [
    "plt.plot(acc_list)"
   ]
  },
  {
   "cell_type": "code",
   "execution_count": null,
   "id": "f0f6ceeb",
   "metadata": {},
   "outputs": [],
   "source": [
    "data_aifb.test_mask.sum().item()"
   ]
  },
  {
   "cell_type": "code",
   "execution_count": 6,
   "id": "d5459f57",
   "metadata": {},
   "outputs": [],
   "source": [
    "import GCN_model"
   ]
  },
  {
   "cell_type": "code",
   "execution_count": 8,
   "id": "f09f22b4",
   "metadata": {},
   "outputs": [],
   "source": [
    "a = GCN_model.run_gcn_model(data_aifb, 200, number_classes, \"adam\", 0.001, 0,\n",
    "                  100, test=True, record_results=True, path_folder=\"test_GCN\")"
   ]
  },
  {
   "cell_type": "code",
   "execution_count": 9,
   "id": "5f132f28",
   "metadata": {},
   "outputs": [
    {
     "data": {
      "text/plain": [
       "{'model': GCN(\n",
       "   (layer1): GCNConv(2835, 200)\n",
       "   (layer2): GCNConv(200, 5)\n",
       " ),\n",
       " 'loss_list_train': [1.6046416759490967,\n",
       "  1.5901061296463013,\n",
       "  1.5756866931915283,\n",
       "  1.5611282587051392,\n",
       "  1.5462967157363892,\n",
       "  1.5310896635055542,\n",
       "  1.515407919883728,\n",
       "  1.4992139339447021,\n",
       "  1.4825359582901,\n",
       "  1.4653772115707397,\n",
       "  1.4477521181106567,\n",
       "  1.4296866655349731,\n",
       "  1.4112149477005005,\n",
       "  1.392368197441101,\n",
       "  1.3731746673583984,\n",
       "  1.353660225868225,\n",
       "  1.3338689804077148,\n",
       "  1.3138172626495361,\n",
       "  1.2935339212417603,\n",
       "  1.2730395793914795,\n",
       "  1.2523375749588013,\n",
       "  1.2314412593841553,\n",
       "  1.210373044013977,\n",
       "  1.1891505718231201,\n",
       "  1.1677964925765991,\n",
       "  1.146342158317566,\n",
       "  1.124805212020874,\n",
       "  1.1032134294509888,\n",
       "  1.0815989971160889,\n",
       "  1.0599867105484009,\n",
       "  1.0384033918380737,\n",
       "  1.0168659687042236,\n",
       "  0.9954068064689636,\n",
       "  0.9740470051765442,\n",
       "  0.9528035521507263,\n",
       "  0.9316830039024353,\n",
       "  0.9107000231742859,\n",
       "  0.8898676037788391,\n",
       "  0.8691896200180054,\n",
       "  0.8486804366111755,\n",
       "  0.8283472657203674,\n",
       "  0.8082039952278137,\n",
       "  0.7882598638534546,\n",
       "  0.7685385942459106,\n",
       "  0.749049723148346,\n",
       "  0.7297929525375366,\n",
       "  0.7107936143875122,\n",
       "  0.6920571327209473,\n",
       "  0.6735977530479431,\n",
       "  0.6554368138313293,\n",
       "  0.6375864744186401,\n",
       "  0.6200522184371948,\n",
       "  0.6028372049331665,\n",
       "  0.5859552621841431,\n",
       "  0.5694059133529663,\n",
       "  0.5532004237174988,\n",
       "  0.5373372435569763,\n",
       "  0.5218215584754944,\n",
       "  0.5066598653793335,\n",
       "  0.4918537735939026,\n",
       "  0.4773985743522644,\n",
       "  0.4632994830608368,\n",
       "  0.449553519487381,\n",
       "  0.4361650347709656,\n",
       "  0.4231245517730713,\n",
       "  0.4104286730289459,\n",
       "  0.39808234572410583,\n",
       "  0.386082261800766,\n",
       "  0.37442392110824585,\n",
       "  0.3631017506122589,\n",
       "  0.35211077332496643,\n",
       "  0.3414459526538849,\n",
       "  0.3311030864715576,\n",
       "  0.3210771679878235,\n",
       "  0.31136322021484375,\n",
       "  0.3019525408744812,\n",
       "  0.29283854365348816,\n",
       "  0.28401631116867065,\n",
       "  0.27547818422317505,\n",
       "  0.26721957325935364,\n",
       "  0.2592308223247528,\n",
       "  0.25150594115257263,\n",
       "  0.24403688311576843,\n",
       "  0.23681698739528656,\n",
       "  0.22984015941619873,\n",
       "  0.22310081124305725,\n",
       "  0.21659113466739655,\n",
       "  0.21030373871326447,\n",
       "  0.2042318880558014,\n",
       "  0.19836993515491486,\n",
       "  0.19271133840084076,\n",
       "  0.1872478425502777,\n",
       "  0.18197329342365265,\n",
       "  0.17688213288784027,\n",
       "  0.17196790874004364,\n",
       "  0.16722486913204193,\n",
       "  0.16264665126800537,\n",
       "  0.1582278162240982,\n",
       "  0.15396206080913544,\n",
       "  0.14984428882598877],\n",
       " 'loss_list_test': [1.6052451133728027,\n",
       "  1.593299388885498,\n",
       "  1.5814623832702637,\n",
       "  1.5695456266403198,\n",
       "  1.5574297904968262,\n",
       "  1.5450125932693481,\n",
       "  1.5322089195251465,\n",
       "  1.5189818143844604,\n",
       "  1.5053467750549316,\n",
       "  1.4913356304168701,\n",
       "  1.4769788980484009,\n",
       "  1.4623180627822876,\n",
       "  1.4474143981933594,\n",
       "  1.4322859048843384,\n",
       "  1.416944146156311,\n",
       "  1.4014272689819336,\n",
       "  1.3857710361480713,\n",
       "  1.3700131177902222,\n",
       "  1.3541865348815918,\n",
       "  1.3382794857025146,\n",
       "  1.3223317861557007,\n",
       "  1.3063514232635498,\n",
       "  1.2903618812561035,\n",
       "  1.2743592262268066,\n",
       "  1.2583746910095215,\n",
       "  1.2424328327178955,\n",
       "  1.2265338897705078,\n",
       "  1.2106941938400269,\n",
       "  1.1949454545974731,\n",
       "  1.1792999505996704,\n",
       "  1.1637797355651855,\n",
       "  1.1484062671661377,\n",
       "  1.1331815719604492,\n",
       "  1.118112564086914,\n",
       "  1.1032192707061768,\n",
       "  1.08851158618927,\n",
       "  1.0740102529525757,\n",
       "  1.0596877336502075,\n",
       "  1.0455446243286133,\n",
       "  1.031592845916748,\n",
       "  1.0178331136703491,\n",
       "  1.0042725801467896,\n",
       "  0.9909131526947021,\n",
       "  0.9777543544769287,\n",
       "  0.964809000492096,\n",
       "  0.9520663022994995,\n",
       "  0.9395246505737305,\n",
       "  0.9271901249885559,\n",
       "  0.915057897567749,\n",
       "  0.9031422734260559,\n",
       "  0.8914449214935303,\n",
       "  0.8799707889556885,\n",
       "  0.8687139749526978,\n",
       "  0.857673168182373,\n",
       "  0.8468469977378845,\n",
       "  0.836236298084259,\n",
       "  0.8258463740348816,\n",
       "  0.8156746625900269,\n",
       "  0.8057165741920471,\n",
       "  0.795971155166626,\n",
       "  0.7864402532577515,\n",
       "  0.7771387100219727,\n",
       "  0.7680566906929016,\n",
       "  0.7591859698295593,\n",
       "  0.7505292892456055,\n",
       "  0.7420930862426758,\n",
       "  0.7338749170303345,\n",
       "  0.7258644700050354,\n",
       "  0.7180605530738831,\n",
       "  0.7104647159576416,\n",
       "  0.7030797600746155,\n",
       "  0.6959019303321838,\n",
       "  0.6889154314994812,\n",
       "  0.6821273565292358,\n",
       "  0.6755315065383911,\n",
       "  0.6691300868988037,\n",
       "  0.6629159450531006,\n",
       "  0.6568848490715027,\n",
       "  0.651029109954834,\n",
       "  0.6453511118888855,\n",
       "  0.6398419737815857,\n",
       "  0.6344996690750122,\n",
       "  0.629318118095398,\n",
       "  0.6242929697036743,\n",
       "  0.6194234490394592,\n",
       "  0.6146974563598633,\n",
       "  0.6101148128509521,\n",
       "  0.6056706309318542,\n",
       "  0.6013599634170532,\n",
       "  0.597175657749176,\n",
       "  0.5931142568588257,\n",
       "  0.5891773700714111,\n",
       "  0.5853583216667175,\n",
       "  0.5816489458084106,\n",
       "  0.5780442357063293,\n",
       "  0.5745460987091064,\n",
       "  0.5711501836776733,\n",
       "  0.5678532123565674,\n",
       "  0.5646490454673767,\n",
       "  0.561535120010376],\n",
       " 'accuracy_train': [0.32142857142857145,\n",
       "  0.6517857142857143,\n",
       "  0.7767857142857143,\n",
       "  0.7857142857142857,\n",
       "  0.7946428571428571,\n",
       "  0.7857142857142857,\n",
       "  0.7946428571428571,\n",
       "  0.7946428571428571,\n",
       "  0.7946428571428571,\n",
       "  0.7946428571428571,\n",
       "  0.7946428571428571,\n",
       "  0.8035714285714286,\n",
       "  0.8035714285714286,\n",
       "  0.7946428571428571,\n",
       "  0.7946428571428571,\n",
       "  0.8035714285714286,\n",
       "  0.8035714285714286,\n",
       "  0.8125,\n",
       "  0.8214285714285714,\n",
       "  0.8214285714285714,\n",
       "  0.8214285714285714,\n",
       "  0.8214285714285714,\n",
       "  0.8214285714285714,\n",
       "  0.8392857142857143,\n",
       "  0.8571428571428571,\n",
       "  0.8571428571428571,\n",
       "  0.8660714285714286,\n",
       "  0.8839285714285714,\n",
       "  0.8928571428571429,\n",
       "  0.8928571428571429,\n",
       "  0.9017857142857143,\n",
       "  0.9017857142857143,\n",
       "  0.9017857142857143,\n",
       "  0.9017857142857143,\n",
       "  0.9017857142857143,\n",
       "  0.9017857142857143,\n",
       "  0.9107142857142857,\n",
       "  0.9196428571428571,\n",
       "  0.9196428571428571,\n",
       "  0.9285714285714286,\n",
       "  0.9375,\n",
       "  0.9375,\n",
       "  0.9464285714285714,\n",
       "  0.9464285714285714,\n",
       "  0.9464285714285714,\n",
       "  0.9464285714285714,\n",
       "  0.9464285714285714,\n",
       "  0.9553571428571429,\n",
       "  0.9553571428571429,\n",
       "  0.9553571428571429,\n",
       "  0.9553571428571429,\n",
       "  0.9553571428571429,\n",
       "  0.9553571428571429,\n",
       "  0.9553571428571429,\n",
       "  0.9553571428571429,\n",
       "  0.9642857142857143,\n",
       "  0.9732142857142857,\n",
       "  0.9732142857142857,\n",
       "  0.9732142857142857,\n",
       "  0.9732142857142857,\n",
       "  0.9732142857142857,\n",
       "  0.9821428571428571,\n",
       "  0.9821428571428571,\n",
       "  0.9821428571428571,\n",
       "  0.9910714285714286,\n",
       "  0.9910714285714286,\n",
       "  0.9910714285714286,\n",
       "  0.9910714285714286,\n",
       "  0.9910714285714286,\n",
       "  0.9910714285714286,\n",
       "  0.9910714285714286,\n",
       "  0.9910714285714286,\n",
       "  0.9910714285714286,\n",
       "  0.9910714285714286,\n",
       "  1.0,\n",
       "  1.0,\n",
       "  1.0,\n",
       "  1.0,\n",
       "  1.0,\n",
       "  1.0,\n",
       "  1.0,\n",
       "  1.0,\n",
       "  1.0,\n",
       "  1.0,\n",
       "  1.0,\n",
       "  1.0,\n",
       "  1.0,\n",
       "  1.0,\n",
       "  1.0,\n",
       "  1.0,\n",
       "  1.0,\n",
       "  1.0,\n",
       "  1.0,\n",
       "  1.0,\n",
       "  1.0,\n",
       "  1.0,\n",
       "  1.0,\n",
       "  1.0,\n",
       "  1.0,\n",
       "  1.0],\n",
       " 'accuracy_test': [0.25,\n",
       "  0.4444444444444444,\n",
       "  0.5833333333333334,\n",
       "  0.6111111111111112,\n",
       "  0.6111111111111112,\n",
       "  0.6388888888888888,\n",
       "  0.6388888888888888,\n",
       "  0.5833333333333334,\n",
       "  0.6111111111111112,\n",
       "  0.6111111111111112,\n",
       "  0.6388888888888888,\n",
       "  0.6388888888888888,\n",
       "  0.6388888888888888,\n",
       "  0.6666666666666666,\n",
       "  0.6666666666666666,\n",
       "  0.6944444444444444,\n",
       "  0.6944444444444444,\n",
       "  0.6944444444444444,\n",
       "  0.6944444444444444,\n",
       "  0.6944444444444444,\n",
       "  0.6944444444444444,\n",
       "  0.6944444444444444,\n",
       "  0.7222222222222222,\n",
       "  0.7222222222222222,\n",
       "  0.7222222222222222,\n",
       "  0.75,\n",
       "  0.75,\n",
       "  0.75,\n",
       "  0.75,\n",
       "  0.75,\n",
       "  0.75,\n",
       "  0.8055555555555556,\n",
       "  0.8055555555555556,\n",
       "  0.8055555555555556,\n",
       "  0.8055555555555556,\n",
       "  0.8055555555555556,\n",
       "  0.8055555555555556,\n",
       "  0.8055555555555556,\n",
       "  0.8333333333333334,\n",
       "  0.8888888888888888,\n",
       "  0.8888888888888888,\n",
       "  0.8888888888888888,\n",
       "  0.8888888888888888,\n",
       "  0.8888888888888888,\n",
       "  0.8888888888888888,\n",
       "  0.8888888888888888,\n",
       "  0.8888888888888888,\n",
       "  0.8888888888888888,\n",
       "  0.8888888888888888,\n",
       "  0.8888888888888888,\n",
       "  0.8888888888888888,\n",
       "  0.8888888888888888,\n",
       "  0.8888888888888888,\n",
       "  0.8888888888888888,\n",
       "  0.8888888888888888,\n",
       "  0.8888888888888888,\n",
       "  0.8888888888888888,\n",
       "  0.8888888888888888,\n",
       "  0.8888888888888888,\n",
       "  0.8888888888888888,\n",
       "  0.8888888888888888,\n",
       "  0.8888888888888888,\n",
       "  0.8888888888888888,\n",
       "  0.8888888888888888,\n",
       "  0.8888888888888888,\n",
       "  0.8888888888888888,\n",
       "  0.8888888888888888,\n",
       "  0.8888888888888888,\n",
       "  0.8888888888888888,\n",
       "  0.8888888888888888,\n",
       "  0.8888888888888888,\n",
       "  0.8888888888888888,\n",
       "  0.8888888888888888,\n",
       "  0.8888888888888888,\n",
       "  0.8888888888888888,\n",
       "  0.8888888888888888,\n",
       "  0.8888888888888888,\n",
       "  0.8888888888888888,\n",
       "  0.8888888888888888,\n",
       "  0.8888888888888888,\n",
       "  0.8888888888888888,\n",
       "  0.8888888888888888,\n",
       "  0.8888888888888888,\n",
       "  0.8888888888888888,\n",
       "  0.8888888888888888,\n",
       "  0.8888888888888888,\n",
       "  0.8888888888888888,\n",
       "  0.8888888888888888,\n",
       "  0.8888888888888888,\n",
       "  0.8888888888888888,\n",
       "  0.8888888888888888,\n",
       "  0.8888888888888888,\n",
       "  0.8888888888888888,\n",
       "  0.8888888888888888,\n",
       "  0.8888888888888888,\n",
       "  0.8888888888888888,\n",
       "  0.8888888888888888,\n",
       "  0.8888888888888888,\n",
       "  0.8888888888888888,\n",
       "  0.8888888888888888],\n",
       " 'f1_test': [0.23320105820105821,\n",
       "  0.4433305485937064,\n",
       "  0.546340811965812,\n",
       "  0.5644910644910645,\n",
       "  0.5661054994388327,\n",
       "  0.5831880900508352,\n",
       "  0.5831880900508352,\n",
       "  0.5015432098765432,\n",
       "  0.5266805266805267,\n",
       "  0.5266805266805267,\n",
       "  0.5517543859649123,\n",
       "  0.5555555555555556,\n",
       "  0.5555555555555556,\n",
       "  0.5815217391304349,\n",
       "  0.5815217391304349,\n",
       "  0.6366194192281149,\n",
       "  0.6366194192281149,\n",
       "  0.6366194192281149,\n",
       "  0.6366194192281149,\n",
       "  0.6366194192281149,\n",
       "  0.6366194192281149,\n",
       "  0.6366194192281149,\n",
       "  0.6861583306091315,\n",
       "  0.6861583306091315,\n",
       "  0.6861583306091315,\n",
       "  0.7194561020647977,\n",
       "  0.7194561020647977,\n",
       "  0.7194561020647977,\n",
       "  0.7194561020647977,\n",
       "  0.7194561020647977,\n",
       "  0.7194561020647977,\n",
       "  0.8009661835748791,\n",
       "  0.8009661835748791,\n",
       "  0.8009661835748791,\n",
       "  0.8009661835748791,\n",
       "  0.8009661835748791,\n",
       "  0.8009661835748791,\n",
       "  0.8009661835748791,\n",
       "  0.8274367718101733,\n",
       "  0.8873440285204991,\n",
       "  0.8873440285204991,\n",
       "  0.8873440285204991,\n",
       "  0.8873440285204991,\n",
       "  0.8873440285204991,\n",
       "  0.8873440285204991,\n",
       "  0.8873440285204991,\n",
       "  0.8873440285204991,\n",
       "  0.8873440285204991,\n",
       "  0.8873440285204991,\n",
       "  0.8873440285204991,\n",
       "  0.8873440285204991,\n",
       "  0.8873440285204991,\n",
       "  0.8873440285204991,\n",
       "  0.8873440285204991,\n",
       "  0.8873440285204991,\n",
       "  0.8873440285204991,\n",
       "  0.8873440285204991,\n",
       "  0.8873440285204991,\n",
       "  0.8873440285204991,\n",
       "  0.8873440285204991,\n",
       "  0.8873440285204991,\n",
       "  0.8873440285204991,\n",
       "  0.8873440285204991,\n",
       "  0.8873440285204991,\n",
       "  0.8873440285204991,\n",
       "  0.8873440285204991,\n",
       "  0.8873440285204991,\n",
       "  0.8873440285204991,\n",
       "  0.8873440285204991,\n",
       "  0.8873440285204991,\n",
       "  0.8873440285204991,\n",
       "  0.8873440285204991,\n",
       "  0.8873440285204991,\n",
       "  0.8873440285204991,\n",
       "  0.8873440285204991,\n",
       "  0.8873440285204991,\n",
       "  0.8873440285204991,\n",
       "  0.8873440285204991,\n",
       "  0.8873440285204991,\n",
       "  0.8873440285204991,\n",
       "  0.8873440285204991,\n",
       "  0.8873440285204991,\n",
       "  0.8873440285204991,\n",
       "  0.8873440285204991,\n",
       "  0.8873440285204991,\n",
       "  0.8873440285204991,\n",
       "  0.8873440285204991,\n",
       "  0.8873440285204991,\n",
       "  0.8873440285204991,\n",
       "  0.8873440285204991,\n",
       "  0.8873440285204991,\n",
       "  0.8873440285204991,\n",
       "  0.8873440285204991,\n",
       "  0.8873440285204991,\n",
       "  0.8873440285204991,\n",
       "  0.8873440285204991,\n",
       "  0.8873440285204991,\n",
       "  0.8873440285204991,\n",
       "  0.8873440285204991,\n",
       "  0.8873440285204991]}"
      ]
     },
     "execution_count": 9,
     "metadata": {},
     "output_type": "execute_result"
    }
   ],
   "source": [
    "a"
   ]
  },
  {
   "cell_type": "code",
   "execution_count": 11,
   "id": "557ca248",
   "metadata": {},
   "outputs": [
    {
     "data": {
      "text/plain": [
       "[<matplotlib.lines.Line2D at 0x7fb2ab4526d0>]"
      ]
     },
     "execution_count": 11,
     "metadata": {},
     "output_type": "execute_result"
    },
    {
     "data": {
      "image/png": "[encoded data removed]",
      "text/plain": [
       "<Figure size 432x288 with 1 Axes>"
      ]
     },
     "metadata": {
      "needs_background": "light"
     },
     "output_type": "display_data"
    }
   ],
   "source": [
    "plt.plot(a[\"loss_list_train\"])"
   ]
  },
  {
   "cell_type": "code",
   "execution_count": 12,
   "id": "104ff5d8",
   "metadata": {},
   "outputs": [
    {
     "data": {
      "text/plain": [
       "[<matplotlib.lines.Line2D at 0x7fb298a53d60>]"
      ]
     },
     "execution_count": 12,
     "metadata": {},
     "output_type": "execute_result"
    },
    {
     "data": {
      "image/png": "[encoded data removed]",
      "text/plain": [
       "<Figure size 432x288 with 1 Axes>"
      ]
     },
     "metadata": {
      "needs_background": "light"
     },
     "output_type": "display_data"
    }
   ],
   "source": [
    "plt.plot(a[\"loss_list_test\"])"
   ]
  },
  {
   "cell_type": "code",
   "execution_count": 13,
   "id": "40e20c0b",
   "metadata": {},
   "outputs": [
    {
     "data": {
      "text/plain": [
       "[<matplotlib.lines.Line2D at 0x7fb2be53d820>]"
      ]
     },
     "execution_count": 13,
     "metadata": {},
     "output_type": "execute_result"
    },
    {
     "data": {
      "image/png": "[encoded data removed]",
      "text/plain": [
       "<Figure size 432x288 with 1 Axes>"
      ]
     },
     "metadata": {
      "needs_background": "light"
     },
     "output_type": "display_data"
    }
   ],
   "source": [
    "plt.plot(a[\"accuracy_test\"])"
   ]
  },
  {
   "cell_type": "code",
   "execution_count": 14,
   "id": "a4baf0be",
   "metadata": {},
   "outputs": [
    {
     "data": {
      "text/plain": [
       "[<matplotlib.lines.Line2D at 0x7fb2889dd040>]"
      ]
     },
     "execution_count": 14,
     "metadata": {},
     "output_type": "execute_result"
    },
    {
     "data": {
      "image/png": "[encoded data removed]",
      "text/plain": [
       "<Figure size 432x288 with 1 Axes>"
      ]
     },
     "metadata": {
      "needs_background": "light"
     },
     "output_type": "display_data"
    }
   ],
   "source": [
    "plt.plot(a[\"accuracy_train\"])"
   ]
  },
  {
   "cell_type": "code",
   "execution_count": 15,
   "id": "7cbb8746",
   "metadata": {},
   "outputs": [
    {
     "data": {
      "text/plain": [
       "[<matplotlib.lines.Line2D at 0x7fb298b6b9d0>]"
      ]
     },
     "execution_count": 15,
     "metadata": {},
     "output_type": "execute_result"
    },
    {
     "data": {
      "image/png": "[encoded data removed]",
      "text/plain": [
       "<Figure size 432x288 with 1 Axes>"
      ]
     },
     "metadata": {
      "needs_background": "light"
     },
     "output_type": "display_data"
    }
   ],
   "source": [
    "plt.plot(a[\"f1_test\"])"
   ]
  },
  {
   "cell_type": "code",
   "execution_count": null,
   "id": "5a1f689f",
   "metadata": {},
   "outputs": [],
   "source": []
  }
 ],
 "metadata": {
  "kernelspec": {
   "display_name": "GraphRepresentationKernel",
   "language": "python",
   "name": "graphrepresentationkernel"
  },
  "language_info": {
   "codemirror_mode": {
    "name": "ipython",
    "version": 3
   },
   "file_extension": ".py",
   "mimetype": "text/x-python",
   "name": "python",
   "nbconvert_exporter": "python",
   "pygments_lexer": "ipython3",
   "version": "3.9.16"
  }
 },
 "nbformat": 4,
 "nbformat_minor": 5
}
