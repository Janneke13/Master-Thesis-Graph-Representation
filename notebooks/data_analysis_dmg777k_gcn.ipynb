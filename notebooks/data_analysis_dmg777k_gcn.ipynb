{
 "cells": [
  {
   "cell_type": "markdown",
   "id": "70a91113",
   "metadata": {},
   "source": [
    "# Analysis of results for the GCN with DMG777k data"
   ]
  },
  {
   "cell_type": "code",
   "execution_count": 1,
   "id": "9e5f069a",
   "metadata": {},
   "outputs": [],
   "source": [
    "# imports needed:\n",
    "import pandas as pd\n",
    "import matplotlib.pyplot as plt\n",
    "from statistics import mean\n",
    "from statistics import stdev as std\n",
    "from scipy import stats\n",
    "import random\n",
    "import math\n",
    "import modcomp\n",
    "import json\n",
    "import numpy as np\n",
    "\n",
    "random.seed(0)"
   ]
  },
  {
   "cell_type": "markdown",
   "id": "cc92e07e",
   "metadata": {},
   "source": [
    "## Read in data:"
   ]
  },
  {
   "cell_type": "code",
   "execution_count": 2,
   "id": "7f9dcb82",
   "metadata": {},
   "outputs": [],
   "source": [
    "results_filtered_1 = pd.read_csv(\"../results/GCN/test_dmg777k_filtered_final/dmg777k_1/results.csv\")\n",
    "results_filtered_2 = pd.read_csv(\"../results/GCN/test_dmg777k_filtered_final/dmg777k_2/results.csv\")\n",
    "results_filtered_3 = pd.read_csv(\"../results/GCN/test_dmg777k_filtered_final/dmg777k_3/results.csv\")\n",
    "results_filtered_4 = pd.read_csv(\"../results/GCN/test_dmg777k_filtered_final/dmg777k_4/results.csv\")\n",
    "results_filtered_5 = pd.read_csv(\"../results/GCN/test_dmg777k_filtered_final/dmg777k_5/results.csv\")\n",
    "results_filtered_6 = pd.read_csv(\"../results/GCN/test_dmg777k_filtered_final/dmg777k_6/results.csv\")\n",
    "results_filtered_7 = pd.read_csv(\"../results/GCN/test_dmg777k_filtered_final/dmg777k_7/results.csv\")\n",
    "results_filtered_8 = pd.read_csv(\"../results/GCN/test_dmg777k_filtered_final/dmg777k_8/results.csv\")\n",
    "results_filtered_9 = pd.read_csv(\"../results/GCN/test_dmg777k_filtered_final/dmg777k_9/results.csv\")\n",
    "results_filtered_10 = pd.read_csv(\"../results/GCN/test_dmg777k_filtered_final/dmg777k_10/results.csv\")\n",
    "\n",
    "results_alltoone_1 = pd.read_csv(\"../results/GCN/test_dmg777k_all-to-one_final/dmg777k_1/results.csv\")\n",
    "results_alltoone_2 = pd.read_csv(\"../results/GCN/test_dmg777k_all-to-one_final/dmg777k_2/results.csv\")\n",
    "results_alltoone_3 = pd.read_csv(\"../results/GCN/test_dmg777k_all-to-one_final/dmg777k_3/results.csv\")\n",
    "results_alltoone_4 = pd.read_csv(\"../results/GCN/test_dmg777k_all-to-one_final/dmg777k_4/results.csv\")\n",
    "results_alltoone_5 = pd.read_csv(\"../results/GCN/test_dmg777k_all-to-one_final/dmg777k_5/results.csv\")\n",
    "results_alltoone_6 = pd.read_csv(\"../results/GCN/test_dmg777k_all-to-one_final/dmg777k_6/results.csv\")\n",
    "results_alltoone_7 = pd.read_csv(\"../results/GCN/test_dmg777k_all-to-one_final/dmg777k_7/results.csv\")\n",
    "results_alltoone_8 = pd.read_csv(\"../results/GCN/test_dmg777k_all-to-one_final/dmg777k_8/results.csv\")\n",
    "results_alltoone_9 = pd.read_csv(\"../results/GCN/test_dmg777k_all-to-one_final/dmg777k_9/results.csv\")\n",
    "results_alltoone_10 = pd.read_csv(\"../results/GCN/test_dmg777k_all-to-one_final/dmg777k_10/results.csv\")\n",
    "\n",
    "results_collapsed_1 = pd.read_csv(\"../results/GCN/test_dmg777k_collapsed_final/dmg777k_1/results.csv\")\n",
    "results_collapsed_2 = pd.read_csv(\"../results/GCN/test_dmg777k_collapsed_final/dmg777k_2/results.csv\")\n",
    "results_collapsed_3 = pd.read_csv(\"../results/GCN/test_dmg777k_collapsed_final/dmg777k_3/results.csv\")\n",
    "results_collapsed_4 = pd.read_csv(\"../results/GCN/test_dmg777k_collapsed_final/dmg777k_4/results.csv\")\n",
    "results_collapsed_5 = pd.read_csv(\"../results/GCN/test_dmg777k_collapsed_final/dmg777k_5/results.csv\")\n",
    "results_collapsed_6 = pd.read_csv(\"../results/GCN/test_dmg777k_collapsed_final/dmg777k_6/results.csv\")\n",
    "results_collapsed_7 = pd.read_csv(\"../results/GCN/test_dmg777k_collapsed_final/dmg777k_7/results.csv\")\n",
    "results_collapsed_8 = pd.read_csv(\"../results/GCN/test_dmg777k_collapsed_final/dmg777k_8/results.csv\")\n",
    "results_collapsed_9 = pd.read_csv(\"../results/GCN/test_dmg777k_collapsed_final/dmg777k_9/results.csv\")\n",
    "results_collapsed_10 = pd.read_csv(\"../results/GCN/test_dmg777k_collapsed_final/dmg777k_10/results.csv\")\n",
    "\n",
    "results_separate_1 = pd.read_csv(\"../results/GCN/test_dmg777k_separate_final/dmg777k_1/results.csv\")\n",
    "results_separate_2 = pd.read_csv(\"../results/GCN/test_dmg777k_separate_final/dmg777k_2/results.csv\")\n",
    "results_separate_3 = pd.read_csv(\"../results/GCN/test_dmg777k_separate_final/dmg777k_3/results.csv\")\n",
    "results_separate_4 = pd.read_csv(\"../results/GCN/test_dmg777k_separate_final/dmg777k_4/results.csv\")\n",
    "results_separate_5 = pd.read_csv(\"../results/GCN/test_dmg777k_separate_final/dmg777k_5/results.csv\")\n",
    "results_separate_6 = pd.read_csv(\"../results/GCN/test_dmg777k_separate_final/dmg777k_6/results.csv\")\n",
    "results_separate_7 = pd.read_csv(\"../results/GCN/test_dmg777k_separate_final/dmg777k_7/results.csv\")\n",
    "results_separate_8 = pd.read_csv(\"../results/GCN/test_dmg777k_separate_final/dmg777k_8/results.csv\")\n",
    "results_separate_9 = pd.read_csv(\"../results/GCN/test_dmg777k_separate_final/dmg777k_9/results.csv\")\n",
    "results_separate_10 = pd.read_csv(\"../results/GCN/test_dmg777k_separate_final/dmg777k_10/results.csv\")"
   ]
  },
  {
   "cell_type": "markdown",
   "id": "18e2d8e8",
   "metadata": {},
   "source": [
    "## Process data:"
   ]
  },
  {
   "cell_type": "code",
   "execution_count": 3,
   "id": "ca771242",
   "metadata": {},
   "outputs": [],
   "source": [
    "# combine the test accuracies\n",
    "accuracy_test_filtered = pd.concat([results_filtered_1['AccTest'], results_filtered_2['AccTest'], results_filtered_3['AccTest'], results_filtered_4['AccTest'], results_filtered_5['AccTest'],results_filtered_6['AccTest'], results_filtered_7['AccTest'], results_filtered_8['AccTest'], results_filtered_9['AccTest'], results_filtered_10['AccTest']],axis=1)\n",
    "accuracy_test_alltoone = pd.concat([results_alltoone_1['AccTest'], results_alltoone_2['AccTest'], results_alltoone_3['AccTest'], results_alltoone_4['AccTest'], results_alltoone_5['AccTest'],results_alltoone_6['AccTest'], results_alltoone_7['AccTest'], results_alltoone_8['AccTest'], results_alltoone_9['AccTest'], results_alltoone_10['AccTest']],axis=1)\n",
    "accuracy_test_collapsed = pd.concat([results_collapsed_1['AccTest'], results_collapsed_2['AccTest'], results_collapsed_3['AccTest'], results_collapsed_4['AccTest'], results_collapsed_5['AccTest'],results_collapsed_6['AccTest'], results_collapsed_7['AccTest'], results_collapsed_8['AccTest'], results_collapsed_9['AccTest'], results_collapsed_10['AccTest']],axis=1)\n",
    "accuracy_test_separate = pd.concat([results_separate_1['AccTest'], results_separate_2['AccTest'], results_separate_3['AccTest'], results_separate_4['AccTest'], results_separate_5['AccTest'],results_separate_6['AccTest'], results_separate_7['AccTest'], results_separate_8['AccTest'], results_separate_9['AccTest'], results_separate_10['AccTest']],axis=1)\n",
    "\n",
    "# make lists of the final test accuracies\n",
    "final_accuracy_test_filtered = [results_filtered_1['AccTest'].iloc[-1], results_filtered_2['AccTest'].iloc[-1], results_filtered_3['AccTest'].iloc[-1], results_filtered_4['AccTest'].iloc[-1], results_filtered_5['AccTest'].iloc[-1],results_filtered_6['AccTest'].iloc[-1], results_filtered_7['AccTest'].iloc[-1], results_filtered_8['AccTest'].iloc[-1], results_filtered_9['AccTest'].iloc[-1], results_filtered_10['AccTest'].iloc[-1]]\n",
    "final_accuracy_test_alltoone = [results_alltoone_1['AccTest'].iloc[-1], results_alltoone_2['AccTest'].iloc[-1], results_alltoone_3['AccTest'].iloc[-1], results_alltoone_4['AccTest'].iloc[-1], results_alltoone_5['AccTest'].iloc[-1],results_alltoone_6['AccTest'].iloc[-1], results_alltoone_7['AccTest'].iloc[-1], results_alltoone_8['AccTest'].iloc[-1], results_alltoone_9['AccTest'].iloc[-1], results_alltoone_10['AccTest'].iloc[-1]]\n",
    "final_accuracy_test_collapsed = [results_collapsed_1['AccTest'].iloc[-1], results_collapsed_2['AccTest'].iloc[-1], results_collapsed_3['AccTest'].iloc[-1], results_collapsed_4['AccTest'].iloc[-1], results_collapsed_5['AccTest'].iloc[-1],results_collapsed_6['AccTest'].iloc[-1], results_collapsed_7['AccTest'].iloc[-1], results_collapsed_8['AccTest'].iloc[-1], results_collapsed_9['AccTest'].iloc[-1], results_collapsed_10['AccTest'].iloc[-1]]\n",
    "final_accuracy_test_separate = [results_separate_1['AccTest'].iloc[-1], results_separate_2['AccTest'].iloc[-1], results_separate_3['AccTest'].iloc[-1], results_separate_4['AccTest'].iloc[-1], results_separate_5['AccTest'].iloc[-1],results_separate_6['AccTest'].iloc[-1], results_separate_7['AccTest'].iloc[-1], results_separate_8['AccTest'].iloc[-1], results_separate_9['AccTest'].iloc[-1], results_separate_10['AccTest'].iloc[-1]]\n",
    "\n",
    "# combine the test f1\n",
    "f1_test_filtered = pd.concat([results_filtered_1['f1Test'], results_filtered_2['f1Test'], results_filtered_3['f1Test'], results_filtered_4['f1Test'], results_filtered_5['f1Test'],results_filtered_6['f1Test'], results_filtered_7['f1Test'], results_filtered_8['f1Test'], results_filtered_9['f1Test'], results_filtered_10['f1Test']],axis=1)\n",
    "f1_test_alltoone = pd.concat([results_alltoone_1['f1Test'], results_alltoone_2['f1Test'], results_alltoone_3['f1Test'], results_alltoone_4['f1Test'], results_alltoone_5['f1Test'],results_alltoone_6['f1Test'], results_alltoone_7['f1Test'], results_alltoone_8['f1Test'], results_alltoone_9['f1Test'], results_alltoone_10['f1Test']],axis=1)\n",
    "f1_test_collapsed = pd.concat([results_collapsed_1['f1Test'], results_collapsed_2['f1Test'], results_collapsed_3['f1Test'], results_collapsed_4['f1Test'], results_collapsed_5['f1Test'],results_collapsed_6['f1Test'], results_collapsed_7['f1Test'], results_collapsed_8['f1Test'], results_collapsed_9['f1Test'], results_collapsed_10['f1Test']],axis=1)\n",
    "f1_test_separate = pd.concat([results_separate_1['f1Test'], results_separate_2['f1Test'], results_separate_3['f1Test'], results_separate_4['f1Test'], results_separate_5['f1Test'],results_separate_6['f1Test'], results_separate_7['f1Test'], results_separate_8['f1Test'], results_separate_9['f1Test'], results_separate_10['f1Test']],axis=1)\n",
    "\n",
    "# make lists of the final test f1\n",
    "final_f1_test_filtered = [results_filtered_1['f1Test'].iloc[-1], results_filtered_2['f1Test'].iloc[-1], results_filtered_3['f1Test'].iloc[-1], results_filtered_4['f1Test'].iloc[-1], results_filtered_5['f1Test'].iloc[-1],results_filtered_6['f1Test'].iloc[-1], results_filtered_7['f1Test'].iloc[-1], results_filtered_8['f1Test'].iloc[-1], results_filtered_9['f1Test'].iloc[-1], results_filtered_10['f1Test'].iloc[-1]]\n",
    "final_f1_test_alltoone = [results_alltoone_1['f1Test'].iloc[-1], results_alltoone_2['f1Test'].iloc[-1], results_alltoone_3['f1Test'].iloc[-1], results_alltoone_4['f1Test'].iloc[-1], results_alltoone_5['f1Test'].iloc[-1],results_alltoone_6['f1Test'].iloc[-1], results_alltoone_7['f1Test'].iloc[-1], results_alltoone_8['f1Test'].iloc[-1], results_alltoone_9['f1Test'].iloc[-1], results_alltoone_10['f1Test'].iloc[-1]]\n",
    "final_f1_test_collapsed = [results_collapsed_1['f1Test'].iloc[-1], results_collapsed_2['f1Test'].iloc[-1], results_collapsed_3['f1Test'].iloc[-1], results_collapsed_4['f1Test'].iloc[-1], results_collapsed_5['f1Test'].iloc[-1],results_collapsed_6['f1Test'].iloc[-1], results_collapsed_7['f1Test'].iloc[-1], results_collapsed_8['f1Test'].iloc[-1], results_collapsed_9['f1Test'].iloc[-1], results_collapsed_10['f1Test'].iloc[-1]]\n",
    "final_f1_test_separate = [results_separate_1['f1Test'].iloc[-1], results_separate_2['f1Test'].iloc[-1], results_separate_3['f1Test'].iloc[-1], results_separate_4['f1Test'].iloc[-1], results_separate_5['f1Test'].iloc[-1],results_separate_6['f1Test'].iloc[-1], results_separate_7['f1Test'].iloc[-1], results_separate_8['f1Test'].iloc[-1], results_separate_9['f1Test'].iloc[-1], results_separate_10['f1Test'].iloc[-1]]"
   ]
  },
  {
   "cell_type": "code",
   "execution_count": 4,
   "id": "d6c37a81",
   "metadata": {},
   "outputs": [],
   "source": [
    "# accuracy:\n",
    "mean_acc_filtered = accuracy_test_filtered.mean(axis=1)\n",
    "mean_acc_alltoone = accuracy_test_alltoone.mean(axis=1)\n",
    "mean_acc_collapsed = accuracy_test_collapsed.mean(axis=1)\n",
    "mean_acc_separate = accuracy_test_separate.mean(axis=1)\n",
    "\n",
    "std_acc_filtered = accuracy_test_filtered.std(axis=1)\n",
    "std_acc_alltoone = accuracy_test_alltoone.std(axis=1)\n",
    "std_acc_collapsed = accuracy_test_collapsed.std(axis=1)\n",
    "std_acc_separate = accuracy_test_separate.std(axis=1)\n",
    "\n",
    "# f1:\n",
    "mean_f1_filtered = f1_test_filtered.mean(axis=1)\n",
    "mean_f1_alltoone = f1_test_alltoone.mean(axis=1)\n",
    "mean_f1_collapsed = f1_test_collapsed.mean(axis=1)\n",
    "mean_f1_separate = f1_test_separate.mean(axis=1)\n",
    "\n",
    "std_f1_filtered = f1_test_filtered.std(axis=1)\n",
    "std_f1_alltoone = f1_test_alltoone.std(axis=1)\n",
    "std_f1_collapsed = f1_test_collapsed.std(axis=1)\n",
    "std_f1_separate = f1_test_separate.std(axis=1)"
   ]
  },
  {
   "cell_type": "markdown",
   "id": "24e41744",
   "metadata": {},
   "source": [
    "## Summary of data (means and standard deviations at the end):"
   ]
  },
  {
   "cell_type": "code",
   "execution_count": 5,
   "id": "0fee69c7",
   "metadata": {},
   "outputs": [
    {
     "name": "stdout",
     "output_type": "stream",
     "text": [
      "Filtered gets a mean accuracy of  0.5127936031984008  with a standard deviation of  0.004726096884065949\n",
      "Filtered gets a mean f1 of  0.43028289927451063  with a standard deviation of  0.020844427465687994\n",
      "\n",
      "All-to-one gets a mean accuracy of  0.5180909545227386  with a standard deviation of  0.010611897072975355\n",
      "All-to-one gets a mean f1 of  0.4197585844525451  with a standard deviation of  0.031185941096467412\n",
      "\n",
      "Collapsed gets a mean accuracy of  0.4794102948525737  with a standard deviation of  0.0023327621144674502\n",
      "Collapsed gets a mean f1 of  0.3216482204167662  with a standard deviation of  0.022622900530820132\n",
      "\n",
      "Separate gets a mean accuracy of  0.4939030484757621  with a standard deviation of  0.012918645447966786\n",
      "Separate gets a mean f1 of  0.36712913157101146  with a standard deviation of  0.04206299582574911\n"
     ]
    }
   ],
   "source": [
    "print(\"Filtered gets a mean accuracy of \", mean(final_accuracy_test_filtered), \" with a standard deviation of \", std(final_accuracy_test_filtered))\n",
    "print(\"Filtered gets a mean f1 of \", mean(final_f1_test_filtered), \" with a standard deviation of \", std(final_f1_test_filtered))\n",
    "print()\n",
    "print(\"All-to-one gets a mean accuracy of \", mean(final_accuracy_test_alltoone), \" with a standard deviation of \", std(final_accuracy_test_alltoone))\n",
    "print(\"All-to-one gets a mean f1 of \", mean(final_f1_test_alltoone), \" with a standard deviation of \", std(final_f1_test_alltoone))\n",
    "print()\n",
    "print(\"Collapsed gets a mean accuracy of \", mean(final_accuracy_test_collapsed), \" with a standard deviation of \", std(final_accuracy_test_collapsed))\n",
    "print(\"Collapsed gets a mean f1 of \", mean(final_f1_test_collapsed), \" with a standard deviation of \", std(final_f1_test_collapsed))\n",
    "print()\n",
    "print(\"Separate gets a mean accuracy of \", mean(final_accuracy_test_separate), \" with a standard deviation of \", std(final_accuracy_test_separate))\n",
    "print(\"Separate gets a mean f1 of \", mean(final_f1_test_separate), \" with a standard deviation of \", std(final_f1_test_separate))"
   ]
  },
  {
   "cell_type": "markdown",
   "id": "a3103932",
   "metadata": {},
   "source": [
    "## Create plots of this data:"
   ]
  },
  {
   "cell_type": "markdown",
   "id": "15d2d1bf",
   "metadata": {},
   "source": [
    "### Lineplot:"
   ]
  },
  {
   "cell_type": "code",
   "execution_count": 6,
   "id": "db605498",
   "metadata": {},
   "outputs": [
    {
     "data": {
      "image/png": "[encoded data removed]",
      "text/plain": [
       "<Figure size 936x648 with 1 Axes>"
      ]
     },
     "metadata": {
      "needs_background": "light"
     },
     "output_type": "display_data"
    }
   ],
   "source": [
    "# draw the lines for the means\n",
    "plt.plot(mean_acc_filtered.index.values, mean_acc_filtered, 'y-', label='Filtered')\n",
    "plt.plot(mean_acc_alltoone.index.values, mean_acc_alltoone, 'r-', label='All-to-one')\n",
    "plt.plot(mean_acc_collapsed.index.values, mean_acc_collapsed, 'b-', label='Collapsed')\n",
    "plt.plot(mean_acc_separate.index.values, mean_acc_separate, 'g-', label='Separate')\n",
    "\n",
    "# fill between the standard deviations\n",
    "plt.fill_between(std_acc_filtered.index.values, mean_acc_filtered - std_acc_filtered, mean_acc_filtered + std_acc_filtered, color='y', alpha=0.25)\n",
    "plt.fill_between(std_acc_alltoone.index.values, mean_acc_alltoone - std_acc_alltoone, mean_acc_alltoone + std_acc_alltoone, color='r', alpha=0.25)\n",
    "plt.fill_between(std_acc_collapsed.index.values, mean_acc_collapsed - std_acc_collapsed, mean_acc_collapsed + std_acc_collapsed, color='b', alpha=0.25)\n",
    "plt.fill_between(std_acc_separate.index.values, mean_acc_separate - std_acc_separate, mean_acc_separate + std_acc_separate, color='g', alpha=0.25)\n",
    "\n",
    "plt.legend(loc=\"lower right\", fontsize=21)\n",
    "# plt.title(\"Test Accuracy of GCN for dmg777k Dataset with Different Literal Mappings\", fontsize=19)\n",
    "plt.xticks(fontsize=18)\n",
    "plt.yticks(fontsize = 18)\n",
    "plt.xlabel('Epoch', fontsize=20)\n",
    "plt.ylabel('Test Accuracy', fontsize=20)\n",
    "\n",
    "# increase size of figure\n",
    "figure = plt.gcf()\n",
    "figure.set_size_inches(13, 9)\n",
    "\n",
    "# save the figure\n",
    "figure.savefig('../plots/experiment_data_analysis/dmg777k/gcn_test_acc.png', dpi=300)\n",
    "\n",
    "plt.show()"
   ]
  },
  {
   "cell_type": "code",
   "execution_count": 7,
   "id": "cc75d357",
   "metadata": {},
   "outputs": [
    {
     "data": {
      "image/png": "[encoded data removed]",
      "text/plain": [
       "<Figure size 936x648 with 1 Axes>"
      ]
     },
     "metadata": {
      "needs_background": "light"
     },
     "output_type": "display_data"
    }
   ],
   "source": [
    "# draw the lines for the means\n",
    "plt.plot(mean_f1_filtered.index.values, mean_f1_filtered, 'y-', label='Filtered')\n",
    "plt.plot(mean_f1_alltoone.index.values, mean_f1_alltoone, 'r-', label='All-to-one')\n",
    "plt.plot(mean_f1_collapsed.index.values, mean_f1_collapsed, 'b-', label='Collapsed')\n",
    "plt.plot(mean_f1_separate.index.values, mean_f1_separate, 'g-', label='Separate')\n",
    "\n",
    "# fill between the standard deviations\n",
    "plt.fill_between(std_f1_filtered.index.values, mean_f1_filtered - std_f1_filtered, mean_f1_filtered + std_f1_filtered, color='y', alpha=0.25)\n",
    "plt.fill_between(std_f1_alltoone.index.values, mean_f1_alltoone - std_f1_alltoone, mean_f1_alltoone + std_f1_alltoone, color='r', alpha=0.25)\n",
    "plt.fill_between(std_f1_collapsed.index.values, mean_f1_collapsed - std_f1_collapsed, mean_f1_collapsed + std_f1_collapsed, color='b', alpha=0.25)\n",
    "plt.fill_between(std_f1_separate.index.values, mean_f1_separate - std_f1_separate, mean_f1_separate + std_f1_separate, color='g', alpha=0.25)\n",
    "\n",
    "plt.legend(loc=\"lower right\", fontsize=21)\n",
    "# plt.title(\"Test f1 of GCN for dmg777k Dataset with Different Literal Mappings\", fontsize=19)\n",
    "plt.xticks(fontsize=18)\n",
    "plt.yticks(fontsize = 18)\n",
    "plt.xlabel('Epoch', fontsize=20)\n",
    "plt.ylabel('Test f1', fontsize=20)\n",
    "\n",
    "# increase size of figure\n",
    "figure = plt.gcf()\n",
    "figure.set_size_inches(13, 9)\n",
    "\n",
    "# save the figure\n",
    "figure.savefig('../plots/experiment_data_analysis/dmg777k/gcn_test_f1.png', dpi=300)\n",
    "plt.show()"
   ]
  },
  {
   "cell_type": "markdown",
   "id": "70633792",
   "metadata": {},
   "source": [
    "### Boxplot:"
   ]
  },
  {
   "cell_type": "code",
   "execution_count": 8,
   "id": "a581a454",
   "metadata": {},
   "outputs": [
    {
     "data": {
      "image/png": "[encoded data removed]",
      "text/plain": [
       "<Figure size 936x648 with 1 Axes>"
      ]
     },
     "metadata": {
      "needs_background": "light"
     },
     "output_type": "display_data"
    }
   ],
   "source": [
    "final_acc_all = pd.DataFrame({\"Filtered\": final_accuracy_test_filtered, \"All-to-one\": final_accuracy_test_alltoone, \"Collapsed\": final_accuracy_test_collapsed, \"Separate\": final_accuracy_test_separate})\n",
    "final_acc_all[['Filtered', 'All-to-one', 'Collapsed', \"Separate\"]].plot(kind='box')\n",
    "\n",
    "# add x and y labels and change font sizes:\n",
    "plt.xlabel('Literal Mapping', fontsize=20)\n",
    "plt.ylabel('Accuracy', fontsize=20)\n",
    "\n",
    "plt.xticks(fontsize=18)\n",
    "plt.yticks(fontsize = 18)\n",
    "\n",
    "# increase size of figure\n",
    "figure = plt.gcf()\n",
    "figure.set_size_inches(13, 9)\n",
    "\n",
    "# save the figure\n",
    "figure.savefig('../plots/experiment_data_analysis/dmg777k/gcn_boxplot_accuracy.png', dpi=300)\n",
    "plt.show()"
   ]
  },
  {
   "cell_type": "code",
   "execution_count": 9,
   "id": "c970ce3e",
   "metadata": {},
   "outputs": [
    {
     "data": {
      "image/png": "[encoded data removed]",
      "text/plain": [
       "<Figure size 936x648 with 1 Axes>"
      ]
     },
     "metadata": {
      "needs_background": "light"
     },
     "output_type": "display_data"
    }
   ],
   "source": [
    "final_acc_all = pd.DataFrame({\"Filtered\": final_f1_test_filtered, \"All-to-one\": final_f1_test_alltoone, \"Collapsed\": final_f1_test_collapsed, \"Separate\": final_f1_test_separate})\n",
    "final_acc_all[['Filtered', 'All-to-one', 'Collapsed', \"Separate\"]].plot(kind='box')\n",
    "\n",
    "# add x and y labels and change font sizes:\n",
    "plt.xlabel('Literal Mapping', fontsize=20)\n",
    "plt.ylabel('f1-score', fontsize=20)\n",
    "\n",
    "plt.xticks(fontsize=18)\n",
    "plt.yticks(fontsize = 18)\n",
    "\n",
    "# increase size of figure\n",
    "figure = plt.gcf()\n",
    "figure.set_size_inches(13, 9)\n",
    "\n",
    "# save the figure\n",
    "figure.savefig('../plots/experiment_data_analysis/dmg777k/gcn_boxplot_f1.png', dpi=300)\n",
    "plt.show()"
   ]
  },
  {
   "cell_type": "markdown",
   "id": "00355715",
   "metadata": {},
   "source": [
    "## Perform statistical analysis:"
   ]
  },
  {
   "cell_type": "markdown",
   "id": "bf442a3a",
   "metadata": {},
   "source": [
    "### Normality tests (not needed):"
   ]
  },
  {
   "cell_type": "code",
   "execution_count": 10,
   "id": "e2bf7064",
   "metadata": {},
   "outputs": [
    {
     "name": "stdout",
     "output_type": "stream",
     "text": [
      "------Accuracy------\n",
      "Filtered: ShapiroResult(statistic=0.7800583243370056, pvalue=0.008292227983474731)\n",
      "All-to-one: ShapiroResult(statistic=0.6724302768707275, pvalue=0.00040883614565245807)\n",
      "Collapsed: ShapiroResult(statistic=0.8315793871879578, pvalue=0.034958451986312866)\n",
      "Separate: ShapiroResult(statistic=0.8855482935905457, pvalue=0.15100446343421936)\n",
      "------f1------\n",
      "Filtered: ShapiroResult(statistic=0.7261406779289246, pvalue=0.0018289271974936128)\n",
      "All-to-one: ShapiroResult(statistic=0.6193846464157104, pvalue=9.423804294783622e-05)\n",
      "Collapsed: ShapiroResult(statistic=0.6086149215698242, pvalue=7.007016392890364e-05)\n",
      "Separate: ShapiroResult(statistic=0.8902049660682678, pvalue=0.17048029601573944)\n"
     ]
    }
   ],
   "source": [
    "print(\"------Accuracy------\")\n",
    "print(\"Filtered:\", stats.shapiro(final_accuracy_test_filtered))\n",
    "print(\"All-to-one:\", stats.shapiro(final_accuracy_test_alltoone)) # not from a normal dist\n",
    "print(\"Collapsed:\", stats.shapiro(final_accuracy_test_collapsed))\n",
    "print(\"Separate:\", stats.shapiro(final_accuracy_test_separate))\n",
    "\n",
    "print(\"------f1------\")\n",
    "print(\"Filtered:\", stats.shapiro(final_f1_test_filtered))\n",
    "print(\"All-to-one:\", stats.shapiro(final_f1_test_alltoone)) # not from a normal dist\n",
    "print(\"Collapsed:\", stats.shapiro(final_f1_test_collapsed))\n",
    "print(\"Separate:\", stats.shapiro(final_f1_test_separate))"
   ]
  },
  {
   "cell_type": "markdown",
   "id": "446baaab",
   "metadata": {},
   "source": [
    "### Mann-Whitney U tests:"
   ]
  },
  {
   "cell_type": "code",
   "execution_count": 11,
   "id": "53b26d36",
   "metadata": {
    "scrolled": true
   },
   "outputs": [
    {
     "name": "stdout",
     "output_type": "stream",
     "text": [
      "Accuracy, Filtered - All-to-one:  MannwhitneyuResult(statistic=20.0, pvalue=0.025692444548908212)\n",
      "f1-score, Filtered - All-to-one:  MannwhitneyuResult(statistic=72.0, pvalue=0.10410988966022681)\n",
      "Accuracy, Filtered - Collapsed:  MannwhitneyuResult(statistic=100.0, pvalue=0.00017761066068896375)\n",
      "f1-score, Filtered - Collapsed:  MannwhitneyuResult(statistic=99.0, pvalue=0.00024086602735867127)\n",
      "Accuracy, Filtered - Separate:  MannwhitneyuResult(statistic=94.5, pvalue=0.0008728648301242148)\n",
      "f1-score, Filtered - Separate:  MannwhitneyuResult(statistic=93.0, pvalue=0.0013149446697132139)\n",
      "Accuracy, All-to-one - Collapsed:  MannwhitneyuResult(statistic=100.0, pvalue=0.00017661101166893502)\n",
      "f1-score, All-to-one - Collapsed:  MannwhitneyuResult(statistic=98.0, pvalue=0.0003230556926118561)\n",
      "Accuracy, All-to-one - Separate:  MannwhitneyuResult(statistic=92.5, pvalue=0.0014804516314918244)\n",
      "f1-score, All-to-one - Separate:  MannwhitneyuResult(statistic=88.0, pvalue=0.004586392080253494)\n",
      "Accuracy, Collapsed - Separate:  MannwhitneyuResult(statistic=18.5, pvalue=0.01812743104340377)\n",
      "f1-score, Collapsed - Separate:  MannwhitneyuResult(statistic=20.5, pvalue=0.02777271275043861)\n"
     ]
    }
   ],
   "source": [
    "# combinations (for all of these, do a test between both the accuracy and the f1)\n",
    "\n",
    "# filtered - all-to-one\n",
    "print(\"Accuracy, Filtered - All-to-one: \", stats.mannwhitneyu(final_accuracy_test_filtered, final_accuracy_test_alltoone))\n",
    "print(\"f1-score, Filtered - All-to-one: \", stats.mannwhitneyu(final_f1_test_filtered, final_f1_test_alltoone))\n",
    "\n",
    "# filtered - collapsed\n",
    "print(\"Accuracy, Filtered - Collapsed: \", stats.mannwhitneyu(final_accuracy_test_filtered, final_accuracy_test_collapsed))\n",
    "print(\"f1-score, Filtered - Collapsed: \", stats.mannwhitneyu(final_f1_test_filtered, final_f1_test_collapsed))\n",
    "\n",
    "# filtered - separate\n",
    "print(\"Accuracy, Filtered - Separate: \", stats.mannwhitneyu(final_accuracy_test_filtered, final_accuracy_test_separate))\n",
    "print(\"f1-score, Filtered - Separate: \", stats.mannwhitneyu(final_f1_test_filtered, final_f1_test_separate))\n",
    "\n",
    "# all-to-one - collapsed\n",
    "print(\"Accuracy, All-to-one - Collapsed: \", stats.mannwhitneyu(final_accuracy_test_alltoone, final_accuracy_test_collapsed))\n",
    "print(\"f1-score, All-to-one - Collapsed: \", stats.mannwhitneyu(final_f1_test_alltoone, final_f1_test_collapsed))\n",
    "\n",
    "# all-to-one - separate\n",
    "print(\"Accuracy, All-to-one - Separate: \", stats.mannwhitneyu(final_accuracy_test_alltoone, final_accuracy_test_separate))\n",
    "print(\"f1-score, All-to-one - Separate: \", stats.mannwhitneyu(final_f1_test_alltoone, final_f1_test_separate))\n",
    "      \n",
    "# collapsed - separate\n",
    "print(\"Accuracy, Collapsed - Separate: \", stats.mannwhitneyu(final_accuracy_test_collapsed, final_accuracy_test_separate))\n",
    "print(\"f1-score, Collapsed - Separate: \", stats.mannwhitneyu(final_f1_test_collapsed, final_f1_test_separate))"
   ]
  },
  {
   "cell_type": "markdown",
   "id": "a8a1b5ff",
   "metadata": {},
   "source": [
    "Everything is significantly better than the separate one!!"
   ]
  },
  {
   "cell_type": "markdown",
   "id": "9dd5ffe6",
   "metadata": {},
   "source": [
    "### Apply majority voting (for other classification tests):"
   ]
  },
  {
   "cell_type": "code",
   "execution_count": 12,
   "id": "c14812bf",
   "metadata": {},
   "outputs": [],
   "source": [
    "# read in the class assignments (do this for the test data):\n",
    "preds_filtered_1 = pd.read_csv(\"../results/GCN/test_dmg777k_filtered_final/dmg777k_1/predictions_test.csv\")\n",
    "preds_filtered_2 = pd.read_csv(\"../results/GCN/test_dmg777k_filtered_final/dmg777k_2/predictions_test.csv\")\n",
    "preds_filtered_3 = pd.read_csv(\"../results/GCN/test_dmg777k_filtered_final/dmg777k_3/predictions_test.csv\")\n",
    "preds_filtered_4 = pd.read_csv(\"../results/GCN/test_dmg777k_filtered_final/dmg777k_4/predictions_test.csv\")\n",
    "preds_filtered_5 = pd.read_csv(\"../results/GCN/test_dmg777k_filtered_final/dmg777k_5/predictions_test.csv\")\n",
    "preds_filtered_6 = pd.read_csv(\"../results/GCN/test_dmg777k_filtered_final/dmg777k_6/predictions_test.csv\")\n",
    "preds_filtered_7 = pd.read_csv(\"../results/GCN/test_dmg777k_filtered_final/dmg777k_7/predictions_test.csv\")\n",
    "preds_filtered_8 = pd.read_csv(\"../results/GCN/test_dmg777k_filtered_final/dmg777k_8/predictions_test.csv\")\n",
    "preds_filtered_9 = pd.read_csv(\"../results/GCN/test_dmg777k_filtered_final/dmg777k_9/predictions_test.csv\")\n",
    "preds_filtered_10 = pd.read_csv(\"../results/GCN/test_dmg777k_filtered_final/dmg777k_10/predictions_test.csv\")\n",
    "\n",
    "preds_alltoone_1 = pd.read_csv(\"../results/GCN/test_dmg777k_all-to-one_final/dmg777k_1/predictions_test.csv\")\n",
    "preds_alltoone_2 = pd.read_csv(\"../results/GCN/test_dmg777k_all-to-one_final/dmg777k_2/predictions_test.csv\")\n",
    "preds_alltoone_3 = pd.read_csv(\"../results/GCN/test_dmg777k_all-to-one_final/dmg777k_3/predictions_test.csv\")\n",
    "preds_alltoone_4 = pd.read_csv(\"../results/GCN/test_dmg777k_all-to-one_final/dmg777k_4/predictions_test.csv\")\n",
    "preds_alltoone_5 = pd.read_csv(\"../results/GCN/test_dmg777k_all-to-one_final/dmg777k_5/predictions_test.csv\")\n",
    "preds_alltoone_6 = pd.read_csv(\"../results/GCN/test_dmg777k_all-to-one_final/dmg777k_6/predictions_test.csv\")\n",
    "preds_alltoone_7 = pd.read_csv(\"../results/GCN/test_dmg777k_all-to-one_final/dmg777k_7/predictions_test.csv\")\n",
    "preds_alltoone_8 = pd.read_csv(\"../results/GCN/test_dmg777k_all-to-one_final/dmg777k_8/predictions_test.csv\")\n",
    "preds_alltoone_9 = pd.read_csv(\"../results/GCN/test_dmg777k_all-to-one_final/dmg777k_9/predictions_test.csv\")\n",
    "preds_alltoone_10 = pd.read_csv(\"../results/GCN/test_dmg777k_all-to-one_final/dmg777k_10/predictions_test.csv\")\n",
    "\n",
    "preds_collapsed_1 = pd.read_csv(\"../results/GCN/test_dmg777k_collapsed_final/dmg777k_1/predictions_test.csv\")\n",
    "preds_collapsed_2 = pd.read_csv(\"../results/GCN/test_dmg777k_collapsed_final/dmg777k_2/predictions_test.csv\")\n",
    "preds_collapsed_3 = pd.read_csv(\"../results/GCN/test_dmg777k_collapsed_final/dmg777k_3/predictions_test.csv\")\n",
    "preds_collapsed_4 = pd.read_csv(\"../results/GCN/test_dmg777k_collapsed_final/dmg777k_4/predictions_test.csv\")\n",
    "preds_collapsed_5 = pd.read_csv(\"../results/GCN/test_dmg777k_collapsed_final/dmg777k_5/predictions_test.csv\")\n",
    "preds_collapsed_6 = pd.read_csv(\"../results/GCN/test_dmg777k_collapsed_final/dmg777k_6/predictions_test.csv\")\n",
    "preds_collapsed_7 = pd.read_csv(\"../results/GCN/test_dmg777k_collapsed_final/dmg777k_7/predictions_test.csv\")\n",
    "preds_collapsed_8 = pd.read_csv(\"../results/GCN/test_dmg777k_collapsed_final/dmg777k_8/predictions_test.csv\")\n",
    "preds_collapsed_9 = pd.read_csv(\"../results/GCN/test_dmg777k_collapsed_final/dmg777k_9/predictions_test.csv\")\n",
    "preds_collapsed_10 = pd.read_csv(\"../results/GCN/test_dmg777k_collapsed_final/dmg777k_10/predictions_test.csv\")\n",
    "\n",
    "preds_separate_1 = pd.read_csv(\"../results/GCN/test_dmg777k_separate_final/dmg777k_1/predictions_test.csv\")\n",
    "preds_separate_2 = pd.read_csv(\"../results/GCN/test_dmg777k_separate_final/dmg777k_2/predictions_test.csv\")\n",
    "preds_separate_3 = pd.read_csv(\"../results/GCN/test_dmg777k_separate_final/dmg777k_3/predictions_test.csv\")\n",
    "preds_separate_4 = pd.read_csv(\"../results/GCN/test_dmg777k_separate_final/dmg777k_4/predictions_test.csv\")\n",
    "preds_separate_5 = pd.read_csv(\"../results/GCN/test_dmg777k_separate_final/dmg777k_5/predictions_test.csv\")\n",
    "preds_separate_6 = pd.read_csv(\"../results/GCN/test_dmg777k_separate_final/dmg777k_6/predictions_test.csv\")\n",
    "preds_separate_7 = pd.read_csv(\"../results/GCN/test_dmg777k_separate_final/dmg777k_7/predictions_test.csv\")\n",
    "preds_separate_8 = pd.read_csv(\"../results/GCN/test_dmg777k_separate_final/dmg777k_8/predictions_test.csv\")\n",
    "preds_separate_9 = pd.read_csv(\"../results/GCN/test_dmg777k_separate_final/dmg777k_9/predictions_test.csv\")\n",
    "preds_separate_10 = pd.read_csv(\"../results/GCN/test_dmg777k_separate_final/dmg777k_10/predictions_test.csv\")"
   ]
  },
  {
   "cell_type": "code",
   "execution_count": 13,
   "id": "2984e2aa",
   "metadata": {},
   "outputs": [],
   "source": [
    "preds_filtered_1.rename(columns={\"PredictedLabel\":\"P1\"}, inplace=True)\n",
    "preds_filtered_2.rename(columns={\"PredictedLabel\":\"P2\"}, inplace=True)\n",
    "preds_filtered_3.rename(columns={\"PredictedLabel\":\"P3\"}, inplace=True)\n",
    "preds_filtered_4.rename(columns={\"PredictedLabel\":\"P4\"}, inplace=True)\n",
    "preds_filtered_5.rename(columns={\"PredictedLabel\":\"P5\"}, inplace=True)\n",
    "preds_filtered_6.rename(columns={\"PredictedLabel\":\"P6\"}, inplace=True)\n",
    "preds_filtered_7.rename(columns={\"PredictedLabel\":\"P7\"}, inplace=True)\n",
    "preds_filtered_8.rename(columns={\"PredictedLabel\":\"P8\"}, inplace=True)\n",
    "preds_filtered_9.rename(columns={\"PredictedLabel\":\"P9\"}, inplace=True)\n",
    "preds_filtered_10.rename(columns={\"PredictedLabel\":\"P10\"}, inplace=True)\n",
    "\n",
    "preds_alltoone_1.rename(columns={\"PredictedLabel\":\"P1\"}, inplace=True)\n",
    "preds_alltoone_2.rename(columns={\"PredictedLabel\":\"P2\"}, inplace=True)\n",
    "preds_alltoone_3.rename(columns={\"PredictedLabel\":\"P3\"}, inplace=True)\n",
    "preds_alltoone_4.rename(columns={\"PredictedLabel\":\"P4\"}, inplace=True)\n",
    "preds_alltoone_5.rename(columns={\"PredictedLabel\":\"P5\"}, inplace=True)\n",
    "preds_alltoone_6.rename(columns={\"PredictedLabel\":\"P6\"}, inplace=True)\n",
    "preds_alltoone_7.rename(columns={\"PredictedLabel\":\"P7\"}, inplace=True)\n",
    "preds_alltoone_8.rename(columns={\"PredictedLabel\":\"P8\"}, inplace=True)\n",
    "preds_alltoone_9.rename(columns={\"PredictedLabel\":\"P9\"}, inplace=True)\n",
    "preds_alltoone_10.rename(columns={\"PredictedLabel\":\"P10\"}, inplace=True)\n",
    "\n",
    "preds_collapsed_1.rename(columns={\"PredictedLabel\":\"P1\"}, inplace=True)\n",
    "preds_collapsed_2.rename(columns={\"PredictedLabel\":\"P2\"}, inplace=True)\n",
    "preds_collapsed_3.rename(columns={\"PredictedLabel\":\"P3\"}, inplace=True)\n",
    "preds_collapsed_4.rename(columns={\"PredictedLabel\":\"P4\"}, inplace=True)\n",
    "preds_collapsed_5.rename(columns={\"PredictedLabel\":\"P5\"}, inplace=True)\n",
    "preds_collapsed_6.rename(columns={\"PredictedLabel\":\"P6\"}, inplace=True)\n",
    "preds_collapsed_7.rename(columns={\"PredictedLabel\":\"P7\"}, inplace=True)\n",
    "preds_collapsed_8.rename(columns={\"PredictedLabel\":\"P8\"}, inplace=True)\n",
    "preds_collapsed_9.rename(columns={\"PredictedLabel\":\"P9\"}, inplace=True)\n",
    "preds_collapsed_10.rename(columns={\"PredictedLabel\":\"P10\"}, inplace=True)\n",
    "\n",
    "preds_separate_1.rename(columns={\"PredictedLabel\":\"P1\"}, inplace=True)\n",
    "preds_separate_2.rename(columns={\"PredictedLabel\":\"P2\"}, inplace=True)\n",
    "preds_separate_3.rename(columns={\"PredictedLabel\":\"P3\"}, inplace=True)\n",
    "preds_separate_4.rename(columns={\"PredictedLabel\":\"P4\"}, inplace=True)\n",
    "preds_separate_5.rename(columns={\"PredictedLabel\":\"P5\"}, inplace=True)\n",
    "preds_separate_6.rename(columns={\"PredictedLabel\":\"P6\"}, inplace=True)\n",
    "preds_separate_7.rename(columns={\"PredictedLabel\":\"P7\"}, inplace=True)\n",
    "preds_separate_8.rename(columns={\"PredictedLabel\":\"P8\"}, inplace=True)\n",
    "preds_separate_9.rename(columns={\"PredictedLabel\":\"P9\"}, inplace=True)\n",
    "preds_separate_10.rename(columns={\"PredictedLabel\":\"P10\"}, inplace=True)"
   ]
  },
  {
   "cell_type": "code",
   "execution_count": 14,
   "id": "42652e05",
   "metadata": {},
   "outputs": [],
   "source": [
    "predictions_all_filtered = preds_filtered_1\n",
    "\n",
    "for dataframe in [preds_filtered_2, preds_filtered_3, preds_filtered_4, preds_filtered_5, preds_filtered_6, preds_filtered_7, preds_filtered_8, preds_filtered_9, preds_filtered_10]:\n",
    "    predictions_all_filtered= pd.merge(predictions_all_filtered, dataframe)\n",
    "                                      \n",
    "predictions_all_filtered.set_index('ID', inplace=True)\n",
    "\n",
    "# ----------------\n",
    "\n",
    "predictions_all_alltoone = preds_alltoone_1\n",
    "\n",
    "for dataframe in [preds_alltoone_2, preds_alltoone_3, preds_alltoone_4, preds_alltoone_5, preds_alltoone_6, preds_alltoone_7, preds_alltoone_8, preds_alltoone_9, preds_alltoone_10]:\n",
    "    predictions_all_alltoone= pd.merge(predictions_all_alltoone, dataframe)\n",
    "                                      \n",
    "predictions_all_alltoone.set_index('ID', inplace=True)\n",
    "\n",
    "# ----------------\n",
    "\n",
    "predictions_all_collapsed = preds_collapsed_1\n",
    "\n",
    "for dataframe in [preds_collapsed_2, preds_collapsed_3, preds_collapsed_4, preds_collapsed_5, preds_collapsed_6, preds_collapsed_7, preds_collapsed_8, preds_collapsed_9, preds_collapsed_10]:\n",
    "    predictions_all_collapsed = pd.merge(predictions_all_collapsed, dataframe)\n",
    "                                      \n",
    "predictions_all_collapsed.set_index('ID', inplace=True)\n",
    "\n",
    "# ----------------\n",
    "\n",
    "predictions_all_separate = preds_separate_1\n",
    "\n",
    "for dataframe in [preds_separate_2, preds_separate_3, preds_separate_4, preds_separate_5, preds_separate_6, preds_separate_7, preds_separate_8, preds_separate_9, preds_separate_10]:\n",
    "    predictions_all_separate = pd.merge(predictions_all_separate, dataframe)\n",
    "                                      \n",
    "predictions_all_separate.set_index('ID', inplace=True)"
   ]
  },
  {
   "cell_type": "code",
   "execution_count": 15,
   "id": "54dd0068",
   "metadata": {},
   "outputs": [],
   "source": [
    "predictions_filtered_mode = predictions_all_filtered[['P1', 'P2', 'P3', 'P4', 'P5', 'P6', 'P7', 'P8', 'P9', 'P10']].mode(axis='columns')\n",
    "predictions_alltoone_mode = predictions_all_alltoone[['P1', 'P2', 'P3', 'P4', 'P5', 'P6', 'P7', 'P8', 'P9', 'P10']].mode(axis='columns')\n",
    "predictions_collapsed_mode = predictions_all_collapsed[['P1', 'P2', 'P3', 'P4', 'P5', 'P6', 'P7', 'P8', 'P9', 'P10']].mode(axis='columns')\n",
    "predictions_separate_mode = predictions_all_separate[['P1', 'P2', 'P3', 'P4', 'P5', 'P6', 'P7', 'P8', 'P9', 'P10']].mode(axis='columns')"
   ]
  },
  {
   "cell_type": "code",
   "execution_count": 16,
   "id": "5a3fa215",
   "metadata": {},
   "outputs": [
    {
     "name": "stdout",
     "output_type": "stream",
     "text": [
      "(2001, 2)\n",
      "(2001, 2)\n",
      "(2001, 2)\n",
      "(2001, 2)\n"
     ]
    }
   ],
   "source": [
    "print(predictions_filtered_mode.shape)\n",
    "print(predictions_alltoone_mode.shape)\n",
    "print(predictions_collapsed_mode.shape)\n",
    "print(predictions_separate_mode.shape)"
   ]
  },
  {
   "cell_type": "code",
   "execution_count": 17,
   "id": "d27e3e30",
   "metadata": {},
   "outputs": [],
   "source": [
    "def make_choice(col_0, col_1):\n",
    "    if not math.isnan(col_1) and random.choice([0,1]) == 1:\n",
    "        return int(col_1)\n",
    "    else:\n",
    "        return int(col_0)\n",
    "\n",
    "predictions_all_filtered['MJ'] = predictions_filtered_mode.apply(lambda x: make_choice(col_0=x[0], col_1 = x[1]), axis=1)\n",
    "predictions_all_alltoone['MJ'] = predictions_alltoone_mode.apply(lambda x: make_choice(col_0=x[0], col_1 = x[1]), axis=1)\n",
    "predictions_all_collapsed['MJ'] = predictions_collapsed_mode.apply(lambda x: make_choice(col_0=x[0], col_1 = x[1]), axis=1)\n",
    "predictions_all_separate['MJ'] = predictions_separate_mode.apply(lambda x: make_choice(col_0=x[0], col_1 = x[1]), axis=1)"
   ]
  },
  {
   "cell_type": "code",
   "execution_count": 18,
   "id": "a0baec7b",
   "metadata": {},
   "outputs": [
    {
     "name": "stdout",
     "output_type": "stream",
     "text": [
      "{'https://data.labs.pdok.nl/rce/def/agrarischGebouw': 0, 'https://data.labs.pdok.nl/rce/def/woonhuis': 1, 'https://data.labs.pdok.nl/rce/def/molen': 2, 'https://data.labs.pdok.nl/rce/def/kasteelLandhuis': 3, 'https://data.labs.pdok.nl/rce/def/kerk': 4}\n",
      "\n",
      "{'https://data.labs.pdok.nl/rce/def/woonhuis': 0, 'https://data.labs.pdok.nl/rce/def/agrarischGebouw': 1, 'https://data.labs.pdok.nl/rce/def/molen': 2, 'https://data.labs.pdok.nl/rce/def/kasteelLandhuis': 3, 'https://data.labs.pdok.nl/rce/def/kerk': 4}\n",
      "\n",
      "{'https://data.labs.pdok.nl/rce/def/kerk': 0, 'https://data.labs.pdok.nl/rce/def/woonhuis': 1, 'https://data.labs.pdok.nl/rce/def/molen': 2, 'https://data.labs.pdok.nl/rce/def/agrarischGebouw': 3, 'https://data.labs.pdok.nl/rce/def/kasteelLandhuis': 4}\n",
      "\n",
      "{'https://data.labs.pdok.nl/rce/def/agrarischGebouw': 0, 'https://data.labs.pdok.nl/rce/def/woonhuis': 1, 'https://data.labs.pdok.nl/rce/def/molen': 2, 'https://data.labs.pdok.nl/rce/def/kerk': 3, 'https://data.labs.pdok.nl/rce/def/kasteelLandhuis': 4}\n",
      "\n"
     ]
    }
   ],
   "source": [
    "# these will all be different because they were read in differently:\n",
    "\n",
    "filtered_file = open(\"../results/GCN/test_dmg777k_filtered_final/label_mapping.json\")\n",
    "filtered_mapping = json.load(filtered_file)\n",
    "print(filtered_mapping)\n",
    "print()\n",
    "\n",
    "alltoone_file = open(\"../results/GCN/test_dmg777k_all-to-one_final/label_mapping.json\")\n",
    "alltoone_mapping = json.load(alltoone_file)\n",
    "print(alltoone_mapping)\n",
    "print()\n",
    "\n",
    "collapsed_file = open(\"../results/GCN/test_dmg777k_collapsed_final/label_mapping.json\")\n",
    "collapsed_mapping = json.load(collapsed_file)\n",
    "print(collapsed_mapping)\n",
    "print()\n",
    "\n",
    "separate_file = open(\"../results/GCN/test_dmg777k_separate_final/label_mapping.json\")\n",
    "separate_mapping = json.load(separate_file)\n",
    "print(separate_mapping)\n",
    "print()"
   ]
  },
  {
   "cell_type": "code",
   "execution_count": 19,
   "id": "72d3429c",
   "metadata": {},
   "outputs": [],
   "source": [
    "# revert these (so we can turn the mapping back around!)\n",
    "filtered_mapping_rev = {value: key for key, value in filtered_mapping.items()}\n",
    "alltoone_mapping_rev = {value: key for key, value in alltoone_mapping.items()}\n",
    "collapsed_mapping_rev = {value: key for key, value in collapsed_mapping.items()}\n",
    "separate_mapping_rev = {value: key for key, value in separate_mapping.items()}"
   ]
  },
  {
   "cell_type": "code",
   "execution_count": 20,
   "id": "1f984121",
   "metadata": {},
   "outputs": [],
   "source": [
    "# change it back to the original classes:\n",
    "predictions_all_filtered['MJ_fil'] = predictions_all_filtered['MJ'].map(filtered_mapping_rev)\n",
    "predictions_all_alltoone['MJ_ato'] = predictions_all_alltoone['MJ'].map(alltoone_mapping_rev)\n",
    "predictions_all_collapsed['MJ_col'] = predictions_all_collapsed['MJ'].map(collapsed_mapping_rev)\n",
    "predictions_all_separate['MJ_sep'] = predictions_all_separate['MJ'].map(separate_mapping_rev)"
   ]
  },
  {
   "cell_type": "code",
   "execution_count": 21,
   "id": "de8e320b",
   "metadata": {},
   "outputs": [],
   "source": [
    "# put the actual entities as the index for everything!\n",
    "predictions_all_filtered.set_index('Entity', inplace=True)\n",
    "predictions_all_alltoone.set_index('Entity', inplace=True)\n",
    "predictions_all_collapsed.set_index('Entity', inplace=True)\n",
    "predictions_all_separate.set_index('Entity', inplace=True)"
   ]
  },
  {
   "cell_type": "code",
   "execution_count": 22,
   "id": "10aebeb2",
   "metadata": {},
   "outputs": [
    {
     "data": {
      "text/html": [
       "<div>\n",
       "<style scoped>\n",
       "    .dataframe tbody tr th:only-of-type {\n",
       "        vertical-align: middle;\n",
       "    }\n",
       "\n",
       "    .dataframe tbody tr th {\n",
       "        vertical-align: top;\n",
       "    }\n",
       "\n",
       "    .dataframe thead th {\n",
       "        text-align: right;\n",
       "    }\n",
       "</style>\n",
       "<table border=\"1\" class=\"dataframe\">\n",
       "  <thead>\n",
       "    <tr style=\"text-align: right;\">\n",
       "      <th></th>\n",
       "      <th>P1</th>\n",
       "      <th>TrueLabel</th>\n",
       "      <th>P2</th>\n",
       "      <th>P3</th>\n",
       "      <th>P4</th>\n",
       "      <th>P5</th>\n",
       "      <th>P6</th>\n",
       "      <th>P7</th>\n",
       "      <th>P8</th>\n",
       "      <th>P9</th>\n",
       "      <th>P10</th>\n",
       "      <th>MJ</th>\n",
       "      <th>MJ_fil</th>\n",
       "    </tr>\n",
       "    <tr>\n",
       "      <th>Entity</th>\n",
       "      <th></th>\n",
       "      <th></th>\n",
       "      <th></th>\n",
       "      <th></th>\n",
       "      <th></th>\n",
       "      <th></th>\n",
       "      <th></th>\n",
       "      <th></th>\n",
       "      <th></th>\n",
       "      <th></th>\n",
       "      <th></th>\n",
       "      <th></th>\n",
       "      <th></th>\n",
       "    </tr>\n",
       "  </thead>\n",
       "  <tbody>\n",
       "    <tr>\n",
       "      <th>https://data.labs.pdok.nl/rce/id/monument/38900</th>\n",
       "      <td>1</td>\n",
       "      <td>0</td>\n",
       "      <td>1</td>\n",
       "      <td>1</td>\n",
       "      <td>1</td>\n",
       "      <td>1</td>\n",
       "      <td>1</td>\n",
       "      <td>1</td>\n",
       "      <td>1</td>\n",
       "      <td>1</td>\n",
       "      <td>1</td>\n",
       "      <td>1</td>\n",
       "      <td>https://data.labs.pdok.nl/rce/def/woonhuis</td>\n",
       "    </tr>\n",
       "    <tr>\n",
       "      <th>https://data.labs.pdok.nl/rce/id/monument/39234</th>\n",
       "      <td>1</td>\n",
       "      <td>1</td>\n",
       "      <td>1</td>\n",
       "      <td>1</td>\n",
       "      <td>1</td>\n",
       "      <td>1</td>\n",
       "      <td>1</td>\n",
       "      <td>1</td>\n",
       "      <td>1</td>\n",
       "      <td>1</td>\n",
       "      <td>1</td>\n",
       "      <td>1</td>\n",
       "      <td>https://data.labs.pdok.nl/rce/def/woonhuis</td>\n",
       "    </tr>\n",
       "    <tr>\n",
       "      <th>https://data.labs.pdok.nl/rce/id/monument/514470</th>\n",
       "      <td>1</td>\n",
       "      <td>1</td>\n",
       "      <td>1</td>\n",
       "      <td>1</td>\n",
       "      <td>1</td>\n",
       "      <td>1</td>\n",
       "      <td>1</td>\n",
       "      <td>1</td>\n",
       "      <td>1</td>\n",
       "      <td>1</td>\n",
       "      <td>1</td>\n",
       "      <td>1</td>\n",
       "      <td>https://data.labs.pdok.nl/rce/def/woonhuis</td>\n",
       "    </tr>\n",
       "    <tr>\n",
       "      <th>https://data.labs.pdok.nl/rce/id/monument/41931</th>\n",
       "      <td>0</td>\n",
       "      <td>2</td>\n",
       "      <td>0</td>\n",
       "      <td>0</td>\n",
       "      <td>0</td>\n",
       "      <td>1</td>\n",
       "      <td>0</td>\n",
       "      <td>0</td>\n",
       "      <td>0</td>\n",
       "      <td>0</td>\n",
       "      <td>0</td>\n",
       "      <td>0</td>\n",
       "      <td>https://data.labs.pdok.nl/rce/def/agrarischGebouw</td>\n",
       "    </tr>\n",
       "    <tr>\n",
       "      <th>https://data.labs.pdok.nl/rce/id/monument/507219</th>\n",
       "      <td>1</td>\n",
       "      <td>1</td>\n",
       "      <td>1</td>\n",
       "      <td>1</td>\n",
       "      <td>1</td>\n",
       "      <td>1</td>\n",
       "      <td>1</td>\n",
       "      <td>1</td>\n",
       "      <td>1</td>\n",
       "      <td>1</td>\n",
       "      <td>1</td>\n",
       "      <td>1</td>\n",
       "      <td>https://data.labs.pdok.nl/rce/def/woonhuis</td>\n",
       "    </tr>\n",
       "  </tbody>\n",
       "</table>\n",
       "</div>"
      ],
      "text/plain": [
       "                                                  P1  TrueLabel  P2  P3  P4  \\\n",
       "Entity                                                                        \n",
       "https://data.labs.pdok.nl/rce/id/monument/38900    1          0   1   1   1   \n",
       "https://data.labs.pdok.nl/rce/id/monument/39234    1          1   1   1   1   \n",
       "https://data.labs.pdok.nl/rce/id/monument/514470   1          1   1   1   1   \n",
       "https://data.labs.pdok.nl/rce/id/monument/41931    0          2   0   0   0   \n",
       "https://data.labs.pdok.nl/rce/id/monument/507219   1          1   1   1   1   \n",
       "\n",
       "                                                  P5  P6  P7  P8  P9  P10  MJ  \\\n",
       "Entity                                                                          \n",
       "https://data.labs.pdok.nl/rce/id/monument/38900    1   1   1   1   1    1   1   \n",
       "https://data.labs.pdok.nl/rce/id/monument/39234    1   1   1   1   1    1   1   \n",
       "https://data.labs.pdok.nl/rce/id/monument/514470   1   1   1   1   1    1   1   \n",
       "https://data.labs.pdok.nl/rce/id/monument/41931    1   0   0   0   0    0   0   \n",
       "https://data.labs.pdok.nl/rce/id/monument/507219   1   1   1   1   1    1   1   \n",
       "\n",
       "                                                                                             MJ_fil  \n",
       "Entity                                                                                               \n",
       "https://data.labs.pdok.nl/rce/id/monument/38900          https://data.labs.pdok.nl/rce/def/woonhuis  \n",
       "https://data.labs.pdok.nl/rce/id/monument/39234          https://data.labs.pdok.nl/rce/def/woonhuis  \n",
       "https://data.labs.pdok.nl/rce/id/monument/514470         https://data.labs.pdok.nl/rce/def/woonhuis  \n",
       "https://data.labs.pdok.nl/rce/id/monument/41931   https://data.labs.pdok.nl/rce/def/agrarischGebouw  \n",
       "https://data.labs.pdok.nl/rce/id/monument/507219         https://data.labs.pdok.nl/rce/def/woonhuis  "
      ]
     },
     "execution_count": 22,
     "metadata": {},
     "output_type": "execute_result"
    }
   ],
   "source": [
    "predictions_all_filtered.head(5)"
   ]
  },
  {
   "cell_type": "code",
   "execution_count": 23,
   "id": "aea88956",
   "metadata": {},
   "outputs": [
    {
     "data": {
      "text/html": [
       "<div>\n",
       "<style scoped>\n",
       "    .dataframe tbody tr th:only-of-type {\n",
       "        vertical-align: middle;\n",
       "    }\n",
       "\n",
       "    .dataframe tbody tr th {\n",
       "        vertical-align: top;\n",
       "    }\n",
       "\n",
       "    .dataframe thead th {\n",
       "        text-align: right;\n",
       "    }\n",
       "</style>\n",
       "<table border=\"1\" class=\"dataframe\">\n",
       "  <thead>\n",
       "    <tr style=\"text-align: right;\">\n",
       "      <th></th>\n",
       "      <th>filtered</th>\n",
       "      <th>all-to-one</th>\n",
       "      <th>collapsed</th>\n",
       "      <th>separate</th>\n",
       "    </tr>\n",
       "    <tr>\n",
       "      <th>Entity</th>\n",
       "      <th></th>\n",
       "      <th></th>\n",
       "      <th></th>\n",
       "      <th></th>\n",
       "    </tr>\n",
       "  </thead>\n",
       "  <tbody>\n",
       "    <tr>\n",
       "      <th>https://data.labs.pdok.nl/rce/id/monument/38900</th>\n",
       "      <td>https://data.labs.pdok.nl/rce/def/woonhuis</td>\n",
       "      <td>https://data.labs.pdok.nl/rce/def/woonhuis</td>\n",
       "      <td>https://data.labs.pdok.nl/rce/def/woonhuis</td>\n",
       "      <td>https://data.labs.pdok.nl/rce/def/woonhuis</td>\n",
       "    </tr>\n",
       "    <tr>\n",
       "      <th>https://data.labs.pdok.nl/rce/id/monument/39234</th>\n",
       "      <td>https://data.labs.pdok.nl/rce/def/woonhuis</td>\n",
       "      <td>https://data.labs.pdok.nl/rce/def/woonhuis</td>\n",
       "      <td>https://data.labs.pdok.nl/rce/def/woonhuis</td>\n",
       "      <td>https://data.labs.pdok.nl/rce/def/woonhuis</td>\n",
       "    </tr>\n",
       "    <tr>\n",
       "      <th>https://data.labs.pdok.nl/rce/id/monument/514470</th>\n",
       "      <td>https://data.labs.pdok.nl/rce/def/woonhuis</td>\n",
       "      <td>https://data.labs.pdok.nl/rce/def/woonhuis</td>\n",
       "      <td>https://data.labs.pdok.nl/rce/def/woonhuis</td>\n",
       "      <td>https://data.labs.pdok.nl/rce/def/woonhuis</td>\n",
       "    </tr>\n",
       "    <tr>\n",
       "      <th>https://data.labs.pdok.nl/rce/id/monument/41931</th>\n",
       "      <td>https://data.labs.pdok.nl/rce/def/agrarischGebouw</td>\n",
       "      <td>https://data.labs.pdok.nl/rce/def/agrarischGebouw</td>\n",
       "      <td>https://data.labs.pdok.nl/rce/def/woonhuis</td>\n",
       "      <td>https://data.labs.pdok.nl/rce/def/agrarischGebouw</td>\n",
       "    </tr>\n",
       "    <tr>\n",
       "      <th>https://data.labs.pdok.nl/rce/id/monument/507219</th>\n",
       "      <td>https://data.labs.pdok.nl/rce/def/woonhuis</td>\n",
       "      <td>https://data.labs.pdok.nl/rce/def/woonhuis</td>\n",
       "      <td>https://data.labs.pdok.nl/rce/def/woonhuis</td>\n",
       "      <td>https://data.labs.pdok.nl/rce/def/woonhuis</td>\n",
       "    </tr>\n",
       "  </tbody>\n",
       "</table>\n",
       "</div>"
      ],
      "text/plain": [
       "                                                                                           filtered  \\\n",
       "Entity                                                                                                \n",
       "https://data.labs.pdok.nl/rce/id/monument/38900          https://data.labs.pdok.nl/rce/def/woonhuis   \n",
       "https://data.labs.pdok.nl/rce/id/monument/39234          https://data.labs.pdok.nl/rce/def/woonhuis   \n",
       "https://data.labs.pdok.nl/rce/id/monument/514470         https://data.labs.pdok.nl/rce/def/woonhuis   \n",
       "https://data.labs.pdok.nl/rce/id/monument/41931   https://data.labs.pdok.nl/rce/def/agrarischGebouw   \n",
       "https://data.labs.pdok.nl/rce/id/monument/507219         https://data.labs.pdok.nl/rce/def/woonhuis   \n",
       "\n",
       "                                                                                         all-to-one  \\\n",
       "Entity                                                                                                \n",
       "https://data.labs.pdok.nl/rce/id/monument/38900          https://data.labs.pdok.nl/rce/def/woonhuis   \n",
       "https://data.labs.pdok.nl/rce/id/monument/39234          https://data.labs.pdok.nl/rce/def/woonhuis   \n",
       "https://data.labs.pdok.nl/rce/id/monument/514470         https://data.labs.pdok.nl/rce/def/woonhuis   \n",
       "https://data.labs.pdok.nl/rce/id/monument/41931   https://data.labs.pdok.nl/rce/def/agrarischGebouw   \n",
       "https://data.labs.pdok.nl/rce/id/monument/507219         https://data.labs.pdok.nl/rce/def/woonhuis   \n",
       "\n",
       "                                                                                   collapsed  \\\n",
       "Entity                                                                                         \n",
       "https://data.labs.pdok.nl/rce/id/monument/38900   https://data.labs.pdok.nl/rce/def/woonhuis   \n",
       "https://data.labs.pdok.nl/rce/id/monument/39234   https://data.labs.pdok.nl/rce/def/woonhuis   \n",
       "https://data.labs.pdok.nl/rce/id/monument/514470  https://data.labs.pdok.nl/rce/def/woonhuis   \n",
       "https://data.labs.pdok.nl/rce/id/monument/41931   https://data.labs.pdok.nl/rce/def/woonhuis   \n",
       "https://data.labs.pdok.nl/rce/id/monument/507219  https://data.labs.pdok.nl/rce/def/woonhuis   \n",
       "\n",
       "                                                                                           separate  \n",
       "Entity                                                                                               \n",
       "https://data.labs.pdok.nl/rce/id/monument/38900          https://data.labs.pdok.nl/rce/def/woonhuis  \n",
       "https://data.labs.pdok.nl/rce/id/monument/39234          https://data.labs.pdok.nl/rce/def/woonhuis  \n",
       "https://data.labs.pdok.nl/rce/id/monument/514470         https://data.labs.pdok.nl/rce/def/woonhuis  \n",
       "https://data.labs.pdok.nl/rce/id/monument/41931   https://data.labs.pdok.nl/rce/def/agrarischGebouw  \n",
       "https://data.labs.pdok.nl/rce/id/monument/507219         https://data.labs.pdok.nl/rce/def/woonhuis  "
      ]
     },
     "execution_count": 23,
     "metadata": {},
     "output_type": "execute_result"
    }
   ],
   "source": [
    "# now, link everything to their actual entity and add everything in one dataframe --> then we can start comparing!\n",
    "all_predictions = pd.concat([predictions_all_filtered['MJ_fil'], predictions_all_alltoone['MJ_ato'], predictions_all_collapsed['MJ_col'], predictions_all_separate['MJ_sep']], axis=1, keys=['filtered', 'all-to-one', 'collapsed', 'separate'])\n",
    "all_predictions.head(5)"
   ]
  },
  {
   "cell_type": "code",
   "execution_count": 24,
   "id": "23d1f17c",
   "metadata": {},
   "outputs": [],
   "source": [
    "official_mapping = {'https://data.labs.pdok.nl/rce/def/agrarischGebouw': 0, 'https://data.labs.pdok.nl/rce/def/woonhuis': 1, 'https://data.labs.pdok.nl/rce/def/molen': 2, 'https://data.labs.pdok.nl/rce/def/kasteelLandhuis': 3, 'https://data.labs.pdok.nl/rce/def/kerk': 4}"
   ]
  },
  {
   "cell_type": "code",
   "execution_count": 25,
   "id": "177e10c7",
   "metadata": {},
   "outputs": [],
   "source": [
    "all_predictions['filtered'] = all_predictions['filtered'].map(official_mapping)\n",
    "all_predictions['all-to-one'] = all_predictions['all-to-one'].map(official_mapping)\n",
    "all_predictions['collapsed'] = all_predictions['collapsed'].map(official_mapping)\n",
    "all_predictions['separate'] = all_predictions['separate'].map(official_mapping)"
   ]
  },
  {
   "cell_type": "code",
   "execution_count": 26,
   "id": "671b6aec",
   "metadata": {},
   "outputs": [],
   "source": [
    "true_lab = predictions_all_filtered['TrueLabel'].map(filtered_mapping_rev)\n",
    "all_predictions['true_label'] = true_lab.map(official_mapping)"
   ]
  },
  {
   "cell_type": "code",
   "execution_count": 27,
   "id": "85244abb",
   "metadata": {},
   "outputs": [
    {
     "data": {
      "text/html": [
       "<div>\n",
       "<style scoped>\n",
       "    .dataframe tbody tr th:only-of-type {\n",
       "        vertical-align: middle;\n",
       "    }\n",
       "\n",
       "    .dataframe tbody tr th {\n",
       "        vertical-align: top;\n",
       "    }\n",
       "\n",
       "    .dataframe thead th {\n",
       "        text-align: right;\n",
       "    }\n",
       "</style>\n",
       "<table border=\"1\" class=\"dataframe\">\n",
       "  <thead>\n",
       "    <tr style=\"text-align: right;\">\n",
       "      <th></th>\n",
       "      <th>filtered</th>\n",
       "      <th>all-to-one</th>\n",
       "      <th>collapsed</th>\n",
       "      <th>separate</th>\n",
       "      <th>true_label</th>\n",
       "    </tr>\n",
       "    <tr>\n",
       "      <th>Entity</th>\n",
       "      <th></th>\n",
       "      <th></th>\n",
       "      <th></th>\n",
       "      <th></th>\n",
       "      <th></th>\n",
       "    </tr>\n",
       "  </thead>\n",
       "  <tbody>\n",
       "    <tr>\n",
       "      <th>https://data.labs.pdok.nl/rce/id/monument/38900</th>\n",
       "      <td>1</td>\n",
       "      <td>1</td>\n",
       "      <td>1</td>\n",
       "      <td>1</td>\n",
       "      <td>0</td>\n",
       "    </tr>\n",
       "    <tr>\n",
       "      <th>https://data.labs.pdok.nl/rce/id/monument/39234</th>\n",
       "      <td>1</td>\n",
       "      <td>1</td>\n",
       "      <td>1</td>\n",
       "      <td>1</td>\n",
       "      <td>1</td>\n",
       "    </tr>\n",
       "    <tr>\n",
       "      <th>https://data.labs.pdok.nl/rce/id/monument/514470</th>\n",
       "      <td>1</td>\n",
       "      <td>1</td>\n",
       "      <td>1</td>\n",
       "      <td>1</td>\n",
       "      <td>1</td>\n",
       "    </tr>\n",
       "    <tr>\n",
       "      <th>https://data.labs.pdok.nl/rce/id/monument/41931</th>\n",
       "      <td>0</td>\n",
       "      <td>0</td>\n",
       "      <td>1</td>\n",
       "      <td>0</td>\n",
       "      <td>2</td>\n",
       "    </tr>\n",
       "    <tr>\n",
       "      <th>https://data.labs.pdok.nl/rce/id/monument/507219</th>\n",
       "      <td>1</td>\n",
       "      <td>1</td>\n",
       "      <td>1</td>\n",
       "      <td>1</td>\n",
       "      <td>1</td>\n",
       "    </tr>\n",
       "    <tr>\n",
       "      <th>https://data.labs.pdok.nl/rce/id/monument/450350</th>\n",
       "      <td>1</td>\n",
       "      <td>1</td>\n",
       "      <td>1</td>\n",
       "      <td>1</td>\n",
       "      <td>1</td>\n",
       "    </tr>\n",
       "    <tr>\n",
       "      <th>https://data.labs.pdok.nl/rce/id/monument/531077</th>\n",
       "      <td>0</td>\n",
       "      <td>0</td>\n",
       "      <td>1</td>\n",
       "      <td>1</td>\n",
       "      <td>2</td>\n",
       "    </tr>\n",
       "    <tr>\n",
       "      <th>https://data.labs.pdok.nl/rce/id/monument/512478</th>\n",
       "      <td>1</td>\n",
       "      <td>1</td>\n",
       "      <td>1</td>\n",
       "      <td>1</td>\n",
       "      <td>1</td>\n",
       "    </tr>\n",
       "    <tr>\n",
       "      <th>https://data.labs.pdok.nl/rce/id/monument/520273</th>\n",
       "      <td>1</td>\n",
       "      <td>1</td>\n",
       "      <td>1</td>\n",
       "      <td>1</td>\n",
       "      <td>4</td>\n",
       "    </tr>\n",
       "    <tr>\n",
       "      <th>https://data.labs.pdok.nl/rce/id/monument/39167</th>\n",
       "      <td>1</td>\n",
       "      <td>1</td>\n",
       "      <td>1</td>\n",
       "      <td>1</td>\n",
       "      <td>0</td>\n",
       "    </tr>\n",
       "  </tbody>\n",
       "</table>\n",
       "</div>"
      ],
      "text/plain": [
       "                                                  filtered  all-to-one  \\\n",
       "Entity                                                                   \n",
       "https://data.labs.pdok.nl/rce/id/monument/38900          1           1   \n",
       "https://data.labs.pdok.nl/rce/id/monument/39234          1           1   \n",
       "https://data.labs.pdok.nl/rce/id/monument/514470         1           1   \n",
       "https://data.labs.pdok.nl/rce/id/monument/41931          0           0   \n",
       "https://data.labs.pdok.nl/rce/id/monument/507219         1           1   \n",
       "https://data.labs.pdok.nl/rce/id/monument/450350         1           1   \n",
       "https://data.labs.pdok.nl/rce/id/monument/531077         0           0   \n",
       "https://data.labs.pdok.nl/rce/id/monument/512478         1           1   \n",
       "https://data.labs.pdok.nl/rce/id/monument/520273         1           1   \n",
       "https://data.labs.pdok.nl/rce/id/monument/39167          1           1   \n",
       "\n",
       "                                                  collapsed  separate  \\\n",
       "Entity                                                                  \n",
       "https://data.labs.pdok.nl/rce/id/monument/38900           1         1   \n",
       "https://data.labs.pdok.nl/rce/id/monument/39234           1         1   \n",
       "https://data.labs.pdok.nl/rce/id/monument/514470          1         1   \n",
       "https://data.labs.pdok.nl/rce/id/monument/41931           1         0   \n",
       "https://data.labs.pdok.nl/rce/id/monument/507219          1         1   \n",
       "https://data.labs.pdok.nl/rce/id/monument/450350          1         1   \n",
       "https://data.labs.pdok.nl/rce/id/monument/531077          1         1   \n",
       "https://data.labs.pdok.nl/rce/id/monument/512478          1         1   \n",
       "https://data.labs.pdok.nl/rce/id/monument/520273          1         1   \n",
       "https://data.labs.pdok.nl/rce/id/monument/39167           1         1   \n",
       "\n",
       "                                                  true_label  \n",
       "Entity                                                        \n",
       "https://data.labs.pdok.nl/rce/id/monument/38900            0  \n",
       "https://data.labs.pdok.nl/rce/id/monument/39234            1  \n",
       "https://data.labs.pdok.nl/rce/id/monument/514470           1  \n",
       "https://data.labs.pdok.nl/rce/id/monument/41931            2  \n",
       "https://data.labs.pdok.nl/rce/id/monument/507219           1  \n",
       "https://data.labs.pdok.nl/rce/id/monument/450350           1  \n",
       "https://data.labs.pdok.nl/rce/id/monument/531077           2  \n",
       "https://data.labs.pdok.nl/rce/id/monument/512478           1  \n",
       "https://data.labs.pdok.nl/rce/id/monument/520273           4  \n",
       "https://data.labs.pdok.nl/rce/id/monument/39167            0  "
      ]
     },
     "execution_count": 27,
     "metadata": {},
     "output_type": "execute_result"
    }
   ],
   "source": [
    "all_predictions.head(10)"
   ]
  },
  {
   "cell_type": "markdown",
   "id": "32854fd4",
   "metadata": {},
   "source": [
    "### Other tests (mlstats package):"
   ]
  },
  {
   "cell_type": "code",
   "execution_count": 28,
   "id": "8611c036",
   "metadata": {},
   "outputs": [
    {
     "name": "stdout",
     "output_type": "stream",
     "text": [
      "Number predicted classes in filtered:  3\n",
      "Number predicted classes in all-to-one:  2\n",
      "Number predicted classes in collapsed:  2\n",
      "Number predicted classes in separate:  2\n"
     ]
    }
   ],
   "source": [
    "print(\"Number predicted classes in filtered: \", len(np.unique(all_predictions['filtered'].to_numpy())))\n",
    "print(\"Number predicted classes in all-to-one: \", len(np.unique(all_predictions['all-to-one'].to_numpy())))\n",
    "print(\"Number predicted classes in collapsed: \", len(np.unique(all_predictions['collapsed'].to_numpy())))\n",
    "print(\"Number predicted classes in separate: \", len(np.unique(all_predictions['separate'].to_numpy())))"
   ]
  },
  {
   "cell_type": "code",
   "execution_count": 29,
   "id": "3cb4d640",
   "metadata": {},
   "outputs": [],
   "source": [
    "all_predictions_tf = all_predictions"
   ]
  },
  {
   "cell_type": "code",
   "execution_count": 30,
   "id": "8b449eaf",
   "metadata": {},
   "outputs": [],
   "source": [
    "def same(label, true_label):\n",
    "    return int(label == true_label)\n",
    "\n",
    "all_predictions_tf['filtered'] = all_predictions.apply(lambda x: same(x['filtered'], x['true_label']), axis=1)\n",
    "all_predictions_tf['all-to-one'] = all_predictions.apply(lambda x: same(x['all-to-one'], x['true_label']), axis=1)\n",
    "all_predictions_tf['collapsed'] = all_predictions.apply(lambda x: same(x['collapsed'], x['true_label']), axis=1)\n",
    "all_predictions_tf['separate'] = all_predictions.apply(lambda x: same(x['separate'], x['true_label']), axis=1)"
   ]
  },
  {
   "cell_type": "code",
   "execution_count": 31,
   "id": "c86a0290",
   "metadata": {
    "scrolled": false
   },
   "outputs": [
    {
     "data": {
      "text/html": [
       "<div>\n",
       "<style scoped>\n",
       "    .dataframe tbody tr th:only-of-type {\n",
       "        vertical-align: middle;\n",
       "    }\n",
       "\n",
       "    .dataframe tbody tr th {\n",
       "        vertical-align: top;\n",
       "    }\n",
       "\n",
       "    .dataframe thead th {\n",
       "        text-align: right;\n",
       "    }\n",
       "</style>\n",
       "<table border=\"1\" class=\"dataframe\">\n",
       "  <thead>\n",
       "    <tr style=\"text-align: right;\">\n",
       "      <th></th>\n",
       "      <th>filtered</th>\n",
       "      <th>all-to-one</th>\n",
       "      <th>collapsed</th>\n",
       "      <th>separate</th>\n",
       "    </tr>\n",
       "    <tr>\n",
       "      <th>Entity</th>\n",
       "      <th></th>\n",
       "      <th></th>\n",
       "      <th></th>\n",
       "      <th></th>\n",
       "    </tr>\n",
       "  </thead>\n",
       "  <tbody>\n",
       "    <tr>\n",
       "      <th>https://data.labs.pdok.nl/rce/id/monument/38900</th>\n",
       "      <td>0</td>\n",
       "      <td>0</td>\n",
       "      <td>0</td>\n",
       "      <td>0</td>\n",
       "    </tr>\n",
       "    <tr>\n",
       "      <th>https://data.labs.pdok.nl/rce/id/monument/39234</th>\n",
       "      <td>1</td>\n",
       "      <td>1</td>\n",
       "      <td>1</td>\n",
       "      <td>1</td>\n",
       "    </tr>\n",
       "    <tr>\n",
       "      <th>https://data.labs.pdok.nl/rce/id/monument/514470</th>\n",
       "      <td>1</td>\n",
       "      <td>1</td>\n",
       "      <td>1</td>\n",
       "      <td>1</td>\n",
       "    </tr>\n",
       "    <tr>\n",
       "      <th>https://data.labs.pdok.nl/rce/id/monument/41931</th>\n",
       "      <td>0</td>\n",
       "      <td>0</td>\n",
       "      <td>0</td>\n",
       "      <td>0</td>\n",
       "    </tr>\n",
       "    <tr>\n",
       "      <th>https://data.labs.pdok.nl/rce/id/monument/507219</th>\n",
       "      <td>1</td>\n",
       "      <td>1</td>\n",
       "      <td>1</td>\n",
       "      <td>1</td>\n",
       "    </tr>\n",
       "    <tr>\n",
       "      <th>https://data.labs.pdok.nl/rce/id/monument/450350</th>\n",
       "      <td>1</td>\n",
       "      <td>1</td>\n",
       "      <td>1</td>\n",
       "      <td>1</td>\n",
       "    </tr>\n",
       "    <tr>\n",
       "      <th>https://data.labs.pdok.nl/rce/id/monument/531077</th>\n",
       "      <td>0</td>\n",
       "      <td>0</td>\n",
       "      <td>0</td>\n",
       "      <td>0</td>\n",
       "    </tr>\n",
       "    <tr>\n",
       "      <th>https://data.labs.pdok.nl/rce/id/monument/512478</th>\n",
       "      <td>1</td>\n",
       "      <td>1</td>\n",
       "      <td>1</td>\n",
       "      <td>1</td>\n",
       "    </tr>\n",
       "    <tr>\n",
       "      <th>https://data.labs.pdok.nl/rce/id/monument/520273</th>\n",
       "      <td>0</td>\n",
       "      <td>0</td>\n",
       "      <td>0</td>\n",
       "      <td>0</td>\n",
       "    </tr>\n",
       "    <tr>\n",
       "      <th>https://data.labs.pdok.nl/rce/id/monument/39167</th>\n",
       "      <td>0</td>\n",
       "      <td>0</td>\n",
       "      <td>0</td>\n",
       "      <td>0</td>\n",
       "    </tr>\n",
       "  </tbody>\n",
       "</table>\n",
       "</div>"
      ],
      "text/plain": [
       "                                                  filtered  all-to-one  \\\n",
       "Entity                                                                   \n",
       "https://data.labs.pdok.nl/rce/id/monument/38900          0           0   \n",
       "https://data.labs.pdok.nl/rce/id/monument/39234          1           1   \n",
       "https://data.labs.pdok.nl/rce/id/monument/514470         1           1   \n",
       "https://data.labs.pdok.nl/rce/id/monument/41931          0           0   \n",
       "https://data.labs.pdok.nl/rce/id/monument/507219         1           1   \n",
       "https://data.labs.pdok.nl/rce/id/monument/450350         1           1   \n",
       "https://data.labs.pdok.nl/rce/id/monument/531077         0           0   \n",
       "https://data.labs.pdok.nl/rce/id/monument/512478         1           1   \n",
       "https://data.labs.pdok.nl/rce/id/monument/520273         0           0   \n",
       "https://data.labs.pdok.nl/rce/id/monument/39167          0           0   \n",
       "\n",
       "                                                  collapsed  separate  \n",
       "Entity                                                                 \n",
       "https://data.labs.pdok.nl/rce/id/monument/38900           0         0  \n",
       "https://data.labs.pdok.nl/rce/id/monument/39234           1         1  \n",
       "https://data.labs.pdok.nl/rce/id/monument/514470          1         1  \n",
       "https://data.labs.pdok.nl/rce/id/monument/41931           0         0  \n",
       "https://data.labs.pdok.nl/rce/id/monument/507219          1         1  \n",
       "https://data.labs.pdok.nl/rce/id/monument/450350          1         1  \n",
       "https://data.labs.pdok.nl/rce/id/monument/531077          0         0  \n",
       "https://data.labs.pdok.nl/rce/id/monument/512478          1         1  \n",
       "https://data.labs.pdok.nl/rce/id/monument/520273          0         0  \n",
       "https://data.labs.pdok.nl/rce/id/monument/39167           0         0  "
      ]
     },
     "execution_count": 31,
     "metadata": {},
     "output_type": "execute_result"
    }
   ],
   "source": [
    "all_predictions_tf[['filtered', 'all-to-one', 'collapsed', 'separate']].head(10)"
   ]
  },
  {
   "cell_type": "code",
   "execution_count": 32,
   "id": "bb9f4195",
   "metadata": {},
   "outputs": [
    {
     "data": {
      "text/plain": [
       "TestResults(p=1.0036413593741135e-08, Q=40.12255257432923)"
      ]
     },
     "execution_count": 32,
     "metadata": {},
     "output_type": "execute_result"
    }
   ],
   "source": [
    "modcomp.cochran_q(all_predictions_tf[['filtered', 'all-to-one', 'collapsed', 'separate']].T.to_numpy())"
   ]
  },
  {
   "cell_type": "code",
   "execution_count": 33,
   "id": "10fd8e18",
   "metadata": {
    "scrolled": true
   },
   "outputs": [
    {
     "name": "stdout",
     "output_type": "stream",
     "text": [
      "McNemar between Correct/Incorrect, Filtered - All-to-one:  TestResults(p=0.10289049342821625, Q=2.6601583113456466)\n",
      "McNemar between Correct/Incorrect, Filtered - Collapsed:  TestResults(p=0.7082686400444946, Q=0.14001244555071563)\n",
      "McNemar between Correct/Incorrect, Filtered - Separate:  TestResults(p=0.6998150407026498, Q=0.148664343786295)\n",
      "McNemar between Correct/Incorrect, All-to-one - Collapsed:  TestResults(p=0.9806560414245965, Q=0.0005878894767783657)\n",
      "McNemar between Correct/Incorrect, All-to-one - Separate:  TestResults(p=0.48144218868428534, Q=0.4955947136563877)\n",
      "McNemar between Correct/Incorrect, Collapsed - Separate:  TestResults(p=0.19722861150404258, Q=1.6627783669141039)\n"
     ]
    }
   ],
   "source": [
    "# filtered - all-to-one\n",
    "print(\"McNemar between Correct/Incorrect, Filtered - All-to-one: \", modcomp.mcnemar(all_predictions_tf['filtered'].to_numpy(), all_predictions_tf['all-to-one'].to_numpy()))\n",
    "\n",
    "# filtered - collapsed\n",
    "print(\"McNemar between Correct/Incorrect, Filtered - Collapsed: \", modcomp.mcnemar(all_predictions_tf['filtered'].to_numpy(), all_predictions_tf['collapsed'].to_numpy()))\n",
    "\n",
    "# filtered - separate\n",
    "print(\"McNemar between Correct/Incorrect, Filtered - Separate: \", modcomp.mcnemar(all_predictions_tf['filtered'].to_numpy(), all_predictions_tf['separate'].to_numpy()))\n",
    "\n",
    "# all-to-one - collapsed\n",
    "print(\"McNemar between Correct/Incorrect, All-to-one - Collapsed: \", modcomp.mcnemar(all_predictions_tf['all-to-one'].to_numpy(), all_predictions_tf['collapsed'].to_numpy()))\n",
    "\n",
    "# all-to-one - separate\n",
    "print(\"McNemar between Correct/Incorrect, All-to-one - Separate: \", modcomp.mcnemar(all_predictions_tf['all-to-one'].to_numpy(), all_predictions_tf['separate'].to_numpy()))\n",
    "\n",
    "# collapsed - separate\n",
    "print(\"McNemar between Correct/Incorrect, Collapsed - Separate: \", modcomp.mcnemar(all_predictions_tf['collapsed'].to_numpy(), all_predictions_tf['separate'].to_numpy()))"
   ]
  },
  {
   "cell_type": "code",
   "execution_count": 34,
   "id": "930bfe8b",
   "metadata": {},
   "outputs": [
    {
     "name": "stdout",
     "output_type": "stream",
     "text": [
      "Filtered - All-to-one:  pvalue      0.20649820735971033\n",
      "statistic   46.0\n",
      "all-to-one    0    1\n",
      "filtered            \n",
      "0           912   60\n",
      "1            46  983\n",
      "\n",
      "Filtered - Collapsed:  pvalue      0.00033584405851391997\n",
      "statistic   161.0\n",
      "collapsed    0    1\n",
      "filtered           \n",
      "0          811  161\n",
      "1          233  796\n",
      "\n",
      "Filtered - Separate:  pvalue      0.01647823477583855\n",
      "statistic   119.0\n",
      "separate    0    1\n",
      "filtered          \n",
      "0         853  119\n",
      "1         160  869\n",
      "\n",
      "All-to-one - Collapsed:  pvalue      7.816424079275444e-07\n",
      "statistic   107.0\n",
      "collapsed     0    1\n",
      "all-to-one          \n",
      "0           851  107\n",
      "1           193  850\n",
      "\n",
      "All-to-one - Separate:  pvalue      6.404007801362497e-05\n",
      "statistic   65.0\n",
      "separate      0    1\n",
      "all-to-one          \n",
      "0           893   65\n",
      "1           120  923\n",
      "\n",
      "Collapsed - Separate:  pvalue      0.0049281538522552935\n",
      "statistic   42.0\n",
      "separate     0    1\n",
      "collapsed          \n",
      "0          971   73\n",
      "1           42  915\n"
     ]
    }
   ],
   "source": [
    "from statsmodels.stats.contingency_tables import mcnemar\n",
    "print(\"Filtered - All-to-one: \", mcnemar(pd.crosstab(all_predictions_tf['filtered'], all_predictions_tf['all-to-one']).to_numpy(), exact=True))\n",
    "print(pd.crosstab(all_predictions_tf['filtered'], all_predictions_tf['all-to-one']))\n",
    "\n",
    "print()\n",
    "print(\"Filtered - Collapsed: \",mcnemar(pd.crosstab(all_predictions_tf['filtered'], all_predictions_tf['collapsed']).to_numpy(), exact=True))\n",
    "print(pd.crosstab(all_predictions_tf['filtered'], all_predictions_tf['collapsed']))\n",
    "\n",
    "print()\n",
    "print(\"Filtered - Separate: \",mcnemar(pd.crosstab(all_predictions_tf['filtered'], all_predictions_tf['separate']).to_numpy(), exact=True))\n",
    "print(pd.crosstab(all_predictions_tf['filtered'], all_predictions_tf['separate']))\n",
    "\n",
    "print()\n",
    "print(\"All-to-one - Collapsed: \",mcnemar(pd.crosstab(all_predictions_tf['all-to-one'], all_predictions_tf['collapsed']).to_numpy(), exact=True))\n",
    "print(pd.crosstab(all_predictions_tf['all-to-one'], all_predictions_tf['collapsed']))\n",
    "\n",
    "print()\n",
    "print(\"All-to-one - Separate: \",mcnemar(pd.crosstab(all_predictions_tf['all-to-one'], all_predictions_tf['separate']).to_numpy(), exact=True))\n",
    "print(pd.crosstab(all_predictions_tf['all-to-one'], all_predictions_tf['separate']))\n",
    "\n",
    "print()\n",
    "print(\"Collapsed - Separate: \",mcnemar(pd.crosstab(all_predictions_tf['collapsed'], all_predictions_tf['separate']).to_numpy(), exact=True))\n",
    "print(pd.crosstab(all_predictions_tf['collapsed'], all_predictions_tf['separate']))"
   ]
  },
  {
   "cell_type": "code",
   "execution_count": null,
   "id": "898631a7",
   "metadata": {},
   "outputs": [],
   "source": []
  }
 ],
 "metadata": {
  "kernelspec": {
   "display_name": "GraphRepresentationKernel",
   "language": "python",
   "name": "graphrepresentationkernel"
  },
  "language_info": {
   "codemirror_mode": {
    "name": "ipython",
    "version": 3
   },
   "file_extension": ".py",
   "mimetype": "text/x-python",
   "name": "python",
   "nbconvert_exporter": "python",
   "pygments_lexer": "ipython3",
   "version": "3.9.16"
  }
 },
 "nbformat": 4,
 "nbformat_minor": 5
}
