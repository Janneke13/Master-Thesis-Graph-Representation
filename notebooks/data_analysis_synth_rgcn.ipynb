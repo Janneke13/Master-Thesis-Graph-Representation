{
 "cells": [
  {
   "cell_type": "markdown",
   "id": "70a91113",
   "metadata": {},
   "source": [
    "# Analysis of results for the RGCN with Synth data"
   ]
  },
  {
   "cell_type": "code",
   "execution_count": 1,
   "id": "9e5f069a",
   "metadata": {},
   "outputs": [],
   "source": [
    "# imports needed:\n",
    "import pandas as pd\n",
    "import matplotlib.pyplot as plt\n",
    "from statistics import mean\n",
    "from statistics import stdev as std\n",
    "from scipy import stats\n",
    "import random\n",
    "import math\n",
    "import modcomp\n",
    "import json\n",
    "import numpy as np\n",
    "\n",
    "random.seed(0)"
   ]
  },
  {
   "cell_type": "markdown",
   "id": "cc92e07e",
   "metadata": {},
   "source": [
    "## Read in data:"
   ]
  },
  {
   "cell_type": "code",
   "execution_count": 2,
   "id": "7f9dcb82",
   "metadata": {},
   "outputs": [],
   "source": [
    "results_filtered_1 = pd.read_csv(\"../results/RGCN/test_synth_filtered_final/synth_1/results.csv\")\n",
    "results_filtered_2 = pd.read_csv(\"../results/RGCN/test_synth_filtered_final/synth_2/results.csv\")\n",
    "results_filtered_3 = pd.read_csv(\"../results/RGCN/test_synth_filtered_final/synth_3/results.csv\")\n",
    "results_filtered_4 = pd.read_csv(\"../results/RGCN/test_synth_filtered_final/synth_4/results.csv\")\n",
    "results_filtered_5 = pd.read_csv(\"../results/RGCN/test_synth_filtered_final/synth_5/results.csv\")\n",
    "results_filtered_6 = pd.read_csv(\"../results/RGCN/test_synth_filtered_final/synth_6/results.csv\")\n",
    "results_filtered_7 = pd.read_csv(\"../results/RGCN/test_synth_filtered_final/synth_7/results.csv\")\n",
    "results_filtered_8 = pd.read_csv(\"../results/RGCN/test_synth_filtered_final/synth_8/results.csv\")\n",
    "results_filtered_9 = pd.read_csv(\"../results/RGCN/test_synth_filtered_final/synth_9/results.csv\")\n",
    "results_filtered_10 = pd.read_csv(\"../results/RGCN/test_synth_filtered_final/synth_10/results.csv\")\n",
    "\n",
    "results_alltoone_1 = pd.read_csv(\"../results/RGCN/test_synth_all-to-one_final/synth_1/results.csv\")\n",
    "results_alltoone_2 = pd.read_csv(\"../results/RGCN/test_synth_all-to-one_final/synth_2/results.csv\")\n",
    "results_alltoone_3 = pd.read_csv(\"../results/RGCN/test_synth_all-to-one_final/synth_3/results.csv\")\n",
    "results_alltoone_4 = pd.read_csv(\"../results/RGCN/test_synth_all-to-one_final/synth_4/results.csv\")\n",
    "results_alltoone_5 = pd.read_csv(\"../results/RGCN/test_synth_all-to-one_final/synth_5/results.csv\")\n",
    "results_alltoone_6 = pd.read_csv(\"../results/RGCN/test_synth_all-to-one_final/synth_6/results.csv\")\n",
    "results_alltoone_7 = pd.read_csv(\"../results/RGCN/test_synth_all-to-one_final/synth_7/results.csv\")\n",
    "results_alltoone_8 = pd.read_csv(\"../results/RGCN/test_synth_all-to-one_final/synth_8/results.csv\")\n",
    "results_alltoone_9 = pd.read_csv(\"../results/RGCN/test_synth_all-to-one_final/synth_9/results.csv\")\n",
    "results_alltoone_10 = pd.read_csv(\"../results/RGCN/test_synth_all-to-one_final/synth_10/results.csv\")\n",
    "\n",
    "results_collapsed_1 = pd.read_csv(\"../results/RGCN/test_synth_collapsed_final/synth_1/results.csv\")\n",
    "results_collapsed_2 = pd.read_csv(\"../results/RGCN/test_synth_collapsed_final/synth_2/results.csv\")\n",
    "results_collapsed_3 = pd.read_csv(\"../results/RGCN/test_synth_collapsed_final/synth_3/results.csv\")\n",
    "results_collapsed_4 = pd.read_csv(\"../results/RGCN/test_synth_collapsed_final/synth_4/results.csv\")\n",
    "results_collapsed_5 = pd.read_csv(\"../results/RGCN/test_synth_collapsed_final/synth_5/results.csv\")\n",
    "results_collapsed_6 = pd.read_csv(\"../results/RGCN/test_synth_collapsed_final/synth_6/results.csv\")\n",
    "results_collapsed_7 = pd.read_csv(\"../results/RGCN/test_synth_collapsed_final/synth_7/results.csv\")\n",
    "results_collapsed_8 = pd.read_csv(\"../results/RGCN/test_synth_collapsed_final/synth_8/results.csv\")\n",
    "results_collapsed_9 = pd.read_csv(\"../results/RGCN/test_synth_collapsed_final/synth_9/results.csv\")\n",
    "results_collapsed_10 = pd.read_csv(\"../results/RGCN/test_synth_collapsed_final/synth_10/results.csv\")\n",
    "\n",
    "results_separate_1 = pd.read_csv(\"../results/RGCN/test_synth_separate_final/synth_1/results.csv\")\n",
    "results_separate_2 = pd.read_csv(\"../results/RGCN/test_synth_separate_final/synth_2/results.csv\")\n",
    "results_separate_3 = pd.read_csv(\"../results/RGCN/test_synth_separate_final/synth_3/results.csv\")\n",
    "results_separate_4 = pd.read_csv(\"../results/RGCN/test_synth_separate_final/synth_4/results.csv\")\n",
    "results_separate_5 = pd.read_csv(\"../results/RGCN/test_synth_separate_final/synth_5/results.csv\")\n",
    "results_separate_6 = pd.read_csv(\"../results/RGCN/test_synth_separate_final/synth_6/results.csv\")\n",
    "results_separate_7 = pd.read_csv(\"../results/RGCN/test_synth_separate_final/synth_7/results.csv\")\n",
    "results_separate_8 = pd.read_csv(\"../results/RGCN/test_synth_separate_final/synth_8/results.csv\")\n",
    "results_separate_9 = pd.read_csv(\"../results/RGCN/test_synth_separate_final/synth_9/results.csv\")\n",
    "results_separate_10 = pd.read_csv(\"../results/RGCN/test_synth_separate_final/synth_10/results.csv\")"
   ]
  },
  {
   "cell_type": "markdown",
   "id": "18e2d8e8",
   "metadata": {},
   "source": [
    "## Process data:"
   ]
  },
  {
   "cell_type": "code",
   "execution_count": 3,
   "id": "ca771242",
   "metadata": {},
   "outputs": [],
   "source": [
    "# combine the test accuracies\n",
    "accuracy_test_filtered = pd.concat([results_filtered_1['AccTest'], results_filtered_2['AccTest'], results_filtered_3['AccTest'], results_filtered_4['AccTest'], results_filtered_5['AccTest'],results_filtered_6['AccTest'], results_filtered_7['AccTest'], results_filtered_8['AccTest'], results_filtered_9['AccTest'], results_filtered_10['AccTest']],axis=1)\n",
    "accuracy_test_alltoone = pd.concat([results_alltoone_1['AccTest'], results_alltoone_2['AccTest'], results_alltoone_3['AccTest'], results_alltoone_4['AccTest'], results_alltoone_5['AccTest'],results_alltoone_6['AccTest'], results_alltoone_7['AccTest'], results_alltoone_8['AccTest'], results_alltoone_9['AccTest'], results_alltoone_10['AccTest']],axis=1)\n",
    "accuracy_test_collapsed = pd.concat([results_collapsed_1['AccTest'], results_collapsed_2['AccTest'], results_collapsed_3['AccTest'], results_collapsed_4['AccTest'], results_collapsed_5['AccTest'],results_collapsed_6['AccTest'], results_collapsed_7['AccTest'], results_collapsed_8['AccTest'], results_collapsed_9['AccTest'], results_collapsed_10['AccTest']],axis=1)\n",
    "accuracy_test_separate = pd.concat([results_separate_1['AccTest'], results_separate_2['AccTest'], results_separate_3['AccTest'], results_separate_4['AccTest'], results_separate_5['AccTest'],results_separate_6['AccTest'], results_separate_7['AccTest'], results_separate_8['AccTest'], results_separate_9['AccTest'], results_separate_10['AccTest']],axis=1)\n",
    "\n",
    "# make lists of the final test accuracies\n",
    "final_accuracy_test_filtered = [results_filtered_1['AccTest'].iloc[-1], results_filtered_2['AccTest'].iloc[-1], results_filtered_3['AccTest'].iloc[-1], results_filtered_4['AccTest'].iloc[-1], results_filtered_5['AccTest'].iloc[-1],results_filtered_6['AccTest'].iloc[-1], results_filtered_7['AccTest'].iloc[-1], results_filtered_8['AccTest'].iloc[-1], results_filtered_9['AccTest'].iloc[-1], results_filtered_10['AccTest'].iloc[-1]]\n",
    "final_accuracy_test_alltoone = [results_alltoone_1['AccTest'].iloc[-1], results_alltoone_2['AccTest'].iloc[-1], results_alltoone_3['AccTest'].iloc[-1], results_alltoone_4['AccTest'].iloc[-1], results_alltoone_5['AccTest'].iloc[-1],results_alltoone_6['AccTest'].iloc[-1], results_alltoone_7['AccTest'].iloc[-1], results_alltoone_8['AccTest'].iloc[-1], results_alltoone_9['AccTest'].iloc[-1], results_alltoone_10['AccTest'].iloc[-1]]\n",
    "final_accuracy_test_collapsed = [results_collapsed_1['AccTest'].iloc[-1], results_collapsed_2['AccTest'].iloc[-1], results_collapsed_3['AccTest'].iloc[-1], results_collapsed_4['AccTest'].iloc[-1], results_collapsed_5['AccTest'].iloc[-1],results_collapsed_6['AccTest'].iloc[-1], results_collapsed_7['AccTest'].iloc[-1], results_collapsed_8['AccTest'].iloc[-1], results_collapsed_9['AccTest'].iloc[-1], results_collapsed_10['AccTest'].iloc[-1]]\n",
    "final_accuracy_test_separate = [results_separate_1['AccTest'].iloc[-1], results_separate_2['AccTest'].iloc[-1], results_separate_3['AccTest'].iloc[-1], results_separate_4['AccTest'].iloc[-1], results_separate_5['AccTest'].iloc[-1],results_separate_6['AccTest'].iloc[-1], results_separate_7['AccTest'].iloc[-1], results_separate_8['AccTest'].iloc[-1], results_separate_9['AccTest'].iloc[-1], results_separate_10['AccTest'].iloc[-1]]\n",
    "\n",
    "# combine the test f1\n",
    "f1_test_filtered = pd.concat([results_filtered_1['f1Test'], results_filtered_2['f1Test'], results_filtered_3['f1Test'], results_filtered_4['f1Test'], results_filtered_5['f1Test'],results_filtered_6['f1Test'], results_filtered_7['f1Test'], results_filtered_8['f1Test'], results_filtered_9['f1Test'], results_filtered_10['f1Test']],axis=1)\n",
    "f1_test_alltoone = pd.concat([results_alltoone_1['f1Test'], results_alltoone_2['f1Test'], results_alltoone_3['f1Test'], results_alltoone_4['f1Test'], results_alltoone_5['f1Test'],results_alltoone_6['f1Test'], results_alltoone_7['f1Test'], results_alltoone_8['f1Test'], results_alltoone_9['f1Test'], results_alltoone_10['f1Test']],axis=1)\n",
    "f1_test_collapsed = pd.concat([results_collapsed_1['f1Test'], results_collapsed_2['f1Test'], results_collapsed_3['f1Test'], results_collapsed_4['f1Test'], results_collapsed_5['f1Test'],results_collapsed_6['f1Test'], results_collapsed_7['f1Test'], results_collapsed_8['f1Test'], results_collapsed_9['f1Test'], results_collapsed_10['f1Test']],axis=1)\n",
    "f1_test_separate = pd.concat([results_separate_1['f1Test'], results_separate_2['f1Test'], results_separate_3['f1Test'], results_separate_4['f1Test'], results_separate_5['f1Test'],results_separate_6['f1Test'], results_separate_7['f1Test'], results_separate_8['f1Test'], results_separate_9['f1Test'], results_separate_10['f1Test']],axis=1)\n",
    "\n",
    "# make lists of the final test f1\n",
    "final_f1_test_filtered = [results_filtered_1['f1Test'].iloc[-1], results_filtered_2['f1Test'].iloc[-1], results_filtered_3['f1Test'].iloc[-1], results_filtered_4['f1Test'].iloc[-1], results_filtered_5['f1Test'].iloc[-1],results_filtered_6['f1Test'].iloc[-1], results_filtered_7['f1Test'].iloc[-1], results_filtered_8['f1Test'].iloc[-1], results_filtered_9['f1Test'].iloc[-1], results_filtered_10['f1Test'].iloc[-1]]\n",
    "final_f1_test_alltoone = [results_alltoone_1['f1Test'].iloc[-1], results_alltoone_2['f1Test'].iloc[-1], results_alltoone_3['f1Test'].iloc[-1], results_alltoone_4['f1Test'].iloc[-1], results_alltoone_5['f1Test'].iloc[-1],results_alltoone_6['f1Test'].iloc[-1], results_alltoone_7['f1Test'].iloc[-1], results_alltoone_8['f1Test'].iloc[-1], results_alltoone_9['f1Test'].iloc[-1], results_alltoone_10['f1Test'].iloc[-1]]\n",
    "final_f1_test_collapsed = [results_collapsed_1['f1Test'].iloc[-1], results_collapsed_2['f1Test'].iloc[-1], results_collapsed_3['f1Test'].iloc[-1], results_collapsed_4['f1Test'].iloc[-1], results_collapsed_5['f1Test'].iloc[-1],results_collapsed_6['f1Test'].iloc[-1], results_collapsed_7['f1Test'].iloc[-1], results_collapsed_8['f1Test'].iloc[-1], results_collapsed_9['f1Test'].iloc[-1], results_collapsed_10['f1Test'].iloc[-1]]\n",
    "final_f1_test_separate = [results_separate_1['f1Test'].iloc[-1], results_separate_2['f1Test'].iloc[-1], results_separate_3['f1Test'].iloc[-1], results_separate_4['f1Test'].iloc[-1], results_separate_5['f1Test'].iloc[-1],results_separate_6['f1Test'].iloc[-1], results_separate_7['f1Test'].iloc[-1], results_separate_8['f1Test'].iloc[-1], results_separate_9['f1Test'].iloc[-1], results_separate_10['f1Test'].iloc[-1]]"
   ]
  },
  {
   "cell_type": "code",
   "execution_count": 4,
   "id": "d6c37a81",
   "metadata": {},
   "outputs": [],
   "source": [
    "# accuracy:\n",
    "mean_acc_filtered = accuracy_test_filtered.mean(axis=1)\n",
    "mean_acc_alltoone = accuracy_test_alltoone.mean(axis=1)\n",
    "mean_acc_collapsed = accuracy_test_collapsed.mean(axis=1)\n",
    "mean_acc_separate = accuracy_test_separate.mean(axis=1)\n",
    "\n",
    "std_acc_filtered = accuracy_test_filtered.std(axis=1)\n",
    "std_acc_alltoone = accuracy_test_alltoone.std(axis=1)\n",
    "std_acc_collapsed = accuracy_test_collapsed.std(axis=1)\n",
    "std_acc_separate = accuracy_test_separate.std(axis=1)\n",
    "\n",
    "# f1:\n",
    "mean_f1_filtered = f1_test_filtered.mean(axis=1)\n",
    "mean_f1_alltoone = f1_test_alltoone.mean(axis=1)\n",
    "mean_f1_collapsed = f1_test_collapsed.mean(axis=1)\n",
    "mean_f1_separate = f1_test_separate.mean(axis=1)\n",
    "\n",
    "std_f1_filtered = f1_test_filtered.std(axis=1)\n",
    "std_f1_alltoone = f1_test_alltoone.std(axis=1)\n",
    "std_f1_collapsed = f1_test_collapsed.std(axis=1)\n",
    "std_f1_separate = f1_test_separate.std(axis=1)"
   ]
  },
  {
   "cell_type": "markdown",
   "id": "24e41744",
   "metadata": {},
   "source": [
    "## Summary of data (means and standard deviations at the end):"
   ]
  },
  {
   "cell_type": "code",
   "execution_count": 5,
   "id": "0fee69c7",
   "metadata": {},
   "outputs": [
    {
     "name": "stdout",
     "output_type": "stream",
     "text": [
      "Filtered gets a mean accuracy of  0.2450774612693653  with a standard deviation of  0.007185133174305849\n",
      "Filtered gets a mean f1 of  0.20239014630161536  with a standard deviation of  0.01716900428087082\n",
      "\n",
      "All-to-one gets a mean accuracy of  0.25202398800599696  with a standard deviation of  0.005225781806430856\n",
      "All-to-one gets a mean f1 of  0.1604918158664251  with a standard deviation of  0.039009174098509215\n",
      "\n",
      "Collapsed gets a mean accuracy of  0.2677661169415292  with a standard deviation of  0.01673611693742704\n",
      "Collapsed gets a mean f1 of  0.264863024088754  with a standard deviation of  0.01720928413090513\n",
      "\n",
      "Separate gets a mean accuracy of  0.25147426286856567  with a standard deviation of  0.01073086605975504\n",
      "Separate gets a mean f1 of  0.24887815298788366  with a standard deviation of  0.010646766303775979\n"
     ]
    }
   ],
   "source": [
    "print(\"Filtered gets a mean accuracy of \", mean(final_accuracy_test_filtered), \" with a standard deviation of \", std(final_accuracy_test_filtered))\n",
    "print(\"Filtered gets a mean f1 of \", mean(final_f1_test_filtered), \" with a standard deviation of \", std(final_f1_test_filtered))\n",
    "print()\n",
    "print(\"All-to-one gets a mean accuracy of \", mean(final_accuracy_test_alltoone), \" with a standard deviation of \", std(final_accuracy_test_alltoone))\n",
    "print(\"All-to-one gets a mean f1 of \", mean(final_f1_test_alltoone), \" with a standard deviation of \", std(final_f1_test_alltoone))\n",
    "print()\n",
    "print(\"Collapsed gets a mean accuracy of \", mean(final_accuracy_test_collapsed), \" with a standard deviation of \", std(final_accuracy_test_collapsed))\n",
    "print(\"Collapsed gets a mean f1 of \", mean(final_f1_test_collapsed), \" with a standard deviation of \", std(final_f1_test_collapsed))\n",
    "print()\n",
    "print(\"Separate gets a mean accuracy of \", mean(final_accuracy_test_separate), \" with a standard deviation of \", std(final_accuracy_test_separate))\n",
    "print(\"Separate gets a mean f1 of \", mean(final_f1_test_separate), \" with a standard deviation of \", std(final_f1_test_separate))"
   ]
  },
  {
   "cell_type": "markdown",
   "id": "a3103932",
   "metadata": {},
   "source": [
    "## Create plots of this data:"
   ]
  },
  {
   "cell_type": "markdown",
   "id": "15d2d1bf",
   "metadata": {},
   "source": [
    "### Lineplot:"
   ]
  },
  {
   "cell_type": "code",
   "execution_count": 6,
   "id": "db605498",
   "metadata": {},
   "outputs": [
    {
     "data": {
      "image/png": "[encoded data removed]",
      "text/plain": [
       "<Figure size 936x648 with 1 Axes>"
      ]
     },
     "metadata": {
      "needs_background": "light"
     },
     "output_type": "display_data"
    }
   ],
   "source": [
    "# draw the lines for the means\n",
    "plt.plot(mean_acc_filtered.index.values, mean_acc_filtered, 'y-', label='Filtered')\n",
    "plt.plot(mean_acc_alltoone.index.values, mean_acc_alltoone, 'r-', label='All-to-one')\n",
    "plt.plot(mean_acc_collapsed.index.values, mean_acc_collapsed, 'b-', label='Collapsed')\n",
    "plt.plot(mean_acc_separate.index.values, mean_acc_separate, 'g-', label='Separate')\n",
    "\n",
    "# fill between the standard deviations\n",
    "plt.fill_between(std_acc_filtered.index.values, mean_acc_filtered - std_acc_filtered, mean_acc_filtered + std_acc_filtered, color='y', alpha=0.25)\n",
    "plt.fill_between(std_acc_alltoone.index.values, mean_acc_alltoone - std_acc_alltoone, mean_acc_alltoone + std_acc_alltoone, color='r', alpha=0.25)\n",
    "plt.fill_between(std_acc_collapsed.index.values, mean_acc_collapsed - std_acc_collapsed, mean_acc_collapsed + std_acc_collapsed, color='b', alpha=0.25)\n",
    "plt.fill_between(std_acc_separate.index.values, mean_acc_separate - std_acc_separate, mean_acc_separate + std_acc_separate, color='g', alpha=0.25)\n",
    "\n",
    "plt.legend(loc=\"lower right\", fontsize=21)\n",
    "# plt.title(\"Test Accuracy of RGCN for Synth Dataset with Different Literal Mappings\", fontsize=19)\n",
    "plt.xticks(fontsize=18)\n",
    "plt.yticks(fontsize = 18)\n",
    "plt.xlabel('Epoch', fontsize=20)\n",
    "plt.ylabel('Test Accuracy', fontsize=20)\n",
    "\n",
    "# increase size of figure\n",
    "figure = plt.gcf()\n",
    "figure.set_size_inches(13, 9)\n",
    "\n",
    "# save the figure\n",
    "figure.savefig('../plots/experiment_data_analysis/synth/rgcn_test_acc.png', dpi=300)\n",
    "\n",
    "plt.show()"
   ]
  },
  {
   "cell_type": "code",
   "execution_count": 7,
   "id": "cc75d357",
   "metadata": {},
   "outputs": [
    {
     "data": {
      "image/png": "[encoded data removed]",
      "text/plain": [
       "<Figure size 936x648 with 1 Axes>"
      ]
     },
     "metadata": {
      "needs_background": "light"
     },
     "output_type": "display_data"
    }
   ],
   "source": [
    "# draw the lines for the means\n",
    "plt.plot(mean_f1_filtered.index.values, mean_f1_filtered, 'y-', label='Filtered')\n",
    "plt.plot(mean_f1_alltoone.index.values, mean_f1_alltoone, 'r-', label='All-to-one')\n",
    "plt.plot(mean_f1_collapsed.index.values, mean_f1_collapsed, 'b-', label='Collapsed')\n",
    "plt.plot(mean_f1_separate.index.values, mean_f1_separate, 'g-', label='Separate')\n",
    "\n",
    "# fill between the standard deviations\n",
    "plt.fill_between(std_f1_filtered.index.values, mean_f1_filtered - std_f1_filtered, mean_f1_filtered + std_f1_filtered, color='y', alpha=0.25)\n",
    "plt.fill_between(std_f1_alltoone.index.values, mean_f1_alltoone - std_f1_alltoone, mean_f1_alltoone + std_f1_alltoone, color='r', alpha=0.25)\n",
    "plt.fill_between(std_f1_collapsed.index.values, mean_f1_collapsed - std_f1_collapsed, mean_f1_collapsed + std_f1_collapsed, color='b', alpha=0.25)\n",
    "plt.fill_between(std_f1_separate.index.values, mean_f1_separate - std_f1_separate, mean_f1_separate + std_f1_separate, color='g', alpha=0.25)\n",
    "\n",
    "plt.legend(loc=\"lower right\", fontsize=21)\n",
    "# plt.title(\"Test f1 of RGCN for Synth Dataset with Different Literal Mappings\", fontsize=19)\n",
    "plt.xticks(fontsize=18)\n",
    "plt.yticks(fontsize = 18)\n",
    "plt.xlabel('Epoch', fontsize=20)\n",
    "plt.ylabel('Test f1', fontsize=20)\n",
    "\n",
    "# increase size of figure\n",
    "figure = plt.gcf()\n",
    "figure.set_size_inches(13, 9)\n",
    "\n",
    "# save the figure\n",
    "figure.savefig('../plots/experiment_data_analysis/synth/rgcn_test_f1.png', dpi=300)\n",
    "plt.show()"
   ]
  },
  {
   "cell_type": "markdown",
   "id": "70633792",
   "metadata": {},
   "source": [
    "### Boxplot:"
   ]
  },
  {
   "cell_type": "code",
   "execution_count": 8,
   "id": "a581a454",
   "metadata": {},
   "outputs": [
    {
     "data": {
      "image/png": "[encoded data removed]",
      "text/plain": [
       "<Figure size 936x648 with 1 Axes>"
      ]
     },
     "metadata": {
      "needs_background": "light"
     },
     "output_type": "display_data"
    }
   ],
   "source": [
    "final_acc_all = pd.DataFrame({\"Filtered\": final_accuracy_test_filtered, \"All-to-one\": final_accuracy_test_alltoone, \"Collapsed\": final_accuracy_test_collapsed, \"Separate\": final_accuracy_test_separate})\n",
    "final_acc_all[['Filtered', 'All-to-one', 'Collapsed', \"Separate\"]].plot(kind='box')\n",
    "\n",
    "# add x and y labels and change font sizes:\n",
    "plt.xlabel('Literal Mapping', fontsize=20)\n",
    "plt.ylabel('Accuracy', fontsize=20)\n",
    "\n",
    "plt.xticks(fontsize=18)\n",
    "plt.yticks(fontsize = 18)\n",
    "\n",
    "# increase size of figure\n",
    "figure = plt.gcf()\n",
    "figure.set_size_inches(13, 9)\n",
    "\n",
    "# save the figure\n",
    "figure.savefig('../plots/experiment_data_analysis/synth/rgcn_boxplot_accuracy.png', dpi=300)\n",
    "plt.show()"
   ]
  },
  {
   "cell_type": "code",
   "execution_count": 9,
   "id": "c970ce3e",
   "metadata": {},
   "outputs": [
    {
     "data": {
      "image/png": "[encoded data removed]",
      "text/plain": [
       "<Figure size 936x648 with 1 Axes>"
      ]
     },
     "metadata": {
      "needs_background": "light"
     },
     "output_type": "display_data"
    }
   ],
   "source": [
    "final_acc_all = pd.DataFrame({\"Filtered\": final_f1_test_filtered, \"All-to-one\": final_f1_test_alltoone, \"Collapsed\": final_f1_test_collapsed, \"Separate\": final_f1_test_separate})\n",
    "final_acc_all[['Filtered', 'All-to-one', 'Collapsed', \"Separate\"]].plot(kind='box')\n",
    "\n",
    "# add x and y labels and change font sizes:\n",
    "plt.xlabel('Literal Mapping', fontsize=20)\n",
    "plt.ylabel('f1-score', fontsize=20)\n",
    "\n",
    "plt.xticks(fontsize=18)\n",
    "plt.yticks(fontsize = 18)\n",
    "\n",
    "# increase size of figure\n",
    "figure = plt.gcf()\n",
    "figure.set_size_inches(13, 9)\n",
    "\n",
    "# save the figure\n",
    "figure.savefig('../plots/experiment_data_analysis/synth/rgcn_boxplot_f1.png', dpi=300)\n",
    "plt.show()"
   ]
  },
  {
   "cell_type": "markdown",
   "id": "00355715",
   "metadata": {},
   "source": [
    "## Perform statistical analysis:"
   ]
  },
  {
   "cell_type": "markdown",
   "id": "bf442a3a",
   "metadata": {},
   "source": [
    "### Normality tests (not needed):"
   ]
  },
  {
   "cell_type": "code",
   "execution_count": 10,
   "id": "e2bf7064",
   "metadata": {},
   "outputs": [
    {
     "name": "stdout",
     "output_type": "stream",
     "text": [
      "------Accuracy------\n",
      "Filtered: ShapiroResult(statistic=0.8757004737854004, pvalue=0.11642342060804367)\n",
      "All-to-one: ShapiroResult(statistic=0.9823957681655884, pvalue=0.9766899347305298)\n",
      "Collapsed: ShapiroResult(statistic=0.95899897813797, pvalue=0.7744001150131226)\n",
      "Separate: ShapiroResult(statistic=0.9009691476821899, pvalue=0.22452320158481598)\n",
      "------f1------\n",
      "Filtered: ShapiroResult(statistic=0.9780135154724121, pvalue=0.9536564350128174)\n",
      "All-to-one: ShapiroResult(statistic=0.8949087858200073, pvalue=0.19245873391628265)\n",
      "Collapsed: ShapiroResult(statistic=0.8983541131019592, pvalue=0.2101462185382843)\n",
      "Separate: ShapiroResult(statistic=0.9496117830276489, pvalue=0.6639096736907959)\n"
     ]
    }
   ],
   "source": [
    "print(\"------Accuracy------\")\n",
    "print(\"Filtered:\", stats.shapiro(final_accuracy_test_filtered))\n",
    "print(\"All-to-one:\", stats.shapiro(final_accuracy_test_alltoone)) # not from a normal dist\n",
    "print(\"Collapsed:\", stats.shapiro(final_accuracy_test_collapsed))\n",
    "print(\"Separate:\", stats.shapiro(final_accuracy_test_separate))\n",
    "\n",
    "print(\"------f1------\")\n",
    "print(\"Filtered:\", stats.shapiro(final_f1_test_filtered))\n",
    "print(\"All-to-one:\", stats.shapiro(final_f1_test_alltoone)) # not from a normal dist\n",
    "print(\"Collapsed:\", stats.shapiro(final_f1_test_collapsed))\n",
    "print(\"Separate:\", stats.shapiro(final_f1_test_separate))"
   ]
  },
  {
   "cell_type": "markdown",
   "id": "446baaab",
   "metadata": {},
   "source": [
    "### Mann-Whitney U tests:"
   ]
  },
  {
   "cell_type": "code",
   "execution_count": 11,
   "id": "53b26d36",
   "metadata": {
    "scrolled": true
   },
   "outputs": [
    {
     "name": "stdout",
     "output_type": "stream",
     "text": [
      "Accuracy, Filtered - All-to-one:  MannwhitneyuResult(statistic=19.0, pvalue=0.020988683729774835)\n",
      "f1-score, Filtered - All-to-one:  MannwhitneyuResult(statistic=84.0, pvalue=0.011329696684474665)\n",
      "Accuracy, Filtered - Collapsed:  MannwhitneyuResult(statistic=8.5, pvalue=0.001916926245372578)\n",
      "f1-score, Filtered - Collapsed:  MannwhitneyuResult(statistic=0.0, pvalue=0.00018267179110955002)\n",
      "Accuracy, Filtered - Separate:  MannwhitneyuResult(statistic=31.5, pvalue=0.17296987260351016)\n",
      "f1-score, Filtered - Separate:  MannwhitneyuResult(statistic=0.0, pvalue=0.00018267179110955002)\n",
      "Accuracy, All-to-one - Collapsed:  MannwhitneyuResult(statistic=21.0, pvalue=0.030955480699933292)\n",
      "f1-score, All-to-one - Collapsed:  MannwhitneyuResult(statistic=1.0, pvalue=0.00024612812790522973)\n",
      "Accuracy, All-to-one - Separate:  MannwhitneyuResult(statistic=51.0, pvalue=0.9698272930212717)\n",
      "f1-score, All-to-one - Separate:  MannwhitneyuResult(statistic=5.0, pvalue=0.0007685389131627665)\n",
      "Accuracy, Collapsed - Separate:  MannwhitneyuResult(statistic=78.5, pvalue=0.03415861782125119)\n",
      "f1-score, Collapsed - Separate:  MannwhitneyuResult(statistic=77.0, pvalue=0.04515456962427901)\n"
     ]
    }
   ],
   "source": [
    "# combinations (for all of these, do a test between both the accuracy and the f1)\n",
    "\n",
    "# filtered - all-to-one\n",
    "print(\"Accuracy, Filtered - All-to-one: \", stats.mannwhitneyu(final_accuracy_test_filtered, final_accuracy_test_alltoone))\n",
    "print(\"f1-score, Filtered - All-to-one: \", stats.mannwhitneyu(final_f1_test_filtered, final_f1_test_alltoone))\n",
    "\n",
    "# filtered - collapsed\n",
    "print(\"Accuracy, Filtered - Collapsed: \", stats.mannwhitneyu(final_accuracy_test_filtered, final_accuracy_test_collapsed))\n",
    "print(\"f1-score, Filtered - Collapsed: \", stats.mannwhitneyu(final_f1_test_filtered, final_f1_test_collapsed))\n",
    "\n",
    "# filtered - separate\n",
    "print(\"Accuracy, Filtered - Separate: \", stats.mannwhitneyu(final_accuracy_test_filtered, final_accuracy_test_separate))\n",
    "print(\"f1-score, Filtered - Separate: \", stats.mannwhitneyu(final_f1_test_filtered, final_f1_test_separate))\n",
    "\n",
    "# all-to-one - collapsed\n",
    "print(\"Accuracy, All-to-one - Collapsed: \", stats.mannwhitneyu(final_accuracy_test_alltoone, final_accuracy_test_collapsed))\n",
    "print(\"f1-score, All-to-one - Collapsed: \", stats.mannwhitneyu(final_f1_test_alltoone, final_f1_test_collapsed))\n",
    "\n",
    "# all-to-one - separate\n",
    "print(\"Accuracy, All-to-one - Separate: \", stats.mannwhitneyu(final_accuracy_test_alltoone, final_accuracy_test_separate))\n",
    "print(\"f1-score, All-to-one - Separate: \", stats.mannwhitneyu(final_f1_test_alltoone, final_f1_test_separate))\n",
    "      \n",
    "# collapsed - separate\n",
    "print(\"Accuracy, Collapsed - Separate: \", stats.mannwhitneyu(final_accuracy_test_collapsed, final_accuracy_test_separate))\n",
    "print(\"f1-score, Collapsed - Separate: \", stats.mannwhitneyu(final_f1_test_collapsed, final_f1_test_separate))"
   ]
  },
  {
   "cell_type": "markdown",
   "id": "a8a1b5ff",
   "metadata": {},
   "source": [
    "Everything is significantly better than the separate one!!"
   ]
  },
  {
   "cell_type": "markdown",
   "id": "9dd5ffe6",
   "metadata": {},
   "source": [
    "### Apply majority voting (for other classification tests):"
   ]
  },
  {
   "cell_type": "code",
   "execution_count": 12,
   "id": "c14812bf",
   "metadata": {},
   "outputs": [],
   "source": [
    "# read in the class assignments (do this for the test data):\n",
    "preds_filtered_1 = pd.read_csv(\"../results/RGCN/test_synth_filtered_final/synth_1/predictions_test.csv\")\n",
    "preds_filtered_2 = pd.read_csv(\"../results/RGCN/test_synth_filtered_final/synth_2/predictions_test.csv\")\n",
    "preds_filtered_3 = pd.read_csv(\"../results/RGCN/test_synth_filtered_final/synth_3/predictions_test.csv\")\n",
    "preds_filtered_4 = pd.read_csv(\"../results/RGCN/test_synth_filtered_final/synth_4/predictions_test.csv\")\n",
    "preds_filtered_5 = pd.read_csv(\"../results/RGCN/test_synth_filtered_final/synth_5/predictions_test.csv\")\n",
    "preds_filtered_6 = pd.read_csv(\"../results/RGCN/test_synth_filtered_final/synth_6/predictions_test.csv\")\n",
    "preds_filtered_7 = pd.read_csv(\"../results/RGCN/test_synth_filtered_final/synth_7/predictions_test.csv\")\n",
    "preds_filtered_8 = pd.read_csv(\"../results/RGCN/test_synth_filtered_final/synth_8/predictions_test.csv\")\n",
    "preds_filtered_9 = pd.read_csv(\"../results/RGCN/test_synth_filtered_final/synth_9/predictions_test.csv\")\n",
    "preds_filtered_10 = pd.read_csv(\"../results/RGCN/test_synth_filtered_final/synth_10/predictions_test.csv\")\n",
    "\n",
    "preds_alltoone_1 = pd.read_csv(\"../results/RGCN/test_synth_all-to-one_final/synth_1/predictions_test.csv\")\n",
    "preds_alltoone_2 = pd.read_csv(\"../results/RGCN/test_synth_all-to-one_final/synth_2/predictions_test.csv\")\n",
    "preds_alltoone_3 = pd.read_csv(\"../results/RGCN/test_synth_all-to-one_final/synth_3/predictions_test.csv\")\n",
    "preds_alltoone_4 = pd.read_csv(\"../results/RGCN/test_synth_all-to-one_final/synth_4/predictions_test.csv\")\n",
    "preds_alltoone_5 = pd.read_csv(\"../results/RGCN/test_synth_all-to-one_final/synth_5/predictions_test.csv\")\n",
    "preds_alltoone_6 = pd.read_csv(\"../results/RGCN/test_synth_all-to-one_final/synth_6/predictions_test.csv\")\n",
    "preds_alltoone_7 = pd.read_csv(\"../results/RGCN/test_synth_all-to-one_final/synth_7/predictions_test.csv\")\n",
    "preds_alltoone_8 = pd.read_csv(\"../results/RGCN/test_synth_all-to-one_final/synth_8/predictions_test.csv\")\n",
    "preds_alltoone_9 = pd.read_csv(\"../results/RGCN/test_synth_all-to-one_final/synth_9/predictions_test.csv\")\n",
    "preds_alltoone_10 = pd.read_csv(\"../results/RGCN/test_synth_all-to-one_final/synth_10/predictions_test.csv\")\n",
    "\n",
    "preds_collapsed_1 = pd.read_csv(\"../results/RGCN/test_synth_collapsed_final/synth_1/predictions_test.csv\")\n",
    "preds_collapsed_2 = pd.read_csv(\"../results/RGCN/test_synth_collapsed_final/synth_2/predictions_test.csv\")\n",
    "preds_collapsed_3 = pd.read_csv(\"../results/RGCN/test_synth_collapsed_final/synth_3/predictions_test.csv\")\n",
    "preds_collapsed_4 = pd.read_csv(\"../results/RGCN/test_synth_collapsed_final/synth_4/predictions_test.csv\")\n",
    "preds_collapsed_5 = pd.read_csv(\"../results/RGCN/test_synth_collapsed_final/synth_5/predictions_test.csv\")\n",
    "preds_collapsed_6 = pd.read_csv(\"../results/RGCN/test_synth_collapsed_final/synth_6/predictions_test.csv\")\n",
    "preds_collapsed_7 = pd.read_csv(\"../results/RGCN/test_synth_collapsed_final/synth_7/predictions_test.csv\")\n",
    "preds_collapsed_8 = pd.read_csv(\"../results/RGCN/test_synth_collapsed_final/synth_8/predictions_test.csv\")\n",
    "preds_collapsed_9 = pd.read_csv(\"../results/RGCN/test_synth_collapsed_final/synth_9/predictions_test.csv\")\n",
    "preds_collapsed_10 = pd.read_csv(\"../results/RGCN/test_synth_collapsed_final/synth_10/predictions_test.csv\")\n",
    "\n",
    "preds_separate_1 = pd.read_csv(\"../results/RGCN/test_synth_separate_final/synth_1/predictions_test.csv\")\n",
    "preds_separate_2 = pd.read_csv(\"../results/RGCN/test_synth_separate_final/synth_2/predictions_test.csv\")\n",
    "preds_separate_3 = pd.read_csv(\"../results/RGCN/test_synth_separate_final/synth_3/predictions_test.csv\")\n",
    "preds_separate_4 = pd.read_csv(\"../results/RGCN/test_synth_separate_final/synth_4/predictions_test.csv\")\n",
    "preds_separate_5 = pd.read_csv(\"../results/RGCN/test_synth_separate_final/synth_5/predictions_test.csv\")\n",
    "preds_separate_6 = pd.read_csv(\"../results/RGCN/test_synth_separate_final/synth_6/predictions_test.csv\")\n",
    "preds_separate_7 = pd.read_csv(\"../results/RGCN/test_synth_separate_final/synth_7/predictions_test.csv\")\n",
    "preds_separate_8 = pd.read_csv(\"../results/RGCN/test_synth_separate_final/synth_8/predictions_test.csv\")\n",
    "preds_separate_9 = pd.read_csv(\"../results/RGCN/test_synth_separate_final/synth_9/predictions_test.csv\")\n",
    "preds_separate_10 = pd.read_csv(\"../results/RGCN/test_synth_separate_final/synth_10/predictions_test.csv\")"
   ]
  },
  {
   "cell_type": "code",
   "execution_count": 13,
   "id": "2984e2aa",
   "metadata": {},
   "outputs": [],
   "source": [
    "preds_filtered_1.rename(columns={\"PredictedLabel\":\"P1\"}, inplace=True)\n",
    "preds_filtered_2.rename(columns={\"PredictedLabel\":\"P2\"}, inplace=True)\n",
    "preds_filtered_3.rename(columns={\"PredictedLabel\":\"P3\"}, inplace=True)\n",
    "preds_filtered_4.rename(columns={\"PredictedLabel\":\"P4\"}, inplace=True)\n",
    "preds_filtered_5.rename(columns={\"PredictedLabel\":\"P5\"}, inplace=True)\n",
    "preds_filtered_6.rename(columns={\"PredictedLabel\":\"P6\"}, inplace=True)\n",
    "preds_filtered_7.rename(columns={\"PredictedLabel\":\"P7\"}, inplace=True)\n",
    "preds_filtered_8.rename(columns={\"PredictedLabel\":\"P8\"}, inplace=True)\n",
    "preds_filtered_9.rename(columns={\"PredictedLabel\":\"P9\"}, inplace=True)\n",
    "preds_filtered_10.rename(columns={\"PredictedLabel\":\"P10\"}, inplace=True)\n",
    "\n",
    "preds_alltoone_1.rename(columns={\"PredictedLabel\":\"P1\"}, inplace=True)\n",
    "preds_alltoone_2.rename(columns={\"PredictedLabel\":\"P2\"}, inplace=True)\n",
    "preds_alltoone_3.rename(columns={\"PredictedLabel\":\"P3\"}, inplace=True)\n",
    "preds_alltoone_4.rename(columns={\"PredictedLabel\":\"P4\"}, inplace=True)\n",
    "preds_alltoone_5.rename(columns={\"PredictedLabel\":\"P5\"}, inplace=True)\n",
    "preds_alltoone_6.rename(columns={\"PredictedLabel\":\"P6\"}, inplace=True)\n",
    "preds_alltoone_7.rename(columns={\"PredictedLabel\":\"P7\"}, inplace=True)\n",
    "preds_alltoone_8.rename(columns={\"PredictedLabel\":\"P8\"}, inplace=True)\n",
    "preds_alltoone_9.rename(columns={\"PredictedLabel\":\"P9\"}, inplace=True)\n",
    "preds_alltoone_10.rename(columns={\"PredictedLabel\":\"P10\"}, inplace=True)\n",
    "\n",
    "preds_collapsed_1.rename(columns={\"PredictedLabel\":\"P1\"}, inplace=True)\n",
    "preds_collapsed_2.rename(columns={\"PredictedLabel\":\"P2\"}, inplace=True)\n",
    "preds_collapsed_3.rename(columns={\"PredictedLabel\":\"P3\"}, inplace=True)\n",
    "preds_collapsed_4.rename(columns={\"PredictedLabel\":\"P4\"}, inplace=True)\n",
    "preds_collapsed_5.rename(columns={\"PredictedLabel\":\"P5\"}, inplace=True)\n",
    "preds_collapsed_6.rename(columns={\"PredictedLabel\":\"P6\"}, inplace=True)\n",
    "preds_collapsed_7.rename(columns={\"PredictedLabel\":\"P7\"}, inplace=True)\n",
    "preds_collapsed_8.rename(columns={\"PredictedLabel\":\"P8\"}, inplace=True)\n",
    "preds_collapsed_9.rename(columns={\"PredictedLabel\":\"P9\"}, inplace=True)\n",
    "preds_collapsed_10.rename(columns={\"PredictedLabel\":\"P10\"}, inplace=True)\n",
    "\n",
    "preds_separate_1.rename(columns={\"PredictedLabel\":\"P1\"}, inplace=True)\n",
    "preds_separate_2.rename(columns={\"PredictedLabel\":\"P2\"}, inplace=True)\n",
    "preds_separate_3.rename(columns={\"PredictedLabel\":\"P3\"}, inplace=True)\n",
    "preds_separate_4.rename(columns={\"PredictedLabel\":\"P4\"}, inplace=True)\n",
    "preds_separate_5.rename(columns={\"PredictedLabel\":\"P5\"}, inplace=True)\n",
    "preds_separate_6.rename(columns={\"PredictedLabel\":\"P6\"}, inplace=True)\n",
    "preds_separate_7.rename(columns={\"PredictedLabel\":\"P7\"}, inplace=True)\n",
    "preds_separate_8.rename(columns={\"PredictedLabel\":\"P8\"}, inplace=True)\n",
    "preds_separate_9.rename(columns={\"PredictedLabel\":\"P9\"}, inplace=True)\n",
    "preds_separate_10.rename(columns={\"PredictedLabel\":\"P10\"}, inplace=True)"
   ]
  },
  {
   "cell_type": "code",
   "execution_count": 14,
   "id": "42652e05",
   "metadata": {},
   "outputs": [],
   "source": [
    "predictions_all_filtered = preds_filtered_1\n",
    "\n",
    "for dataframe in [preds_filtered_2, preds_filtered_3, preds_filtered_4, preds_filtered_5, preds_filtered_6, preds_filtered_7, preds_filtered_8, preds_filtered_9, preds_filtered_10]:\n",
    "    predictions_all_filtered= pd.merge(predictions_all_filtered, dataframe)\n",
    "                                      \n",
    "predictions_all_filtered.set_index('ID', inplace=True)\n",
    "\n",
    "# ----------------\n",
    "\n",
    "predictions_all_alltoone = preds_alltoone_1\n",
    "\n",
    "for dataframe in [preds_alltoone_2, preds_alltoone_3, preds_alltoone_4, preds_alltoone_5, preds_alltoone_6, preds_alltoone_7, preds_alltoone_8, preds_alltoone_9, preds_alltoone_10]:\n",
    "    predictions_all_alltoone= pd.merge(predictions_all_alltoone, dataframe)\n",
    "                                      \n",
    "predictions_all_alltoone.set_index('ID', inplace=True)\n",
    "\n",
    "# ----------------\n",
    "\n",
    "predictions_all_collapsed = preds_collapsed_1\n",
    "\n",
    "for dataframe in [preds_collapsed_2, preds_collapsed_3, preds_collapsed_4, preds_collapsed_5, preds_collapsed_6, preds_collapsed_7, preds_collapsed_8, preds_collapsed_9, preds_collapsed_10]:\n",
    "    predictions_all_collapsed = pd.merge(predictions_all_collapsed, dataframe)\n",
    "                                      \n",
    "predictions_all_collapsed.set_index('ID', inplace=True)\n",
    "\n",
    "# ----------------\n",
    "\n",
    "predictions_all_separate = preds_separate_1\n",
    "\n",
    "for dataframe in [preds_separate_2, preds_separate_3, preds_separate_4, preds_separate_5, preds_separate_6, preds_separate_7, preds_separate_8, preds_separate_9, preds_separate_10]:\n",
    "    predictions_all_separate = pd.merge(predictions_all_separate, dataframe)\n",
    "                                      \n",
    "predictions_all_separate.set_index('ID', inplace=True)"
   ]
  },
  {
   "cell_type": "code",
   "execution_count": 15,
   "id": "54dd0068",
   "metadata": {},
   "outputs": [],
   "source": [
    "predictions_filtered_mode = predictions_all_filtered[['P1', 'P2', 'P3', 'P4', 'P5', 'P6', 'P7', 'P8', 'P9', 'P10']].mode(axis='columns')\n",
    "predictions_alltoone_mode = predictions_all_alltoone[['P1', 'P2', 'P3', 'P4', 'P5', 'P6', 'P7', 'P8', 'P9', 'P10']].mode(axis='columns')\n",
    "predictions_collapsed_mode = predictions_all_collapsed[['P1', 'P2', 'P3', 'P4', 'P5', 'P6', 'P7', 'P8', 'P9', 'P10']].mode(axis='columns')\n",
    "predictions_separate_mode = predictions_all_separate[['P1', 'P2', 'P3', 'P4', 'P5', 'P6', 'P7', 'P8', 'P9', 'P10']].mode(axis='columns')"
   ]
  },
  {
   "cell_type": "code",
   "execution_count": 16,
   "id": "5a3fa215",
   "metadata": {},
   "outputs": [
    {
     "name": "stdout",
     "output_type": "stream",
     "text": [
      "(2001, 3)\n",
      "(2001, 3)\n",
      "(2001, 3)\n",
      "(2001, 3)\n"
     ]
    }
   ],
   "source": [
    "print(predictions_filtered_mode.shape)\n",
    "print(predictions_alltoone_mode.shape)\n",
    "print(predictions_collapsed_mode.shape)\n",
    "print(predictions_separate_mode.shape)"
   ]
  },
  {
   "cell_type": "code",
   "execution_count": 17,
   "id": "d27e3e30",
   "metadata": {},
   "outputs": [],
   "source": [
    "def make_choice(col_0, col_1, col_2):\n",
    "    if not math.isnan(col_1):\n",
    "        if not math.isnan(col_2):\n",
    "            choice_three = random.choice([0,1,2])\n",
    "            \n",
    "            if choice_three == 0:\n",
    "                return int(col_0)\n",
    "            elif choice_three == 1:\n",
    "                return int(col_1)\n",
    "            else:\n",
    "                return int(col_2)\n",
    "        else:\n",
    "            if random.choice([0,1]) == 1:\n",
    "                return int(col_1)\n",
    "            else:\n",
    "                return int(col_0)   \n",
    "    else:\n",
    "        return int(col_0)\n",
    "\n",
    "predictions_all_filtered['MJ'] = predictions_filtered_mode.apply(lambda x: make_choice(col_0=x[0], col_1 = x[1], col_2 = x[2]), axis=1)\n",
    "predictions_all_alltoone['MJ'] = predictions_alltoone_mode.apply(lambda x: make_choice(col_0=x[0], col_1 = x[1], col_2 = x[2]), axis=1)\n",
    "predictions_all_collapsed['MJ'] = predictions_collapsed_mode.apply(lambda x: make_choice(col_0=x[0], col_1 = x[1], col_2 = x[2]), axis=1)\n",
    "predictions_all_separate['MJ'] = predictions_separate_mode.apply(lambda x: make_choice(col_0=x[0], col_1 = x[1], col_2 = x[2]), axis=1)"
   ]
  },
  {
   "cell_type": "code",
   "execution_count": 18,
   "id": "a0baec7b",
   "metadata": {},
   "outputs": [
    {
     "name": "stdout",
     "output_type": "stream",
     "text": [
      "{'https://example.org/NODE_CLASS_1': 0, 'https://example.org/NODE_CLASS_2': 1, 'https://example.org/NODE_CLASS_3': 2, 'https://example.org/NODE_CLASS_0': 3}\n",
      "\n",
      "{'https://example.org/NODE_CLASS_0': 0, 'https://example.org/NODE_CLASS_2': 1, 'https://example.org/NODE_CLASS_1': 2, 'https://example.org/NODE_CLASS_3': 3}\n",
      "\n",
      "{'https://example.org/NODE_CLASS_0': 0, 'https://example.org/NODE_CLASS_2': 1, 'https://example.org/NODE_CLASS_3': 2, 'https://example.org/NODE_CLASS_1': 3}\n",
      "\n",
      "{'https://example.org/NODE_CLASS_2': 0, 'https://example.org/NODE_CLASS_0': 1, 'https://example.org/NODE_CLASS_1': 2, 'https://example.org/NODE_CLASS_3': 3}\n",
      "\n"
     ]
    }
   ],
   "source": [
    "# these will all be different because they were read in differently:\n",
    "\n",
    "filtered_file = open(\"../results/RGCN/test_synth_filtered_final/label_mapping.json\")\n",
    "filtered_mapping = json.load(filtered_file)\n",
    "print(filtered_mapping)\n",
    "print()\n",
    "\n",
    "alltoone_file = open(\"../results/RGCN/test_synth_all-to-one_final/label_mapping.json\")\n",
    "alltoone_mapping = json.load(alltoone_file)\n",
    "print(alltoone_mapping)\n",
    "print()\n",
    "\n",
    "collapsed_file = open(\"../results/RGCN/test_synth_collapsed_final/label_mapping.json\")\n",
    "collapsed_mapping = json.load(collapsed_file)\n",
    "print(collapsed_mapping)\n",
    "print()\n",
    "\n",
    "separate_file = open(\"../results/RGCN/test_synth_separate_final/label_mapping.json\")\n",
    "separate_mapping = json.load(separate_file)\n",
    "print(separate_mapping)\n",
    "print()"
   ]
  },
  {
   "cell_type": "code",
   "execution_count": 19,
   "id": "72d3429c",
   "metadata": {},
   "outputs": [],
   "source": [
    "# revert these (so we can turn the mapping back around!)\n",
    "filtered_mapping_rev = {value: key for key, value in filtered_mapping.items()}\n",
    "alltoone_mapping_rev = {value: key for key, value in alltoone_mapping.items()}\n",
    "collapsed_mapping_rev = {value: key for key, value in collapsed_mapping.items()}\n",
    "separate_mapping_rev = {value: key for key, value in separate_mapping.items()}"
   ]
  },
  {
   "cell_type": "code",
   "execution_count": 20,
   "id": "1f984121",
   "metadata": {},
   "outputs": [],
   "source": [
    "# change it back to the original classes:\n",
    "predictions_all_filtered['MJ_fil'] = predictions_all_filtered['MJ'].map(filtered_mapping_rev)\n",
    "predictions_all_alltoone['MJ_ato'] = predictions_all_alltoone['MJ'].map(alltoone_mapping_rev)\n",
    "predictions_all_collapsed['MJ_col'] = predictions_all_collapsed['MJ'].map(collapsed_mapping_rev)\n",
    "predictions_all_separate['MJ_sep'] = predictions_all_separate['MJ'].map(separate_mapping_rev)"
   ]
  },
  {
   "cell_type": "code",
   "execution_count": 21,
   "id": "de8e320b",
   "metadata": {},
   "outputs": [],
   "source": [
    "# put the actual entities as the index for everything!\n",
    "predictions_all_filtered.set_index('Entity', inplace=True)\n",
    "predictions_all_alltoone.set_index('Entity', inplace=True)\n",
    "predictions_all_collapsed.set_index('Entity', inplace=True)\n",
    "predictions_all_separate.set_index('Entity', inplace=True)"
   ]
  },
  {
   "cell_type": "code",
   "execution_count": 22,
   "id": "10aebeb2",
   "metadata": {},
   "outputs": [
    {
     "data": {
      "text/html": [
       "<div>\n",
       "<style scoped>\n",
       "    .dataframe tbody tr th:only-of-type {\n",
       "        vertical-align: middle;\n",
       "    }\n",
       "\n",
       "    .dataframe tbody tr th {\n",
       "        vertical-align: top;\n",
       "    }\n",
       "\n",
       "    .dataframe thead th {\n",
       "        text-align: right;\n",
       "    }\n",
       "</style>\n",
       "<table border=\"1\" class=\"dataframe\">\n",
       "  <thead>\n",
       "    <tr style=\"text-align: right;\">\n",
       "      <th></th>\n",
       "      <th>P1</th>\n",
       "      <th>TrueLabel</th>\n",
       "      <th>P2</th>\n",
       "      <th>P3</th>\n",
       "      <th>P4</th>\n",
       "      <th>P5</th>\n",
       "      <th>P6</th>\n",
       "      <th>P7</th>\n",
       "      <th>P8</th>\n",
       "      <th>P9</th>\n",
       "      <th>P10</th>\n",
       "      <th>MJ</th>\n",
       "      <th>MJ_fil</th>\n",
       "    </tr>\n",
       "    <tr>\n",
       "      <th>Entity</th>\n",
       "      <th></th>\n",
       "      <th></th>\n",
       "      <th></th>\n",
       "      <th></th>\n",
       "      <th></th>\n",
       "      <th></th>\n",
       "      <th></th>\n",
       "      <th></th>\n",
       "      <th></th>\n",
       "      <th></th>\n",
       "      <th></th>\n",
       "      <th></th>\n",
       "      <th></th>\n",
       "    </tr>\n",
       "  </thead>\n",
       "  <tbody>\n",
       "    <tr>\n",
       "      <th>https://example.org/NODE_64658</th>\n",
       "      <td>3</td>\n",
       "      <td>1</td>\n",
       "      <td>0</td>\n",
       "      <td>0</td>\n",
       "      <td>2</td>\n",
       "      <td>0</td>\n",
       "      <td>0</td>\n",
       "      <td>2</td>\n",
       "      <td>1</td>\n",
       "      <td>0</td>\n",
       "      <td>1</td>\n",
       "      <td>0</td>\n",
       "      <td>https://example.org/NODE_CLASS_1</td>\n",
       "    </tr>\n",
       "    <tr>\n",
       "      <th>https://example.org/NODE_32488</th>\n",
       "      <td>0</td>\n",
       "      <td>3</td>\n",
       "      <td>2</td>\n",
       "      <td>0</td>\n",
       "      <td>3</td>\n",
       "      <td>3</td>\n",
       "      <td>0</td>\n",
       "      <td>2</td>\n",
       "      <td>0</td>\n",
       "      <td>0</td>\n",
       "      <td>3</td>\n",
       "      <td>0</td>\n",
       "      <td>https://example.org/NODE_CLASS_1</td>\n",
       "    </tr>\n",
       "    <tr>\n",
       "      <th>https://example.org/NODE_47571</th>\n",
       "      <td>0</td>\n",
       "      <td>3</td>\n",
       "      <td>1</td>\n",
       "      <td>0</td>\n",
       "      <td>2</td>\n",
       "      <td>0</td>\n",
       "      <td>1</td>\n",
       "      <td>2</td>\n",
       "      <td>3</td>\n",
       "      <td>0</td>\n",
       "      <td>0</td>\n",
       "      <td>0</td>\n",
       "      <td>https://example.org/NODE_CLASS_1</td>\n",
       "    </tr>\n",
       "    <tr>\n",
       "      <th>https://example.org/NODE_5884</th>\n",
       "      <td>1</td>\n",
       "      <td>0</td>\n",
       "      <td>2</td>\n",
       "      <td>0</td>\n",
       "      <td>0</td>\n",
       "      <td>2</td>\n",
       "      <td>0</td>\n",
       "      <td>2</td>\n",
       "      <td>1</td>\n",
       "      <td>3</td>\n",
       "      <td>1</td>\n",
       "      <td>1</td>\n",
       "      <td>https://example.org/NODE_CLASS_2</td>\n",
       "    </tr>\n",
       "    <tr>\n",
       "      <th>https://example.org/NODE_64255</th>\n",
       "      <td>1</td>\n",
       "      <td>2</td>\n",
       "      <td>0</td>\n",
       "      <td>3</td>\n",
       "      <td>2</td>\n",
       "      <td>0</td>\n",
       "      <td>3</td>\n",
       "      <td>0</td>\n",
       "      <td>0</td>\n",
       "      <td>0</td>\n",
       "      <td>1</td>\n",
       "      <td>0</td>\n",
       "      <td>https://example.org/NODE_CLASS_1</td>\n",
       "    </tr>\n",
       "  </tbody>\n",
       "</table>\n",
       "</div>"
      ],
      "text/plain": [
       "                                P1  TrueLabel  P2  P3  P4  P5  P6  P7  P8  P9  \\\n",
       "Entity                                                                          \n",
       "https://example.org/NODE_64658   3          1   0   0   2   0   0   2   1   0   \n",
       "https://example.org/NODE_32488   0          3   2   0   3   3   0   2   0   0   \n",
       "https://example.org/NODE_47571   0          3   1   0   2   0   1   2   3   0   \n",
       "https://example.org/NODE_5884    1          0   2   0   0   2   0   2   1   3   \n",
       "https://example.org/NODE_64255   1          2   0   3   2   0   3   0   0   0   \n",
       "\n",
       "                                P10  MJ                            MJ_fil  \n",
       "Entity                                                                     \n",
       "https://example.org/NODE_64658    1   0  https://example.org/NODE_CLASS_1  \n",
       "https://example.org/NODE_32488    3   0  https://example.org/NODE_CLASS_1  \n",
       "https://example.org/NODE_47571    0   0  https://example.org/NODE_CLASS_1  \n",
       "https://example.org/NODE_5884     1   1  https://example.org/NODE_CLASS_2  \n",
       "https://example.org/NODE_64255    1   0  https://example.org/NODE_CLASS_1  "
      ]
     },
     "execution_count": 22,
     "metadata": {},
     "output_type": "execute_result"
    }
   ],
   "source": [
    "predictions_all_filtered.head(5)"
   ]
  },
  {
   "cell_type": "code",
   "execution_count": 23,
   "id": "aea88956",
   "metadata": {},
   "outputs": [
    {
     "data": {
      "text/html": [
       "<div>\n",
       "<style scoped>\n",
       "    .dataframe tbody tr th:only-of-type {\n",
       "        vertical-align: middle;\n",
       "    }\n",
       "\n",
       "    .dataframe tbody tr th {\n",
       "        vertical-align: top;\n",
       "    }\n",
       "\n",
       "    .dataframe thead th {\n",
       "        text-align: right;\n",
       "    }\n",
       "</style>\n",
       "<table border=\"1\" class=\"dataframe\">\n",
       "  <thead>\n",
       "    <tr style=\"text-align: right;\">\n",
       "      <th></th>\n",
       "      <th>filtered</th>\n",
       "      <th>all-to-one</th>\n",
       "      <th>collapsed</th>\n",
       "      <th>separate</th>\n",
       "    </tr>\n",
       "    <tr>\n",
       "      <th>Entity</th>\n",
       "      <th></th>\n",
       "      <th></th>\n",
       "      <th></th>\n",
       "      <th></th>\n",
       "    </tr>\n",
       "  </thead>\n",
       "  <tbody>\n",
       "    <tr>\n",
       "      <th>https://example.org/NODE_64658</th>\n",
       "      <td>https://example.org/NODE_CLASS_1</td>\n",
       "      <td>https://example.org/NODE_CLASS_0</td>\n",
       "      <td>https://example.org/NODE_CLASS_2</td>\n",
       "      <td>https://example.org/NODE_CLASS_1</td>\n",
       "    </tr>\n",
       "    <tr>\n",
       "      <th>https://example.org/NODE_32488</th>\n",
       "      <td>https://example.org/NODE_CLASS_1</td>\n",
       "      <td>https://example.org/NODE_CLASS_0</td>\n",
       "      <td>https://example.org/NODE_CLASS_0</td>\n",
       "      <td>https://example.org/NODE_CLASS_1</td>\n",
       "    </tr>\n",
       "    <tr>\n",
       "      <th>https://example.org/NODE_47571</th>\n",
       "      <td>https://example.org/NODE_CLASS_1</td>\n",
       "      <td>https://example.org/NODE_CLASS_2</td>\n",
       "      <td>https://example.org/NODE_CLASS_2</td>\n",
       "      <td>https://example.org/NODE_CLASS_1</td>\n",
       "    </tr>\n",
       "    <tr>\n",
       "      <th>https://example.org/NODE_5884</th>\n",
       "      <td>https://example.org/NODE_CLASS_2</td>\n",
       "      <td>https://example.org/NODE_CLASS_0</td>\n",
       "      <td>https://example.org/NODE_CLASS_2</td>\n",
       "      <td>https://example.org/NODE_CLASS_0</td>\n",
       "    </tr>\n",
       "    <tr>\n",
       "      <th>https://example.org/NODE_64255</th>\n",
       "      <td>https://example.org/NODE_CLASS_1</td>\n",
       "      <td>https://example.org/NODE_CLASS_0</td>\n",
       "      <td>https://example.org/NODE_CLASS_3</td>\n",
       "      <td>https://example.org/NODE_CLASS_1</td>\n",
       "    </tr>\n",
       "  </tbody>\n",
       "</table>\n",
       "</div>"
      ],
      "text/plain": [
       "                                                        filtered  \\\n",
       "Entity                                                             \n",
       "https://example.org/NODE_64658  https://example.org/NODE_CLASS_1   \n",
       "https://example.org/NODE_32488  https://example.org/NODE_CLASS_1   \n",
       "https://example.org/NODE_47571  https://example.org/NODE_CLASS_1   \n",
       "https://example.org/NODE_5884   https://example.org/NODE_CLASS_2   \n",
       "https://example.org/NODE_64255  https://example.org/NODE_CLASS_1   \n",
       "\n",
       "                                                      all-to-one  \\\n",
       "Entity                                                             \n",
       "https://example.org/NODE_64658  https://example.org/NODE_CLASS_0   \n",
       "https://example.org/NODE_32488  https://example.org/NODE_CLASS_0   \n",
       "https://example.org/NODE_47571  https://example.org/NODE_CLASS_2   \n",
       "https://example.org/NODE_5884   https://example.org/NODE_CLASS_0   \n",
       "https://example.org/NODE_64255  https://example.org/NODE_CLASS_0   \n",
       "\n",
       "                                                       collapsed  \\\n",
       "Entity                                                             \n",
       "https://example.org/NODE_64658  https://example.org/NODE_CLASS_2   \n",
       "https://example.org/NODE_32488  https://example.org/NODE_CLASS_0   \n",
       "https://example.org/NODE_47571  https://example.org/NODE_CLASS_2   \n",
       "https://example.org/NODE_5884   https://example.org/NODE_CLASS_2   \n",
       "https://example.org/NODE_64255  https://example.org/NODE_CLASS_3   \n",
       "\n",
       "                                                        separate  \n",
       "Entity                                                            \n",
       "https://example.org/NODE_64658  https://example.org/NODE_CLASS_1  \n",
       "https://example.org/NODE_32488  https://example.org/NODE_CLASS_1  \n",
       "https://example.org/NODE_47571  https://example.org/NODE_CLASS_1  \n",
       "https://example.org/NODE_5884   https://example.org/NODE_CLASS_0  \n",
       "https://example.org/NODE_64255  https://example.org/NODE_CLASS_1  "
      ]
     },
     "execution_count": 23,
     "metadata": {},
     "output_type": "execute_result"
    }
   ],
   "source": [
    "# now, link everything to their actual entity and add everything in one dataframe --> then we can start comparing!\n",
    "all_predictions = pd.concat([predictions_all_filtered['MJ_fil'], predictions_all_alltoone['MJ_ato'], predictions_all_collapsed['MJ_col'], predictions_all_separate['MJ_sep']], axis=1, keys=['filtered', 'all-to-one', 'collapsed', 'separate'])\n",
    "all_predictions.head(5)"
   ]
  },
  {
   "cell_type": "code",
   "execution_count": 24,
   "id": "23d1f17c",
   "metadata": {},
   "outputs": [],
   "source": [
    "official_mapping = {'https://example.org/NODE_CLASS_1': 1, 'https://example.org/NODE_CLASS_2': 2, 'https://example.org/NODE_CLASS_3': 3, 'https://example.org/NODE_CLASS_0': 0}"
   ]
  },
  {
   "cell_type": "code",
   "execution_count": 25,
   "id": "177e10c7",
   "metadata": {},
   "outputs": [],
   "source": [
    "all_predictions['filtered'] = all_predictions['filtered'].map(official_mapping)\n",
    "all_predictions['all-to-one'] = all_predictions['all-to-one'].map(official_mapping)\n",
    "all_predictions['collapsed'] = all_predictions['collapsed'].map(official_mapping)\n",
    "all_predictions['separate'] = all_predictions['separate'].map(official_mapping)"
   ]
  },
  {
   "cell_type": "code",
   "execution_count": 26,
   "id": "671b6aec",
   "metadata": {},
   "outputs": [],
   "source": [
    "true_lab = predictions_all_filtered['TrueLabel'].map(filtered_mapping_rev)\n",
    "all_predictions['true_label'] = true_lab.map(official_mapping)"
   ]
  },
  {
   "cell_type": "code",
   "execution_count": 27,
   "id": "85244abb",
   "metadata": {},
   "outputs": [
    {
     "data": {
      "text/html": [
       "<div>\n",
       "<style scoped>\n",
       "    .dataframe tbody tr th:only-of-type {\n",
       "        vertical-align: middle;\n",
       "    }\n",
       "\n",
       "    .dataframe tbody tr th {\n",
       "        vertical-align: top;\n",
       "    }\n",
       "\n",
       "    .dataframe thead th {\n",
       "        text-align: right;\n",
       "    }\n",
       "</style>\n",
       "<table border=\"1\" class=\"dataframe\">\n",
       "  <thead>\n",
       "    <tr style=\"text-align: right;\">\n",
       "      <th></th>\n",
       "      <th>filtered</th>\n",
       "      <th>all-to-one</th>\n",
       "      <th>collapsed</th>\n",
       "      <th>separate</th>\n",
       "      <th>true_label</th>\n",
       "    </tr>\n",
       "    <tr>\n",
       "      <th>Entity</th>\n",
       "      <th></th>\n",
       "      <th></th>\n",
       "      <th></th>\n",
       "      <th></th>\n",
       "      <th></th>\n",
       "    </tr>\n",
       "  </thead>\n",
       "  <tbody>\n",
       "    <tr>\n",
       "      <th>https://example.org/NODE_64658</th>\n",
       "      <td>1</td>\n",
       "      <td>0</td>\n",
       "      <td>2</td>\n",
       "      <td>1</td>\n",
       "      <td>2</td>\n",
       "    </tr>\n",
       "    <tr>\n",
       "      <th>https://example.org/NODE_32488</th>\n",
       "      <td>1</td>\n",
       "      <td>0</td>\n",
       "      <td>0</td>\n",
       "      <td>1</td>\n",
       "      <td>0</td>\n",
       "    </tr>\n",
       "    <tr>\n",
       "      <th>https://example.org/NODE_47571</th>\n",
       "      <td>1</td>\n",
       "      <td>2</td>\n",
       "      <td>2</td>\n",
       "      <td>1</td>\n",
       "      <td>0</td>\n",
       "    </tr>\n",
       "    <tr>\n",
       "      <th>https://example.org/NODE_5884</th>\n",
       "      <td>2</td>\n",
       "      <td>0</td>\n",
       "      <td>2</td>\n",
       "      <td>0</td>\n",
       "      <td>1</td>\n",
       "    </tr>\n",
       "    <tr>\n",
       "      <th>https://example.org/NODE_64255</th>\n",
       "      <td>1</td>\n",
       "      <td>0</td>\n",
       "      <td>3</td>\n",
       "      <td>1</td>\n",
       "      <td>3</td>\n",
       "    </tr>\n",
       "    <tr>\n",
       "      <th>https://example.org/NODE_57733</th>\n",
       "      <td>3</td>\n",
       "      <td>0</td>\n",
       "      <td>0</td>\n",
       "      <td>0</td>\n",
       "      <td>0</td>\n",
       "    </tr>\n",
       "    <tr>\n",
       "      <th>https://example.org/NODE_29490</th>\n",
       "      <td>1</td>\n",
       "      <td>0</td>\n",
       "      <td>2</td>\n",
       "      <td>0</td>\n",
       "      <td>3</td>\n",
       "    </tr>\n",
       "    <tr>\n",
       "      <th>https://example.org/NODE_4473</th>\n",
       "      <td>1</td>\n",
       "      <td>3</td>\n",
       "      <td>1</td>\n",
       "      <td>1</td>\n",
       "      <td>1</td>\n",
       "    </tr>\n",
       "    <tr>\n",
       "      <th>https://example.org/NODE_27320</th>\n",
       "      <td>1</td>\n",
       "      <td>0</td>\n",
       "      <td>0</td>\n",
       "      <td>0</td>\n",
       "      <td>2</td>\n",
       "    </tr>\n",
       "    <tr>\n",
       "      <th>https://example.org/NODE_73133</th>\n",
       "      <td>0</td>\n",
       "      <td>3</td>\n",
       "      <td>1</td>\n",
       "      <td>3</td>\n",
       "      <td>0</td>\n",
       "    </tr>\n",
       "  </tbody>\n",
       "</table>\n",
       "</div>"
      ],
      "text/plain": [
       "                                filtered  all-to-one  collapsed  separate  \\\n",
       "Entity                                                                      \n",
       "https://example.org/NODE_64658         1           0          2         1   \n",
       "https://example.org/NODE_32488         1           0          0         1   \n",
       "https://example.org/NODE_47571         1           2          2         1   \n",
       "https://example.org/NODE_5884          2           0          2         0   \n",
       "https://example.org/NODE_64255         1           0          3         1   \n",
       "https://example.org/NODE_57733         3           0          0         0   \n",
       "https://example.org/NODE_29490         1           0          2         0   \n",
       "https://example.org/NODE_4473          1           3          1         1   \n",
       "https://example.org/NODE_27320         1           0          0         0   \n",
       "https://example.org/NODE_73133         0           3          1         3   \n",
       "\n",
       "                                true_label  \n",
       "Entity                                      \n",
       "https://example.org/NODE_64658           2  \n",
       "https://example.org/NODE_32488           0  \n",
       "https://example.org/NODE_47571           0  \n",
       "https://example.org/NODE_5884            1  \n",
       "https://example.org/NODE_64255           3  \n",
       "https://example.org/NODE_57733           0  \n",
       "https://example.org/NODE_29490           3  \n",
       "https://example.org/NODE_4473            1  \n",
       "https://example.org/NODE_27320           2  \n",
       "https://example.org/NODE_73133           0  "
      ]
     },
     "execution_count": 27,
     "metadata": {},
     "output_type": "execute_result"
    }
   ],
   "source": [
    "all_predictions.head(10)"
   ]
  },
  {
   "cell_type": "markdown",
   "id": "32854fd4",
   "metadata": {},
   "source": [
    "### Other tests (mlstats package):"
   ]
  },
  {
   "cell_type": "code",
   "execution_count": 28,
   "id": "8611c036",
   "metadata": {},
   "outputs": [
    {
     "name": "stdout",
     "output_type": "stream",
     "text": [
      "Number predicted classes in filtered:  4\n",
      "Number predicted classes in all-to-one:  4\n",
      "Number predicted classes in collapsed:  4\n",
      "Number predicted classes in separate:  4\n"
     ]
    }
   ],
   "source": [
    "print(\"Number predicted classes in filtered: \", len(np.unique(all_predictions['filtered'].to_numpy())))\n",
    "print(\"Number predicted classes in all-to-one: \", len(np.unique(all_predictions['all-to-one'].to_numpy())))\n",
    "print(\"Number predicted classes in collapsed: \", len(np.unique(all_predictions['collapsed'].to_numpy())))\n",
    "print(\"Number predicted classes in separate: \", len(np.unique(all_predictions['separate'].to_numpy())))"
   ]
  },
  {
   "cell_type": "code",
   "execution_count": 29,
   "id": "3cb4d640",
   "metadata": {},
   "outputs": [],
   "source": [
    "all_predictions_tf = all_predictions.copy()"
   ]
  },
  {
   "cell_type": "code",
   "execution_count": 30,
   "id": "8b449eaf",
   "metadata": {},
   "outputs": [],
   "source": [
    "def same(label, true_label):\n",
    "    return int(label == true_label)\n",
    "\n",
    "all_predictions_tf['filtered'] = all_predictions.apply(lambda x: same(x['filtered'], x['true_label']), axis=1)\n",
    "all_predictions_tf['all-to-one'] = all_predictions.apply(lambda x: same(x['all-to-one'], x['true_label']), axis=1)\n",
    "all_predictions_tf['collapsed'] = all_predictions.apply(lambda x: same(x['collapsed'], x['true_label']), axis=1)\n",
    "all_predictions_tf['separate'] = all_predictions.apply(lambda x: same(x['separate'], x['true_label']), axis=1)"
   ]
  },
  {
   "cell_type": "code",
   "execution_count": 31,
   "id": "c86a0290",
   "metadata": {
    "scrolled": false
   },
   "outputs": [
    {
     "data": {
      "text/html": [
       "<div>\n",
       "<style scoped>\n",
       "    .dataframe tbody tr th:only-of-type {\n",
       "        vertical-align: middle;\n",
       "    }\n",
       "\n",
       "    .dataframe tbody tr th {\n",
       "        vertical-align: top;\n",
       "    }\n",
       "\n",
       "    .dataframe thead th {\n",
       "        text-align: right;\n",
       "    }\n",
       "</style>\n",
       "<table border=\"1\" class=\"dataframe\">\n",
       "  <thead>\n",
       "    <tr style=\"text-align: right;\">\n",
       "      <th></th>\n",
       "      <th>filtered</th>\n",
       "      <th>all-to-one</th>\n",
       "      <th>collapsed</th>\n",
       "      <th>separate</th>\n",
       "    </tr>\n",
       "    <tr>\n",
       "      <th>Entity</th>\n",
       "      <th></th>\n",
       "      <th></th>\n",
       "      <th></th>\n",
       "      <th></th>\n",
       "    </tr>\n",
       "  </thead>\n",
       "  <tbody>\n",
       "    <tr>\n",
       "      <th>https://example.org/NODE_64658</th>\n",
       "      <td>0</td>\n",
       "      <td>0</td>\n",
       "      <td>1</td>\n",
       "      <td>0</td>\n",
       "    </tr>\n",
       "    <tr>\n",
       "      <th>https://example.org/NODE_32488</th>\n",
       "      <td>0</td>\n",
       "      <td>1</td>\n",
       "      <td>1</td>\n",
       "      <td>0</td>\n",
       "    </tr>\n",
       "    <tr>\n",
       "      <th>https://example.org/NODE_47571</th>\n",
       "      <td>0</td>\n",
       "      <td>0</td>\n",
       "      <td>0</td>\n",
       "      <td>0</td>\n",
       "    </tr>\n",
       "    <tr>\n",
       "      <th>https://example.org/NODE_5884</th>\n",
       "      <td>0</td>\n",
       "      <td>0</td>\n",
       "      <td>0</td>\n",
       "      <td>0</td>\n",
       "    </tr>\n",
       "    <tr>\n",
       "      <th>https://example.org/NODE_64255</th>\n",
       "      <td>0</td>\n",
       "      <td>0</td>\n",
       "      <td>1</td>\n",
       "      <td>0</td>\n",
       "    </tr>\n",
       "    <tr>\n",
       "      <th>https://example.org/NODE_57733</th>\n",
       "      <td>0</td>\n",
       "      <td>1</td>\n",
       "      <td>1</td>\n",
       "      <td>1</td>\n",
       "    </tr>\n",
       "    <tr>\n",
       "      <th>https://example.org/NODE_29490</th>\n",
       "      <td>0</td>\n",
       "      <td>0</td>\n",
       "      <td>0</td>\n",
       "      <td>0</td>\n",
       "    </tr>\n",
       "    <tr>\n",
       "      <th>https://example.org/NODE_4473</th>\n",
       "      <td>1</td>\n",
       "      <td>0</td>\n",
       "      <td>1</td>\n",
       "      <td>1</td>\n",
       "    </tr>\n",
       "    <tr>\n",
       "      <th>https://example.org/NODE_27320</th>\n",
       "      <td>0</td>\n",
       "      <td>0</td>\n",
       "      <td>0</td>\n",
       "      <td>0</td>\n",
       "    </tr>\n",
       "    <tr>\n",
       "      <th>https://example.org/NODE_73133</th>\n",
       "      <td>1</td>\n",
       "      <td>0</td>\n",
       "      <td>0</td>\n",
       "      <td>0</td>\n",
       "    </tr>\n",
       "  </tbody>\n",
       "</table>\n",
       "</div>"
      ],
      "text/plain": [
       "                                filtered  all-to-one  collapsed  separate\n",
       "Entity                                                                   \n",
       "https://example.org/NODE_64658         0           0          1         0\n",
       "https://example.org/NODE_32488         0           1          1         0\n",
       "https://example.org/NODE_47571         0           0          0         0\n",
       "https://example.org/NODE_5884          0           0          0         0\n",
       "https://example.org/NODE_64255         0           0          1         0\n",
       "https://example.org/NODE_57733         0           1          1         1\n",
       "https://example.org/NODE_29490         0           0          0         0\n",
       "https://example.org/NODE_4473          1           0          1         1\n",
       "https://example.org/NODE_27320         0           0          0         0\n",
       "https://example.org/NODE_73133         1           0          0         0"
      ]
     },
     "execution_count": 31,
     "metadata": {},
     "output_type": "execute_result"
    }
   ],
   "source": [
    "all_predictions_tf[['filtered', 'all-to-one', 'collapsed', 'separate']].head(10)"
   ]
  },
  {
   "cell_type": "code",
   "execution_count": 32,
   "id": "bb9f4195",
   "metadata": {},
   "outputs": [
    {
     "data": {
      "text/plain": [
       "TestResults(p=0.0001034248966775336, Q=21.037100213219617)"
      ]
     },
     "execution_count": 32,
     "metadata": {},
     "output_type": "execute_result"
    }
   ],
   "source": [
    "modcomp.cochran_q(all_predictions_tf[['filtered', 'all-to-one', 'collapsed', 'separate']].T.to_numpy())"
   ]
  },
  {
   "cell_type": "code",
   "execution_count": 33,
   "id": "10fd8e18",
   "metadata": {
    "scrolled": true
   },
   "outputs": [
    {
     "name": "stdout",
     "output_type": "stream",
     "text": [
      "McNemar between Correct/Incorrect, Filtered - All-to-one:  TestResults(p=7.231479171602878e-194, Q=882.2098555649958)\n",
      "McNemar between Correct/Incorrect, Filtered - Collapsed:  TestResults(p=2.3502676146684114e-153, Q=695.8823529411765)\n",
      "McNemar between Correct/Incorrect, Filtered - Separate:  TestResults(p=7.161643447229945e-169, Q=767.2393026941363)\n",
      "McNemar between Correct/Incorrect, All-to-one - Collapsed:  TestResults(p=2.67520655112236e-153, Q=695.6237288135593)\n",
      "McNemar between Correct/Incorrect, All-to-one - Separate:  TestResults(p=1.0568856544489728e-165, Q=752.6645768025078)\n",
      "McNemar between Correct/Incorrect, Collapsed - Separate:  TestResults(p=4.8171588163658014e-136, Q=616.2802599512592)\n"
     ]
    }
   ],
   "source": [
    "# filtered - all-to-one\n",
    "print(\"McNemar between Correct/Incorrect, Filtered - All-to-one: \", modcomp.mcnemar(all_predictions_tf['filtered'].to_numpy(), all_predictions_tf['all-to-one'].to_numpy()))\n",
    "\n",
    "# filtered - collapsed\n",
    "print(\"McNemar between Correct/Incorrect, Filtered - Collapsed: \", modcomp.mcnemar(all_predictions_tf['filtered'].to_numpy(), all_predictions_tf['collapsed'].to_numpy()))\n",
    "\n",
    "# filtered - separate\n",
    "print(\"McNemar between Correct/Incorrect, Filtered - Separate: \", modcomp.mcnemar(all_predictions_tf['filtered'].to_numpy(), all_predictions_tf['separate'].to_numpy()))\n",
    "\n",
    "# all-to-one - collapsed\n",
    "print(\"McNemar between Correct/Incorrect, All-to-one - Collapsed: \", modcomp.mcnemar(all_predictions_tf['all-to-one'].to_numpy(), all_predictions_tf['collapsed'].to_numpy()))\n",
    "\n",
    "# all-to-one - separate\n",
    "print(\"McNemar between Correct/Incorrect, All-to-one - Separate: \", modcomp.mcnemar(all_predictions_tf['all-to-one'].to_numpy(), all_predictions_tf['separate'].to_numpy()))\n",
    "\n",
    "# collapsed - separate\n",
    "print(\"McNemar between Correct/Incorrect, Collapsed - Separate: \", modcomp.mcnemar(all_predictions_tf['collapsed'].to_numpy(), all_predictions_tf['separate'].to_numpy()))"
   ]
  },
  {
   "cell_type": "code",
   "execution_count": 34,
   "id": "728651b1",
   "metadata": {},
   "outputs": [
    {
     "name": "stdout",
     "output_type": "stream",
     "text": [
      "Stuart-Maxwell, Filtered - All-to-one:  TestResults(p=3.481568051948284e-308, Q=1422.7075903951104)\n",
      "Stuart-Maxwell, Filtered - Collapsed:  TestResults(p=1.720780798661723e-171, Q=792.6248313308547)\n",
      "Stuart-Maxwell, Filtered - Separate:  TestResults(p=2.3468718447288042e-133, Q=616.7575963953614)\n",
      "Stuart-Maxwell, All-to-one - Collapsed:  TestResults(p=1.9842434337367095e-191, Q=884.5527868183402)\n",
      "Stuart-Maxwell, All-to-one - Separate:  TestResults(p=1.1465863271585795e-180, Q=834.9352177842337)\n",
      "Stuart-Maxwell, Collapsed - Separate:  TestResults(p=2.1314105225528484e-12, Q=57.38058399124378)\n"
     ]
    }
   ],
   "source": [
    "# singular matrix warning even with the correct amount of classes\n",
    "\n",
    "# filtered - all-to-one\n",
    "print(\"Stuart-Maxwell, Filtered - All-to-one: \", modcomp.stuart_maxwell(all_predictions['filtered'].to_numpy(), all_predictions['all-to-one'].to_numpy(), 4))\n",
    "\n",
    "# filtered - collapsed\n",
    "print(\"Stuart-Maxwell, Filtered - Collapsed: \", modcomp.stuart_maxwell(all_predictions['filtered'].to_numpy(), all_predictions['collapsed'].to_numpy(), 4))\n",
    "\n",
    "# filtered - separate\n",
    "print(\"Stuart-Maxwell, Filtered - Separate: \", modcomp.stuart_maxwell(all_predictions['filtered'].to_numpy(), all_predictions['separate'].to_numpy(), 4))\n",
    "\n",
    "# all-to-one - collapsed\n",
    "print(\"Stuart-Maxwell, All-to-one - Collapsed: \", modcomp.stuart_maxwell(all_predictions['all-to-one'].to_numpy(), all_predictions['collapsed'].to_numpy(), 4))\n",
    "\n",
    "# all-to-one - separate\n",
    "print(\"Stuart-Maxwell, All-to-one - Separate: \", modcomp.stuart_maxwell(all_predictions['all-to-one'].to_numpy(), all_predictions['separate'].to_numpy(), 4))\n",
    "\n",
    "# collapsed - separate\n",
    "print(\"Stuart-Maxwell, Collapsed - Separate: \", modcomp.stuart_maxwell(all_predictions['collapsed'].to_numpy(), all_predictions['separate'].to_numpy(), 4))"
   ]
  },
  {
   "cell_type": "code",
   "execution_count": 35,
   "id": "88b1049c",
   "metadata": {},
   "outputs": [
    {
     "name": "stdout",
     "output_type": "stream",
     "text": [
      "Filtered - All-to-one:  pvalue      0.9167729809895032\n",
      "statistic   410.0\n",
      "all-to-one     0    1\n",
      "filtered             \n",
      "0           1098  414\n",
      "1            410   79\n",
      "\n",
      "Filtered - Collapsed:  pvalue      8.191097490638226e-05\n",
      "statistic   349.0\n",
      "collapsed     0    1\n",
      "filtered            \n",
      "0          1050  462\n",
      "1           349  140\n",
      "\n",
      "Filtered - Separate:  pvalue      0.16211220741580712\n",
      "statistic   350.0\n",
      "separate     0    1\n",
      "filtered           \n",
      "0         1123  389\n",
      "1          350  139\n",
      "\n",
      "All-to-one - Collapsed:  pvalue      0.00016045076391489927\n",
      "statistic   356.0\n",
      "collapsed      0    1\n",
      "all-to-one           \n",
      "0           1043  465\n",
      "1            356  137\n",
      "\n",
      "All-to-one - Separate:  pvalue      0.20665588632947487\n",
      "statistic   345.0\n",
      "separate       0    1\n",
      "all-to-one           \n",
      "0           1128  380\n",
      "1            345  148\n",
      "\n",
      "Collapsed - Separate:  pvalue      0.008477690219757509\n",
      "statistic   348.0\n",
      "separate      0    1\n",
      "collapsed           \n",
      "0          1051  348\n",
      "1           422  180\n"
     ]
    }
   ],
   "source": [
    "from statsmodels.stats.contingency_tables import mcnemar\n",
    "print(\"Filtered - All-to-one: \", mcnemar(pd.crosstab(all_predictions_tf['filtered'], all_predictions_tf['all-to-one']).to_numpy(), exact=True))\n",
    "print(pd.crosstab(all_predictions_tf['filtered'], all_predictions_tf['all-to-one']))\n",
    "\n",
    "print()\n",
    "print(\"Filtered - Collapsed: \",mcnemar(pd.crosstab(all_predictions_tf['filtered'], all_predictions_tf['collapsed']).to_numpy(), exact=True))\n",
    "print(pd.crosstab(all_predictions_tf['filtered'], all_predictions_tf['collapsed']))\n",
    "\n",
    "print()\n",
    "print(\"Filtered - Separate: \",mcnemar(pd.crosstab(all_predictions_tf['filtered'], all_predictions_tf['separate']).to_numpy(), exact=True))\n",
    "print(pd.crosstab(all_predictions_tf['filtered'], all_predictions_tf['separate']))\n",
    "\n",
    "print()\n",
    "print(\"All-to-one - Collapsed: \",mcnemar(pd.crosstab(all_predictions_tf['all-to-one'], all_predictions_tf['collapsed']).to_numpy(), exact=True))\n",
    "print(pd.crosstab(all_predictions_tf['all-to-one'], all_predictions_tf['collapsed']))\n",
    "\n",
    "print()\n",
    "print(\"All-to-one - Separate: \",mcnemar(pd.crosstab(all_predictions_tf['all-to-one'], all_predictions_tf['separate']).to_numpy(), exact=True))\n",
    "print(pd.crosstab(all_predictions_tf['all-to-one'], all_predictions_tf['separate']))\n",
    "\n",
    "print()\n",
    "print(\"Collapsed - Separate: \",mcnemar(pd.crosstab(all_predictions_tf['collapsed'], all_predictions_tf['separate']).to_numpy(), exact=True))\n",
    "print(pd.crosstab(all_predictions_tf['collapsed'], all_predictions_tf['separate']))"
   ]
  }
 ],
 "metadata": {
  "kernelspec": {
   "display_name": "GraphRepresentationKernel",
   "language": "python",
   "name": "graphrepresentationkernel"
  },
  "language_info": {
   "codemirror_mode": {
    "name": "ipython",
    "version": 3
   },
   "file_extension": ".py",
   "mimetype": "text/x-python",
   "name": "python",
   "nbconvert_exporter": "python",
   "pygments_lexer": "ipython3",
   "version": "3.9.16"
  }
 },
 "nbformat": 4,
 "nbformat_minor": 5
}
